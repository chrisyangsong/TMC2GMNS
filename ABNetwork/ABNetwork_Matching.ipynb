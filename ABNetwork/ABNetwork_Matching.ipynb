{
 "metadata": {
  "language_info": {
   "codemirror_mode": {
    "name": "ipython",
    "version": 3
   },
   "file_extension": ".py",
   "mimetype": "text/x-python",
   "name": "python",
   "nbconvert_exporter": "python",
   "pygments_lexer": "ipython3",
   "version": "3.8.5"
  },
  "orig_nbformat": 4,
  "kernelspec": {
   "name": "python3",
   "display_name": "Python 3.8.5 64-bit ('base': conda)"
  },
  "interpreter": {
   "hash": "f60418cf0f93cafce689393a2d664cdd36dee00bdf33293458885c5a1a5b95d3"
  }
 },
 "nbformat": 4,
 "nbformat_minor": 2,
 "cells": [
  {
   "cell_type": "code",
   "execution_count": 1,
   "metadata": {},
   "outputs": [],
   "source": [
    "import os\n",
    "import math\n",
    "import datetime\n",
    "import numpy as np\n",
    "import pandas as pd\n",
    "\n",
    "import utm\n",
    "import time\n",
    "import os.path\n",
    "\n",
    "import shapely\n",
    "import shapely.geometry as geom\n",
    "import geopandas as gpd\n",
    "\n",
    "from shapely.geometry import LineString\n",
    "from shapely.geometry import MultiLineString\n",
    "from shapely.geometry import Point"
   ]
  },
  {
   "cell_type": "code",
   "execution_count": 2,
   "metadata": {},
   "outputs": [],
   "source": [
    "def getDegree(latA, lonA, latB, lonB):\n",
    "    \"\"\"\n",
    "    Args:\n",
    "        point p1(latA, lonA)\n",
    "        point p2(latB, lonB)\n",
    "    Returns:\n",
    "        bearing between the two GPS points,\n",
    "        default: the basis of heading direction is north\n",
    "    \"\"\"\n",
    "    radLatA = math.radians(latA)\n",
    "    radLonA = math.radians(lonA)\n",
    "    radLatB = math.radians(latB)\n",
    "    radLonB = math.radians(lonB)\n",
    "    dLon = radLonB - radLonA\n",
    "    y = math.sin(dLon) * math.cos(radLatB)\n",
    "    x = math.cos(radLatA) * math.sin(radLatB) - math.sin(radLatA) * math.cos(radLatB) * math.cos(dLon)\n",
    "    brng = np.degrees(math.atan2(y, x))\n",
    "    brng = (brng + 360) % 360\n",
    "    # brng = 360 - brng\n",
    "    return brng\n",
    "\n",
    "def bearing(geometry):\n",
    "   x, y = shapely.wkt.loads(geometry).coords.xy\n",
    "   xy = pd.DataFrame({'LON':x,'LAT':y})\n",
    "   return getDegree(xy.head(1)['LAT'], xy.head(1)['LON'], xy.tail(1)['LAT'], xy.tail(1)['LON'])\n"
   ]
  },
  {
   "cell_type": "code",
   "execution_count": 3,
   "metadata": {},
   "outputs": [
    {
     "output_type": "execute_result",
     "data": {
      "text/plain": [
       "                         name  link_id  osm_way_id  from_node_id  to_node_id  \\\n",
       "0                         NaN        0     5565454          1655         533   \n",
       "1                         NaN        1     5567209           526         529   \n",
       "2       East Deer Valley Road        2     5569117         90071        3084   \n",
       "3                         NaN        3     5573783             5        3617   \n",
       "4                         NaN        4     5575041           468         748   \n",
       "...                       ...      ...         ...           ...         ...   \n",
       "4944  East Pinnacle Peak Road    90044   218355970         90022       90023   \n",
       "4945  East Pinnacle Peak Road    90045   520542430         90023       90024   \n",
       "4946  East Pinnacle Peak Road    90046   529967240         90024        3231   \n",
       "4947    North Scottsdale Road    90047   531436240          3442        3443   \n",
       "4948    North Scottsdale Road    90048   531436240          3443        3442   \n",
       "\n",
       "      dir_flag      length  lanes  free_speed  capacity link_type_name  \\\n",
       "0            1  238.513115      1         NaN       NaN       motorway   \n",
       "1            1  288.986649      2         NaN       NaN       motorway   \n",
       "2            1  139.096981      2         NaN       NaN      secondary   \n",
       "3            1  239.843469      1         NaN       NaN       motorway   \n",
       "4            1  201.561269      2         NaN       NaN       motorway   \n",
       "...        ...         ...    ...         ...       ...            ...   \n",
       "4944         1   63.619476      2        40.0       NaN    residential   \n",
       "4945         1   46.403599      2        40.0       NaN    residential   \n",
       "4946         1   50.567017      2        40.0       NaN    residential   \n",
       "4947         1    7.405588      3        40.0       NaN    residential   \n",
       "4948         1    7.405588      3        40.0       NaN    residential   \n",
       "\n",
       "      link_type                                           geometry  \\\n",
       "0             1  LINESTRING (-112.1148898 33.6420933, -112.1149...   \n",
       "1             1  LINESTRING (-112.1159268 33.6346955, -112.1157...   \n",
       "2             4  LINESTRING (-111.9601649 33.6763071, -111.9602...   \n",
       "3             1  LINESTRING (-112.1154567 33.6442126, -112.1155...   \n",
       "4             1  LINESTRING (-112.1112736 33.6851721, -112.1115...   \n",
       "...         ...                                                ...   \n",
       "4944          6  LINESTRING (-111.9215591 33.6987582, -111.9216...   \n",
       "4945          6  LINESTRING (-111.9222468 33.698759, -111.92244...   \n",
       "4946          6  LINESTRING (-111.9227484 33.69876, -111.923295...   \n",
       "4947          6  LINESTRING (-111.9253207 33.699241, -111.92532...   \n",
       "4948          6  LINESTRING (-111.9253208 33.6993076, -111.9253...   \n",
       "\n",
       "     allowed_uses  from_biway  is_link  VDF_FFTT1  VDF_cap1  bearing_angle  \n",
       "0            auto           0        1        NaN       NaN     353.631857  \n",
       "1            auto           0        1        NaN       NaN       7.463857  \n",
       "2            auto           0        0        NaN       NaN     271.651179  \n",
       "3            auto           0        1        NaN       NaN     190.829480  \n",
       "4            auto           0        1        NaN       NaN     337.005302  \n",
       "...           ...         ...      ...        ...       ...            ...  \n",
       "4944         auto           0        0        NaN       NaN     270.080305  \n",
       "4945         auto           0        0        NaN       NaN     270.137435  \n",
       "4946         auto           0        0        NaN       NaN     270.327731  \n",
       "4947         auto           1        0        NaN       NaN     359.928427  \n",
       "4948         auto           1        0        NaN       NaN     179.928427  \n",
       "\n",
       "[4949 rows x 19 columns]"
      ],
      "text/html": "<div>\n<style scoped>\n    .dataframe tbody tr th:only-of-type {\n        vertical-align: middle;\n    }\n\n    .dataframe tbody tr th {\n        vertical-align: top;\n    }\n\n    .dataframe thead th {\n        text-align: right;\n    }\n</style>\n<table border=\"1\" class=\"dataframe\">\n  <thead>\n    <tr style=\"text-align: right;\">\n      <th></th>\n      <th>name</th>\n      <th>link_id</th>\n      <th>osm_way_id</th>\n      <th>from_node_id</th>\n      <th>to_node_id</th>\n      <th>dir_flag</th>\n      <th>length</th>\n      <th>lanes</th>\n      <th>free_speed</th>\n      <th>capacity</th>\n      <th>link_type_name</th>\n      <th>link_type</th>\n      <th>geometry</th>\n      <th>allowed_uses</th>\n      <th>from_biway</th>\n      <th>is_link</th>\n      <th>VDF_FFTT1</th>\n      <th>VDF_cap1</th>\n      <th>bearing_angle</th>\n    </tr>\n  </thead>\n  <tbody>\n    <tr>\n      <th>0</th>\n      <td>NaN</td>\n      <td>0</td>\n      <td>5565454</td>\n      <td>1655</td>\n      <td>533</td>\n      <td>1</td>\n      <td>238.513115</td>\n      <td>1</td>\n      <td>NaN</td>\n      <td>NaN</td>\n      <td>motorway</td>\n      <td>1</td>\n      <td>LINESTRING (-112.1148898 33.6420933, -112.1149...</td>\n      <td>auto</td>\n      <td>0</td>\n      <td>1</td>\n      <td>NaN</td>\n      <td>NaN</td>\n      <td>353.631857</td>\n    </tr>\n    <tr>\n      <th>1</th>\n      <td>NaN</td>\n      <td>1</td>\n      <td>5567209</td>\n      <td>526</td>\n      <td>529</td>\n      <td>1</td>\n      <td>288.986649</td>\n      <td>2</td>\n      <td>NaN</td>\n      <td>NaN</td>\n      <td>motorway</td>\n      <td>1</td>\n      <td>LINESTRING (-112.1159268 33.6346955, -112.1157...</td>\n      <td>auto</td>\n      <td>0</td>\n      <td>1</td>\n      <td>NaN</td>\n      <td>NaN</td>\n      <td>7.463857</td>\n    </tr>\n    <tr>\n      <th>2</th>\n      <td>East Deer Valley Road</td>\n      <td>2</td>\n      <td>5569117</td>\n      <td>90071</td>\n      <td>3084</td>\n      <td>1</td>\n      <td>139.096981</td>\n      <td>2</td>\n      <td>NaN</td>\n      <td>NaN</td>\n      <td>secondary</td>\n      <td>4</td>\n      <td>LINESTRING (-111.9601649 33.6763071, -111.9602...</td>\n      <td>auto</td>\n      <td>0</td>\n      <td>0</td>\n      <td>NaN</td>\n      <td>NaN</td>\n      <td>271.651179</td>\n    </tr>\n    <tr>\n      <th>3</th>\n      <td>NaN</td>\n      <td>3</td>\n      <td>5573783</td>\n      <td>5</td>\n      <td>3617</td>\n      <td>1</td>\n      <td>239.843469</td>\n      <td>1</td>\n      <td>NaN</td>\n      <td>NaN</td>\n      <td>motorway</td>\n      <td>1</td>\n      <td>LINESTRING (-112.1154567 33.6442126, -112.1155...</td>\n      <td>auto</td>\n      <td>0</td>\n      <td>1</td>\n      <td>NaN</td>\n      <td>NaN</td>\n      <td>190.829480</td>\n    </tr>\n    <tr>\n      <th>4</th>\n      <td>NaN</td>\n      <td>4</td>\n      <td>5575041</td>\n      <td>468</td>\n      <td>748</td>\n      <td>1</td>\n      <td>201.561269</td>\n      <td>2</td>\n      <td>NaN</td>\n      <td>NaN</td>\n      <td>motorway</td>\n      <td>1</td>\n      <td>LINESTRING (-112.1112736 33.6851721, -112.1115...</td>\n      <td>auto</td>\n      <td>0</td>\n      <td>1</td>\n      <td>NaN</td>\n      <td>NaN</td>\n      <td>337.005302</td>\n    </tr>\n    <tr>\n      <th>...</th>\n      <td>...</td>\n      <td>...</td>\n      <td>...</td>\n      <td>...</td>\n      <td>...</td>\n      <td>...</td>\n      <td>...</td>\n      <td>...</td>\n      <td>...</td>\n      <td>...</td>\n      <td>...</td>\n      <td>...</td>\n      <td>...</td>\n      <td>...</td>\n      <td>...</td>\n      <td>...</td>\n      <td>...</td>\n      <td>...</td>\n      <td>...</td>\n    </tr>\n    <tr>\n      <th>4944</th>\n      <td>East Pinnacle Peak Road</td>\n      <td>90044</td>\n      <td>218355970</td>\n      <td>90022</td>\n      <td>90023</td>\n      <td>1</td>\n      <td>63.619476</td>\n      <td>2</td>\n      <td>40.0</td>\n      <td>NaN</td>\n      <td>residential</td>\n      <td>6</td>\n      <td>LINESTRING (-111.9215591 33.6987582, -111.9216...</td>\n      <td>auto</td>\n      <td>0</td>\n      <td>0</td>\n      <td>NaN</td>\n      <td>NaN</td>\n      <td>270.080305</td>\n    </tr>\n    <tr>\n      <th>4945</th>\n      <td>East Pinnacle Peak Road</td>\n      <td>90045</td>\n      <td>520542430</td>\n      <td>90023</td>\n      <td>90024</td>\n      <td>1</td>\n      <td>46.403599</td>\n      <td>2</td>\n      <td>40.0</td>\n      <td>NaN</td>\n      <td>residential</td>\n      <td>6</td>\n      <td>LINESTRING (-111.9222468 33.698759, -111.92244...</td>\n      <td>auto</td>\n      <td>0</td>\n      <td>0</td>\n      <td>NaN</td>\n      <td>NaN</td>\n      <td>270.137435</td>\n    </tr>\n    <tr>\n      <th>4946</th>\n      <td>East Pinnacle Peak Road</td>\n      <td>90046</td>\n      <td>529967240</td>\n      <td>90024</td>\n      <td>3231</td>\n      <td>1</td>\n      <td>50.567017</td>\n      <td>2</td>\n      <td>40.0</td>\n      <td>NaN</td>\n      <td>residential</td>\n      <td>6</td>\n      <td>LINESTRING (-111.9227484 33.69876, -111.923295...</td>\n      <td>auto</td>\n      <td>0</td>\n      <td>0</td>\n      <td>NaN</td>\n      <td>NaN</td>\n      <td>270.327731</td>\n    </tr>\n    <tr>\n      <th>4947</th>\n      <td>North Scottsdale Road</td>\n      <td>90047</td>\n      <td>531436240</td>\n      <td>3442</td>\n      <td>3443</td>\n      <td>1</td>\n      <td>7.405588</td>\n      <td>3</td>\n      <td>40.0</td>\n      <td>NaN</td>\n      <td>residential</td>\n      <td>6</td>\n      <td>LINESTRING (-111.9253207 33.699241, -111.92532...</td>\n      <td>auto</td>\n      <td>1</td>\n      <td>0</td>\n      <td>NaN</td>\n      <td>NaN</td>\n      <td>359.928427</td>\n    </tr>\n    <tr>\n      <th>4948</th>\n      <td>North Scottsdale Road</td>\n      <td>90048</td>\n      <td>531436240</td>\n      <td>3443</td>\n      <td>3442</td>\n      <td>1</td>\n      <td>7.405588</td>\n      <td>3</td>\n      <td>40.0</td>\n      <td>NaN</td>\n      <td>residential</td>\n      <td>6</td>\n      <td>LINESTRING (-111.9253208 33.6993076, -111.9253...</td>\n      <td>auto</td>\n      <td>1</td>\n      <td>0</td>\n      <td>NaN</td>\n      <td>NaN</td>\n      <td>179.928427</td>\n    </tr>\n  </tbody>\n</table>\n<p>4949 rows × 19 columns</p>\n</div>"
     },
     "metadata": {},
     "execution_count": 3
    }
   ],
   "source": [
    "link_base = pd.read_csv('link_base.csv', low_memory=False)\n",
    "link_base['bearing_angle'] = link_base['geometry'].apply(bearing)\n",
    "link_base"
   ]
  },
  {
   "cell_type": "code",
   "execution_count": 4,
   "metadata": {},
   "outputs": [],
   "source": [
    "multiline_string_base_list = []\n",
    "multiline_string_base_list_sub = []\n",
    "for j in link_base.index:\n",
    "    link_base_geometry_list = link_base.loc[j,'geometry'][12:-1].split(\", \")\n",
    "    for link_base_geometry in link_base_geometry_list:\n",
    "        multiline_string_base_list_sub.append((float(link_base_geometry.split(\" \")[0]),float(link_base_geometry.split(\" \")[1])))\n",
    "    multiline_string_base_list_sub = tuple(multiline_string_base_list_sub)\n",
    "    multiline_string_base_list.append(multiline_string_base_list_sub)\n",
    "    multiline_string_base_list_sub = []\n",
    "\n",
    "from shapely.geometry import MultiLineString\n",
    "\n",
    "line_base = MultiLineString(multiline_string_base_list) "
   ]
  },
  {
   "cell_type": "code",
   "execution_count": 5,
   "metadata": {},
   "outputs": [],
   "source": [
    "link_measurement_TMC = pd.read_csv('link_measurement_TMC.csv', low_memory=False)\n",
    "link_TMC = pd.read_csv('link_TMC.csv', low_memory=False)\n",
    "link_TMC = link_TMC[link_TMC['link_id'].isin(set(link_measurement_TMC['link_id']))]\n",
    "link_TMC = link_TMC.reset_index()\n",
    "link_TMC = link_TMC.drop(['index'], 1)\n"
   ]
  },
  {
   "cell_type": "code",
   "execution_count": 6,
   "metadata": {},
   "outputs": [
    {
     "output_type": "execute_result",
     "data": {
      "text/plain": [
       "     link_id  name  from_node_id  to_node_id  facility_type  link_type  \\\n",
       "0    20739AB   NaN         18281       18282            NaN          1   \n",
       "1    20749AB   NaN         18299       18300            NaN          1   \n",
       "2    20750AB   NaN         18301       18302            NaN          1   \n",
       "3    20755AB   NaN         18308       18309            NaN          1   \n",
       "4    20756AB   NaN         18310       18311            NaN          1   \n",
       "..       ...   ...           ...         ...            ...        ...   \n",
       "101  26896BA   NaN         21941       21946            NaN          1   \n",
       "102  27025BA   NaN         20064       20015            NaN          1   \n",
       "103  28049BA   NaN         22549       20019            NaN          1   \n",
       "104  28060BA   NaN         22549       22613            NaN          1   \n",
       "105  28084BA   NaN         22606       22593            NaN          1   \n",
       "\n",
       "     dir_flag   length  lanes  free_speed  ...  VDF_beta4  VDF_frequency4  \\\n",
       "0           1  0.44804      3        41.0  ...        0.0               0   \n",
       "1           1  0.85350      3        71.0  ...        0.0               0   \n",
       "2           1  0.84076      3        71.0  ...        0.0               0   \n",
       "3           1  0.95895      1        75.0  ...        0.0               0   \n",
       "4           1  0.95571      1        75.0  ...        0.0               0   \n",
       "..        ...      ...    ...         ...  ...        ...             ...   \n",
       "101         1  0.59761      2        41.0  ...        0.0               0   \n",
       "102         1  0.27922      1        41.0  ...        0.0               0   \n",
       "103         1  0.26873      2        40.0  ...        0.0               0   \n",
       "104         1  0.11014      3        40.0  ...        0.0               0   \n",
       "105         1  0.11640      2        41.0  ...        0.0               0   \n",
       "\n",
       "     VDF_FFTT5  VDF_cap5  VDF_alpha5  VDF_beta5  VDF_frequency5  \\\n",
       "0          0.0       0.0         0.0        0.0               0   \n",
       "1          0.0       0.0         0.0        0.0               0   \n",
       "2          0.0       0.0         0.0        0.0               0   \n",
       "3          0.0       0.0         0.0        0.0               0   \n",
       "4          0.0       0.0         0.0        0.0               0   \n",
       "..         ...       ...         ...        ...             ...   \n",
       "101        0.0       0.0         0.0        0.0               0   \n",
       "102        0.0       0.0         0.0        0.0               0   \n",
       "103        0.0       0.0         0.0        0.0               0   \n",
       "104        0.0       0.0         0.0        0.0               0   \n",
       "105        0.0       0.0         0.0        0.0               0   \n",
       "\n",
       "                                              geometry  Unnamed: 37  \\\n",
       "0    LINESTRING (-112.195152 33.638579, -112.202916...          NaN   \n",
       "1    LINESTRING (-112.195491 33.668369, -112.210285...          NaN   \n",
       "2    LINESTRING (-112.210231 33.667568, -112.195658...          NaN   \n",
       "3    LINESTRING (-112.210902 33.667642, -112.194277...          NaN   \n",
       "4    LINESTRING (-112.194350 33.668297, -112.210918...          NaN   \n",
       "..                                                 ...          ...   \n",
       "101  LINESTRING (-112.030768 33.691757, -112.025744...          NaN   \n",
       "102  LINESTRING (-111.947630 33.698685, -111.942783...          NaN   \n",
       "103  LINESTRING (-111.925333 33.655166, -111.929995...          NaN   \n",
       "104  LINESTRING (-111.925333 33.655166, -111.925356...          NaN   \n",
       "105  LINESTRING (-111.925412 33.662909, -111.925351...          NaN   \n",
       "\n",
       "     bearing_angle  \n",
       "0       267.371410  \n",
       "1       267.307085  \n",
       "2        87.258114  \n",
       "3        87.657056  \n",
       "4       267.591851  \n",
       "..             ...  \n",
       "101      28.866540  \n",
       "102      90.225988  \n",
       "103     269.085959  \n",
       "104     359.313610  \n",
       "105       1.722770  \n",
       "\n",
       "[106 rows x 39 columns]"
      ],
      "text/html": "<div>\n<style scoped>\n    .dataframe tbody tr th:only-of-type {\n        vertical-align: middle;\n    }\n\n    .dataframe tbody tr th {\n        vertical-align: top;\n    }\n\n    .dataframe thead th {\n        text-align: right;\n    }\n</style>\n<table border=\"1\" class=\"dataframe\">\n  <thead>\n    <tr style=\"text-align: right;\">\n      <th></th>\n      <th>link_id</th>\n      <th>name</th>\n      <th>from_node_id</th>\n      <th>to_node_id</th>\n      <th>facility_type</th>\n      <th>link_type</th>\n      <th>dir_flag</th>\n      <th>length</th>\n      <th>lanes</th>\n      <th>free_speed</th>\n      <th>...</th>\n      <th>VDF_beta4</th>\n      <th>VDF_frequency4</th>\n      <th>VDF_FFTT5</th>\n      <th>VDF_cap5</th>\n      <th>VDF_alpha5</th>\n      <th>VDF_beta5</th>\n      <th>VDF_frequency5</th>\n      <th>geometry</th>\n      <th>Unnamed: 37</th>\n      <th>bearing_angle</th>\n    </tr>\n  </thead>\n  <tbody>\n    <tr>\n      <th>0</th>\n      <td>20739AB</td>\n      <td>NaN</td>\n      <td>18281</td>\n      <td>18282</td>\n      <td>NaN</td>\n      <td>1</td>\n      <td>1</td>\n      <td>0.44804</td>\n      <td>3</td>\n      <td>41.0</td>\n      <td>...</td>\n      <td>0.0</td>\n      <td>0</td>\n      <td>0.0</td>\n      <td>0.0</td>\n      <td>0.0</td>\n      <td>0.0</td>\n      <td>0</td>\n      <td>LINESTRING (-112.195152 33.638579, -112.202916...</td>\n      <td>NaN</td>\n      <td>267.371410</td>\n    </tr>\n    <tr>\n      <th>1</th>\n      <td>20749AB</td>\n      <td>NaN</td>\n      <td>18299</td>\n      <td>18300</td>\n      <td>NaN</td>\n      <td>1</td>\n      <td>1</td>\n      <td>0.85350</td>\n      <td>3</td>\n      <td>71.0</td>\n      <td>...</td>\n      <td>0.0</td>\n      <td>0</td>\n      <td>0.0</td>\n      <td>0.0</td>\n      <td>0.0</td>\n      <td>0.0</td>\n      <td>0</td>\n      <td>LINESTRING (-112.195491 33.668369, -112.210285...</td>\n      <td>NaN</td>\n      <td>267.307085</td>\n    </tr>\n    <tr>\n      <th>2</th>\n      <td>20750AB</td>\n      <td>NaN</td>\n      <td>18301</td>\n      <td>18302</td>\n      <td>NaN</td>\n      <td>1</td>\n      <td>1</td>\n      <td>0.84076</td>\n      <td>3</td>\n      <td>71.0</td>\n      <td>...</td>\n      <td>0.0</td>\n      <td>0</td>\n      <td>0.0</td>\n      <td>0.0</td>\n      <td>0.0</td>\n      <td>0.0</td>\n      <td>0</td>\n      <td>LINESTRING (-112.210231 33.667568, -112.195658...</td>\n      <td>NaN</td>\n      <td>87.258114</td>\n    </tr>\n    <tr>\n      <th>3</th>\n      <td>20755AB</td>\n      <td>NaN</td>\n      <td>18308</td>\n      <td>18309</td>\n      <td>NaN</td>\n      <td>1</td>\n      <td>1</td>\n      <td>0.95895</td>\n      <td>1</td>\n      <td>75.0</td>\n      <td>...</td>\n      <td>0.0</td>\n      <td>0</td>\n      <td>0.0</td>\n      <td>0.0</td>\n      <td>0.0</td>\n      <td>0.0</td>\n      <td>0</td>\n      <td>LINESTRING (-112.210902 33.667642, -112.194277...</td>\n      <td>NaN</td>\n      <td>87.657056</td>\n    </tr>\n    <tr>\n      <th>4</th>\n      <td>20756AB</td>\n      <td>NaN</td>\n      <td>18310</td>\n      <td>18311</td>\n      <td>NaN</td>\n      <td>1</td>\n      <td>1</td>\n      <td>0.95571</td>\n      <td>1</td>\n      <td>75.0</td>\n      <td>...</td>\n      <td>0.0</td>\n      <td>0</td>\n      <td>0.0</td>\n      <td>0.0</td>\n      <td>0.0</td>\n      <td>0.0</td>\n      <td>0</td>\n      <td>LINESTRING (-112.194350 33.668297, -112.210918...</td>\n      <td>NaN</td>\n      <td>267.591851</td>\n    </tr>\n    <tr>\n      <th>...</th>\n      <td>...</td>\n      <td>...</td>\n      <td>...</td>\n      <td>...</td>\n      <td>...</td>\n      <td>...</td>\n      <td>...</td>\n      <td>...</td>\n      <td>...</td>\n      <td>...</td>\n      <td>...</td>\n      <td>...</td>\n      <td>...</td>\n      <td>...</td>\n      <td>...</td>\n      <td>...</td>\n      <td>...</td>\n      <td>...</td>\n      <td>...</td>\n      <td>...</td>\n      <td>...</td>\n    </tr>\n    <tr>\n      <th>101</th>\n      <td>26896BA</td>\n      <td>NaN</td>\n      <td>21941</td>\n      <td>21946</td>\n      <td>NaN</td>\n      <td>1</td>\n      <td>1</td>\n      <td>0.59761</td>\n      <td>2</td>\n      <td>41.0</td>\n      <td>...</td>\n      <td>0.0</td>\n      <td>0</td>\n      <td>0.0</td>\n      <td>0.0</td>\n      <td>0.0</td>\n      <td>0.0</td>\n      <td>0</td>\n      <td>LINESTRING (-112.030768 33.691757, -112.025744...</td>\n      <td>NaN</td>\n      <td>28.866540</td>\n    </tr>\n    <tr>\n      <th>102</th>\n      <td>27025BA</td>\n      <td>NaN</td>\n      <td>20064</td>\n      <td>20015</td>\n      <td>NaN</td>\n      <td>1</td>\n      <td>1</td>\n      <td>0.27922</td>\n      <td>1</td>\n      <td>41.0</td>\n      <td>...</td>\n      <td>0.0</td>\n      <td>0</td>\n      <td>0.0</td>\n      <td>0.0</td>\n      <td>0.0</td>\n      <td>0.0</td>\n      <td>0</td>\n      <td>LINESTRING (-111.947630 33.698685, -111.942783...</td>\n      <td>NaN</td>\n      <td>90.225988</td>\n    </tr>\n    <tr>\n      <th>103</th>\n      <td>28049BA</td>\n      <td>NaN</td>\n      <td>22549</td>\n      <td>20019</td>\n      <td>NaN</td>\n      <td>1</td>\n      <td>1</td>\n      <td>0.26873</td>\n      <td>2</td>\n      <td>40.0</td>\n      <td>...</td>\n      <td>0.0</td>\n      <td>0</td>\n      <td>0.0</td>\n      <td>0.0</td>\n      <td>0.0</td>\n      <td>0.0</td>\n      <td>0</td>\n      <td>LINESTRING (-111.925333 33.655166, -111.929995...</td>\n      <td>NaN</td>\n      <td>269.085959</td>\n    </tr>\n    <tr>\n      <th>104</th>\n      <td>28060BA</td>\n      <td>NaN</td>\n      <td>22549</td>\n      <td>22613</td>\n      <td>NaN</td>\n      <td>1</td>\n      <td>1</td>\n      <td>0.11014</td>\n      <td>3</td>\n      <td>40.0</td>\n      <td>...</td>\n      <td>0.0</td>\n      <td>0</td>\n      <td>0.0</td>\n      <td>0.0</td>\n      <td>0.0</td>\n      <td>0.0</td>\n      <td>0</td>\n      <td>LINESTRING (-111.925333 33.655166, -111.925356...</td>\n      <td>NaN</td>\n      <td>359.313610</td>\n    </tr>\n    <tr>\n      <th>105</th>\n      <td>28084BA</td>\n      <td>NaN</td>\n      <td>22606</td>\n      <td>22593</td>\n      <td>NaN</td>\n      <td>1</td>\n      <td>1</td>\n      <td>0.11640</td>\n      <td>2</td>\n      <td>41.0</td>\n      <td>...</td>\n      <td>0.0</td>\n      <td>0</td>\n      <td>0.0</td>\n      <td>0.0</td>\n      <td>0.0</td>\n      <td>0.0</td>\n      <td>0</td>\n      <td>LINESTRING (-111.925412 33.662909, -111.925351...</td>\n      <td>NaN</td>\n      <td>1.722770</td>\n    </tr>\n  </tbody>\n</table>\n<p>106 rows × 39 columns</p>\n</div>"
     },
     "metadata": {},
     "execution_count": 6
    }
   ],
   "source": [
    "in_bbox_index_list = []\n",
    "for i in link_TMC.index:\n",
    "    link_tmc_geometry_list = link_TMC.loc[i,'geometry'][12:-1].split(\", \")\n",
    "    start_longitude = float(link_tmc_geometry_list[0].split(\" \")[0])\n",
    "    start_latitude = float(link_tmc_geometry_list[0].split(\" \")[1])\n",
    "    end_longitude = float(link_tmc_geometry_list[1].split(\" \")[0])\n",
    "    end_latitude = float(link_tmc_geometry_list[1].split(\" \")[1])\n",
    "    if (start_longitude > line_base.bounds[0]) & (start_longitude < line_base.bounds[2]) & \\\n",
    "         (end_longitude > line_base.bounds[0]) & (end_longitude < line_base.bounds[2]) & \\\n",
    "             (start_latitude > line_base.bounds[1]) & (start_latitude < line_base.bounds[3]) & \\\n",
    "         (end_latitude > line_base.bounds[1]) & (end_latitude < line_base.bounds[3]):\n",
    "         in_bbox_index_list.append(i)\n",
    "\n",
    "link_TMC = link_TMC.loc[in_bbox_index_list]\n",
    "link_TMC = link_TMC.reset_index()\n",
    "link_TMC = link_TMC.drop(['index'], 1)\n",
    "\n",
    "link_TMC['bearing_angle'] = link_TMC['geometry'].apply(bearing)\n",
    "link_TMC"
   ]
  },
  {
   "cell_type": "code",
   "execution_count": 9,
   "metadata": {},
   "outputs": [
    {
     "output_type": "stream",
     "name": "stdout",
     "text": [
      "10% matching completed!\n",
      "20% matching completed!\n",
      "30% matching completed!\n",
      "40% matching completed!\n",
      "50% matching completed!\n",
      "60% matching completed!\n",
      "70% matching completed!\n",
      "80% matching completed!\n",
      "90% matching completed!\n",
      "matching_tmc2base.csv generated!\n"
     ]
    }
   ],
   "source": [
    "from shapely.wkt import loads\n",
    "matching_tmc2base_dict = {}\n",
    "k = 0\n",
    "p = 1\n",
    "for i in link_TMC.index:\n",
    "    angle_list = list(abs(link_TMC.loc[i,'bearing_angle']-list(link_base['bearing_angle'])))\n",
    "    small_angle_list = [i for i, value in enumerate(angle_list) if value < 45]\n",
    "    for dividing_rate in range(1,11):\n",
    "        start_point_tmc = loads(link_TMC['geometry'][i]).interpolate((dividing_rate-1)/10, normalized=True)\n",
    "        end_point_tmc = loads(link_TMC['geometry'][i]).interpolate(dividing_rate/10, normalized=True)\n",
    "        distance_list = []\n",
    "        \n",
    "        for j in small_angle_list:\n",
    "            distance_list.append(LineString([start_point_tmc, end_point_tmc]).distance(loads(link_base['geometry'][j])))\n",
    "        df_distance = pd.DataFrame({'index':small_angle_list,'distance':distance_list})\n",
    "        nearest_index = int(df_distance.loc[df_distance['distance'].idxmin()]['index'])\n",
    "\n",
    "        matching_tmc2base_dict[k] = {'name_tmc':link_TMC.loc[i]['link_id'],\\\n",
    "                                        'from_node_id_tmc':link_TMC.loc[i]['from_node_id'],\\\n",
    "                                        'to_node_id_tmc':link_TMC.loc[i]['to_node_id'],\\\n",
    "                                        'bearing_angle_tmc':link_TMC.loc[i]['bearing_angle'],\\\n",
    "                                        'geometry_tmc':link_TMC.loc[i]['geometry'],\\\n",
    "                                        'name_base':link_base['name'][nearest_index],\\\n",
    "                                        'link_id_base':link_base['link_id'][nearest_index],\\\n",
    "                                        'from_node_id_base':link_base['from_node_id'][nearest_index],\\\n",
    "                                        'to_node_id_base':link_base['to_node_id'][nearest_index],\\\n",
    "                                        'geometry_base':link_base['geometry'][nearest_index],\\\n",
    "                                        'distance':min(distance_list),\\\n",
    "                                        'geometry_tmc_base':'MULTILINESTRING ('+ link_TMC.loc[i]['geometry'][11:] + \\\n",
    "                                                            ', ' + link_base['geometry'][nearest_index][11:]+')'}\n",
    "        k += 1\n",
    "\n",
    "        \n",
    "    if link_TMC.index.get_loc(i) > p/10 * len(link_TMC): \n",
    "        print(str(p*10)+\"%\"+' matching completed!')\n",
    "        p = p + 1\n",
    "            \n",
    "\n",
    "matching_tmc2base = pd.DataFrame(matching_tmc2base_dict).transpose()\n",
    "matching_tmc2base_drop_duplicates = matching_tmc2base.drop(columns=['distance']).drop_duplicates()\n",
    "matching_tmc2base_drop_duplicates['distance'] = matching_tmc2base.loc[matching_tmc2base_drop_duplicates.index]['distance']\n",
    "matching_tmc2base_drop_duplicates = matching_tmc2base_drop_duplicates.reset_index()\n",
    "matching_tmc2base_drop_duplicates = matching_tmc2base_drop_duplicates.drop(['index'], 1)\n",
    "matching_tmc2base = matching_tmc2base_drop_duplicates\n",
    "\n",
    "matching_tmc2base.to_csv('matching_tmc2base.csv',index = False)\n",
    "print('matching_tmc2base.csv generated!')"
   ]
  },
  {
   "cell_type": "code",
   "execution_count": 8,
   "metadata": {},
   "outputs": [
    {
     "output_type": "execute_result",
     "data": {
      "text/plain": [
       "    name_tmc from_node_id_tmc to_node_id_tmc bearing_angle_tmc  \\\n",
       "0    20739AB            18281          18282           267.371   \n",
       "1    20739AB            18281          18282           267.371   \n",
       "2    20739AB            18281          18282           267.371   \n",
       "3    20739AB            18281          18282           267.371   \n",
       "4    20739AB            18281          18282           267.371   \n",
       "..       ...              ...            ...               ...   \n",
       "482  28049BA            22549          20019           269.086   \n",
       "483  28049BA            22549          20019           269.086   \n",
       "484  28060BA            22549          22613           359.314   \n",
       "485  28060BA            22549          22613           359.314   \n",
       "486  28084BA            22606          22593           1.72277   \n",
       "\n",
       "                                          geometry_tmc              name_base  \\\n",
       "0    LINESTRING (-112.195152 33.638579, -112.202916...         West Bell Road   \n",
       "1    LINESTRING (-112.195152 33.638579, -112.202916...         West Bell Road   \n",
       "2    LINESTRING (-112.195152 33.638579, -112.202916...         West Bell Road   \n",
       "3    LINESTRING (-112.195152 33.638579, -112.202916...         West Bell Road   \n",
       "4    LINESTRING (-112.195152 33.638579, -112.202916...         West Bell Road   \n",
       "..                                                 ...                    ...   \n",
       "482  LINESTRING (-111.925333 33.655166, -111.929995...    East Mayo Boulevard   \n",
       "483  LINESTRING (-111.925333 33.655166, -111.929995...    East Mayo Boulevard   \n",
       "484  LINESTRING (-111.925333 33.655166, -111.925356...                    NaN   \n",
       "485  LINESTRING (-111.925333 33.655166, -111.925356...  North Scottsdale Road   \n",
       "486  LINESTRING (-111.925412 33.662909, -111.925351...  North Scottsdale Road   \n",
       "\n",
       "    link_id_base from_node_id_base to_node_id_base  \\\n",
       "0           2080              2414              74   \n",
       "1           2088                74            2413   \n",
       "2           2059              2413            2412   \n",
       "3           2084              2412            2406   \n",
       "4            728              2405           90101   \n",
       "..           ...               ...             ...   \n",
       "482         3644              1877            3054   \n",
       "483         3647              3055           90114   \n",
       "484         3633               894            1797   \n",
       "485         3613               599            3531   \n",
       "486         3621              1015           90081   \n",
       "\n",
       "                                         geometry_base  \\\n",
       "0    LINESTRING (-112.1944975 33.6386541, -112.1950...   \n",
       "1    LINESTRING (-112.1951793 33.6386404, -112.1953...   \n",
       "2    LINESTRING (-112.1988333 33.6385074, -112.1994...   \n",
       "3    LINESTRING (-112.1994119 33.6384845, -112.2001...   \n",
       "4    LINESTRING (-112.2019525 33.6383814, -112.2021...   \n",
       "..                                                 ...   \n",
       "482  LINESTRING (-111.9275244 33.6552693, -111.9287...   \n",
       "483  LINESTRING (-111.9288374 33.6552713, -111.9294...   \n",
       "484  LINESTRING (-111.9235933 33.6550975, -111.9235...   \n",
       "485  LINESTRING (-111.925211 33.6587577, -111.92521...   \n",
       "486  LINESTRING (-111.925348 33.6616042, -111.92526...   \n",
       "\n",
       "                                     geometry_tmc_base     distance  \n",
       "0    MULTILINESTRING ((-112.195152 33.638579, -112....  6.22212e-05  \n",
       "1    MULTILINESTRING ((-112.195152 33.638579, -112....  6.55249e-05  \n",
       "2    MULTILINESTRING ((-112.195152 33.638579, -112....  6.89027e-05  \n",
       "3    MULTILINESTRING ((-112.195152 33.638579, -112....  6.78932e-05  \n",
       "4    MULTILINESTRING ((-112.195152 33.638579, -112....  6.16212e-05  \n",
       "..                                                 ...          ...  \n",
       "482  MULTILINESTRING ((-111.925333 33.655166, -111....  0.000134511  \n",
       "483  MULTILINESTRING ((-111.925333 33.655166, -111....  0.000155248  \n",
       "484  MULTILINESTRING ((-111.925333 33.655166, -111....   0.00173678  \n",
       "485  MULTILINESTRING ((-111.925333 33.655166, -111....   0.00199897  \n",
       "486  MULTILINESTRING ((-111.925412 33.662909, -111....  0.000101526  \n",
       "\n",
       "[487 rows x 12 columns]"
      ],
      "text/html": "<div>\n<style scoped>\n    .dataframe tbody tr th:only-of-type {\n        vertical-align: middle;\n    }\n\n    .dataframe tbody tr th {\n        vertical-align: top;\n    }\n\n    .dataframe thead th {\n        text-align: right;\n    }\n</style>\n<table border=\"1\" class=\"dataframe\">\n  <thead>\n    <tr style=\"text-align: right;\">\n      <th></th>\n      <th>name_tmc</th>\n      <th>from_node_id_tmc</th>\n      <th>to_node_id_tmc</th>\n      <th>bearing_angle_tmc</th>\n      <th>geometry_tmc</th>\n      <th>name_base</th>\n      <th>link_id_base</th>\n      <th>from_node_id_base</th>\n      <th>to_node_id_base</th>\n      <th>geometry_base</th>\n      <th>geometry_tmc_base</th>\n      <th>distance</th>\n    </tr>\n  </thead>\n  <tbody>\n    <tr>\n      <th>0</th>\n      <td>20739AB</td>\n      <td>18281</td>\n      <td>18282</td>\n      <td>267.371</td>\n      <td>LINESTRING (-112.195152 33.638579, -112.202916...</td>\n      <td>West Bell Road</td>\n      <td>2080</td>\n      <td>2414</td>\n      <td>74</td>\n      <td>LINESTRING (-112.1944975 33.6386541, -112.1950...</td>\n      <td>MULTILINESTRING ((-112.195152 33.638579, -112....</td>\n      <td>6.22212e-05</td>\n    </tr>\n    <tr>\n      <th>1</th>\n      <td>20739AB</td>\n      <td>18281</td>\n      <td>18282</td>\n      <td>267.371</td>\n      <td>LINESTRING (-112.195152 33.638579, -112.202916...</td>\n      <td>West Bell Road</td>\n      <td>2088</td>\n      <td>74</td>\n      <td>2413</td>\n      <td>LINESTRING (-112.1951793 33.6386404, -112.1953...</td>\n      <td>MULTILINESTRING ((-112.195152 33.638579, -112....</td>\n      <td>6.55249e-05</td>\n    </tr>\n    <tr>\n      <th>2</th>\n      <td>20739AB</td>\n      <td>18281</td>\n      <td>18282</td>\n      <td>267.371</td>\n      <td>LINESTRING (-112.195152 33.638579, -112.202916...</td>\n      <td>West Bell Road</td>\n      <td>2059</td>\n      <td>2413</td>\n      <td>2412</td>\n      <td>LINESTRING (-112.1988333 33.6385074, -112.1994...</td>\n      <td>MULTILINESTRING ((-112.195152 33.638579, -112....</td>\n      <td>6.89027e-05</td>\n    </tr>\n    <tr>\n      <th>3</th>\n      <td>20739AB</td>\n      <td>18281</td>\n      <td>18282</td>\n      <td>267.371</td>\n      <td>LINESTRING (-112.195152 33.638579, -112.202916...</td>\n      <td>West Bell Road</td>\n      <td>2084</td>\n      <td>2412</td>\n      <td>2406</td>\n      <td>LINESTRING (-112.1994119 33.6384845, -112.2001...</td>\n      <td>MULTILINESTRING ((-112.195152 33.638579, -112....</td>\n      <td>6.78932e-05</td>\n    </tr>\n    <tr>\n      <th>4</th>\n      <td>20739AB</td>\n      <td>18281</td>\n      <td>18282</td>\n      <td>267.371</td>\n      <td>LINESTRING (-112.195152 33.638579, -112.202916...</td>\n      <td>West Bell Road</td>\n      <td>728</td>\n      <td>2405</td>\n      <td>90101</td>\n      <td>LINESTRING (-112.2019525 33.6383814, -112.2021...</td>\n      <td>MULTILINESTRING ((-112.195152 33.638579, -112....</td>\n      <td>6.16212e-05</td>\n    </tr>\n    <tr>\n      <th>...</th>\n      <td>...</td>\n      <td>...</td>\n      <td>...</td>\n      <td>...</td>\n      <td>...</td>\n      <td>...</td>\n      <td>...</td>\n      <td>...</td>\n      <td>...</td>\n      <td>...</td>\n      <td>...</td>\n      <td>...</td>\n    </tr>\n    <tr>\n      <th>482</th>\n      <td>28049BA</td>\n      <td>22549</td>\n      <td>20019</td>\n      <td>269.086</td>\n      <td>LINESTRING (-111.925333 33.655166, -111.929995...</td>\n      <td>East Mayo Boulevard</td>\n      <td>3644</td>\n      <td>1877</td>\n      <td>3054</td>\n      <td>LINESTRING (-111.9275244 33.6552693, -111.9287...</td>\n      <td>MULTILINESTRING ((-111.925333 33.655166, -111....</td>\n      <td>0.000134511</td>\n    </tr>\n    <tr>\n      <th>483</th>\n      <td>28049BA</td>\n      <td>22549</td>\n      <td>20019</td>\n      <td>269.086</td>\n      <td>LINESTRING (-111.925333 33.655166, -111.929995...</td>\n      <td>East Mayo Boulevard</td>\n      <td>3647</td>\n      <td>3055</td>\n      <td>90114</td>\n      <td>LINESTRING (-111.9288374 33.6552713, -111.9294...</td>\n      <td>MULTILINESTRING ((-111.925333 33.655166, -111....</td>\n      <td>0.000155248</td>\n    </tr>\n    <tr>\n      <th>484</th>\n      <td>28060BA</td>\n      <td>22549</td>\n      <td>22613</td>\n      <td>359.314</td>\n      <td>LINESTRING (-111.925333 33.655166, -111.925356...</td>\n      <td>NaN</td>\n      <td>3633</td>\n      <td>894</td>\n      <td>1797</td>\n      <td>LINESTRING (-111.9235933 33.6550975, -111.9235...</td>\n      <td>MULTILINESTRING ((-111.925333 33.655166, -111....</td>\n      <td>0.00173678</td>\n    </tr>\n    <tr>\n      <th>485</th>\n      <td>28060BA</td>\n      <td>22549</td>\n      <td>22613</td>\n      <td>359.314</td>\n      <td>LINESTRING (-111.925333 33.655166, -111.925356...</td>\n      <td>North Scottsdale Road</td>\n      <td>3613</td>\n      <td>599</td>\n      <td>3531</td>\n      <td>LINESTRING (-111.925211 33.6587577, -111.92521...</td>\n      <td>MULTILINESTRING ((-111.925333 33.655166, -111....</td>\n      <td>0.00199897</td>\n    </tr>\n    <tr>\n      <th>486</th>\n      <td>28084BA</td>\n      <td>22606</td>\n      <td>22593</td>\n      <td>1.72277</td>\n      <td>LINESTRING (-111.925412 33.662909, -111.925351...</td>\n      <td>North Scottsdale Road</td>\n      <td>3621</td>\n      <td>1015</td>\n      <td>90081</td>\n      <td>LINESTRING (-111.925348 33.6616042, -111.92526...</td>\n      <td>MULTILINESTRING ((-111.925412 33.662909, -111....</td>\n      <td>0.000101526</td>\n    </tr>\n  </tbody>\n</table>\n<p>487 rows × 12 columns</p>\n</div>"
     },
     "metadata": {},
     "execution_count": 8
    }
   ],
   "source": [
    "matching_tmc2base"
   ]
  },
  {
   "cell_type": "code",
   "execution_count": null,
   "metadata": {},
   "outputs": [],
   "source": [
    "\n"
   ]
  },
  {
   "cell_type": "code",
   "execution_count": 54,
   "metadata": {},
   "outputs": [
    {
     "output_type": "execute_result",
     "data": {
      "text/plain": [
       "10.650628707489625"
      ]
     },
     "metadata": {},
     "execution_count": 54
    }
   ],
   "source": [
    "from shapely.geometry import LineString\n",
    "l1 = LineString([(42.073407, -87.806245), (42.0752508,-87.8080299)])\n",
    "from shapely.wkt import loads\n",
    "l2 = loads(\" LINESTRING(35.442827 -79.470579, 35.444889 -79.469465, 35.445829 -79.468907, 35.446608 -79.468294, 35.447893 -79.46687)\")\n",
    "l1.distance(l2)\n",
    "# 10.650628707489625\n",
    "l2.distance(l1)\n",
    "# 10.650628707489625"
   ]
  },
  {
   "cell_type": "code",
   "execution_count": 52,
   "metadata": {},
   "outputs": [],
   "source": [
    "link_TMC.to_csv('xx_inner.csv')"
   ]
  },
  {
   "cell_type": "code",
   "execution_count": 25,
   "metadata": {},
   "outputs": [
    {
     "output_type": "execute_result",
     "data": {
      "text/plain": [
       "(414278.16730997514, 5316285.595228155, 32, 'T')"
      ]
     },
     "metadata": {},
     "execution_count": 25
    }
   ],
   "source": [
    "utm.from_latlon(47.9941214, 7.8509671)"
   ]
  },
  {
   "cell_type": "code",
   "execution_count": 29,
   "metadata": {},
   "outputs": [
    {
     "output_type": "execute_result",
     "data": {
      "text/plain": [
       "(47.994121402271354, 7.850967099948628)"
      ]
     },
     "metadata": {},
     "execution_count": 29
    }
   ],
   "source": [
    "u = utm.from_latlon(47.9941214, 7.8509671)\n",
    "utm.to_latlon(*u)"
   ]
  },
  {
   "cell_type": "code",
   "execution_count": 30,
   "metadata": {},
   "outputs": [
    {
     "output_type": "execute_result",
     "data": {
      "text/plain": [
       "(414278.16730997514, 5316285.595228155, 32, 'T')"
      ]
     },
     "metadata": {},
     "execution_count": 30
    }
   ],
   "source": [
    "u"
   ]
  },
  {
   "cell_type": "code",
   "execution_count": null,
   "metadata": {},
   "outputs": [],
   "source": []
  }
 ]
}