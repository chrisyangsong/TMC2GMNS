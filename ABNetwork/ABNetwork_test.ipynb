{
 "metadata": {
  "language_info": {
   "codemirror_mode": {
    "name": "ipython",
    "version": 3
   },
   "file_extension": ".py",
   "mimetype": "text/x-python",
   "name": "python",
   "nbconvert_exporter": "python",
   "pygments_lexer": "ipython3",
   "version": "3.8.5"
  },
  "orig_nbformat": 4,
  "kernelspec": {
   "name": "python3",
   "display_name": "Python 3.8.5 64-bit ('base': conda)"
  },
  "interpreter": {
   "hash": "f60418cf0f93cafce689393a2d664cdd36dee00bdf33293458885c5a1a5b95d3"
  }
 },
 "nbformat": 4,
 "nbformat_minor": 2,
 "cells": [
  {
   "cell_type": "code",
   "execution_count": 2,
   "metadata": {},
   "outputs": [
    {
     "output_type": "stream",
     "name": "stdout",
     "text": [
      "10% matching completed!\n",
      "20% matching completed!\n",
      "30% matching completed!\n",
      "40% matching completed!\n",
      "50% matching completed!\n",
      "60% matching completed!\n",
      "70% matching completed!\n",
      "80% matching completed!\n",
      "90% matching completed!\n",
      "matching_tmc2base.csv generated!\n"
     ]
    }
   ],
   "source": [
    "import ABNetwork as abn\n",
    "abn.MatchTMC2BASENetwork('link_TMC.csv','link_base.csv','link_measurement_TMC.csv')"
   ]
  },
  {
   "cell_type": "code",
   "execution_count": null,
   "metadata": {},
   "outputs": [],
   "source": []
  }
 ]
}