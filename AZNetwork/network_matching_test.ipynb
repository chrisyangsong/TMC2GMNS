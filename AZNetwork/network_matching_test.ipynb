{
 "metadata": {
  "language_info": {
   "codemirror_mode": {
    "name": "ipython",
    "version": 3
   },
   "file_extension": ".py",
   "mimetype": "text/x-python",
   "name": "python",
   "nbconvert_exporter": "python",
   "pygments_lexer": "ipython3",
   "version": "3.8.5"
  },
  "orig_nbformat": 4,
  "kernelspec": {
   "name": "python3",
   "display_name": "Python 3.8.5 64-bit ('base': conda)"
  },
  "interpreter": {
   "hash": "f60418cf0f93cafce689393a2d664cdd36dee00bdf33293458885c5a1a5b95d3"
  }
 },
 "nbformat": 4,
 "nbformat_minor": 2,
 "cells": [
  {
   "cell_type": "code",
   "execution_count": 1,
   "source": [
    "import os\n",
    "import math\n",
    "import datetime\n",
    "import numpy as np\n",
    "import pandas as pd\n",
    "\n",
    "import time\n",
    "import os.path\n",
    "\n",
    "import shapely.geometry as geom\n",
    "import geopandas as gpd\n",
    "from shapely.geometry import LineString\n",
    "from shapely.geometry import MultiLineString\n",
    "from shapely.geometry import Point"
   ],
   "outputs": [],
   "metadata": {}
  },
  {
   "cell_type": "code",
   "execution_count": 4,
   "source": [
    "import network_matching_function as nmf \n",
    "# nmf.TMCIdentification2GMNSNodeLinkFiles('TMC_Identification_I10.csv','link.csv')\n",
    "# nmf.TMCIdentification2GMNSNodeLinkFiles('TMC_Identification_loop_303.csv','link.csv')\n",
    "nmf.TMCIdentification2GMNSNodeLinkFiles('TMC_Identification_US60.csv','link.csv')"
   ],
   "outputs": [
    {
     "output_type": "stream",
     "name": "stderr",
     "text": [
      "/usr/local/home/ysx28/Desktop/GMNS/tmc2gmns/TMC2GMNS/AZNetwork/network_matching_function.py:67: SettingWithCopyWarning: \n",
      "A value is trying to be set on a copy of a slice from a DataFrame\n",
      "\n",
      "See the caveats in the documentation: https://pandas.pydata.org/pandas-docs/stable/user_guide/indexing.html#returning-a-view-versus-a-copy\n",
      "  form['end_latitude'][:-1] = form['start_latitude'][1:].tolist()\n",
      "/usr/local/home/ysx28/anaconda3/lib/python3.8/site-packages/pandas/core/indexing.py:670: SettingWithCopyWarning: \n",
      "A value is trying to be set on a copy of a slice from a DataFrame\n",
      "\n",
      "See the caveats in the documentation: https://pandas.pydata.org/pandas-docs/stable/user_guide/indexing.html#returning-a-view-versus-a-copy\n",
      "  iloc._setitem_with_indexer(indexer, value)\n",
      "/usr/local/home/ysx28/Desktop/GMNS/tmc2gmns/TMC2GMNS/AZNetwork/network_matching_function.py:68: SettingWithCopyWarning: \n",
      "A value is trying to be set on a copy of a slice from a DataFrame\n",
      "\n",
      "See the caveats in the documentation: https://pandas.pydata.org/pandas-docs/stable/user_guide/indexing.html#returning-a-view-versus-a-copy\n",
      "  form['end_longitude'][:-1] = form['start_longitude'][1:].tolist()\n"
     ]
    },
    {
     "output_type": "stream",
     "name": "stdout",
     "text": [
      "converting tmc data into gmns format...\n",
      "node_tmc.csv (67 nodes) generated!\n",
      "10% links completed!\n",
      "20% links completed!\n",
      "30% links completed!\n",
      "40% links completed!\n",
      "50% links completed!\n",
      "60% links completed!\n",
      "70% links completed!\n",
      "80% links completed!\n",
      "90% links completed!\n",
      "link_tmc.csv (63 links) generated!\n"
     ]
    }
   ],
   "metadata": {}
  },
  {
   "cell_type": "code",
   "execution_count": 4,
   "source": [
    "nmf.ConvertTMCReading2Measurement('Reading.csv','link_tmc.csv')\n"
   ],
   "outputs": [
    {
     "output_type": "stream",
     "name": "stdout",
     "text": [
      "10% measurement_tmc completed!\n",
      "20% measurement_tmc completed!\n",
      "30% measurement_tmc completed!\n",
      "40% measurement_tmc completed!\n",
      "50% measurement_tmc completed!\n",
      "60% measurement_tmc completed!\n",
      "70% measurement_tmc completed!\n",
      "80% measurement_tmc completed!\n",
      "90% measurement_tmc completed!\n",
      "measurement_tmc.csv generated!\n"
     ]
    }
   ],
   "metadata": {}
  },
  {
   "cell_type": "code",
   "execution_count": 5,
   "source": [
    "nmf.MatchTMC2GMNSNetwork('link_tmc.csv','link.csv')"
   ],
   "outputs": [
    {
     "output_type": "stream",
     "name": "stdout",
     "text": [
      "10% initial matching completed!\n",
      "20% initial matching completed!\n",
      "30% initial matching completed!\n"
     ]
    }
   ],
   "metadata": {}
  },
  {
   "cell_type": "code",
   "execution_count": 6,
   "source": [
    "nmf.ConvertMeasurementBasedOnMatching('link.csv','matching_tmc2gmns.csv','measurement_tmc.csv')"
   ],
   "outputs": [
    {
     "output_type": "stream",
     "name": "stdout",
     "text": [
      "10% measurement_base completed!\n",
      "20% measurement_base completed!\n",
      "30% measurement_base completed!\n",
      "40% measurement_base completed!\n",
      "50% measurement_base completed!\n",
      "60% measurement_base completed!\n",
      "70% measurement_base completed!\n",
      "80% measurement_base completed!\n",
      "90% measurement_base completed!\n",
      "100% measurement_base completed!\n",
      "measurement_base.csv generated!\n"
     ]
    }
   ],
   "metadata": {}
  },
  {
   "cell_type": "code",
   "execution_count": 5,
   "source": [
    "#intergrate all functions in one\n",
    "\n",
    "import network_matching_function as nmf \n",
    "nmf.OneFunction()"
   ],
   "outputs": [
    {
     "output_type": "stream",
     "name": "stdout",
     "text": [
      "converting tmc data into gmns format...\n",
      "10% nodes completed!\n",
      "20% nodes completed!\n",
      "30% nodes completed!\n",
      "40% nodes completed!\n",
      "50% nodes completed!\n",
      "60% nodes completed!\n",
      "70% nodes completed!\n",
      "80% nodes completed!\n",
      "90% nodes completed!\n",
      "node_tmc.csv (149 nodes) generated!\n",
      "10% links completed!\n",
      "20% links completed!\n",
      "30% links completed!\n",
      "40% links completed!\n",
      "50% links completed!\n",
      "60% links completed!\n",
      "70% links completed!\n",
      "80% links completed!\n",
      "90% links completed!\n",
      "link_tmc.csv (144 links) generated!\n",
      "10% measurement_tmc completed!\n",
      "20% measurement_tmc completed!\n",
      "30% measurement_tmc completed!\n",
      "40% measurement_tmc completed!\n",
      "50% measurement_tmc completed!\n",
      "60% measurement_tmc completed!\n",
      "70% measurement_tmc completed!\n",
      "80% measurement_tmc completed!\n",
      "90% measurement_tmc completed!\n",
      "measurement_tmc.csv generated!\n",
      "10% initial matching completed!\n",
      "20% initial matching completed!\n",
      "30% initial matching completed!\n",
      "40% initial matching completed!\n",
      "50% initial matching completed!\n",
      "60% initial matching completed!\n",
      "70% initial matching completed!\n",
      "80% initial matching completed!\n",
      "90% initial matching completed!\n",
      "10% matching completed!\n",
      "20% matching completed!\n",
      "30% matching completed!\n",
      "40% matching completed!\n",
      "matching_tmc2gmns.csv generated!\n",
      "10% measurement_base completed!\n",
      "20% measurement_base completed!\n",
      "30% measurement_base completed!\n",
      "40% measurement_base completed!\n",
      "50% measurement_base completed!\n",
      "60% measurement_base completed!\n",
      "70% measurement_base completed!\n",
      "80% measurement_base completed!\n",
      "90% measurement_base completed!\n",
      "100% measurement_base completed!\n",
      "measurement_base.csv generated!\n"
     ]
    }
   ],
   "metadata": {}
  }
 ]
}