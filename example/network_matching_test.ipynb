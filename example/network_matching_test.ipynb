{
 "metadata": {
  "language_info": {
   "codemirror_mode": {
    "name": "ipython",
    "version": 3
   },
   "file_extension": ".py",
   "mimetype": "text/x-python",
   "name": "python",
   "nbconvert_exporter": "python",
   "pygments_lexer": "ipython3",
   "version": "3.8.5"
  },
  "orig_nbformat": 4,
  "kernelspec": {
   "name": "python3",
   "display_name": "Python 3.8.5 64-bit ('base': conda)"
  },
  "interpreter": {
   "hash": "f60418cf0f93cafce689393a2d664cdd36dee00bdf33293458885c5a1a5b95d3"
  }
 },
 "nbformat": 4,
 "nbformat_minor": 2,
 "cells": [
  {
   "cell_type": "code",
   "execution_count": 1,
   "metadata": {},
   "outputs": [],
   "source": [
    "import os\n",
    "import math\n",
    "import datetime\n",
    "import numpy as np\n",
    "import pandas as pd\n",
    "\n",
    "import time\n",
    "import os.path\n",
    "\n",
    "import shapely.geometry as geom\n",
    "import geopandas as gpd\n",
    "from shapely.geometry import LineString\n",
    "from shapely.geometry import MultiLineString\n",
    "from shapely.geometry import Point"
   ]
  },
  {
   "cell_type": "code",
   "execution_count": 4,
   "metadata": {},
   "outputs": [],
   "source": []
  },
  {
   "cell_type": "code",
   "execution_count": 2,
   "metadata": {},
   "outputs": [
    {
     "output_type": "stream",
     "name": "stdout",
     "text": [
      "osm2gmns, version 0.4.2\n"
     ]
    }
   ],
   "source": [
    "\"Get the OSM Network\"\n",
    "network_type = 'auto'\n",
    "import osm2gmns as og\n",
    "\n",
    "net = og.getNetFromOSMFile('map.osm',network_type=(network_type), default_lanes=True, default_speed=True)\n",
    "\n",
    "og.consolidateComplexIntersections(net)\n",
    "og.outputNetToCSV(net, output_folder=os.getcwd())"
   ]
  },
  {
   "cell_type": "code",
   "execution_count": 3,
   "metadata": {},
   "outputs": [
    {
     "output_type": "stream",
     "name": "stdout",
     "text": [
      "converting tmc data into gmns format...\n",
      "10% nodes completed!\n",
      "20% nodes completed!\n",
      "30% nodes completed!\n",
      "40% nodes completed!\n",
      "50% nodes completed!\n",
      "60% nodes completed!\n",
      "70% nodes completed!\n",
      "80% nodes completed!\n",
      "90% nodes completed!\n",
      "node_tmc.csv (149 nodes) generated!\n",
      "10% links completed!\n",
      "20% links completed!\n",
      "30% links completed!\n",
      "40% links completed!\n",
      "50% links completed!\n",
      "60% links completed!\n",
      "70% links completed!\n",
      "80% links completed!\n",
      "90% links completed!\n",
      "link_tmc.csv (144 links) generated!\n"
     ]
    }
   ],
   "source": [
    "import network_matching_function as nmf \n",
    "nmf.TMCIdentification2GMNSNodeLinkFiles('TMC_Identification.csv','link.csv')"
   ]
  },
  {
   "cell_type": "code",
   "execution_count": 4,
   "metadata": {},
   "outputs": [
    {
     "output_type": "stream",
     "name": "stdout",
     "text": [
      "10% measurement_tmc completed!\n",
      "20% measurement_tmc completed!\n",
      "30% measurement_tmc completed!\n",
      "40% measurement_tmc completed!\n",
      "50% measurement_tmc completed!\n",
      "60% measurement_tmc completed!\n",
      "70% measurement_tmc completed!\n",
      "80% measurement_tmc completed!\n",
      "90% measurement_tmc completed!\n",
      "measurement_tmc.csv generated!\n"
     ]
    }
   ],
   "source": [
    "nmf.ConvertTMCReading2Measurement('Reading.csv','link_tmc.csv')\n"
   ]
  },
  {
   "cell_type": "code",
   "execution_count": 5,
   "metadata": {},
   "outputs": [
    {
     "output_type": "stream",
     "name": "stdout",
     "text": [
      "10% matching completed!\n",
      "20% matching completed!\n",
      "30% matching completed!\n",
      "40% matching completed!\n",
      "50% matching completed!\n",
      "60% matching completed!\n",
      "70% matching completed!\n",
      "80% matching completed!\n",
      "90% matching completed!\n",
      "matching_tmc2gmns.csv generated!\n"
     ]
    }
   ],
   "source": [
    "nmf.MatchTMC2GMNSNetwork('link_tmc.csv','link.csv')"
   ]
  },
  {
   "cell_type": "code",
   "execution_count": 6,
   "metadata": {},
   "outputs": [
    {
     "output_type": "stream",
     "name": "stdout",
     "text": [
      "10% measurement_base completed!\n",
      "20% measurement_base completed!\n",
      "30% measurement_base completed!\n",
      "40% measurement_base completed!\n",
      "50% measurement_base completed!\n",
      "60% measurement_base completed!\n",
      "70% measurement_base completed!\n",
      "80% measurement_base completed!\n",
      "90% measurement_base completed!\n",
      "100% measurement_base completed!\n",
      "measurement_base.csv generated!\n"
     ]
    }
   ],
   "source": [
    "nmf.ConvertMeasurementBasedOnMatching('link.csv','matching_tmc2gmns.csv','measurement_tmc.csv')"
   ]
  },
  {
   "cell_type": "code",
   "execution_count": 5,
   "metadata": {},
   "outputs": [
    {
     "output_type": "stream",
     "name": "stdout",
     "text": [
      "converting tmc data into gmns format...\n",
      "10% nodes completed!\n",
      "20% nodes completed!\n",
      "30% nodes completed!\n",
      "40% nodes completed!\n",
      "50% nodes completed!\n",
      "60% nodes completed!\n",
      "70% nodes completed!\n",
      "80% nodes completed!\n",
      "90% nodes completed!\n",
      "node_tmc.csv (149 nodes) generated!\n",
      "10% links completed!\n",
      "20% links completed!\n",
      "30% links completed!\n",
      "40% links completed!\n",
      "50% links completed!\n",
      "60% links completed!\n",
      "70% links completed!\n",
      "80% links completed!\n",
      "90% links completed!\n",
      "link_tmc.csv (144 links) generated!\n",
      "10% measurement_tmc completed!\n",
      "20% measurement_tmc completed!\n",
      "30% measurement_tmc completed!\n",
      "40% measurement_tmc completed!\n",
      "50% measurement_tmc completed!\n",
      "60% measurement_tmc completed!\n",
      "70% measurement_tmc completed!\n",
      "80% measurement_tmc completed!\n",
      "90% measurement_tmc completed!\n",
      "measurement_tmc.csv generated!\n",
      "10% initial matching completed!\n",
      "20% initial matching completed!\n",
      "30% initial matching completed!\n",
      "40% initial matching completed!\n",
      "50% initial matching completed!\n",
      "60% initial matching completed!\n",
      "70% initial matching completed!\n",
      "80% initial matching completed!\n",
      "90% initial matching completed!\n",
      "10% matching completed!\n",
      "20% matching completed!\n",
      "30% matching completed!\n",
      "40% matching completed!\n",
      "matching_tmc2gmns.csv generated!\n",
      "10% measurement_base completed!\n",
      "20% measurement_base completed!\n",
      "30% measurement_base completed!\n",
      "40% measurement_base completed!\n",
      "50% measurement_base completed!\n",
      "60% measurement_base completed!\n",
      "70% measurement_base completed!\n",
      "80% measurement_base completed!\n",
      "90% measurement_base completed!\n",
      "100% measurement_base completed!\n",
      "measurement_base.csv generated!\n"
     ]
    }
   ],
   "source": [
    "#intergrate all functions in one\n",
    "\n",
    "import network_matching_function as nmf \n",
    "nmf.OneFunction()"
   ]
  },
  {
   "cell_type": "code",
   "execution_count": null,
   "metadata": {},
   "outputs": [],
   "source": []
  }
 ]
}