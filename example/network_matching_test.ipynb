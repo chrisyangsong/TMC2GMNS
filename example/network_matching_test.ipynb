{
 "metadata": {
  "language_info": {
   "codemirror_mode": {
    "name": "ipython",
    "version": 3
   },
   "file_extension": ".py",
   "mimetype": "text/x-python",
   "name": "python",
   "nbconvert_exporter": "python",
   "pygments_lexer": "ipython3",
   "version": "3.8.5"
  },
  "orig_nbformat": 4,
  "kernelspec": {
   "name": "python3",
   "display_name": "Python 3.8.5 64-bit ('base': conda)"
  },
  "interpreter": {
   "hash": "f60418cf0f93cafce689393a2d664cdd36dee00bdf33293458885c5a1a5b95d3"
  }
 },
 "nbformat": 4,
 "nbformat_minor": 2,
 "cells": [
  {
   "cell_type": "code",
   "execution_count": 1,
   "metadata": {},
   "outputs": [
    {
     "output_type": "stream",
     "name": "stdout",
     "text": [
      "converting tmc data into gmns format...\n",
      "node_tmc.csv generated!\n",
      "link_tmc.csv generated!\n"
     ]
    }
   ],
   "source": [
    "import network_matching_function as nmf \n",
    "nmf.TMCIdentification2GMNSNodeLinkFiles('TMC_Identification.csv')"
   ]
  },
  {
   "cell_type": "code",
   "execution_count": 2,
   "metadata": {},
   "outputs": [
    {
     "output_type": "stream",
     "name": "stdout",
     "text": [
      "measurement_tmc.csv generated!\n"
     ]
    }
   ],
   "source": [
    "nmf.ConvertTMCReading2Measurement('Reading.csv','link_tmc.csv')\n"
   ]
  },
  {
   "cell_type": "code",
   "execution_count": 3,
   "metadata": {},
   "outputs": [
    {
     "output_type": "stream",
     "name": "stdout",
     "text": [
      "0% matching completed!\n",
      "17% matching completed!\n",
      "33% matching completed!\n",
      "50% matching completed!\n",
      "67% matching completed!\n",
      "83% matching completed!\n",
      "100% matching completed!\n",
      "matching_tmc2gmns.csv generated!\n"
     ]
    }
   ],
   "source": [
    "nmf.MatchTMC2GMNSNetwork('link_tmc.csv','link.csv')"
   ]
  },
  {
   "cell_type": "code",
   "execution_count": 4,
   "metadata": {},
   "outputs": [
    {
     "output_type": "stream",
     "name": "stdout",
     "text": [
      "measurement_osm.csv generated!\n"
     ]
    }
   ],
   "source": [
    "nmf.ConvertMeasurementBasedOnMatching('link.csv','matching_tmc2gmns.csv','measurement_tmc.csv')"
   ]
  },
  {
   "cell_type": "code",
   "execution_count": 1,
   "metadata": {},
   "outputs": [
    {
     "output_type": "execute_result",
     "data": {
      "text/plain": [
       "          link_id  osm_way_id  from_node_id  to_node_id  lanes      length  \\\n",
       "0               0     5560626             1           2    1.0  325.236624   \n",
       "1               0     5560626             1           2    1.0  325.236624   \n",
       "2               0     5560626             1           2    1.0  325.236624   \n",
       "3               0     5560626             1           2    1.0  325.236624   \n",
       "4               0     5560626             1           2    1.0  325.236624   \n",
       "...           ...         ...           ...         ...    ...         ...   \n",
       "33984745    30074   946578290         13804       13805    1.0    5.076220   \n",
       "33984746    30074   946578290         13804       13805    1.0    5.076220   \n",
       "33984747    30074   946578290         13804       13805    1.0    5.076220   \n",
       "33984748    30074   946578290         13804       13805    1.0    5.076220   \n",
       "33984749    30074   946578290         13804       13805    1.0    5.076220   \n",
       "\n",
       "         time_period        date  \\\n",
       "0          0600_0645  2019-01-01   \n",
       "1          0645_0730  2019-01-01   \n",
       "2          0730_0815  2019-01-01   \n",
       "3          0815_0900  2019-01-01   \n",
       "4          0900_0630  2019-01-01   \n",
       "...              ...         ...   \n",
       "33984745   0900_0630  2019-12-30   \n",
       "33984746   0630_0715  2019-12-31   \n",
       "33984747   0715_0800  2019-12-31   \n",
       "33984748   0800_0845  2019-12-31   \n",
       "33984749         NaN         NaN   \n",
       "\n",
       "                                                   geometry  volume  speed  \n",
       "0         LINESTRING (-112.0313816 33.6509981, -112.0348...     NaN   70.0  \n",
       "1         LINESTRING (-112.0313816 33.6509981, -112.0348...     NaN   65.0  \n",
       "2         LINESTRING (-112.0313816 33.6509981, -112.0348...     NaN   73.0  \n",
       "3         LINESTRING (-112.0313816 33.6509981, -112.0348...     NaN   71.0  \n",
       "4         LINESTRING (-112.0313816 33.6509981, -112.0348...     NaN   73.0  \n",
       "...                                                     ...     ...    ...  \n",
       "33984745  LINESTRING (-112.044921 33.6457105, -112.04497...     NaN   62.0  \n",
       "33984746  LINESTRING (-112.044921 33.6457105, -112.04497...     NaN   62.0  \n",
       "33984747  LINESTRING (-112.044921 33.6457105, -112.04497...     NaN   61.0  \n",
       "33984748  LINESTRING (-112.044921 33.6457105, -112.04497...     NaN   63.0  \n",
       "33984749  LINESTRING (-112.044921 33.6457105, -112.04497...     NaN    NaN  \n",
       "\n",
       "[33984750 rows x 11 columns]"
      ],
      "text/html": "<div>\n<style scoped>\n    .dataframe tbody tr th:only-of-type {\n        vertical-align: middle;\n    }\n\n    .dataframe tbody tr th {\n        vertical-align: top;\n    }\n\n    .dataframe thead th {\n        text-align: right;\n    }\n</style>\n<table border=\"1\" class=\"dataframe\">\n  <thead>\n    <tr style=\"text-align: right;\">\n      <th></th>\n      <th>link_id</th>\n      <th>osm_way_id</th>\n      <th>from_node_id</th>\n      <th>to_node_id</th>\n      <th>lanes</th>\n      <th>length</th>\n      <th>time_period</th>\n      <th>date</th>\n      <th>geometry</th>\n      <th>volume</th>\n      <th>speed</th>\n    </tr>\n  </thead>\n  <tbody>\n    <tr>\n      <th>0</th>\n      <td>0</td>\n      <td>5560626</td>\n      <td>1</td>\n      <td>2</td>\n      <td>1.0</td>\n      <td>325.236624</td>\n      <td>0600_0645</td>\n      <td>2019-01-01</td>\n      <td>LINESTRING (-112.0313816 33.6509981, -112.0348...</td>\n      <td>NaN</td>\n      <td>70.0</td>\n    </tr>\n    <tr>\n      <th>1</th>\n      <td>0</td>\n      <td>5560626</td>\n      <td>1</td>\n      <td>2</td>\n      <td>1.0</td>\n      <td>325.236624</td>\n      <td>0645_0730</td>\n      <td>2019-01-01</td>\n      <td>LINESTRING (-112.0313816 33.6509981, -112.0348...</td>\n      <td>NaN</td>\n      <td>65.0</td>\n    </tr>\n    <tr>\n      <th>2</th>\n      <td>0</td>\n      <td>5560626</td>\n      <td>1</td>\n      <td>2</td>\n      <td>1.0</td>\n      <td>325.236624</td>\n      <td>0730_0815</td>\n      <td>2019-01-01</td>\n      <td>LINESTRING (-112.0313816 33.6509981, -112.0348...</td>\n      <td>NaN</td>\n      <td>73.0</td>\n    </tr>\n    <tr>\n      <th>3</th>\n      <td>0</td>\n      <td>5560626</td>\n      <td>1</td>\n      <td>2</td>\n      <td>1.0</td>\n      <td>325.236624</td>\n      <td>0815_0900</td>\n      <td>2019-01-01</td>\n      <td>LINESTRING (-112.0313816 33.6509981, -112.0348...</td>\n      <td>NaN</td>\n      <td>71.0</td>\n    </tr>\n    <tr>\n      <th>4</th>\n      <td>0</td>\n      <td>5560626</td>\n      <td>1</td>\n      <td>2</td>\n      <td>1.0</td>\n      <td>325.236624</td>\n      <td>0900_0630</td>\n      <td>2019-01-01</td>\n      <td>LINESTRING (-112.0313816 33.6509981, -112.0348...</td>\n      <td>NaN</td>\n      <td>73.0</td>\n    </tr>\n    <tr>\n      <th>...</th>\n      <td>...</td>\n      <td>...</td>\n      <td>...</td>\n      <td>...</td>\n      <td>...</td>\n      <td>...</td>\n      <td>...</td>\n      <td>...</td>\n      <td>...</td>\n      <td>...</td>\n      <td>...</td>\n    </tr>\n    <tr>\n      <th>33984745</th>\n      <td>30074</td>\n      <td>946578290</td>\n      <td>13804</td>\n      <td>13805</td>\n      <td>1.0</td>\n      <td>5.076220</td>\n      <td>0900_0630</td>\n      <td>2019-12-30</td>\n      <td>LINESTRING (-112.044921 33.6457105, -112.04497...</td>\n      <td>NaN</td>\n      <td>62.0</td>\n    </tr>\n    <tr>\n      <th>33984746</th>\n      <td>30074</td>\n      <td>946578290</td>\n      <td>13804</td>\n      <td>13805</td>\n      <td>1.0</td>\n      <td>5.076220</td>\n      <td>0630_0715</td>\n      <td>2019-12-31</td>\n      <td>LINESTRING (-112.044921 33.6457105, -112.04497...</td>\n      <td>NaN</td>\n      <td>62.0</td>\n    </tr>\n    <tr>\n      <th>33984747</th>\n      <td>30074</td>\n      <td>946578290</td>\n      <td>13804</td>\n      <td>13805</td>\n      <td>1.0</td>\n      <td>5.076220</td>\n      <td>0715_0800</td>\n      <td>2019-12-31</td>\n      <td>LINESTRING (-112.044921 33.6457105, -112.04497...</td>\n      <td>NaN</td>\n      <td>61.0</td>\n    </tr>\n    <tr>\n      <th>33984748</th>\n      <td>30074</td>\n      <td>946578290</td>\n      <td>13804</td>\n      <td>13805</td>\n      <td>1.0</td>\n      <td>5.076220</td>\n      <td>0800_0845</td>\n      <td>2019-12-31</td>\n      <td>LINESTRING (-112.044921 33.6457105, -112.04497...</td>\n      <td>NaN</td>\n      <td>63.0</td>\n    </tr>\n    <tr>\n      <th>33984749</th>\n      <td>30074</td>\n      <td>946578290</td>\n      <td>13804</td>\n      <td>13805</td>\n      <td>1.0</td>\n      <td>5.076220</td>\n      <td>NaN</td>\n      <td>NaN</td>\n      <td>LINESTRING (-112.044921 33.6457105, -112.04497...</td>\n      <td>NaN</td>\n      <td>NaN</td>\n    </tr>\n  </tbody>\n</table>\n<p>33984750 rows × 11 columns</p>\n</div>"
     },
     "metadata": {},
     "execution_count": 1
    }
   ],
   "source": [
    "import pandas as pd \n",
    "pd.read_csv('measurement_osm.csv')"
   ]
  },
  {
   "cell_type": "code",
   "execution_count": null,
   "metadata": {},
   "outputs": [],
   "source": [
    "  "
   ]
  }
 ]
}