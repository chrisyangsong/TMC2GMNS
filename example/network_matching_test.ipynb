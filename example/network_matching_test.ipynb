{
 "metadata": {
  "language_info": {
   "codemirror_mode": {
    "name": "ipython",
    "version": 3
   },
   "file_extension": ".py",
   "mimetype": "text/x-python",
   "name": "python",
   "nbconvert_exporter": "python",
   "pygments_lexer": "ipython3",
   "version": "3.8.5"
  },
  "orig_nbformat": 4,
  "kernelspec": {
   "name": "python3",
   "display_name": "Python 3.8.5 64-bit ('base': conda)"
  },
  "interpreter": {
   "hash": "f60418cf0f93cafce689393a2d664cdd36dee00bdf33293458885c5a1a5b95d3"
  }
 },
 "nbformat": 4,
 "nbformat_minor": 2,
 "cells": [
  {
   "cell_type": "code",
   "execution_count": 1,
   "metadata": {},
   "outputs": [
    {
     "output_type": "stream",
     "name": "stdout",
     "text": [
      "osm2gmns, version 0.4.2\n"
     ]
    }
   ],
   "source": [
    "\"Get the OSM Network\"\n",
    "network_type = 'auto'\n",
    "import osm2gmns as og\n",
    "net = og.getNetFromOSMFile('tmc.osm',network_type=(network_type), default_lanes=True, default_speed=True)\n",
    "\n",
    "og.consolidateComplexIntersections(net)\n",
    "og.outputNetToCSV(net, output_folder=os.getcwd())"
   ]
  },
  {
   "cell_type": "code",
   "execution_count": 2,
   "metadata": {},
   "outputs": [
    {
     "output_type": "stream",
     "name": "stdout",
     "text": [
      "converting tmc data into gmns format...\n",
      "node_tmc.csv generated!\n",
      "link_tmc.csv generated!\n"
     ]
    }
   ],
   "source": [
    "import network_matching_function as nmf \n",
    "nmf.TMCIdentification2GMNSNodeLinkFiles('TMC_Identification.csv')"
   ]
  },
  {
   "cell_type": "code",
   "execution_count": 3,
   "metadata": {},
   "outputs": [
    {
     "output_type": "stream",
     "name": "stdout",
     "text": [
      "measurement_tmc.csv generated!\n"
     ]
    }
   ],
   "source": [
    "nmf.ConvertTMCReading2Measurement('Reading.csv','link_tmc.csv')\n"
   ]
  },
  {
   "cell_type": "code",
   "execution_count": 4,
   "metadata": {},
   "outputs": [
    {
     "output_type": "stream",
     "name": "stdout",
     "text": [
      "0% matching completed!\n",
      "16% matching completed!\n",
      "33% matching completed!\n",
      "49% matching completed!\n",
      "65% matching completed!\n",
      "81% matching completed!\n",
      "98% matching completed!\n",
      "matching_tmc2gmns.csv generated!\n"
     ]
    }
   ],
   "source": [
    "nmf.MatchTMC2GMNSNetwork('link_tmc.csv','link.csv')"
   ]
  },
  {
   "cell_type": "code",
   "execution_count": 5,
   "metadata": {},
   "outputs": [
    {
     "output_type": "stream",
     "name": "stdout",
     "text": [
      "measurement_osm.csv generated!\n"
     ]
    }
   ],
   "source": [
    "nmf.ConvertMeasurementsBasedOnMatching('link.csv','matching_tmc2gmns.csv','measurement_tmc.csv')"
   ]
  },
  {
   "cell_type": "code",
   "execution_count": null,
   "metadata": {},
   "outputs": [],
   "source": []
  }
 ]
}