{
 "metadata": {
  "language_info": {
   "codemirror_mode": {
    "name": "ipython",
    "version": 3
   },
   "file_extension": ".py",
   "mimetype": "text/x-python",
   "name": "python",
   "nbconvert_exporter": "python",
   "pygments_lexer": "ipython3",
   "version": "3.8.5"
  },
  "orig_nbformat": 4,
  "kernelspec": {
   "name": "python3",
   "display_name": "Python 3.8.5 64-bit ('base': conda)"
  },
  "interpreter": {
   "hash": "f60418cf0f93cafce689393a2d664cdd36dee00bdf33293458885c5a1a5b95d3"
  }
 },
 "nbformat": 4,
 "nbformat_minor": 2,
 "cells": [
  {
   "cell_type": "code",
   "execution_count": 4,
   "metadata": {},
   "outputs": [
    {
     "output_type": "stream",
     "name": "stdout",
     "text": [
      "osm2gmns, version 0.4.2\n"
     ]
    }
   ],
   "source": [
    "\"Get the OSM Network\"\n",
    "network_type = 'auto'\n",
    "import osm2gmns as og\n",
    "\n",
    "net = og.getNetFromOSMFile('map.osm',network_type=(network_type), default_lanes=True, default_speed=True)\n",
    "\n",
    "og.consolidateComplexIntersections(net)\n",
    "og.outputNetToCSV(net, output_folder=os.getcwd())"
   ]
  },
  {
   "cell_type": "code",
   "execution_count": 2,
   "metadata": {},
   "outputs": [
    {
     "output_type": "stream",
     "name": "stdout",
     "text": [
      "converting tmc data into gmns format...\n",
      "10% nodes completed!\n",
      "20% nodes completed!\n",
      "30% nodes completed!\n",
      "40% nodes completed!\n",
      "50% nodes completed!\n",
      "60% nodes completed!\n",
      "70% nodes completed!\n",
      "80% nodes completed!\n",
      "90% nodes completed!\n",
      "node_tmc.csv (326 nodes) generated!\n",
      "10% links completed!\n",
      "20% links completed!\n",
      "30% links completed!\n",
      "40% links completed!\n",
      "50% links completed!\n",
      "60% links completed!\n",
      "70% links completed!\n",
      "80% links completed!\n",
      "90% links completed!\n",
      "link_tmc.csv (216 links) generated!\n"
     ]
    }
   ],
   "source": [
    "import network_matching_function as nmf \n",
    "nmf.TMCIdentification2GMNSNodeLinkFiles('TMC_Identification.csv')"
   ]
  },
  {
   "cell_type": "code",
   "execution_count": 3,
   "metadata": {},
   "outputs": [
    {
     "output_type": "stream",
     "name": "stdout",
     "text": [
      "10% measurement_tmc completed!\n",
      "20% measurement_tmc completed!\n",
      "30% measurement_tmc completed!\n",
      "40% measurement_tmc completed!\n",
      "50% measurement_tmc completed!\n",
      "60% measurement_tmc completed!\n",
      "70% measurement_tmc completed!\n",
      "80% measurement_tmc completed!\n",
      "90% measurement_tmc completed!\n",
      "measurement_tmc.csv generated!\n"
     ]
    }
   ],
   "source": [
    "nmf.ConvertTMCReading2Measurement('Reading.csv','link_tmc.csv')\n"
   ]
  },
  {
   "cell_type": "code",
   "execution_count": 4,
   "metadata": {},
   "outputs": [
    {
     "output_type": "stream",
     "name": "stdout",
     "text": [
      "10% matching completed!\n",
      "20% matching completed!\n",
      "30% matching completed!\n",
      "40% matching completed!\n",
      "50% matching completed!\n",
      "60% matching completed!\n",
      "70% matching completed!\n",
      "80% matching completed!\n",
      "90% matching completed!\n",
      "matching_tmc2gmns.csv generated!\n"
     ]
    }
   ],
   "source": [
    "nmf.MatchTMC2GMNSNetwork('link_tmc.csv','link.csv')"
   ]
  },
  {
   "cell_type": "code",
   "execution_count": null,
   "metadata": {},
   "outputs": [],
   "source": [
    "ConvertMeasurementBasedOnMatching('link.csv','matching_tmc2gmns.csv','measurement_tmc.csv')"
   ]
  },
  {
   "cell_type": "code",
   "execution_count": 1,
   "metadata": {},
   "outputs": [
    {
     "output_type": "stream",
     "name": "stdout",
     "text": [
      "converting tmc data into gmns format...\n",
      "10% nodes completed!\n",
      "20% nodes completed!\n",
      "30% nodes completed!\n",
      "40% nodes completed!\n",
      "50% nodes completed!\n",
      "60% nodes completed!\n",
      "70% nodes completed!\n",
      "80% nodes completed!\n",
      "90% nodes completed!\n",
      "node_tmc.csv (149 nodes) generated!\n",
      "10% links completed!\n",
      "20% links completed!\n",
      "30% links completed!\n",
      "40% links completed!\n",
      "50% links completed!\n",
      "60% links completed!\n",
      "70% links completed!\n",
      "80% links completed!\n",
      "90% links completed!\n",
      "link_tmc.csv (144 links) generated!\n",
      "10% measurement_tmc completed!\n",
      "20% measurement_tmc completed!\n",
      "30% measurement_tmc completed!\n",
      "40% measurement_tmc completed!\n",
      "50% measurement_tmc completed!\n",
      "60% measurement_tmc completed!\n",
      "70% measurement_tmc completed!\n",
      "80% measurement_tmc completed!\n",
      "90% measurement_tmc completed!\n",
      "measurement_tmc.csv generated!\n",
      "base map cannot cover all TMC links, please use larger base map\n"
     ]
    },
    {
     "output_type": "error",
     "ename": "IndexError",
     "evalue": "index 0 is out of bounds for axis 0 with size 0",
     "traceback": [
      "\u001b[0;31m---------------------------------------------------------------------------\u001b[0m",
      "\u001b[0;31mIndexError\u001b[0m                                Traceback (most recent call last)",
      "\u001b[0;32m~/Desktop/GMNS/tmc2gmns/TMC2GMNS/example/network_matching_function.py\u001b[0m in \u001b[0;36mConvertMeasurementBasedOnMatching\u001b[0;34m(link_base, matching_tmc2gmns, measurement_tmc)\u001b[0m\n\u001b[1;32m    425\u001b[0m             \u001b[0;32mfor\u001b[0m \u001b[0mj\u001b[0m \u001b[0;32min\u001b[0m \u001b[0mmeasurement_tmc_selected\u001b[0m\u001b[0;34m.\u001b[0m\u001b[0mindex\u001b[0m\u001b[0;34m:\u001b[0m\u001b[0;34m\u001b[0m\u001b[0;34m\u001b[0m\u001b[0m\n\u001b[0;32m--> 426\u001b[0;31m                 measurement_base_dict[k] = {'link_id': link_base_selected['link_id'].values[0],\\\n\u001b[0m\u001b[1;32m    427\u001b[0m                                                 \u001b[0;34m'osm_way_id'\u001b[0m\u001b[0;34m:\u001b[0m\u001b[0mlink_base_selected\u001b[0m\u001b[0;34m[\u001b[0m\u001b[0;34m'osm_way_id'\u001b[0m\u001b[0;34m]\u001b[0m\u001b[0;34m.\u001b[0m\u001b[0mvalues\u001b[0m\u001b[0;34m[\u001b[0m\u001b[0;36m0\u001b[0m\u001b[0;34m]\u001b[0m\u001b[0;34m,\u001b[0m\u001b[0;31m\\\u001b[0m\u001b[0;34m\u001b[0m\u001b[0;34m\u001b[0m\u001b[0m\n",
      "\u001b[0;31mIndexError\u001b[0m: index 0 is out of bounds for axis 0 with size 0",
      "\nDuring handling of the above exception, another exception occurred:\n",
      "\u001b[0;31mIndexError\u001b[0m                                Traceback (most recent call last)",
      "\u001b[0;32m<ipython-input-1-522b5649261c>\u001b[0m in \u001b[0;36m<module>\u001b[0;34m\u001b[0m\n\u001b[1;32m      2\u001b[0m \u001b[0;34m\u001b[0m\u001b[0m\n\u001b[1;32m      3\u001b[0m \u001b[0;32mimport\u001b[0m \u001b[0mnetwork_matching_function\u001b[0m \u001b[0;32mas\u001b[0m \u001b[0mnmf\u001b[0m\u001b[0;34m\u001b[0m\u001b[0;34m\u001b[0m\u001b[0m\n\u001b[0;32m----> 4\u001b[0;31m \u001b[0mnmf\u001b[0m\u001b[0;34m.\u001b[0m\u001b[0mOneFunction\u001b[0m\u001b[0;34m(\u001b[0m\u001b[0;34m)\u001b[0m\u001b[0;34m\u001b[0m\u001b[0;34m\u001b[0m\u001b[0m\n\u001b[0m",
      "\u001b[0;32m~/Desktop/GMNS/tmc2gmns/TMC2GMNS/example/network_matching_function.py\u001b[0m in \u001b[0;36mOneFunction\u001b[0;34m()\u001b[0m\n\u001b[1;32m    469\u001b[0m     \u001b[0mConvertTMCReading2Measurement\u001b[0m\u001b[0;34m(\u001b[0m\u001b[0;34m'Reading.csv'\u001b[0m\u001b[0;34m,\u001b[0m\u001b[0;34m'link_tmc.csv'\u001b[0m\u001b[0;34m)\u001b[0m\u001b[0;34m\u001b[0m\u001b[0;34m\u001b[0m\u001b[0m\n\u001b[1;32m    470\u001b[0m     \u001b[0mMatchTMC2GMNSNetwork\u001b[0m\u001b[0;34m(\u001b[0m\u001b[0;34m'link_tmc.csv'\u001b[0m\u001b[0;34m,\u001b[0m\u001b[0;34m'link.csv'\u001b[0m\u001b[0;34m)\u001b[0m\u001b[0;34m\u001b[0m\u001b[0;34m\u001b[0m\u001b[0m\n\u001b[0;32m--> 471\u001b[0;31m     \u001b[0mConvertMeasurementBasedOnMatching\u001b[0m\u001b[0;34m(\u001b[0m\u001b[0;34m'link.csv'\u001b[0m\u001b[0;34m,\u001b[0m\u001b[0;34m'matching_tmc2gmns.csv'\u001b[0m\u001b[0;34m,\u001b[0m\u001b[0;34m'measurement_tmc.csv'\u001b[0m\u001b[0;34m)\u001b[0m\u001b[0;34m\u001b[0m\u001b[0;34m\u001b[0m\u001b[0m\n\u001b[0m",
      "\u001b[0;32m~/Desktop/GMNS/tmc2gmns/TMC2GMNS/example/network_matching_function.py\u001b[0m in \u001b[0;36mConvertMeasurementBasedOnMatching\u001b[0;34m(link_base, matching_tmc2gmns, measurement_tmc)\u001b[0m\n\u001b[1;32m    440\u001b[0m                 \u001b[0mk\u001b[0m \u001b[0;34m+=\u001b[0m \u001b[0;36m1\u001b[0m\u001b[0;34m\u001b[0m\u001b[0;34m\u001b[0m\u001b[0m\n\u001b[1;32m    441\u001b[0m         \u001b[0;32mexcept\u001b[0m\u001b[0;34m:\u001b[0m\u001b[0;34m\u001b[0m\u001b[0;34m\u001b[0m\u001b[0m\n\u001b[0;32m--> 442\u001b[0;31m             measurement_base_dict[k] = {'link_id': link_base_selected['link_id'].values[0],\\\n\u001b[0m\u001b[1;32m    443\u001b[0m                                                 \u001b[0;34m'osm_way_id'\u001b[0m\u001b[0;34m:\u001b[0m\u001b[0mlink_base_selected\u001b[0m\u001b[0;34m[\u001b[0m\u001b[0;34m'osm_way_id'\u001b[0m\u001b[0;34m]\u001b[0m\u001b[0;34m.\u001b[0m\u001b[0mvalues\u001b[0m\u001b[0;34m[\u001b[0m\u001b[0;36m0\u001b[0m\u001b[0;34m]\u001b[0m\u001b[0;34m,\u001b[0m\u001b[0;31m\\\u001b[0m\u001b[0;34m\u001b[0m\u001b[0;34m\u001b[0m\u001b[0m\n\u001b[1;32m    444\u001b[0m                                                 \u001b[0;34m'from_node_id'\u001b[0m\u001b[0;34m:\u001b[0m \u001b[0mlink_base_selected\u001b[0m\u001b[0;34m[\u001b[0m\u001b[0;34m'from_node_id'\u001b[0m\u001b[0;34m]\u001b[0m\u001b[0;34m.\u001b[0m\u001b[0mvalues\u001b[0m\u001b[0;34m[\u001b[0m\u001b[0;36m0\u001b[0m\u001b[0;34m]\u001b[0m\u001b[0;34m,\u001b[0m\u001b[0;31m\\\u001b[0m\u001b[0;34m\u001b[0m\u001b[0;34m\u001b[0m\u001b[0m\n",
      "\u001b[0;31mIndexError\u001b[0m: index 0 is out of bounds for axis 0 with size 0"
     ]
    }
   ],
   "source": [
    "#intergrate all functions in one\n",
    "\n",
    "import network_matching_function as nmf \n",
    "nmf.OneFunction()"
   ]
  },
  {
   "cell_type": "code",
   "execution_count": null,
   "metadata": {},
   "outputs": [],
   "source": []
  }
 ]
}