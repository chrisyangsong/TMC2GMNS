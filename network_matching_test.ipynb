{
 "metadata": {
  "language_info": {
   "codemirror_mode": {
    "name": "ipython",
    "version": 3
   },
   "file_extension": ".py",
   "mimetype": "text/x-python",
   "name": "python",
   "nbconvert_exporter": "python",
   "pygments_lexer": "ipython3",
   "version": "3.8.5"
  },
  "orig_nbformat": 4,
  "kernelspec": {
   "name": "python3",
   "display_name": "Python 3.8.5 64-bit ('base': conda)"
  },
  "interpreter": {
   "hash": "f60418cf0f93cafce689393a2d664cdd36dee00bdf33293458885c5a1a5b95d3"
  }
 },
 "nbformat": 4,
 "nbformat_minor": 2,
 "cells": [
  {
   "cell_type": "code",
   "execution_count": 2,
   "metadata": {},
   "outputs": [
    {
     "output_type": "stream",
     "name": "stdout",
     "text": [
      "osm2gmns, version 0.4.2\n",
      "converting tmc data into gmns format...\n",
      "node_tmc.csv generated!\n",
      "link_tmc.csv generated!\n",
      "0% matching completed!\n",
      "16% matching completed!\n",
      "33% matching completed!\n",
      "49% matching completed!\n",
      "65% matching completed!\n",
      "81% matching completed!\n",
      "98% matching completed!\n",
      "osm2tmc_network_matching.csv generated!\n"
     ]
    }
   ],
   "source": [
    "import network_matching_function as nmf \n",
    "\n",
    "nmf.osm2tmc_matching('tmc_VA.osm','TMC_Identification_VA.csv')"
   ]
  },
  {
   "cell_type": "code",
   "execution_count": 3,
   "metadata": {},
   "outputs": [
    {
     "output_type": "stream",
     "name": "stdout",
     "text": [
      "converting utd data into gmns format...\n",
      "node_utd.csv generated!\n",
      "link_utd.csv generated!\n",
      "0% matching completed!\n",
      "92% matching completed!\n",
      "osm2utd_network_matching.csv generated!\n"
     ]
    }
   ],
   "source": [
    "import network_matching_function as nmf \n",
    "nmf.osm2utd_matching('utd.osm','links.csv','detectors.csv')"
   ]
  },
  {
   "cell_type": "code",
   "execution_count": null,
   "metadata": {},
   "outputs": [],
   "source": []
  }
 ]
}