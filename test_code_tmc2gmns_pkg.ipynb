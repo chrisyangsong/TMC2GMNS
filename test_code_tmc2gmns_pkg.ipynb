{
 "metadata": {
  "language_info": {
   "codemirror_mode": {
    "name": "ipython",
    "version": 3
   },
   "file_extension": ".py",
   "mimetype": "text/x-python",
   "name": "python",
   "nbconvert_exporter": "python",
   "pygments_lexer": "ipython3",
   "version": "3.8.5"
  },
  "orig_nbformat": 2,
  "kernelspec": {
   "name": "python385jvsc74a57bd0f60418cf0f93cafce689393a2d664cdd36dee00bdf33293458885c5a1a5b95d3",
   "display_name": "Python 3.8.5 64-bit ('base': conda)"
  },
  "metadata": {
   "interpreter": {
    "hash": "7a55bb5de3db14f1a482584688e49d00f1cf379c19d99debe366676cbb76c8ce"
   }
  }
 },
 "nbformat": 4,
 "nbformat_minor": 2,
 "cells": [
  {
   "cell_type": "code",
   "execution_count": 1,
   "metadata": {},
   "outputs": [
    {
     "output_type": "stream",
     "name": "stdout",
     "text": [
      "MapMatching4GMNS, version 0.2.11\n",
      "reading tmc data...\n",
      "converting tmc data into gmns format...\n",
      "node_tmc.csv generated!\n",
      "link_tmc.csv generated!\n",
      "link_performance_tmc.csv generated!\n",
      "trace.csv generated!\n",
      "osm2gmns, version 0.4.2\n",
      "call MapMatching4GMNS  dynamic library\n",
      "\\MapMatching4GMNS run starts\n",
      "\\MapMatching4GMNS run completes\n",
      "Map matching is completed!\n",
      "link_performance_osm.csv is generated!\n"
     ]
    }
   ],
   "source": [
    "tmc_path = '/usr/local/home/ysx28/Desktop/GMNS/tmc2gmns/TMC2GMNS/src/tmc'\n",
    "osm_path = '/usr/local/home/ysx28/Desktop/GMNS/tmc2gmns/TMC2GMNS/src/osm'\n",
    "\n",
    "import tmc2gmns as tg\n",
    "tg.Convert_TMC(tmc_path) \n",
    "tg.mapmatch(tmc_path,osm_path)\n",
    "tg.osm_link_performance(tmc_path,osm_path)"
   ]
  },
  {
   "cell_type": "code",
   "execution_count": null,
   "metadata": {},
   "outputs": [],
   "source": []
  }
 ]
}