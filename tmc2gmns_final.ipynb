{
 "metadata": {
  "language_info": {
   "codemirror_mode": {
    "name": "ipython",
    "version": 3
   },
   "file_extension": ".py",
   "mimetype": "text/x-python",
   "name": "python",
   "nbconvert_exporter": "python",
   "pygments_lexer": "ipython3",
   "version": "3.8.5"
  },
  "orig_nbformat": 2,
  "kernelspec": {
   "name": "python385jvsc74a57bd0f60418cf0f93cafce689393a2d664cdd36dee00bdf33293458885c5a1a5b95d3",
   "display_name": "Python 3.8.5 64-bit ('base': conda)"
  }
 },
 "nbformat": 4,
 "nbformat_minor": 2,
 "cells": [
  {
   "cell_type": "code",
   "execution_count": 1,
   "metadata": {},
   "outputs": [],
   "source": [
    "import os\n",
    "import math\n",
    "import datetime\n",
    "import numpy as np\n",
    "import pandas as pd\n",
    "\n",
    "import time\n",
    "import os.path\n",
    "import MapMatching4GMNS"
   ]
  },
  {
   "cell_type": "code",
   "execution_count": 2,
   "metadata": {},
   "outputs": [],
   "source": [
    "def create_folder(path):\n",
    "    if not os.path.exists(path):\n",
    "        os.makedirs(path)"
   ]
  },
  {
   "source": [
    "## step 1 Convert TMC Data into GMNS Format"
   ],
   "cell_type": "markdown",
   "metadata": {}
  },
  {
   "cell_type": "code",
   "execution_count": 3,
   "metadata": {},
   "outputs": [],
   "source": [
    "\"Convert TMC Data into GMNS Format\"\n",
    "\n",
    "tmc_path = '/usr/local/home/ysx28/Desktop/GMNS/tmc2gmns/TMC2GMNS/TMC'\n",
    "# gmns_path = '/usr/local/home/ysx28/Desktop/GMNS/tmc2gmns/TMC2GMNS/GMNS'\n",
    "\n",
    "# import tmc2gmns as gg\n",
    "# node_transit,link_transit = gg.Convert_TMC(tmc_path,gmns_path)\n"
   ]
  },
  {
   "cell_type": "code",
   "execution_count": 4,
   "metadata": {},
   "outputs": [
    {
     "output_type": "stream",
     "name": "stdout",
     "text": [
      "reading tmc data...\nconverting tmc data into gmns format...\n"
     ]
    }
   ],
   "source": [
    "'''build node_tmc.csv'''\n",
    "\n",
    "# create_folder(gmns_path)\n",
    "print('reading tmc data...')\n",
    "\n",
    "tmc = pd.read_csv(tmc_path + os.sep + 'TMC_Identification_VA.csv')\n",
    "# tmc = tmc.sort_values(by=['road_order'])\n",
    "\n",
    "'''build node.csv'''\n",
    "print('converting tmc data into gmns format...')\n",
    "\n",
    "\n",
    "node_tmc = pd.DataFrame()\n",
    "node_tmc['name'] = None\n",
    "node_tmc['x_coord'] = None\n",
    "node_tmc['y_coord'] = None\n",
    "node_tmc['z_coord'] = None\n",
    "node_tmc['node_type'] = None\n",
    "node_tmc['ctrl_type'] = None\n",
    "node_tmc['zone_id'] = None\n",
    "node_tmc['parent_node_id'] = None\n",
    "node_tmc['geometry'] = None\n",
    "\n",
    "for i in range(0,len(tmc)-1):\n",
    "    if tmc.loc[i+1,'road_order'] > tmc.loc[i,'road_order']:\n",
    "        node_tmc = node_tmc.append({'name': tmc.loc[i,'tmc'],\\\n",
    "                                    'x_coord': tmc.loc[i,'start_longitude'], \\\n",
    "                                    'y_coord': tmc.loc[i,'start_latitude'],\\\n",
    "                                    'z_coord': None,\\\n",
    "                                    'node_type': 'tmc_start',\\\n",
    "                                    'ctrl_type': None,\\\n",
    "                                    'zone_id': None,\\\n",
    "                                    'parent_node_id': None,\\\n",
    "                                    'geometry': \"POINT (\" + tmc.loc[i,'start_longitude'].astype(str) + \" \" + tmc.loc[i,'start_latitude'].astype(str) +\")\"}, ignore_index=True)\n",
    "    else:\n",
    "        node_tmc = node_tmc.append({'name': tmc.loc[i,'tmc'],\\\n",
    "                                    'x_coord': tmc.loc[i,'start_longitude'], \\\n",
    "                                    'y_coord': tmc.loc[i,'start_latitude'],\\\n",
    "                                    'z_coord': None,\\\n",
    "                                    'node_type': 'tmc_start',\\\n",
    "                                    'ctrl_type': None,\\\n",
    "                                    'zone_id': None,\\\n",
    "                                    'parent_node_id': None,\\\n",
    "                                    'geometry': \"POINT (\" + tmc.loc[i,'start_longitude'].astype(str) + \" \" + tmc.loc[i,'start_latitude'].astype(str) +\")\"}, ignore_index=True)\n",
    "        node_tmc = node_tmc.append({'name': tmc.loc[i,'tmc']+'END',\\\n",
    "                                    'x_coord': tmc.loc[i,'end_longitude'], \\\n",
    "                                    'y_coord': tmc.loc[i,'end_latitude'],\\\n",
    "                                    'z_coord': None,\\\n",
    "                                    'node_type': 'tmc_end',\\\n",
    "                                    'ctrl_type': None,\\\n",
    "                                    'zone_id': None,\\\n",
    "                                    'parent_node_id': None,\\\n",
    "                                    'geometry': \"POINT (\" + tmc.loc[i,'end_longitude'].astype(str) + \" \" + tmc.loc[i,'end_latitude'].astype(str) +\")\"}, ignore_index=True)\n",
    "\n",
    "\n",
    "node_tmc = node_tmc.append({'name': tmc.loc[i+1,'tmc'],\\\n",
    "                                    'x_coord': tmc.loc[i+1,'start_longitude'], \\\n",
    "                                    'y_coord': tmc.loc[i+1,'start_latitude'],\\\n",
    "                                    'z_coord': None,\\\n",
    "                                    'node_type': 'tmc_start',\\\n",
    "                                    'ctrl_type': None,\\\n",
    "                                    'zone_id': None,\\\n",
    "                                    'parent_node_id': None,\\\n",
    "                                    'geometry': \"POINT (\" + tmc.loc[i+1,'start_longitude'].astype(str) + \" \" + tmc.loc[i+1,'start_latitude'].astype(str) +\")\"}, ignore_index=True)\n",
    "\n",
    "node_tmc = node_tmc.append({'name': tmc.loc[i+1,'tmc']+'END',\\\n",
    "                                    'x_coord': tmc.loc[i+1,'end_longitude'], \\\n",
    "                                    'y_coord': tmc.loc[i+1,'end_latitude'],\\\n",
    "                                    'z_coord': None,\\\n",
    "                                    'node_type': 'tmc_end',\\\n",
    "                                    'ctrl_type': None,\\\n",
    "                                    'zone_id': None,\\\n",
    "                                    'parent_node_id': None,\\\n",
    "                                    'geometry': \"POINT (\" + tmc.loc[i+1,'end_longitude'].astype(str) + \" \" + tmc.loc[i+1,'end_latitude'].astype(str) +\")\"}, ignore_index=True)\n",
    "\n",
    "node_tmc.index.name = 'node_id'\n",
    "\n",
    "node_tmc.index += 100000001 #index from 0\n",
    "\n",
    "node_tmc.to_csv(tmc_path + os.sep + '/node_tmc.csv')"
   ]
  },
  {
   "cell_type": "code",
   "execution_count": 5,
   "metadata": {},
   "outputs": [
    {
     "output_type": "execute_result",
     "data": {
      "text/plain": [
       "                   name  x_coord  y_coord z_coord  node_type ctrl_type  \\\n",
       "node_id                                                                  \n",
       "100000001     110N05711 -77.3715  39.0144    None  tmc_start      None   \n",
       "100000002     110-05710 -77.3709  39.0141    None  tmc_start      None   \n",
       "100000003     110N05710 -77.3684  39.0127    None  tmc_start      None   \n",
       "100000004     110-05709 -77.3605  39.0086    None  tmc_start      None   \n",
       "100000005     110-05708 -77.3502  39.0028    None  tmc_start      None   \n",
       "...                 ...      ...      ...     ...        ...       ...   \n",
       "100000060     110+05710 -77.3500  39.0030    None  tmc_start      None   \n",
       "100000061     110P05710 -77.3609  39.0090    None  tmc_start      None   \n",
       "100000062     110+05711 -77.3673  39.0125    None  tmc_start      None   \n",
       "100000063     110P05711 -77.3707  39.0143    None  tmc_start      None   \n",
       "100000064  110P05711END -77.3709  39.0143    None    tmc_end      None   \n",
       "\n",
       "          zone_id parent_node_id                  geometry  \n",
       "node_id                                                     \n",
       "100000001    None           None  POINT (-77.3715 39.0144)  \n",
       "100000002    None           None  POINT (-77.3709 39.0141)  \n",
       "100000003    None           None  POINT (-77.3684 39.0127)  \n",
       "100000004    None           None  POINT (-77.3605 39.0086)  \n",
       "100000005    None           None  POINT (-77.3502 39.0028)  \n",
       "...           ...            ...                       ...  \n",
       "100000060    None           None     POINT (-77.35 39.003)  \n",
       "100000061    None           None   POINT (-77.3609 39.009)  \n",
       "100000062    None           None  POINT (-77.3673 39.0125)  \n",
       "100000063    None           None  POINT (-77.3707 39.0143)  \n",
       "100000064    None           None  POINT (-77.3709 39.0143)  \n",
       "\n",
       "[64 rows x 9 columns]"
      ],
      "text/html": "<div>\n<style scoped>\n    .dataframe tbody tr th:only-of-type {\n        vertical-align: middle;\n    }\n\n    .dataframe tbody tr th {\n        vertical-align: top;\n    }\n\n    .dataframe thead th {\n        text-align: right;\n    }\n</style>\n<table border=\"1\" class=\"dataframe\">\n  <thead>\n    <tr style=\"text-align: right;\">\n      <th></th>\n      <th>name</th>\n      <th>x_coord</th>\n      <th>y_coord</th>\n      <th>z_coord</th>\n      <th>node_type</th>\n      <th>ctrl_type</th>\n      <th>zone_id</th>\n      <th>parent_node_id</th>\n      <th>geometry</th>\n    </tr>\n    <tr>\n      <th>node_id</th>\n      <th></th>\n      <th></th>\n      <th></th>\n      <th></th>\n      <th></th>\n      <th></th>\n      <th></th>\n      <th></th>\n      <th></th>\n    </tr>\n  </thead>\n  <tbody>\n    <tr>\n      <th>100000001</th>\n      <td>110N05711</td>\n      <td>-77.3715</td>\n      <td>39.0144</td>\n      <td>None</td>\n      <td>tmc_start</td>\n      <td>None</td>\n      <td>None</td>\n      <td>None</td>\n      <td>POINT (-77.3715 39.0144)</td>\n    </tr>\n    <tr>\n      <th>100000002</th>\n      <td>110-05710</td>\n      <td>-77.3709</td>\n      <td>39.0141</td>\n      <td>None</td>\n      <td>tmc_start</td>\n      <td>None</td>\n      <td>None</td>\n      <td>None</td>\n      <td>POINT (-77.3709 39.0141)</td>\n    </tr>\n    <tr>\n      <th>100000003</th>\n      <td>110N05710</td>\n      <td>-77.3684</td>\n      <td>39.0127</td>\n      <td>None</td>\n      <td>tmc_start</td>\n      <td>None</td>\n      <td>None</td>\n      <td>None</td>\n      <td>POINT (-77.3684 39.0127)</td>\n    </tr>\n    <tr>\n      <th>100000004</th>\n      <td>110-05709</td>\n      <td>-77.3605</td>\n      <td>39.0086</td>\n      <td>None</td>\n      <td>tmc_start</td>\n      <td>None</td>\n      <td>None</td>\n      <td>None</td>\n      <td>POINT (-77.3605 39.0086)</td>\n    </tr>\n    <tr>\n      <th>100000005</th>\n      <td>110-05708</td>\n      <td>-77.3502</td>\n      <td>39.0028</td>\n      <td>None</td>\n      <td>tmc_start</td>\n      <td>None</td>\n      <td>None</td>\n      <td>None</td>\n      <td>POINT (-77.3502 39.0028)</td>\n    </tr>\n    <tr>\n      <th>...</th>\n      <td>...</td>\n      <td>...</td>\n      <td>...</td>\n      <td>...</td>\n      <td>...</td>\n      <td>...</td>\n      <td>...</td>\n      <td>...</td>\n      <td>...</td>\n    </tr>\n    <tr>\n      <th>100000060</th>\n      <td>110+05710</td>\n      <td>-77.3500</td>\n      <td>39.0030</td>\n      <td>None</td>\n      <td>tmc_start</td>\n      <td>None</td>\n      <td>None</td>\n      <td>None</td>\n      <td>POINT (-77.35 39.003)</td>\n    </tr>\n    <tr>\n      <th>100000061</th>\n      <td>110P05710</td>\n      <td>-77.3609</td>\n      <td>39.0090</td>\n      <td>None</td>\n      <td>tmc_start</td>\n      <td>None</td>\n      <td>None</td>\n      <td>None</td>\n      <td>POINT (-77.3609 39.009)</td>\n    </tr>\n    <tr>\n      <th>100000062</th>\n      <td>110+05711</td>\n      <td>-77.3673</td>\n      <td>39.0125</td>\n      <td>None</td>\n      <td>tmc_start</td>\n      <td>None</td>\n      <td>None</td>\n      <td>None</td>\n      <td>POINT (-77.3673 39.0125)</td>\n    </tr>\n    <tr>\n      <th>100000063</th>\n      <td>110P05711</td>\n      <td>-77.3707</td>\n      <td>39.0143</td>\n      <td>None</td>\n      <td>tmc_start</td>\n      <td>None</td>\n      <td>None</td>\n      <td>None</td>\n      <td>POINT (-77.3707 39.0143)</td>\n    </tr>\n    <tr>\n      <th>100000064</th>\n      <td>110P05711END</td>\n      <td>-77.3709</td>\n      <td>39.0143</td>\n      <td>None</td>\n      <td>tmc_end</td>\n      <td>None</td>\n      <td>None</td>\n      <td>None</td>\n      <td>POINT (-77.3709 39.0143)</td>\n    </tr>\n  </tbody>\n</table>\n<p>64 rows × 9 columns</p>\n</div>"
     },
     "metadata": {},
     "execution_count": 5
    }
   ],
   "source": [
    "node_tmc"
   ]
  },
  {
   "cell_type": "code",
   "execution_count": 6,
   "metadata": {},
   "outputs": [
    {
     "output_type": "error",
     "ename": "NameError",
     "evalue": "name 'node_csv' is not defined",
     "traceback": [
      "\u001b[0;31m---------------------------------------------------------------------------\u001b[0m",
      "\u001b[0;31mNameError\u001b[0m                                 Traceback (most recent call last)",
      "\u001b[0;32m<ipython-input-6-dd8ec9770e54>\u001b[0m in \u001b[0;36m<module>\u001b[0;34m\u001b[0m\n\u001b[1;32m     22\u001b[0m                                 \u001b[0;34m'corridor_id'\u001b[0m\u001b[0;34m:\u001b[0m \u001b[0mtmc\u001b[0m\u001b[0;34m.\u001b[0m\u001b[0mloc\u001b[0m\u001b[0;34m[\u001b[0m\u001b[0mi\u001b[0m\u001b[0;34m,\u001b[0m\u001b[0;34m'road'\u001b[0m\u001b[0;34m]\u001b[0m\u001b[0;34m+\u001b[0m\u001b[0;34m'_'\u001b[0m\u001b[0;34m+\u001b[0m\u001b[0mtmc\u001b[0m\u001b[0;34m.\u001b[0m\u001b[0mloc\u001b[0m\u001b[0;34m[\u001b[0m\u001b[0mi\u001b[0m\u001b[0;34m,\u001b[0m\u001b[0;34m'direction'\u001b[0m\u001b[0;34m]\u001b[0m\u001b[0;34m,\u001b[0m\u001b[0;31m\\\u001b[0m\u001b[0;34m\u001b[0m\u001b[0;34m\u001b[0m\u001b[0m\n\u001b[1;32m     23\u001b[0m                                 \u001b[0;34m'corridor_link_order'\u001b[0m \u001b[0;34m:\u001b[0m \u001b[0mtmc\u001b[0m\u001b[0;34m.\u001b[0m\u001b[0mloc\u001b[0m\u001b[0;34m[\u001b[0m\u001b[0mi\u001b[0m\u001b[0;34m,\u001b[0m\u001b[0;34m'road_order'\u001b[0m\u001b[0;34m]\u001b[0m\u001b[0;34m,\u001b[0m\u001b[0;31m\\\u001b[0m\u001b[0;34m\u001b[0m\u001b[0;34m\u001b[0m\u001b[0m\n\u001b[0;32m---> 24\u001b[0;31m                                 \u001b[0;34m'from_node_id'\u001b[0m\u001b[0;34m:\u001b[0m \u001b[0mnode_csv\u001b[0m\u001b[0;34m[\u001b[0m\u001b[0;34m(\u001b[0m\u001b[0mnode_csv\u001b[0m\u001b[0;34m[\u001b[0m\u001b[0;34m'x_coord'\u001b[0m\u001b[0;34m]\u001b[0m\u001b[0;34m==\u001b[0m\u001b[0mtmc\u001b[0m\u001b[0;34m.\u001b[0m\u001b[0mloc\u001b[0m\u001b[0;34m[\u001b[0m\u001b[0mi\u001b[0m\u001b[0;34m,\u001b[0m\u001b[0;34m'start_longitude'\u001b[0m\u001b[0;34m]\u001b[0m\u001b[0;34m)\u001b[0m \u001b[0;34m&\u001b[0m \u001b[0;34m(\u001b[0m\u001b[0mnode_csv\u001b[0m\u001b[0;34m[\u001b[0m\u001b[0;34m'y_coord'\u001b[0m\u001b[0;34m]\u001b[0m\u001b[0;34m==\u001b[0m\u001b[0mtmc\u001b[0m\u001b[0;34m.\u001b[0m\u001b[0mloc\u001b[0m\u001b[0;34m[\u001b[0m\u001b[0mi\u001b[0m\u001b[0;34m,\u001b[0m\u001b[0;34m'start_latitude'\u001b[0m\u001b[0;34m]\u001b[0m\u001b[0;34m)\u001b[0m\u001b[0;34m]\u001b[0m\u001b[0;34m.\u001b[0m\u001b[0mindex\u001b[0m\u001b[0;34m.\u001b[0m\u001b[0mvalues\u001b[0m\u001b[0;34m[\u001b[0m\u001b[0;36m0\u001b[0m\u001b[0;34m]\u001b[0m\u001b[0;34m,\u001b[0m\u001b[0;31m \u001b[0m\u001b[0;31m\\\u001b[0m\u001b[0;34m\u001b[0m\u001b[0;34m\u001b[0m\u001b[0m\n\u001b[0m\u001b[1;32m     25\u001b[0m                                 \u001b[0;34m'to_node_id'\u001b[0m\u001b[0;34m:\u001b[0m \u001b[0mnode_csv\u001b[0m\u001b[0;34m[\u001b[0m\u001b[0;34m(\u001b[0m\u001b[0mnode_csv\u001b[0m\u001b[0;34m[\u001b[0m\u001b[0;34m'x_coord'\u001b[0m\u001b[0;34m]\u001b[0m\u001b[0;34m==\u001b[0m\u001b[0mtmc\u001b[0m\u001b[0;34m.\u001b[0m\u001b[0mloc\u001b[0m\u001b[0;34m[\u001b[0m\u001b[0mi\u001b[0m\u001b[0;34m,\u001b[0m\u001b[0;34m'end_longitude'\u001b[0m\u001b[0;34m]\u001b[0m\u001b[0;34m)\u001b[0m \u001b[0;34m&\u001b[0m \u001b[0;34m(\u001b[0m\u001b[0mnode_csv\u001b[0m\u001b[0;34m[\u001b[0m\u001b[0;34m'y_coord'\u001b[0m\u001b[0;34m]\u001b[0m\u001b[0;34m==\u001b[0m\u001b[0mtmc\u001b[0m\u001b[0;34m.\u001b[0m\u001b[0mloc\u001b[0m\u001b[0;34m[\u001b[0m\u001b[0mi\u001b[0m\u001b[0;34m,\u001b[0m\u001b[0;34m'end_latitude'\u001b[0m\u001b[0;34m]\u001b[0m\u001b[0;34m)\u001b[0m\u001b[0;34m]\u001b[0m\u001b[0;34m.\u001b[0m\u001b[0mindex\u001b[0m\u001b[0;34m.\u001b[0m\u001b[0mvalues\u001b[0m\u001b[0;34m[\u001b[0m\u001b[0;36m0\u001b[0m\u001b[0;34m]\u001b[0m\u001b[0;34m,\u001b[0m\u001b[0;31m\\\u001b[0m\u001b[0;34m\u001b[0m\u001b[0;34m\u001b[0m\u001b[0m\n\u001b[1;32m     26\u001b[0m                                 \u001b[0;34m'directed'\u001b[0m\u001b[0;34m:\u001b[0m \u001b[0;36m1\u001b[0m\u001b[0;34m,\u001b[0m\u001b[0;31m\\\u001b[0m\u001b[0;34m\u001b[0m\u001b[0;34m\u001b[0m\u001b[0m\n",
      "\u001b[0;31mNameError\u001b[0m: name 'node_csv' is not defined"
     ]
    }
   ],
   "source": [
    "'''build link_tmc.csv'''\n",
    "link_tmc = pd.DataFrame()\n",
    "link_tmc['name'] = None\n",
    "link_tmc['corridor_id'] = None\n",
    "link_tmc['corridor_link_order'] = None\n",
    "link_tmc['from_node_id'] = None\n",
    "link_tmc['to_node_id'] = None\n",
    "link_tmc['directed'] = None\n",
    "link_tmc['geometry_id'] = None\n",
    "link_tmc['geometry'] = None\n",
    "link_tmc['dir_flag'] = None\n",
    "link_tmc['parent_link_id'] = None\n",
    "link_tmc['length'] = None\n",
    "link_tmc['grade'] = None\n",
    "link_tmc['facility_type'] = None\n",
    "link_tmc['capacity'] = None\n",
    "link_tmc['free_speed'] = None\n",
    "link_tmc['lanes'] = None\n",
    "\n",
    "for i in range(0,len(tmc)):\n",
    "    link_tmc = link_tmc.append({'name': tmc.loc[i,'tmc'],\\\n",
    "                                'corridor_id': tmc.loc[i,'road']+'_'+tmc.loc[i,'direction'],\\\n",
    "                                'corridor_link_order' : tmc.loc[i,'road_order'],\\\n",
    "                                'from_node_id': node_csv[(node_csv['x_coord']==tmc.loc[i,'start_longitude']) & (node_csv['y_coord']==tmc.loc[i,'start_latitude'])].index.values[0], \\\n",
    "                                'to_node_id': node_csv[(node_csv['x_coord']==tmc.loc[i,'end_longitude']) & (node_csv['y_coord']==tmc.loc[i,'end_latitude'])].index.values[0],\\\n",
    "                                'directed': 1,\\\n",
    "                                'geometry_id': None,\\\n",
    "                                'geometry': \"LINESTRING (\" + tmc.loc[i,'start_longitude'].astype(str) + \" \" + tmc.loc[i,'start_latitude'].astype(str) + \",\" +\\\n",
    "                                    tmc.loc[i,'end_longitude'].astype(str) +\" \"+ tmc.loc[i,'end_latitude'].astype(str) + \")\",\\\n",
    "                                'dir_flag': 1,\\\n",
    "                                'parent_link_id': None,\\\n",
    "                                'length': tmc.loc[i,'miles'],\\\n",
    "                                'grade': None,\\\n",
    "                                'facility_type': 'interstate' if tmc.loc[i,'road'][0] == 'I'else None ,\\\n",
    "                                'capacity':None,\\\n",
    "                                'free_speed':None,\\\n",
    "                                'lanes': None}, ignore_index=True)\n",
    "link_tmc.index.name = 'link_id'\n",
    "link_tmc.index += 100000001\n",
    "\n",
    "\n",
    "link_tmc.to_csv(tmc_path + os.sep + '/link_tmc.csv')\n"
   ]
  },
  {
   "cell_type": "code",
   "execution_count": 7,
   "metadata": {},
   "outputs": [
    {
     "output_type": "execute_result",
     "data": {
      "text/plain": [
       "Empty DataFrame\n",
       "Columns: [name, corridor_id, corridor_link_order, from_node_id, to_node_id, directed, geometry_id, geometry, dir_flag, parent_link_id, length, grade, facility_type, capacity, free_speed, lanes]\n",
       "Index: []"
      ],
      "text/html": "<div>\n<style scoped>\n    .dataframe tbody tr th:only-of-type {\n        vertical-align: middle;\n    }\n\n    .dataframe tbody tr th {\n        vertical-align: top;\n    }\n\n    .dataframe thead th {\n        text-align: right;\n    }\n</style>\n<table border=\"1\" class=\"dataframe\">\n  <thead>\n    <tr style=\"text-align: right;\">\n      <th></th>\n      <th>name</th>\n      <th>corridor_id</th>\n      <th>corridor_link_order</th>\n      <th>from_node_id</th>\n      <th>to_node_id</th>\n      <th>directed</th>\n      <th>geometry_id</th>\n      <th>geometry</th>\n      <th>dir_flag</th>\n      <th>parent_link_id</th>\n      <th>length</th>\n      <th>grade</th>\n      <th>facility_type</th>\n      <th>capacity</th>\n      <th>free_speed</th>\n      <th>lanes</th>\n    </tr>\n  </thead>\n  <tbody>\n  </tbody>\n</table>\n</div>"
     },
     "metadata": {},
     "execution_count": 7
    }
   ],
   "source": [
    "link_tmc"
   ]
  },
  {
   "cell_type": "code",
   "execution_count": 8,
   "metadata": {},
   "outputs": [
    {
     "output_type": "error",
     "ename": "NameError",
     "evalue": "name 'link_csv' is not defined",
     "traceback": [
      "\u001b[0;31m---------------------------------------------------------------------------\u001b[0m",
      "\u001b[0;31mNameError\u001b[0m                                 Traceback (most recent call last)",
      "\u001b[0;32m<ipython-input-8-961662d84436>\u001b[0m in \u001b[0;36m<module>\u001b[0;34m\u001b[0m\n\u001b[1;32m     23\u001b[0m \u001b[0;32mfor\u001b[0m \u001b[0mkey\u001b[0m\u001b[0;34m,\u001b[0m \u001b[0mform\u001b[0m \u001b[0;32min\u001b[0m \u001b[0mgp\u001b[0m\u001b[0;34m:\u001b[0m\u001b[0;34m\u001b[0m\u001b[0;34m\u001b[0m\u001b[0m\n\u001b[1;32m     24\u001b[0m     \u001b[0;31m# print(key)\u001b[0m\u001b[0;34m\u001b[0m\u001b[0;34m\u001b[0m\u001b[0;34m\u001b[0m\u001b[0m\n\u001b[0;32m---> 25\u001b[0;31m     \u001b[0;32mfor\u001b[0m \u001b[0mi\u001b[0m \u001b[0;32min\u001b[0m \u001b[0mlink_csv\u001b[0m\u001b[0;34m.\u001b[0m\u001b[0mindex\u001b[0m\u001b[0;34m:\u001b[0m\u001b[0;34m\u001b[0m\u001b[0;34m\u001b[0m\u001b[0m\n\u001b[0m\u001b[1;32m     26\u001b[0m         \u001b[0mform_selected\u001b[0m \u001b[0;34m=\u001b[0m \u001b[0mform\u001b[0m\u001b[0;34m[\u001b[0m\u001b[0mform\u001b[0m\u001b[0;34m[\u001b[0m\u001b[0;34m'_vatmc_code'\u001b[0m\u001b[0;34m]\u001b[0m\u001b[0;34m==\u001b[0m\u001b[0mlink_csv\u001b[0m\u001b[0;34m[\u001b[0m\u001b[0;34m'name'\u001b[0m\u001b[0;34m]\u001b[0m\u001b[0;34m[\u001b[0m\u001b[0mi\u001b[0m\u001b[0;34m]\u001b[0m\u001b[0;34m]\u001b[0m\u001b[0;34m\u001b[0m\u001b[0;34m\u001b[0m\u001b[0m\n\u001b[1;32m     27\u001b[0m         \u001b[0;32mif\u001b[0m \u001b[0mlen\u001b[0m\u001b[0;34m(\u001b[0m\u001b[0mform_selected\u001b[0m\u001b[0;34m)\u001b[0m\u001b[0;34m>\u001b[0m\u001b[0;36m0\u001b[0m\u001b[0;34m:\u001b[0m\u001b[0;34m\u001b[0m\u001b[0;34m\u001b[0m\u001b[0m\n",
      "\u001b[0;31mNameError\u001b[0m: name 'link_csv' is not defined"
     ]
    }
   ],
   "source": [
    "'''build link_performance_tmc.csv'''\n",
    "\n",
    "reading = pd.read_csv(tmc_path + os.sep + 'Reading_VA.csv')\n",
    "reading = reading[pd.to_datetime(reading['measurement_tstamp'], format='%Y-%m-%d %H:%M:%S')<datetime.datetime.strptime('2015-04-01 02:00:00', '%Y-%m-%d %H:%M:%S')]\n",
    "\n",
    "link_performance_tmc = pd.DataFrame()\n",
    "link_performance_tmc['name'] = None\n",
    "link_performance_tmc['corridor_id'] = None\n",
    "link_performance_tmc['corridor_link_order'] = None\n",
    "link_performance_tmc['from_node_id'] = None\n",
    "link_performance_tmc['to_node_id'] = None\n",
    "link_performance_tmc['timestamp'] = None\n",
    "link_performance_tmc['volume'] = None\n",
    "link_performance_tmc['travel_time'] = None\n",
    "link_performance_tmc['speed'] = None\n",
    "link_performance_tmc['reference_speed'] = None\n",
    "link_performance_tmc['density'] = None\n",
    "link_performance_tmc['queue'] = None\n",
    "link_performance_tmc['notes'] = None\n",
    "\n",
    "\n",
    "gp = reading.groupby('measurement_tstamp')\n",
    "for key, form in gp:\n",
    "    # print(key)\n",
    "    for i in link_csv.index:\n",
    "        form_selected = form[form['_vatmc_code']==link_csv['name'][i]]\n",
    "        if len(form_selected)>0:\n",
    "        # break\n",
    "            link_performance_tmc = link_performance_tmc.append({'name': link_csv['name'][i],\\\n",
    "                                            'corridor_id': link_csv['corridor_id'][i],\\\n",
    "                                            'corridor_link_order' : link_csv['corridor_link_order'][i],\\\n",
    "                                            'from_node_id': link_csv.loc[i,'from_node_id'], \\\n",
    "                                            'to_node_id': link_csv.loc[i,'to_node_id'], \\\n",
    "                                            'timestamp': form_selected['measurement_tstamp'].values[0][0:10]+'T'+form_selected['measurement_tstamp'].values[0][11:13]+':'+form_selected['measurement_tstamp'].values[0][14:16],\\\n",
    "                                            'volume': None,\\\n",
    "                                            'travel_time': link_csv['length'][i]/form_selected['speed'].values[0],\\\n",
    "                                            'speed': form_selected['speed'].values[0],\\\n",
    "                                            'reference_speed': form_selected['reference_speed'].values[0],\\\n",
    "                                            'density': None,\\\n",
    "                                            'queue': None,\\\n",
    "                                            'notes': None }, ignore_index=True)\n",
    "        else:\n",
    "            link_performance_tmc = link_performance_tmc.append({'name': link_csv['name'][i],\\\n",
    "                                            'corridor_id': link_csv['corridor_id'][i],\\\n",
    "                                            'corridor_link_order' : link_csv['corridor_link_order'][i],\\\n",
    "                                            'from_node_id': link_csv.loc[i,'from_node_id'], \\\n",
    "                                            'to_node_id': link_csv.loc[i,'to_node_id'], \\\n",
    "                                            'timestamp': None,\\\n",
    "                                            'volume': None,\\\n",
    "                                            'travel_time': None,\\\n",
    "                                            'speed': None,\\\n",
    "                                            'reference_speed': None,\\\n",
    "                                            'density': None,\\\n",
    "                                            'queue': None,\\\n",
    "                                            'notes': None }, ignore_index=True)\n",
    "\n",
    "link_performance_tmc.to_csv(tmc_path + os.sep +'/link_performance_tmc.csv',index = False)\n",
    "\n",
    "\n"
   ]
  },
  {
   "cell_type": "code",
   "execution_count": 9,
   "metadata": {},
   "outputs": [
    {
     "output_type": "execute_result",
     "data": {
      "text/plain": [
       "Empty DataFrame\n",
       "Columns: [name, corridor_id, corridor_link_order, from_node_id, to_node_id, timestamp, volume, travel_time, speed, reference_speed, density, queue, notes]\n",
       "Index: []"
      ],
      "text/html": "<div>\n<style scoped>\n    .dataframe tbody tr th:only-of-type {\n        vertical-align: middle;\n    }\n\n    .dataframe tbody tr th {\n        vertical-align: top;\n    }\n\n    .dataframe thead th {\n        text-align: right;\n    }\n</style>\n<table border=\"1\" class=\"dataframe\">\n  <thead>\n    <tr style=\"text-align: right;\">\n      <th></th>\n      <th>name</th>\n      <th>corridor_id</th>\n      <th>corridor_link_order</th>\n      <th>from_node_id</th>\n      <th>to_node_id</th>\n      <th>timestamp</th>\n      <th>volume</th>\n      <th>travel_time</th>\n      <th>speed</th>\n      <th>reference_speed</th>\n      <th>density</th>\n      <th>queue</th>\n      <th>notes</th>\n    </tr>\n  </thead>\n  <tbody>\n  </tbody>\n</table>\n</div>"
     },
     "metadata": {},
     "execution_count": 9
    }
   ],
   "source": [
    "link_performance_tmc"
   ]
  },
  {
   "source": [
    "## step 2 map matching"
   ],
   "cell_type": "markdown",
   "metadata": {}
  },
  {
   "cell_type": "code",
   "execution_count": 10,
   "metadata": {},
   "outputs": [],
   "source": [
    "'''build trace.csv'''\n",
    "'''numeric trace_id '''\n",
    "trace = pd.DataFrame()\n",
    "trace['corridor_id'] = None\n",
    "trace['agent_id'] = None\n",
    "trace['date'] = None\n",
    "trace['tmc'] = None\n",
    "trace['trace_id'] = None\n",
    "trace['hh'] = None\n",
    "trace['mm'] = None\n",
    "trace['ss'] = None\n",
    "trace['y_coord'] = None\n",
    "trace['x_coord'] = None\n",
    "\n",
    "agent_id = 1\n",
    "trace_id = 0\n",
    "\n",
    "for i in range(0,len(tmc)-1):\n",
    "    if tmc.loc[i+1,'road_order'] > tmc.loc[i,'road_order']:\n",
    "        trace = trace.append({'corridor_id': tmc.loc[i,'road'] + '_' + tmc.loc[i,'direction'],\\\n",
    "                                    'agent_id': agent_id,\\\n",
    "                                    'date': None, \\\n",
    "                                    'tmc': tmc.loc[i,'tmc'],\\\n",
    "                                    'trace_id': trace_id,\\\n",
    "                                    'hh': None,\\\n",
    "                                    'mm': 'None',\\\n",
    "                                    'ss': None,\\\n",
    "                                    'y_coord': tmc.loc[i,'start_latitude'],\\\n",
    "                                    'x_coord': tmc.loc[i,'start_longitude']}, ignore_index=True)\n",
    "        trace_id +=1\n",
    "    else:\n",
    "        trace = trace.append({'corridor_id': tmc.loc[i,'road'] + '_' + tmc.loc[i,'direction'],\\\n",
    "                                    'agent_id': agent_id,\\\n",
    "                                    'date': None, \\\n",
    "                                    'tmc': tmc.loc[i,'tmc'],\\\n",
    "                                    'trace_id': trace_id,\\\n",
    "                                    'hh': None,\\\n",
    "                                    'mm': 'None',\\\n",
    "                                    'ss': None,\\\n",
    "                                    'y_coord': tmc.loc[i,'start_latitude'],\\\n",
    "                                    'x_coord': tmc.loc[i,'start_longitude']}, ignore_index=True)\n",
    "        trace_id += 1\n",
    "\n",
    "        trace = trace.append({'corridor_id': tmc.loc[i,'road'] + '_' + tmc.loc[i,'direction'],\\\n",
    "                                    'agent_id': agent_id,\\\n",
    "                                    'date': None, \\\n",
    "                                    'tmc': tmc.loc[i,'tmc'],\\\n",
    "                                    'trace_id': trace_id,\\\n",
    "                                    'hh': None,\\\n",
    "                                    'mm': 'None',\\\n",
    "                                    'ss': None,\\\n",
    "                                    'y_coord': tmc.loc[i,'end_latitude'],\\\n",
    "                                    'x_coord': tmc.loc[i,'end_longitude']}, ignore_index=True)\n",
    "        agent_id += 1\n",
    "        trace_id = 0\n",
    "        \n",
    "trace = trace.append({'corridor_id': tmc.loc[i+1,'road'] + '_' + tmc.loc[i+1,'direction'],\\\n",
    "                                    'agent_id': agent_id,\\\n",
    "                                    'date': None, \\\n",
    "                                    'tmc': tmc.loc[i+1,'tmc'],\\\n",
    "                                    'trace_id': trace_id,\\\n",
    "                                    'hh': None,\\\n",
    "                                    'mm': 'None',\\\n",
    "                                    'ss': None,\\\n",
    "                                    'y_coord': tmc.loc[i+1,'start_latitude'],\\\n",
    "                                    'x_coord': tmc.loc[i+1,'start_longitude']}, ignore_index=True)\n",
    "trace_id +=1\n",
    "trace = trace.append({'corridor_id': tmc.loc[i+1,'road'] + '_' + tmc.loc[i+1,'direction'],\\\n",
    "                                    'agent_id': agent_id,\\\n",
    "                                    'date': None, \\\n",
    "                                    'tmc': tmc.loc[i+1,'tmc'],\\\n",
    "                                    'trace_id': trace_id,\\\n",
    "                                    'hh': None,\\\n",
    "                                    'mm': 'None',\\\n",
    "                                    'ss': None,\\\n",
    "                                    'y_coord': tmc.loc[i+1,'end_latitude'],\\\n",
    "                                    'x_coord': tmc.loc[i+1,'end_longitude']}, ignore_index=True)\n",
    "\n",
    "trace.to_csv(tmc_path + os.sep +'/trace.csv')"
   ]
  },
  {
   "cell_type": "code",
   "execution_count": 11,
   "metadata": {},
   "outputs": [
    {
     "output_type": "execute_result",
     "data": {
      "text/plain": [
       "       corridor_id agent_id  date        tmc trace_id    hh    mm    ss  \\\n",
       "0   VA-7_EASTBOUND        1  None  110N05711        0  None  None  None   \n",
       "1   VA-7_EASTBOUND        1  None  110-05710        1  None  None  None   \n",
       "2   VA-7_EASTBOUND        1  None  110N05710        2  None  None  None   \n",
       "3   VA-7_EASTBOUND        1  None  110-05709        3  None  None  None   \n",
       "4   VA-7_EASTBOUND        1  None  110-05708        4  None  None  None   \n",
       "..             ...      ...   ...        ...      ...   ...   ...   ...   \n",
       "59  VA-7_WESTBOUND        2  None  110+05710       27  None  None  None   \n",
       "60  VA-7_WESTBOUND        2  None  110P05710       28  None  None  None   \n",
       "61  VA-7_WESTBOUND        2  None  110+05711       29  None  None  None   \n",
       "62  VA-7_WESTBOUND        2  None  110P05711       30  None  None  None   \n",
       "63  VA-7_WESTBOUND        2  None  110P05711       31  None  None  None   \n",
       "\n",
       "    y_coord  x_coord  \n",
       "0   39.0144 -77.3715  \n",
       "1   39.0141 -77.3709  \n",
       "2   39.0127 -77.3684  \n",
       "3   39.0086 -77.3605  \n",
       "4   39.0028 -77.3502  \n",
       "..      ...      ...  \n",
       "59  39.0030 -77.3500  \n",
       "60  39.0090 -77.3609  \n",
       "61  39.0125 -77.3673  \n",
       "62  39.0143 -77.3707  \n",
       "63  39.0143 -77.3709  \n",
       "\n",
       "[64 rows x 10 columns]"
      ],
      "text/html": "<div>\n<style scoped>\n    .dataframe tbody tr th:only-of-type {\n        vertical-align: middle;\n    }\n\n    .dataframe tbody tr th {\n        vertical-align: top;\n    }\n\n    .dataframe thead th {\n        text-align: right;\n    }\n</style>\n<table border=\"1\" class=\"dataframe\">\n  <thead>\n    <tr style=\"text-align: right;\">\n      <th></th>\n      <th>corridor_id</th>\n      <th>agent_id</th>\n      <th>date</th>\n      <th>tmc</th>\n      <th>trace_id</th>\n      <th>hh</th>\n      <th>mm</th>\n      <th>ss</th>\n      <th>y_coord</th>\n      <th>x_coord</th>\n    </tr>\n  </thead>\n  <tbody>\n    <tr>\n      <th>0</th>\n      <td>VA-7_EASTBOUND</td>\n      <td>1</td>\n      <td>None</td>\n      <td>110N05711</td>\n      <td>0</td>\n      <td>None</td>\n      <td>None</td>\n      <td>None</td>\n      <td>39.0144</td>\n      <td>-77.3715</td>\n    </tr>\n    <tr>\n      <th>1</th>\n      <td>VA-7_EASTBOUND</td>\n      <td>1</td>\n      <td>None</td>\n      <td>110-05710</td>\n      <td>1</td>\n      <td>None</td>\n      <td>None</td>\n      <td>None</td>\n      <td>39.0141</td>\n      <td>-77.3709</td>\n    </tr>\n    <tr>\n      <th>2</th>\n      <td>VA-7_EASTBOUND</td>\n      <td>1</td>\n      <td>None</td>\n      <td>110N05710</td>\n      <td>2</td>\n      <td>None</td>\n      <td>None</td>\n      <td>None</td>\n      <td>39.0127</td>\n      <td>-77.3684</td>\n    </tr>\n    <tr>\n      <th>3</th>\n      <td>VA-7_EASTBOUND</td>\n      <td>1</td>\n      <td>None</td>\n      <td>110-05709</td>\n      <td>3</td>\n      <td>None</td>\n      <td>None</td>\n      <td>None</td>\n      <td>39.0086</td>\n      <td>-77.3605</td>\n    </tr>\n    <tr>\n      <th>4</th>\n      <td>VA-7_EASTBOUND</td>\n      <td>1</td>\n      <td>None</td>\n      <td>110-05708</td>\n      <td>4</td>\n      <td>None</td>\n      <td>None</td>\n      <td>None</td>\n      <td>39.0028</td>\n      <td>-77.3502</td>\n    </tr>\n    <tr>\n      <th>...</th>\n      <td>...</td>\n      <td>...</td>\n      <td>...</td>\n      <td>...</td>\n      <td>...</td>\n      <td>...</td>\n      <td>...</td>\n      <td>...</td>\n      <td>...</td>\n      <td>...</td>\n    </tr>\n    <tr>\n      <th>59</th>\n      <td>VA-7_WESTBOUND</td>\n      <td>2</td>\n      <td>None</td>\n      <td>110+05710</td>\n      <td>27</td>\n      <td>None</td>\n      <td>None</td>\n      <td>None</td>\n      <td>39.0030</td>\n      <td>-77.3500</td>\n    </tr>\n    <tr>\n      <th>60</th>\n      <td>VA-7_WESTBOUND</td>\n      <td>2</td>\n      <td>None</td>\n      <td>110P05710</td>\n      <td>28</td>\n      <td>None</td>\n      <td>None</td>\n      <td>None</td>\n      <td>39.0090</td>\n      <td>-77.3609</td>\n    </tr>\n    <tr>\n      <th>61</th>\n      <td>VA-7_WESTBOUND</td>\n      <td>2</td>\n      <td>None</td>\n      <td>110+05711</td>\n      <td>29</td>\n      <td>None</td>\n      <td>None</td>\n      <td>None</td>\n      <td>39.0125</td>\n      <td>-77.3673</td>\n    </tr>\n    <tr>\n      <th>62</th>\n      <td>VA-7_WESTBOUND</td>\n      <td>2</td>\n      <td>None</td>\n      <td>110P05711</td>\n      <td>30</td>\n      <td>None</td>\n      <td>None</td>\n      <td>None</td>\n      <td>39.0143</td>\n      <td>-77.3707</td>\n    </tr>\n    <tr>\n      <th>63</th>\n      <td>VA-7_WESTBOUND</td>\n      <td>2</td>\n      <td>None</td>\n      <td>110P05711</td>\n      <td>31</td>\n      <td>None</td>\n      <td>None</td>\n      <td>None</td>\n      <td>39.0143</td>\n      <td>-77.3709</td>\n    </tr>\n  </tbody>\n</table>\n<p>64 rows × 10 columns</p>\n</div>"
     },
     "metadata": {},
     "execution_count": 11
    }
   ],
   "source": [
    "trace"
   ]
  },
  {
   "cell_type": "code",
   "execution_count": 12,
   "metadata": {},
   "outputs": [
    {
     "output_type": "stream",
     "name": "stdout",
     "text": [
      "osm2gmns, version 0.4.2\n"
     ]
    }
   ],
   "source": [
    "\"Get the OSM Network\"\n",
    "\n",
    "import osm2gmns as og\n",
    "\n",
    "osm_path = 'OSM/consolidated'\n",
    "\n",
    "net = og.getNetFromOSMFile('OSM/tmc_VA.osm',network_type=('auto'), default_lanes=True, default_speed=True)\n",
    "og.consolidateComplexIntersections(net)\n",
    "og.outputNetToCSV(net, output_folder=osm_path)"
   ]
  },
  {
   "cell_type": "code",
   "execution_count": 13,
   "metadata": {},
   "outputs": [],
   "source": [
    "create_folder(os.path.join(os.path.dirname(os.path.realpath('__file__')), 'data/testdata'))"
   ]
  },
  {
   "cell_type": "code",
   "execution_count": 14,
   "metadata": {},
   "outputs": [],
   "source": [
    "import shutil\n",
    "\n",
    "source_link_osm = os.path.join(os.path.join(os.path.dirname(os.path.realpath('__file__')),osm_path),'link.csv')\n",
    "source_node_osm = os.path.join(os.path.join(os.path.dirname(os.path.realpath('__file__')),osm_path),'node.csv')\n",
    "source_trace = os.path.join(os.path.join(os.path.dirname(os.path.realpath('__file__')),tmc_path),'trace.csv')\n",
    "source_list = [source_link_osm,source_node_osm,source_trace]\n",
    "\n",
    "destination_1 = os.path.join(os.path.dirname(os.path.realpath('__file__')), 'data/testdata')\n",
    "destination_2 = os.path.dirname(os.path.realpath('__file__'))\n",
    "destination_list = [destination_1,destination_2]\n",
    "  \n",
    "for i in range(len(source_list)):\n",
    "    for j in range(len(destination_list)):\n",
    "        shutil.copy(source_list[i], destination_list[j])\n"
   ]
  },
  {
   "cell_type": "code",
   "execution_count": 15,
   "metadata": {},
   "outputs": [
    {
     "output_type": "stream",
     "name": "stdout",
     "text": [
      "call MapMatching4GMNS  dynamic library\n",
      "\\MapMatching4GMNS run starts\n",
      "\\MapMatching4GMNS run completes\n",
      "MapMatching4GMNS time cost: 0.696842 seconds\n",
      "The output data is generated!\n"
     ]
    }
   ],
   "source": [
    "# \"\"\"install MapMatching4GMNS\"\"\"\n",
    "# !pip install MapMatching4GMNS --upgrade\n",
    "\n",
    "\n",
    "if __name__ == \"__main__\":\n",
    "    #If the output data exists, please remove.\n",
    "    if(os.path.exists(\"agent.csv\")):\n",
    "       os.remove(\"agent.csv\")\n",
    "    if(os.path.exists(\"link_performance.csv\")):\n",
    "       os.remove(\"link_performance.csv\")   \n",
    "    \n",
    "    start = time.time()\n",
    "    MapMatching4GMNS.map_match()\n",
    "    end = time.time()\n",
    "    \n",
    "    print('MapMatching4GMNS time cost: %.6f seconds' % (end - start))\n",
    "    print(\"The output data is generated!\")"
   ]
  },
  {
   "source": [
    "## step 3 link performance of osm"
   ],
   "cell_type": "markdown",
   "metadata": {}
  },
  {
   "cell_type": "code",
   "execution_count": 16,
   "metadata": {},
   "outputs": [],
   "source": [
    "link_road = pd.read_csv(osm_path + os.sep +'/link.csv', encoding='gbk',low_memory=False)\n",
    "link_performance_tmc = pd.read_csv(tmc_path + os.sep +'/link_performance_tmc.csv', encoding='gbk',low_memory=False,index_col=None)\n",
    "mapping = pd.read_csv('link_performance.csv', encoding='gbk',low_memory=False,index_col=None)\n"
   ]
  },
  {
   "cell_type": "code",
   "execution_count": 19,
   "metadata": {},
   "outputs": [],
   "source": [
    "link_performance_osm = pd.DataFrame()\n",
    "# link_performance_osm['name'] = None\n",
    "link_performance_osm['link_id'] = None\n",
    "# link_performance_osm['osm_way_id'] = None\n",
    "link_performance_osm['from_node_id'] = None\n",
    "link_performance_osm['to_node_id'] = None\n",
    "# link_performance_osm['dir_flag'] = None\n",
    "link_performance_osm['lanes'] = None\n",
    "link_performance_osm['length'] = None\n",
    "# link_performance_osm['free_speed'] = None\n",
    "# link_performance_osm['capacity'] = None\n",
    "# link_performance_osm['link_type_name'] = None\n",
    "# link_performance_osm['link_type'] = None\n",
    "# link_performance_osm['allowed_uses'] = None\n",
    "link_performance_osm['timestamp'] = None\n",
    "link_performance_osm['geometry'] = None\n",
    "link_performance_osm['volume'] = None\n",
    "# link_performance_osm['travel_time'] = None\n",
    "link_performance_osm['speed'] = None\n",
    "# link_performance_osm['notes'] = None\n",
    "\n",
    "\n",
    "link_performance_osm_sub = link_performance_osm\n",
    "\n",
    "gp = link_performance_tmc.groupby('timestamp')\n",
    "for key, form in gp:\n",
    "    for i in mapping.index:\n",
    "        link_road_selected = link_road[(link_road['from_node_id'] == mapping.loc[i,'from_node_id']) & (link_road['to_node_id'] == mapping.loc[i,'to_node_id'])]\n",
    "        trace_selected = trace[(trace['agent_id'] == mapping.loc[i,'agent_id']) & (trace['trace_id'] == mapping.loc[i,'trace_id'])]\n",
    "        form_selected = form[(form['name']==trace_selected['tmc'].values[0]) & (form['corridor_id']==trace_selected['corridor_id'].values[0])]\n",
    "        if len(form_selected)>0:\n",
    "            link_performance_osm_sub = link_performance_osm_sub.append({'link_id': link_road_selected['link_id'].values[0],\\\n",
    "                                            'from_node_id': link_road_selected['from_node_id'].values[0],\\\n",
    "                                            'to_node_id': link_road_selected['to_node_id'].values[0],\\\n",
    "                                            'lanes': link_road_selected['lanes'].values[0],\\\n",
    "                                            'length': link_road_selected['length'].values[0],\\\n",
    "                                            'timestamp': form_selected['timestamp'].values[0],\\\n",
    "                                            'geometry': link_road_selected['geometry'].values[0],\\\n",
    "                                            'volume': form_selected['volume'].values[0],\\\n",
    "                                            'speed': form_selected['speed'].values[0]}, ignore_index=True)\n",
    "        else:\n",
    "            link_performance_osm_sub = link_performance_osm_sub.append({'link_id': link_road_selected['link_id'].values[0],\\\n",
    "                                            'from_node_id': link_road_selected['from_node_id'].values[0],\\\n",
    "                                            'to_node_id': link_road_selected['to_node_id'].values[0],\\\n",
    "                                            'lanes': link_road_selected['lanes'].values[0],\\\n",
    "                                            'length': link_road_selected['length'].values[0],\\\n",
    "                                            'timestamp': None,\\\n",
    "                                            'geometry': link_road_selected['geometry'].values[0],\\\n",
    "                                            'volume': None,\\\n",
    "                                            'speed': None}, ignore_index=True)\n",
    "    link_performance_osm_sub = link_performance_osm_sub.drop_duplicates(['from_node_id', 'from_node_id']) #avoid one osm link corresponding to mutiple tmc link\n",
    "\n",
    "    link_performance_osm = link_performance_osm.append(link_performance_osm_sub)\n",
    "    link_performance_osm_sub = pd.DataFrame()\n",
    "link_performance_osm.to_csv(tmc_path + os.sep +'/link_performance_osm.csv')"
   ]
  },
  {
   "cell_type": "code",
   "execution_count": 20,
   "metadata": {},
   "outputs": [
    {
     "output_type": "execute_result",
     "data": {
      "text/plain": [
       "    link_id from_node_id to_node_id lanes      length         timestamp  \\\n",
       "0     18653        14870       9642     3  212.494420  2015-04-01T00:00   \n",
       "1     19078         9642       9643     4   41.060238  2015-04-01T00:00   \n",
       "2     29356         9643       9644     3  408.118298  2015-04-01T00:00   \n",
       "3     19075         9644      12392     3  406.037382  2015-04-01T00:00   \n",
       "4     19076        12392       9992     3  292.442839  2015-04-01T00:00   \n",
       "..      ...          ...        ...   ...         ...               ...   \n",
       "277   28010        13667       2478     4   53.275402  2015-04-01T01:55   \n",
       "278   28011         2478       2479     5  227.188989  2015-04-01T01:55   \n",
       "279   23860         2479      12397     3  336.383430  2015-04-01T01:55   \n",
       "280   23861        12397      12828     3  345.577687  2015-04-01T01:55   \n",
       "281   25491        12828      12388     3  398.936674  2015-04-01T01:55   \n",
       "\n",
       "                                              geometry volume speed  \n",
       "0    LINESTRING (-77.37091289999999 39.0140956, -77...    NaN    44  \n",
       "1    LINESTRING (-77.36887400000001 39.0130269, -77...    NaN    49  \n",
       "2    LINESTRING (-77.368475 39.0128263, -77.3679666...    NaN    49  \n",
       "3    LINESTRING (-77.36452420000001 39.0108146, -77...    NaN    48  \n",
       "4    LINESTRING (-77.3606994 39.0086931, -77.360374...    NaN    48  \n",
       "..                                                 ...    ...   ...  \n",
       "277  LINESTRING (-77.3552028 39.0059016, -77.355703...    NaN    49  \n",
       "278  LINESTRING (-77.3557033 39.0061814, -77.356692...    NaN    49  \n",
       "279  LINESTRING (-77.3578304 39.0073823, -77.357980...    NaN    49  \n",
       "280  LINESTRING (-77.360985 39.009155, -77.3614358 ...    NaN    49  \n",
       "281  LINESTRING (-77.3642456 39.0109544, -77.364827...    NaN    41  \n",
       "\n",
       "[6528 rows x 9 columns]"
      ],
      "text/html": "<div>\n<style scoped>\n    .dataframe tbody tr th:only-of-type {\n        vertical-align: middle;\n    }\n\n    .dataframe tbody tr th {\n        vertical-align: top;\n    }\n\n    .dataframe thead th {\n        text-align: right;\n    }\n</style>\n<table border=\"1\" class=\"dataframe\">\n  <thead>\n    <tr style=\"text-align: right;\">\n      <th></th>\n      <th>link_id</th>\n      <th>from_node_id</th>\n      <th>to_node_id</th>\n      <th>lanes</th>\n      <th>length</th>\n      <th>timestamp</th>\n      <th>geometry</th>\n      <th>volume</th>\n      <th>speed</th>\n    </tr>\n  </thead>\n  <tbody>\n    <tr>\n      <th>0</th>\n      <td>18653</td>\n      <td>14870</td>\n      <td>9642</td>\n      <td>3</td>\n      <td>212.494420</td>\n      <td>2015-04-01T00:00</td>\n      <td>LINESTRING (-77.37091289999999 39.0140956, -77...</td>\n      <td>NaN</td>\n      <td>44</td>\n    </tr>\n    <tr>\n      <th>1</th>\n      <td>19078</td>\n      <td>9642</td>\n      <td>9643</td>\n      <td>4</td>\n      <td>41.060238</td>\n      <td>2015-04-01T00:00</td>\n      <td>LINESTRING (-77.36887400000001 39.0130269, -77...</td>\n      <td>NaN</td>\n      <td>49</td>\n    </tr>\n    <tr>\n      <th>2</th>\n      <td>29356</td>\n      <td>9643</td>\n      <td>9644</td>\n      <td>3</td>\n      <td>408.118298</td>\n      <td>2015-04-01T00:00</td>\n      <td>LINESTRING (-77.368475 39.0128263, -77.3679666...</td>\n      <td>NaN</td>\n      <td>49</td>\n    </tr>\n    <tr>\n      <th>3</th>\n      <td>19075</td>\n      <td>9644</td>\n      <td>12392</td>\n      <td>3</td>\n      <td>406.037382</td>\n      <td>2015-04-01T00:00</td>\n      <td>LINESTRING (-77.36452420000001 39.0108146, -77...</td>\n      <td>NaN</td>\n      <td>48</td>\n    </tr>\n    <tr>\n      <th>4</th>\n      <td>19076</td>\n      <td>12392</td>\n      <td>9992</td>\n      <td>3</td>\n      <td>292.442839</td>\n      <td>2015-04-01T00:00</td>\n      <td>LINESTRING (-77.3606994 39.0086931, -77.360374...</td>\n      <td>NaN</td>\n      <td>48</td>\n    </tr>\n    <tr>\n      <th>...</th>\n      <td>...</td>\n      <td>...</td>\n      <td>...</td>\n      <td>...</td>\n      <td>...</td>\n      <td>...</td>\n      <td>...</td>\n      <td>...</td>\n      <td>...</td>\n    </tr>\n    <tr>\n      <th>277</th>\n      <td>28010</td>\n      <td>13667</td>\n      <td>2478</td>\n      <td>4</td>\n      <td>53.275402</td>\n      <td>2015-04-01T01:55</td>\n      <td>LINESTRING (-77.3552028 39.0059016, -77.355703...</td>\n      <td>NaN</td>\n      <td>49</td>\n    </tr>\n    <tr>\n      <th>278</th>\n      <td>28011</td>\n      <td>2478</td>\n      <td>2479</td>\n      <td>5</td>\n      <td>227.188989</td>\n      <td>2015-04-01T01:55</td>\n      <td>LINESTRING (-77.3557033 39.0061814, -77.356692...</td>\n      <td>NaN</td>\n      <td>49</td>\n    </tr>\n    <tr>\n      <th>279</th>\n      <td>23860</td>\n      <td>2479</td>\n      <td>12397</td>\n      <td>3</td>\n      <td>336.383430</td>\n      <td>2015-04-01T01:55</td>\n      <td>LINESTRING (-77.3578304 39.0073823, -77.357980...</td>\n      <td>NaN</td>\n      <td>49</td>\n    </tr>\n    <tr>\n      <th>280</th>\n      <td>23861</td>\n      <td>12397</td>\n      <td>12828</td>\n      <td>3</td>\n      <td>345.577687</td>\n      <td>2015-04-01T01:55</td>\n      <td>LINESTRING (-77.360985 39.009155, -77.3614358 ...</td>\n      <td>NaN</td>\n      <td>49</td>\n    </tr>\n    <tr>\n      <th>281</th>\n      <td>25491</td>\n      <td>12828</td>\n      <td>12388</td>\n      <td>3</td>\n      <td>398.936674</td>\n      <td>2015-04-01T01:55</td>\n      <td>LINESTRING (-77.3642456 39.0109544, -77.364827...</td>\n      <td>NaN</td>\n      <td>41</td>\n    </tr>\n  </tbody>\n</table>\n<p>6528 rows × 9 columns</p>\n</div>"
     },
     "metadata": {},
     "execution_count": 20
    }
   ],
   "source": [
    "link_performance_osm"
   ]
  },
  {
   "cell_type": "code",
   "execution_count": null,
   "metadata": {},
   "outputs": [],
   "source": []
  },
  {
   "cell_type": "code",
   "execution_count": 32,
   "metadata": {},
   "outputs": [],
   "source": []
  },
  {
   "cell_type": "code",
   "execution_count": null,
   "metadata": {},
   "outputs": [],
   "source": []
  }
 ]
}