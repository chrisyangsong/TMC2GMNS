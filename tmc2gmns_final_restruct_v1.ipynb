{
 "metadata": {
  "language_info": {
   "codemirror_mode": {
    "name": "ipython",
    "version": 3
   },
   "file_extension": ".py",
   "mimetype": "text/x-python",
   "name": "python",
   "nbconvert_exporter": "python",
   "pygments_lexer": "ipython3",
   "version": "3.8.5"
  },
  "orig_nbformat": 2,
  "kernelspec": {
   "name": "python3",
   "display_name": "Python 3.8.5 64-bit ('base': conda)"
  },
  "interpreter": {
   "hash": "f60418cf0f93cafce689393a2d664cdd36dee00bdf33293458885c5a1a5b95d3"
  }
 },
 "nbformat": 4,
 "nbformat_minor": 2,
 "cells": [
  {
   "cell_type": "code",
   "execution_count": 1,
   "metadata": {},
   "outputs": [],
   "source": [
    "import os\n",
    "import math\n",
    "import datetime\n",
    "import numpy as np\n",
    "import pandas as pd\n",
    "\n",
    "\n",
    "import time\n",
    "import os.path"
   ]
  },
  {
   "source": [
    "## step 1 obtain OSM network"
   ],
   "cell_type": "markdown",
   "metadata": {}
  },
  {
   "cell_type": "code",
   "execution_count": 2,
   "metadata": {},
   "outputs": [
    {
     "output_type": "stream",
     "name": "stdout",
     "text": [
      "osm2gmns, version 0.4.2\n"
     ]
    }
   ],
   "source": [
    "\"Get the OSM Network\"\n",
    "network_type = 'auto'\n",
    "import osm2gmns as og\n",
    "\n",
    "net = og.getNetFromOSMFile('tmc.osm',network_type=(network_type), default_lanes=True, default_speed=True)\n",
    "\n",
    "og.consolidateComplexIntersections(net)\n",
    "og.outputNetToCSV(net, output_folder=os.getcwd())"
   ]
  },
  {
   "source": [
    "## step 2 Convert tmc Data into node and link"
   ],
   "cell_type": "markdown",
   "metadata": {}
  },
  {
   "cell_type": "code",
   "execution_count": 3,
   "metadata": {},
   "outputs": [],
   "source": [
    "\"Convert TMC Data into GMNS Format\"\n",
    "tmc = pd.read_csv('TMC_Identification.csv')"
   ]
  },
  {
   "cell_type": "code",
   "execution_count": 4,
   "metadata": {},
   "outputs": [
    {
     "output_type": "stream",
     "name": "stdout",
     "text": [
      "converting tmc data into gmns format...\nnode_tmc.csv generated!\n"
     ]
    }
   ],
   "source": [
    "\n",
    "'''build node.csv'''\n",
    "print('converting tmc data into gmns format...')\n",
    "\n",
    "\n",
    "node_tmc = pd.DataFrame()\n",
    "node_tmc['name'] = None\n",
    "node_tmc['x_coord'] = None\n",
    "node_tmc['y_coord'] = None\n",
    "node_tmc['z_coord'] = None\n",
    "node_tmc['node_type'] = None\n",
    "node_tmc['ctrl_type'] = None\n",
    "node_tmc['zone_id'] = None\n",
    "node_tmc['parent_node_id'] = None\n",
    "node_tmc['geometry'] = None\n",
    "\n",
    "for i in range(0,len(tmc)-1):\n",
    "    if tmc.loc[i+1,'road_order'] > tmc.loc[i,'road_order']:\n",
    "        node_tmc = node_tmc.append({'name': tmc.loc[i,'tmc'],\\\n",
    "                                    'x_coord': tmc.loc[i,'start_longitude'], \\\n",
    "                                    'y_coord': tmc.loc[i,'start_latitude'],\\\n",
    "                                    'z_coord': None,\\\n",
    "                                    'node_type': 'tmc_start',\\\n",
    "                                    'ctrl_type': None,\\\n",
    "                                    'zone_id': None,\\\n",
    "                                    'parent_node_id': None,\\\n",
    "                                    'geometry': \"POINT (\" + tmc.loc[i,'start_longitude'].astype(str) + \" \" + tmc.loc[i,'start_latitude'].astype(str) +\")\"}, ignore_index=True)\n",
    "    else:\n",
    "        node_tmc = node_tmc.append({'name': tmc.loc[i,'tmc'],\\\n",
    "                                    'x_coord': tmc.loc[i,'start_longitude'], \\\n",
    "                                    'y_coord': tmc.loc[i,'start_latitude'],\\\n",
    "                                    'z_coord': None,\\\n",
    "                                    'node_type': 'tmc_start',\\\n",
    "                                    'ctrl_type': None,\\\n",
    "                                    'zone_id': None,\\\n",
    "                                    'parent_node_id': None,\\\n",
    "                                    'geometry': \"POINT (\" + tmc.loc[i,'start_longitude'].astype(str) + \" \" + tmc.loc[i,'start_latitude'].astype(str) +\")\"}, ignore_index=True)\n",
    "        node_tmc = node_tmc.append({'name': tmc.loc[i,'tmc']+'END',\\\n",
    "                                    'x_coord': tmc.loc[i,'end_longitude'], \\\n",
    "                                    'y_coord': tmc.loc[i,'end_latitude'],\\\n",
    "                                    'z_coord': None,\\\n",
    "                                    'node_type': 'tmc_end',\\\n",
    "                                    'ctrl_type': None,\\\n",
    "                                    'zone_id': None,\\\n",
    "                                    'parent_node_id': None,\\\n",
    "                                    'geometry': \"POINT (\" + tmc.loc[i,'end_longitude'].astype(str) + \" \" + tmc.loc[i,'end_latitude'].astype(str) +\")\"}, ignore_index=True)\n",
    "\n",
    "\n",
    "node_tmc = node_tmc.append({'name': tmc.loc[i+1,'tmc'],\\\n",
    "                                    'x_coord': tmc.loc[i+1,'start_longitude'], \\\n",
    "                                    'y_coord': tmc.loc[i+1,'start_latitude'],\\\n",
    "                                    'z_coord': None,\\\n",
    "                                    'node_type': 'tmc_start',\\\n",
    "                                    'ctrl_type': None,\\\n",
    "                                    'zone_id': None,\\\n",
    "                                    'parent_node_id': None,\\\n",
    "                                    'geometry': \"POINT (\" + tmc.loc[i+1,'start_longitude'].astype(str) + \" \" + tmc.loc[i+1,'start_latitude'].astype(str) +\")\"}, ignore_index=True)\n",
    "\n",
    "node_tmc = node_tmc.append({'name': tmc.loc[i+1,'tmc']+'END',\\\n",
    "                                    'x_coord': tmc.loc[i+1,'end_longitude'], \\\n",
    "                                    'y_coord': tmc.loc[i+1,'end_latitude'],\\\n",
    "                                    'z_coord': None,\\\n",
    "                                    'node_type': 'tmc_end',\\\n",
    "                                    'ctrl_type': None,\\\n",
    "                                    'zone_id': None,\\\n",
    "                                    'parent_node_id': None,\\\n",
    "                                    'geometry': \"POINT (\" + tmc.loc[i+1,'end_longitude'].astype(str) + \" \" + tmc.loc[i+1,'end_latitude'].astype(str) +\")\"}, ignore_index=True)\n",
    "\n",
    "node_tmc.index.name = 'node_id'\n",
    "\n",
    "node_tmc.index += 100000001 #index from 0\n",
    "\n",
    "node_tmc.to_csv('node_tmc.csv')\n",
    "print('node_tmc.csv generated!')"
   ]
  },
  {
   "cell_type": "code",
   "execution_count": 5,
   "metadata": {},
   "outputs": [
    {
     "output_type": "execute_result",
     "data": {
      "text/plain": [
       "                   name  x_coord  y_coord z_coord  node_type ctrl_type  \\\n",
       "node_id                                                                  \n",
       "100000001     110N05711 -77.3715  39.0144    None  tmc_start      None   \n",
       "100000002     110-05710 -77.3709  39.0141    None  tmc_start      None   \n",
       "100000003     110N05710 -77.3684  39.0127    None  tmc_start      None   \n",
       "100000004     110-05709 -77.3605  39.0086    None  tmc_start      None   \n",
       "100000005     110-05708 -77.3502  39.0028    None  tmc_start      None   \n",
       "...                 ...      ...      ...     ...        ...       ...   \n",
       "100000060     110+05710 -77.3500  39.0030    None  tmc_start      None   \n",
       "100000061     110P05710 -77.3609  39.0090    None  tmc_start      None   \n",
       "100000062     110+05711 -77.3673  39.0125    None  tmc_start      None   \n",
       "100000063     110P05711 -77.3707  39.0143    None  tmc_start      None   \n",
       "100000064  110P05711END -77.3709  39.0143    None    tmc_end      None   \n",
       "\n",
       "          zone_id parent_node_id                  geometry  \n",
       "node_id                                                     \n",
       "100000001    None           None  POINT (-77.3715 39.0144)  \n",
       "100000002    None           None  POINT (-77.3709 39.0141)  \n",
       "100000003    None           None  POINT (-77.3684 39.0127)  \n",
       "100000004    None           None  POINT (-77.3605 39.0086)  \n",
       "100000005    None           None  POINT (-77.3502 39.0028)  \n",
       "...           ...            ...                       ...  \n",
       "100000060    None           None     POINT (-77.35 39.003)  \n",
       "100000061    None           None   POINT (-77.3609 39.009)  \n",
       "100000062    None           None  POINT (-77.3673 39.0125)  \n",
       "100000063    None           None  POINT (-77.3707 39.0143)  \n",
       "100000064    None           None  POINT (-77.3709 39.0143)  \n",
       "\n",
       "[64 rows x 9 columns]"
      ],
      "text/html": "<div>\n<style scoped>\n    .dataframe tbody tr th:only-of-type {\n        vertical-align: middle;\n    }\n\n    .dataframe tbody tr th {\n        vertical-align: top;\n    }\n\n    .dataframe thead th {\n        text-align: right;\n    }\n</style>\n<table border=\"1\" class=\"dataframe\">\n  <thead>\n    <tr style=\"text-align: right;\">\n      <th></th>\n      <th>name</th>\n      <th>x_coord</th>\n      <th>y_coord</th>\n      <th>z_coord</th>\n      <th>node_type</th>\n      <th>ctrl_type</th>\n      <th>zone_id</th>\n      <th>parent_node_id</th>\n      <th>geometry</th>\n    </tr>\n    <tr>\n      <th>node_id</th>\n      <th></th>\n      <th></th>\n      <th></th>\n      <th></th>\n      <th></th>\n      <th></th>\n      <th></th>\n      <th></th>\n      <th></th>\n    </tr>\n  </thead>\n  <tbody>\n    <tr>\n      <th>100000001</th>\n      <td>110N05711</td>\n      <td>-77.3715</td>\n      <td>39.0144</td>\n      <td>None</td>\n      <td>tmc_start</td>\n      <td>None</td>\n      <td>None</td>\n      <td>None</td>\n      <td>POINT (-77.3715 39.0144)</td>\n    </tr>\n    <tr>\n      <th>100000002</th>\n      <td>110-05710</td>\n      <td>-77.3709</td>\n      <td>39.0141</td>\n      <td>None</td>\n      <td>tmc_start</td>\n      <td>None</td>\n      <td>None</td>\n      <td>None</td>\n      <td>POINT (-77.3709 39.0141)</td>\n    </tr>\n    <tr>\n      <th>100000003</th>\n      <td>110N05710</td>\n      <td>-77.3684</td>\n      <td>39.0127</td>\n      <td>None</td>\n      <td>tmc_start</td>\n      <td>None</td>\n      <td>None</td>\n      <td>None</td>\n      <td>POINT (-77.3684 39.0127)</td>\n    </tr>\n    <tr>\n      <th>100000004</th>\n      <td>110-05709</td>\n      <td>-77.3605</td>\n      <td>39.0086</td>\n      <td>None</td>\n      <td>tmc_start</td>\n      <td>None</td>\n      <td>None</td>\n      <td>None</td>\n      <td>POINT (-77.3605 39.0086)</td>\n    </tr>\n    <tr>\n      <th>100000005</th>\n      <td>110-05708</td>\n      <td>-77.3502</td>\n      <td>39.0028</td>\n      <td>None</td>\n      <td>tmc_start</td>\n      <td>None</td>\n      <td>None</td>\n      <td>None</td>\n      <td>POINT (-77.3502 39.0028)</td>\n    </tr>\n    <tr>\n      <th>...</th>\n      <td>...</td>\n      <td>...</td>\n      <td>...</td>\n      <td>...</td>\n      <td>...</td>\n      <td>...</td>\n      <td>...</td>\n      <td>...</td>\n      <td>...</td>\n    </tr>\n    <tr>\n      <th>100000060</th>\n      <td>110+05710</td>\n      <td>-77.3500</td>\n      <td>39.0030</td>\n      <td>None</td>\n      <td>tmc_start</td>\n      <td>None</td>\n      <td>None</td>\n      <td>None</td>\n      <td>POINT (-77.35 39.003)</td>\n    </tr>\n    <tr>\n      <th>100000061</th>\n      <td>110P05710</td>\n      <td>-77.3609</td>\n      <td>39.0090</td>\n      <td>None</td>\n      <td>tmc_start</td>\n      <td>None</td>\n      <td>None</td>\n      <td>None</td>\n      <td>POINT (-77.3609 39.009)</td>\n    </tr>\n    <tr>\n      <th>100000062</th>\n      <td>110+05711</td>\n      <td>-77.3673</td>\n      <td>39.0125</td>\n      <td>None</td>\n      <td>tmc_start</td>\n      <td>None</td>\n      <td>None</td>\n      <td>None</td>\n      <td>POINT (-77.3673 39.0125)</td>\n    </tr>\n    <tr>\n      <th>100000063</th>\n      <td>110P05711</td>\n      <td>-77.3707</td>\n      <td>39.0143</td>\n      <td>None</td>\n      <td>tmc_start</td>\n      <td>None</td>\n      <td>None</td>\n      <td>None</td>\n      <td>POINT (-77.3707 39.0143)</td>\n    </tr>\n    <tr>\n      <th>100000064</th>\n      <td>110P05711END</td>\n      <td>-77.3709</td>\n      <td>39.0143</td>\n      <td>None</td>\n      <td>tmc_end</td>\n      <td>None</td>\n      <td>None</td>\n      <td>None</td>\n      <td>POINT (-77.3709 39.0143)</td>\n    </tr>\n  </tbody>\n</table>\n<p>64 rows × 9 columns</p>\n</div>"
     },
     "metadata": {},
     "execution_count": 5
    }
   ],
   "source": [
    "node_tmc"
   ]
  },
  {
   "cell_type": "code",
   "execution_count": 6,
   "metadata": {},
   "outputs": [
    {
     "output_type": "stream",
     "name": "stdout",
     "text": [
      "link_tmc.csv generated!\n"
     ]
    }
   ],
   "source": [
    "'''build link_tmc.csv'''\n",
    "link_tmc = pd.DataFrame()\n",
    "link_tmc['name'] = None\n",
    "link_tmc['corridor_id'] = None\n",
    "link_tmc['corridor_link_order'] = None\n",
    "link_tmc['from_node_id'] = None\n",
    "link_tmc['to_node_id'] = None\n",
    "link_tmc['directed'] = None\n",
    "link_tmc['geometry_id'] = None\n",
    "link_tmc['geometry'] = None\n",
    "link_tmc['dir_flag'] = None\n",
    "link_tmc['parent_link_id'] = None\n",
    "link_tmc['length'] = None\n",
    "link_tmc['grade'] = None\n",
    "link_tmc['facility_type'] = None\n",
    "link_tmc['capacity'] = None\n",
    "link_tmc['free_speed'] = None\n",
    "link_tmc['lanes'] = None\n",
    "\n",
    "for i in range(0,len(tmc)):\n",
    "    link_tmc = link_tmc.append({'name': tmc.loc[i,'tmc'],\\\n",
    "                                'corridor_id': tmc.loc[i,'road']+'_'+tmc.loc[i,'direction'],\\\n",
    "                                'corridor_link_order' : tmc.loc[i,'road_order'],\\\n",
    "                                'from_node_id': node_tmc[(node_tmc['x_coord']==tmc.loc[i,'start_longitude']) & (node_tmc['y_coord']==tmc.loc[i,'start_latitude'])].index.values[0], \\\n",
    "                                'to_node_id': node_tmc[(node_tmc['x_coord']==tmc.loc[i,'end_longitude']) & (node_tmc['y_coord']==tmc.loc[i,'end_latitude'])].index.values[0],\\\n",
    "                                'directed': 1,\\\n",
    "                                'geometry_id': None,\\\n",
    "                                'geometry': \"LINESTRING (\" + tmc.loc[i,'start_longitude'].astype(str) + \" \" + tmc.loc[i,'start_latitude'].astype(str) + \",\" +\\\n",
    "                                    tmc.loc[i,'end_longitude'].astype(str) +\" \"+ tmc.loc[i,'end_latitude'].astype(str) + \")\",\\\n",
    "                                'dir_flag': 1,\\\n",
    "                                'parent_link_id': None,\\\n",
    "                                'length': tmc.loc[i,'miles'],\\\n",
    "                                'grade': None,\\\n",
    "                                'facility_type': 'interstate' if tmc.loc[i,'road'][0] == 'I'else None ,\\\n",
    "                                'capacity':None,\\\n",
    "                                'free_speed':None,\\\n",
    "                                'lanes': None}, ignore_index=True)\n",
    "link_tmc.index.name = 'link_id'\n",
    "link_tmc.index += 100000001\n",
    "\n",
    "\n",
    "link_tmc.to_csv('link_tmc.csv')\n",
    "print('link_tmc.csv generated!')\n"
   ]
  },
  {
   "cell_type": "code",
   "execution_count": 7,
   "metadata": {},
   "outputs": [
    {
     "output_type": "execute_result",
     "data": {
      "text/plain": [
       "                name     corridor_id  corridor_link_order from_node_id  \\\n",
       "link_id                                                                  \n",
       "100000001  110N05711  VA-7_EASTBOUND                 38.0    100000001   \n",
       "100000002  110-05710  VA-7_EASTBOUND                 39.0    100000002   \n",
       "100000003  110N05710  VA-7_EASTBOUND                 40.0    100000003   \n",
       "100000004  110-05709  VA-7_EASTBOUND                 41.0    100000004   \n",
       "100000005  110-05708  VA-7_EASTBOUND                 42.0    100000005   \n",
       "...              ...             ...                  ...          ...   \n",
       "100000058  110+05709  VA-7_WESTBOUND                 45.0    100000059   \n",
       "100000059  110+05710  VA-7_WESTBOUND                 46.0    100000060   \n",
       "100000060  110P05710  VA-7_WESTBOUND                 47.0    100000061   \n",
       "100000061  110+05711  VA-7_WESTBOUND                 48.0    100000062   \n",
       "100000062  110P05711  VA-7_WESTBOUND                 48.1    100000063   \n",
       "\n",
       "          to_node_id directed geometry_id  \\\n",
       "link_id                                     \n",
       "100000001  100000002        1        None   \n",
       "100000002  100000003        1        None   \n",
       "100000003  100000004        1        None   \n",
       "100000004  100000005        1        None   \n",
       "100000005  100000006        1        None   \n",
       "...              ...      ...         ...   \n",
       "100000058  100000060        1        None   \n",
       "100000059  100000061        1        None   \n",
       "100000060  100000062        1        None   \n",
       "100000061  100000063        1        None   \n",
       "100000062  100000064        1        None   \n",
       "\n",
       "                                                 geometry dir_flag  \\\n",
       "link_id                                                              \n",
       "100000001  LINESTRING (-77.3715 39.0144,-77.3709 39.0141)        1   \n",
       "100000002  LINESTRING (-77.3709 39.0141,-77.3684 39.0127)        1   \n",
       "100000003  LINESTRING (-77.3684 39.0127,-77.3605 39.0086)        1   \n",
       "100000004  LINESTRING (-77.3605 39.0086,-77.3502 39.0028)        1   \n",
       "100000005  LINESTRING (-77.3502 39.0028,-77.3455 39.0005)        1   \n",
       "...                                                   ...      ...   \n",
       "100000058       LINESTRING (-77.346 39.001,-77.35 39.003)        1   \n",
       "100000059      LINESTRING (-77.35 39.003,-77.3609 39.009)        1   \n",
       "100000060   LINESTRING (-77.3609 39.009,-77.3673 39.0125)        1   \n",
       "100000061  LINESTRING (-77.3673 39.0125,-77.3707 39.0143)        1   \n",
       "100000062  LINESTRING (-77.3707 39.0143,-77.3709 39.0143)        1   \n",
       "\n",
       "          parent_link_id    length grade facility_type capacity free_speed  \\\n",
       "link_id                                                                      \n",
       "100000001           None  0.038620  None          None     None       None   \n",
       "100000002           None  0.164895  None          None     None       None   \n",
       "100000003           None  0.512158  None          None     None       None   \n",
       "100000004           None  0.682589  None          None     None       None   \n",
       "100000005           None  0.296731  None          None     None       None   \n",
       "...                  ...       ...   ...           ...      ...        ...   \n",
       "100000058           None  0.254799  None          None     None       None   \n",
       "100000059           None  0.718593  None          None     None       None   \n",
       "100000060           None  0.421999  None          None     None       None   \n",
       "100000061           None  0.220479  None          None     None       None   \n",
       "100000062           None  0.007960  None          None     None       None   \n",
       "\n",
       "          lanes  \n",
       "link_id          \n",
       "100000001  None  \n",
       "100000002  None  \n",
       "100000003  None  \n",
       "100000004  None  \n",
       "100000005  None  \n",
       "...         ...  \n",
       "100000058  None  \n",
       "100000059  None  \n",
       "100000060  None  \n",
       "100000061  None  \n",
       "100000062  None  \n",
       "\n",
       "[62 rows x 16 columns]"
      ],
      "text/html": "<div>\n<style scoped>\n    .dataframe tbody tr th:only-of-type {\n        vertical-align: middle;\n    }\n\n    .dataframe tbody tr th {\n        vertical-align: top;\n    }\n\n    .dataframe thead th {\n        text-align: right;\n    }\n</style>\n<table border=\"1\" class=\"dataframe\">\n  <thead>\n    <tr style=\"text-align: right;\">\n      <th></th>\n      <th>name</th>\n      <th>corridor_id</th>\n      <th>corridor_link_order</th>\n      <th>from_node_id</th>\n      <th>to_node_id</th>\n      <th>directed</th>\n      <th>geometry_id</th>\n      <th>geometry</th>\n      <th>dir_flag</th>\n      <th>parent_link_id</th>\n      <th>length</th>\n      <th>grade</th>\n      <th>facility_type</th>\n      <th>capacity</th>\n      <th>free_speed</th>\n      <th>lanes</th>\n    </tr>\n    <tr>\n      <th>link_id</th>\n      <th></th>\n      <th></th>\n      <th></th>\n      <th></th>\n      <th></th>\n      <th></th>\n      <th></th>\n      <th></th>\n      <th></th>\n      <th></th>\n      <th></th>\n      <th></th>\n      <th></th>\n      <th></th>\n      <th></th>\n      <th></th>\n    </tr>\n  </thead>\n  <tbody>\n    <tr>\n      <th>100000001</th>\n      <td>110N05711</td>\n      <td>VA-7_EASTBOUND</td>\n      <td>38.0</td>\n      <td>100000001</td>\n      <td>100000002</td>\n      <td>1</td>\n      <td>None</td>\n      <td>LINESTRING (-77.3715 39.0144,-77.3709 39.0141)</td>\n      <td>1</td>\n      <td>None</td>\n      <td>0.038620</td>\n      <td>None</td>\n      <td>None</td>\n      <td>None</td>\n      <td>None</td>\n      <td>None</td>\n    </tr>\n    <tr>\n      <th>100000002</th>\n      <td>110-05710</td>\n      <td>VA-7_EASTBOUND</td>\n      <td>39.0</td>\n      <td>100000002</td>\n      <td>100000003</td>\n      <td>1</td>\n      <td>None</td>\n      <td>LINESTRING (-77.3709 39.0141,-77.3684 39.0127)</td>\n      <td>1</td>\n      <td>None</td>\n      <td>0.164895</td>\n      <td>None</td>\n      <td>None</td>\n      <td>None</td>\n      <td>None</td>\n      <td>None</td>\n    </tr>\n    <tr>\n      <th>100000003</th>\n      <td>110N05710</td>\n      <td>VA-7_EASTBOUND</td>\n      <td>40.0</td>\n      <td>100000003</td>\n      <td>100000004</td>\n      <td>1</td>\n      <td>None</td>\n      <td>LINESTRING (-77.3684 39.0127,-77.3605 39.0086)</td>\n      <td>1</td>\n      <td>None</td>\n      <td>0.512158</td>\n      <td>None</td>\n      <td>None</td>\n      <td>None</td>\n      <td>None</td>\n      <td>None</td>\n    </tr>\n    <tr>\n      <th>100000004</th>\n      <td>110-05709</td>\n      <td>VA-7_EASTBOUND</td>\n      <td>41.0</td>\n      <td>100000004</td>\n      <td>100000005</td>\n      <td>1</td>\n      <td>None</td>\n      <td>LINESTRING (-77.3605 39.0086,-77.3502 39.0028)</td>\n      <td>1</td>\n      <td>None</td>\n      <td>0.682589</td>\n      <td>None</td>\n      <td>None</td>\n      <td>None</td>\n      <td>None</td>\n      <td>None</td>\n    </tr>\n    <tr>\n      <th>100000005</th>\n      <td>110-05708</td>\n      <td>VA-7_EASTBOUND</td>\n      <td>42.0</td>\n      <td>100000005</td>\n      <td>100000006</td>\n      <td>1</td>\n      <td>None</td>\n      <td>LINESTRING (-77.3502 39.0028,-77.3455 39.0005)</td>\n      <td>1</td>\n      <td>None</td>\n      <td>0.296731</td>\n      <td>None</td>\n      <td>None</td>\n      <td>None</td>\n      <td>None</td>\n      <td>None</td>\n    </tr>\n    <tr>\n      <th>...</th>\n      <td>...</td>\n      <td>...</td>\n      <td>...</td>\n      <td>...</td>\n      <td>...</td>\n      <td>...</td>\n      <td>...</td>\n      <td>...</td>\n      <td>...</td>\n      <td>...</td>\n      <td>...</td>\n      <td>...</td>\n      <td>...</td>\n      <td>...</td>\n      <td>...</td>\n      <td>...</td>\n    </tr>\n    <tr>\n      <th>100000058</th>\n      <td>110+05709</td>\n      <td>VA-7_WESTBOUND</td>\n      <td>45.0</td>\n      <td>100000059</td>\n      <td>100000060</td>\n      <td>1</td>\n      <td>None</td>\n      <td>LINESTRING (-77.346 39.001,-77.35 39.003)</td>\n      <td>1</td>\n      <td>None</td>\n      <td>0.254799</td>\n      <td>None</td>\n      <td>None</td>\n      <td>None</td>\n      <td>None</td>\n      <td>None</td>\n    </tr>\n    <tr>\n      <th>100000059</th>\n      <td>110+05710</td>\n      <td>VA-7_WESTBOUND</td>\n      <td>46.0</td>\n      <td>100000060</td>\n      <td>100000061</td>\n      <td>1</td>\n      <td>None</td>\n      <td>LINESTRING (-77.35 39.003,-77.3609 39.009)</td>\n      <td>1</td>\n      <td>None</td>\n      <td>0.718593</td>\n      <td>None</td>\n      <td>None</td>\n      <td>None</td>\n      <td>None</td>\n      <td>None</td>\n    </tr>\n    <tr>\n      <th>100000060</th>\n      <td>110P05710</td>\n      <td>VA-7_WESTBOUND</td>\n      <td>47.0</td>\n      <td>100000061</td>\n      <td>100000062</td>\n      <td>1</td>\n      <td>None</td>\n      <td>LINESTRING (-77.3609 39.009,-77.3673 39.0125)</td>\n      <td>1</td>\n      <td>None</td>\n      <td>0.421999</td>\n      <td>None</td>\n      <td>None</td>\n      <td>None</td>\n      <td>None</td>\n      <td>None</td>\n    </tr>\n    <tr>\n      <th>100000061</th>\n      <td>110+05711</td>\n      <td>VA-7_WESTBOUND</td>\n      <td>48.0</td>\n      <td>100000062</td>\n      <td>100000063</td>\n      <td>1</td>\n      <td>None</td>\n      <td>LINESTRING (-77.3673 39.0125,-77.3707 39.0143)</td>\n      <td>1</td>\n      <td>None</td>\n      <td>0.220479</td>\n      <td>None</td>\n      <td>None</td>\n      <td>None</td>\n      <td>None</td>\n      <td>None</td>\n    </tr>\n    <tr>\n      <th>100000062</th>\n      <td>110P05711</td>\n      <td>VA-7_WESTBOUND</td>\n      <td>48.1</td>\n      <td>100000063</td>\n      <td>100000064</td>\n      <td>1</td>\n      <td>None</td>\n      <td>LINESTRING (-77.3707 39.0143,-77.3709 39.0143)</td>\n      <td>1</td>\n      <td>None</td>\n      <td>0.007960</td>\n      <td>None</td>\n      <td>None</td>\n      <td>None</td>\n      <td>None</td>\n      <td>None</td>\n    </tr>\n  </tbody>\n</table>\n<p>62 rows × 16 columns</p>\n</div>"
     },
     "metadata": {},
     "execution_count": 7
    }
   ],
   "source": [
    "link_tmc"
   ]
  },
  {
   "cell_type": "code",
   "execution_count": 8,
   "metadata": {},
   "outputs": [],
   "source": [
    "## reading by detid\n",
    "reading = pd.read_csv('Reading.csv')\n",
    "reading = reading.loc[0:500]\n",
    "\n",
    "\n",
    "reading_dict = {}\n",
    "gp = reading.groupby('_vatmc_code')\n",
    "for key, form in gp:\n",
    "    reading_dict[key] = {\n",
    "        'measurement_tstamp':form['measurement_tstamp'].tolist(),\n",
    "        'speed':form['speed'].tolist()\n",
    "        }"
   ]
  },
  {
   "cell_type": "code",
   "execution_count": 9,
   "metadata": {},
   "outputs": [
    {
     "output_type": "stream",
     "name": "stdout",
     "text": [
      "100000020\n100000040\n100000060\nmeasurement_tmc.csv generated!\n"
     ]
    }
   ],
   "source": [
    "'''build measurement_tmc.csv''' \n",
    "\n",
    "measurement_tmc = pd.DataFrame()\n",
    "measurement_tmc['link_id_tmc'] = None\n",
    "measurement_tmc['corridor_id'] = None\n",
    "measurement_tmc['corridor_link_order'] = None\n",
    "measurement_tmc['from_node_id'] = None\n",
    "measurement_tmc['to_node_id'] = None\n",
    "measurement_tmc['time_period'] = None\n",
    "measurement_tmc['date'] = None\n",
    "measurement_tmc['geometry'] = None\n",
    "measurement_tmc['volume'] = None\n",
    "measurement_tmc['travel_time'] = None\n",
    "measurement_tmc['speed'] = None\n",
    "measurement_tmc['reference_speed'] = None\n",
    "measurement_tmc['density'] = None\n",
    "measurement_tmc['queue'] = None\n",
    "measurement_tmc['notes'] = None\n",
    "\n",
    "\n",
    "k=0\n",
    "measurement_tmc_dict = {}\n",
    "for i in link_tmc.index:\n",
    "    try:\n",
    "        reading_dict_selected = reading_dict[link_tmc['name'][i]]\n",
    "        for j in range(0,len(reading_dict_selected['measurement_tstamp']),3):\n",
    "            measurement_tmc_dict[k] = {'link_id_tmc': i,\\\n",
    "                                            'corridor_id': link_tmc['corridor_id'][i],\\\n",
    "                                            'corridor_link_order' : link_tmc['corridor_link_order'][i],\\\n",
    "                                            'from_node_id': link_tmc.loc[i,'from_node_id'], \\\n",
    "                                            'to_node_id': link_tmc.loc[i,'to_node_id'], \\\n",
    "                                            'time_period': reading_dict_selected['measurement_tstamp'][j][11:13]+\\\n",
    "                                                reading_dict_selected['measurement_tstamp'][j][14:16]+'_'+\\\n",
    "                                                reading_dict_selected['measurement_tstamp'][j+3][11:13]+\\\n",
    "                                                reading_dict_selected['measurement_tstamp'][j+3][14:16],\\\n",
    "                                            'date': reading_dict_selected['measurement_tstamp'][j][:10],\\\n",
    "                                            'geometry': link_tmc['geometry'][i],\\\n",
    "                                            'volume': None,\\\n",
    "                                            'travel_time': None,\\\n",
    "                                            'speed':round(np.mean(reading_dict_selected['speed'][j:j+3])),\\\n",
    "                                            'reference_speed': None,\\\n",
    "                                            'density': None,\\\n",
    "                                            'queue': None,\\\n",
    "                                            'notes': None }\n",
    "            k += 1\n",
    "\n",
    "    except:\n",
    "        measurement_tmc_dict[k] = {'link_id_tmc': i,\\\n",
    "                                        'corridor_id': link_tmc['corridor_id'][i],\\\n",
    "                                        'corridor_link_order' : link_tmc['corridor_link_order'][i],\\\n",
    "                                        'from_node_id': link_tmc.loc[i,'from_node_id'], \\\n",
    "                                        'to_node_id': link_tmc.loc[i,'to_node_id'], \\\n",
    "                                        'time_period': None,\\\n",
    "                                        'date': None,\\\n",
    "                                        'geometry': link_tmc['geometry'][i],\\\n",
    "                                        'volume': None,\\\n",
    "                                        'travel_time': None,\\\n",
    "                                        'speed': None,\\\n",
    "                                        'reference_speed': None,\\\n",
    "                                        'density': None,\\\n",
    "                                        'queue': None,\\\n",
    "                                        'notes': None }\n",
    "        k += 1\n",
    "\n",
    "\n",
    "    if i % 20 == 0 : print(i)\n",
    "measurement_tmc = pd.DataFrame(measurement_tmc_dict).transpose()\n",
    "measurement_tmc.to_csv('measurement_tmc.csv',index = False)\n",
    "print('measurement_tmc.csv generated!')"
   ]
  },
  {
   "cell_type": "code",
   "execution_count": 10,
   "metadata": {},
   "outputs": [
    {
     "output_type": "execute_result",
     "data": {
      "text/plain": [
       "    link_id_tmc     corridor_id corridor_link_order from_node_id to_node_id  \\\n",
       "0     100000001  VA-7_EASTBOUND                  38    100000001  100000002   \n",
       "1     100000001  VA-7_EASTBOUND                  38    100000001  100000002   \n",
       "2     100000001  VA-7_EASTBOUND                  38    100000001  100000002   \n",
       "3     100000002  VA-7_EASTBOUND                  39    100000002  100000003   \n",
       "4     100000002  VA-7_EASTBOUND                  39    100000002  100000003   \n",
       "..          ...             ...                 ...          ...        ...   \n",
       "175   100000060  VA-7_WESTBOUND                  47    100000061  100000062   \n",
       "176   100000061  VA-7_WESTBOUND                  48    100000062  100000063   \n",
       "177   100000061  VA-7_WESTBOUND                  48    100000062  100000063   \n",
       "178   100000061  VA-7_WESTBOUND                  48    100000062  100000063   \n",
       "179   100000062  VA-7_WESTBOUND                48.1    100000063  100000064   \n",
       "\n",
       "    time_period        date                                        geometry  \\\n",
       "0     0000_0015  2015-04-01  LINESTRING (-77.3715 39.0144,-77.3709 39.0141)   \n",
       "1     0015_0030  2015-04-01  LINESTRING (-77.3715 39.0144,-77.3709 39.0141)   \n",
       "2          None        None  LINESTRING (-77.3715 39.0144,-77.3709 39.0141)   \n",
       "3     0000_0015  2015-04-01  LINESTRING (-77.3709 39.0141,-77.3684 39.0127)   \n",
       "4     0015_0030  2015-04-01  LINESTRING (-77.3709 39.0141,-77.3684 39.0127)   \n",
       "..          ...         ...                                             ...   \n",
       "175        None        None   LINESTRING (-77.3609 39.009,-77.3673 39.0125)   \n",
       "176   0000_0015  2015-04-01  LINESTRING (-77.3673 39.0125,-77.3707 39.0143)   \n",
       "177   0015_0030  2015-04-01  LINESTRING (-77.3673 39.0125,-77.3707 39.0143)   \n",
       "178        None        None  LINESTRING (-77.3673 39.0125,-77.3707 39.0143)   \n",
       "179        None        None  LINESTRING (-77.3707 39.0143,-77.3709 39.0143)   \n",
       "\n",
       "    volume travel_time speed reference_speed density queue notes  \n",
       "0     None        None    44            None    None  None  None  \n",
       "1     None        None    44            None    None  None  None  \n",
       "2     None        None  None            None    None  None  None  \n",
       "3     None        None    44            None    None  None  None  \n",
       "4     None        None    44            None    None  None  None  \n",
       "..     ...         ...   ...             ...     ...   ...   ...  \n",
       "175   None        None  None            None    None  None  None  \n",
       "176   None        None    46            None    None  None  None  \n",
       "177   None        None    56            None    None  None  None  \n",
       "178   None        None  None            None    None  None  None  \n",
       "179   None        None  None            None    None  None  None  \n",
       "\n",
       "[180 rows x 15 columns]"
      ],
      "text/html": "<div>\n<style scoped>\n    .dataframe tbody tr th:only-of-type {\n        vertical-align: middle;\n    }\n\n    .dataframe tbody tr th {\n        vertical-align: top;\n    }\n\n    .dataframe thead th {\n        text-align: right;\n    }\n</style>\n<table border=\"1\" class=\"dataframe\">\n  <thead>\n    <tr style=\"text-align: right;\">\n      <th></th>\n      <th>link_id_tmc</th>\n      <th>corridor_id</th>\n      <th>corridor_link_order</th>\n      <th>from_node_id</th>\n      <th>to_node_id</th>\n      <th>time_period</th>\n      <th>date</th>\n      <th>geometry</th>\n      <th>volume</th>\n      <th>travel_time</th>\n      <th>speed</th>\n      <th>reference_speed</th>\n      <th>density</th>\n      <th>queue</th>\n      <th>notes</th>\n    </tr>\n  </thead>\n  <tbody>\n    <tr>\n      <th>0</th>\n      <td>100000001</td>\n      <td>VA-7_EASTBOUND</td>\n      <td>38</td>\n      <td>100000001</td>\n      <td>100000002</td>\n      <td>0000_0015</td>\n      <td>2015-04-01</td>\n      <td>LINESTRING (-77.3715 39.0144,-77.3709 39.0141)</td>\n      <td>None</td>\n      <td>None</td>\n      <td>44</td>\n      <td>None</td>\n      <td>None</td>\n      <td>None</td>\n      <td>None</td>\n    </tr>\n    <tr>\n      <th>1</th>\n      <td>100000001</td>\n      <td>VA-7_EASTBOUND</td>\n      <td>38</td>\n      <td>100000001</td>\n      <td>100000002</td>\n      <td>0015_0030</td>\n      <td>2015-04-01</td>\n      <td>LINESTRING (-77.3715 39.0144,-77.3709 39.0141)</td>\n      <td>None</td>\n      <td>None</td>\n      <td>44</td>\n      <td>None</td>\n      <td>None</td>\n      <td>None</td>\n      <td>None</td>\n    </tr>\n    <tr>\n      <th>2</th>\n      <td>100000001</td>\n      <td>VA-7_EASTBOUND</td>\n      <td>38</td>\n      <td>100000001</td>\n      <td>100000002</td>\n      <td>None</td>\n      <td>None</td>\n      <td>LINESTRING (-77.3715 39.0144,-77.3709 39.0141)</td>\n      <td>None</td>\n      <td>None</td>\n      <td>None</td>\n      <td>None</td>\n      <td>None</td>\n      <td>None</td>\n      <td>None</td>\n    </tr>\n    <tr>\n      <th>3</th>\n      <td>100000002</td>\n      <td>VA-7_EASTBOUND</td>\n      <td>39</td>\n      <td>100000002</td>\n      <td>100000003</td>\n      <td>0000_0015</td>\n      <td>2015-04-01</td>\n      <td>LINESTRING (-77.3709 39.0141,-77.3684 39.0127)</td>\n      <td>None</td>\n      <td>None</td>\n      <td>44</td>\n      <td>None</td>\n      <td>None</td>\n      <td>None</td>\n      <td>None</td>\n    </tr>\n    <tr>\n      <th>4</th>\n      <td>100000002</td>\n      <td>VA-7_EASTBOUND</td>\n      <td>39</td>\n      <td>100000002</td>\n      <td>100000003</td>\n      <td>0015_0030</td>\n      <td>2015-04-01</td>\n      <td>LINESTRING (-77.3709 39.0141,-77.3684 39.0127)</td>\n      <td>None</td>\n      <td>None</td>\n      <td>44</td>\n      <td>None</td>\n      <td>None</td>\n      <td>None</td>\n      <td>None</td>\n    </tr>\n    <tr>\n      <th>...</th>\n      <td>...</td>\n      <td>...</td>\n      <td>...</td>\n      <td>...</td>\n      <td>...</td>\n      <td>...</td>\n      <td>...</td>\n      <td>...</td>\n      <td>...</td>\n      <td>...</td>\n      <td>...</td>\n      <td>...</td>\n      <td>...</td>\n      <td>...</td>\n      <td>...</td>\n    </tr>\n    <tr>\n      <th>175</th>\n      <td>100000060</td>\n      <td>VA-7_WESTBOUND</td>\n      <td>47</td>\n      <td>100000061</td>\n      <td>100000062</td>\n      <td>None</td>\n      <td>None</td>\n      <td>LINESTRING (-77.3609 39.009,-77.3673 39.0125)</td>\n      <td>None</td>\n      <td>None</td>\n      <td>None</td>\n      <td>None</td>\n      <td>None</td>\n      <td>None</td>\n      <td>None</td>\n    </tr>\n    <tr>\n      <th>176</th>\n      <td>100000061</td>\n      <td>VA-7_WESTBOUND</td>\n      <td>48</td>\n      <td>100000062</td>\n      <td>100000063</td>\n      <td>0000_0015</td>\n      <td>2015-04-01</td>\n      <td>LINESTRING (-77.3673 39.0125,-77.3707 39.0143)</td>\n      <td>None</td>\n      <td>None</td>\n      <td>46</td>\n      <td>None</td>\n      <td>None</td>\n      <td>None</td>\n      <td>None</td>\n    </tr>\n    <tr>\n      <th>177</th>\n      <td>100000061</td>\n      <td>VA-7_WESTBOUND</td>\n      <td>48</td>\n      <td>100000062</td>\n      <td>100000063</td>\n      <td>0015_0030</td>\n      <td>2015-04-01</td>\n      <td>LINESTRING (-77.3673 39.0125,-77.3707 39.0143)</td>\n      <td>None</td>\n      <td>None</td>\n      <td>56</td>\n      <td>None</td>\n      <td>None</td>\n      <td>None</td>\n      <td>None</td>\n    </tr>\n    <tr>\n      <th>178</th>\n      <td>100000061</td>\n      <td>VA-7_WESTBOUND</td>\n      <td>48</td>\n      <td>100000062</td>\n      <td>100000063</td>\n      <td>None</td>\n      <td>None</td>\n      <td>LINESTRING (-77.3673 39.0125,-77.3707 39.0143)</td>\n      <td>None</td>\n      <td>None</td>\n      <td>None</td>\n      <td>None</td>\n      <td>None</td>\n      <td>None</td>\n      <td>None</td>\n    </tr>\n    <tr>\n      <th>179</th>\n      <td>100000062</td>\n      <td>VA-7_WESTBOUND</td>\n      <td>48.1</td>\n      <td>100000063</td>\n      <td>100000064</td>\n      <td>None</td>\n      <td>None</td>\n      <td>LINESTRING (-77.3707 39.0143,-77.3709 39.0143)</td>\n      <td>None</td>\n      <td>None</td>\n      <td>None</td>\n      <td>None</td>\n      <td>None</td>\n      <td>None</td>\n      <td>None</td>\n    </tr>\n  </tbody>\n</table>\n<p>180 rows × 15 columns</p>\n</div>"
     },
     "metadata": {},
     "execution_count": 10
    }
   ],
   "source": [
    "measurement_tmc"
   ]
  },
  {
   "source": [
    "## step 3 mapping osm network to tmc network"
   ],
   "cell_type": "markdown",
   "metadata": {}
  },
  {
   "cell_type": "code",
   "execution_count": 20,
   "metadata": {},
   "outputs": [],
   "source": [
    "link_gmns = pd.read_csv('link.csv', low_memory=False)"
   ]
  },
  {
   "cell_type": "code",
   "execution_count": 21,
   "metadata": {},
   "outputs": [
    {
     "output_type": "execute_result",
     "data": {
      "text/plain": [
       "                 name  link_id  osm_way_id  from_node_id  to_node_id  \\\n",
       "0                 NaN        0     5964128             4           5   \n",
       "1                 NaN        1     5964128             5           4   \n",
       "2                 NaN        2     5964129             6           7   \n",
       "3                 NaN        3     5964129             7           6   \n",
       "4                 NaN        4     5964129             7           8   \n",
       "...               ...      ...         ...           ...         ...   \n",
       "30698  Sugarland Road    31152   943412232          3065        3723   \n",
       "30699  Sugarland Road    31153   943412232          3723        3065   \n",
       "30700  Sugarland Road    31154   943412232          3723        7903   \n",
       "30701  Sugarland Road    31155   943412232          7903        3723   \n",
       "30702  Trumpet Circle    31156   943412233         12608       12607   \n",
       "\n",
       "       dir_flag      length  lanes  free_speed  capacity link_type_name  \\\n",
       "0             1  146.766935      1          29       NaN   unclassified   \n",
       "1             1  146.766935      1          29       NaN   unclassified   \n",
       "2             1  106.872460      1          29       NaN   unclassified   \n",
       "3             1  106.872460      1          29       NaN   unclassified   \n",
       "4             1   85.661050      1          29       NaN   unclassified   \n",
       "...         ...         ...    ...         ...       ...            ...   \n",
       "30698         1   74.086594      2          35       NaN       tertiary   \n",
       "30699         1   74.086594      2          35       NaN       tertiary   \n",
       "30700         1   71.834767      2          35       NaN       tertiary   \n",
       "30701         1   71.834767      2          35       NaN       tertiary   \n",
       "30702         1   27.352271      1          29       NaN    residential   \n",
       "\n",
       "       link_type                                           geometry  \\\n",
       "0             11  LINESTRING (-77.1878249 38.9744185, -77.187663...   \n",
       "1             11  LINESTRING (-77.1869767 38.9755412, -77.187013...   \n",
       "2             11  LINESTRING (-77.194886 38.9751513, -77.1950799...   \n",
       "3             11  LINESTRING (-77.1960675 38.9754343, -77.196016...   \n",
       "4             11  LINESTRING (-77.1960675 38.9754343, -77.196222...   \n",
       "...          ...                                                ...   \n",
       "30698          5  LINESTRING (-77.3798798 39.0078527, -77.379143...   \n",
       "30699          5  LINESTRING (-77.37914309999999 39.0075118, -77...   \n",
       "30700          5  LINESTRING (-77.37914309999999 39.0075118, -77...   \n",
       "30701          5  LINESTRING (-77.37844440000001 39.0071617, -77...   \n",
       "30702          6  LINESTRING (-77.3791015 39.0131342, -77.379125...   \n",
       "\n",
       "      allowed_uses  from_biway  \n",
       "0             auto           1  \n",
       "1             auto           1  \n",
       "2             auto           1  \n",
       "3             auto           1  \n",
       "4             auto           1  \n",
       "...            ...         ...  \n",
       "30698         auto           1  \n",
       "30699         auto           1  \n",
       "30700         auto           1  \n",
       "30701         auto           1  \n",
       "30702         auto           0  \n",
       "\n",
       "[30703 rows x 15 columns]"
      ],
      "text/html": "<div>\n<style scoped>\n    .dataframe tbody tr th:only-of-type {\n        vertical-align: middle;\n    }\n\n    .dataframe tbody tr th {\n        vertical-align: top;\n    }\n\n    .dataframe thead th {\n        text-align: right;\n    }\n</style>\n<table border=\"1\" class=\"dataframe\">\n  <thead>\n    <tr style=\"text-align: right;\">\n      <th></th>\n      <th>name</th>\n      <th>link_id</th>\n      <th>osm_way_id</th>\n      <th>from_node_id</th>\n      <th>to_node_id</th>\n      <th>dir_flag</th>\n      <th>length</th>\n      <th>lanes</th>\n      <th>free_speed</th>\n      <th>capacity</th>\n      <th>link_type_name</th>\n      <th>link_type</th>\n      <th>geometry</th>\n      <th>allowed_uses</th>\n      <th>from_biway</th>\n    </tr>\n  </thead>\n  <tbody>\n    <tr>\n      <th>0</th>\n      <td>NaN</td>\n      <td>0</td>\n      <td>5964128</td>\n      <td>4</td>\n      <td>5</td>\n      <td>1</td>\n      <td>146.766935</td>\n      <td>1</td>\n      <td>29</td>\n      <td>NaN</td>\n      <td>unclassified</td>\n      <td>11</td>\n      <td>LINESTRING (-77.1878249 38.9744185, -77.187663...</td>\n      <td>auto</td>\n      <td>1</td>\n    </tr>\n    <tr>\n      <th>1</th>\n      <td>NaN</td>\n      <td>1</td>\n      <td>5964128</td>\n      <td>5</td>\n      <td>4</td>\n      <td>1</td>\n      <td>146.766935</td>\n      <td>1</td>\n      <td>29</td>\n      <td>NaN</td>\n      <td>unclassified</td>\n      <td>11</td>\n      <td>LINESTRING (-77.1869767 38.9755412, -77.187013...</td>\n      <td>auto</td>\n      <td>1</td>\n    </tr>\n    <tr>\n      <th>2</th>\n      <td>NaN</td>\n      <td>2</td>\n      <td>5964129</td>\n      <td>6</td>\n      <td>7</td>\n      <td>1</td>\n      <td>106.872460</td>\n      <td>1</td>\n      <td>29</td>\n      <td>NaN</td>\n      <td>unclassified</td>\n      <td>11</td>\n      <td>LINESTRING (-77.194886 38.9751513, -77.1950799...</td>\n      <td>auto</td>\n      <td>1</td>\n    </tr>\n    <tr>\n      <th>3</th>\n      <td>NaN</td>\n      <td>3</td>\n      <td>5964129</td>\n      <td>7</td>\n      <td>6</td>\n      <td>1</td>\n      <td>106.872460</td>\n      <td>1</td>\n      <td>29</td>\n      <td>NaN</td>\n      <td>unclassified</td>\n      <td>11</td>\n      <td>LINESTRING (-77.1960675 38.9754343, -77.196016...</td>\n      <td>auto</td>\n      <td>1</td>\n    </tr>\n    <tr>\n      <th>4</th>\n      <td>NaN</td>\n      <td>4</td>\n      <td>5964129</td>\n      <td>7</td>\n      <td>8</td>\n      <td>1</td>\n      <td>85.661050</td>\n      <td>1</td>\n      <td>29</td>\n      <td>NaN</td>\n      <td>unclassified</td>\n      <td>11</td>\n      <td>LINESTRING (-77.1960675 38.9754343, -77.196222...</td>\n      <td>auto</td>\n      <td>1</td>\n    </tr>\n    <tr>\n      <th>...</th>\n      <td>...</td>\n      <td>...</td>\n      <td>...</td>\n      <td>...</td>\n      <td>...</td>\n      <td>...</td>\n      <td>...</td>\n      <td>...</td>\n      <td>...</td>\n      <td>...</td>\n      <td>...</td>\n      <td>...</td>\n      <td>...</td>\n      <td>...</td>\n      <td>...</td>\n    </tr>\n    <tr>\n      <th>30698</th>\n      <td>Sugarland Road</td>\n      <td>31152</td>\n      <td>943412232</td>\n      <td>3065</td>\n      <td>3723</td>\n      <td>1</td>\n      <td>74.086594</td>\n      <td>2</td>\n      <td>35</td>\n      <td>NaN</td>\n      <td>tertiary</td>\n      <td>5</td>\n      <td>LINESTRING (-77.3798798 39.0078527, -77.379143...</td>\n      <td>auto</td>\n      <td>1</td>\n    </tr>\n    <tr>\n      <th>30699</th>\n      <td>Sugarland Road</td>\n      <td>31153</td>\n      <td>943412232</td>\n      <td>3723</td>\n      <td>3065</td>\n      <td>1</td>\n      <td>74.086594</td>\n      <td>2</td>\n      <td>35</td>\n      <td>NaN</td>\n      <td>tertiary</td>\n      <td>5</td>\n      <td>LINESTRING (-77.37914309999999 39.0075118, -77...</td>\n      <td>auto</td>\n      <td>1</td>\n    </tr>\n    <tr>\n      <th>30700</th>\n      <td>Sugarland Road</td>\n      <td>31154</td>\n      <td>943412232</td>\n      <td>3723</td>\n      <td>7903</td>\n      <td>1</td>\n      <td>71.834767</td>\n      <td>2</td>\n      <td>35</td>\n      <td>NaN</td>\n      <td>tertiary</td>\n      <td>5</td>\n      <td>LINESTRING (-77.37914309999999 39.0075118, -77...</td>\n      <td>auto</td>\n      <td>1</td>\n    </tr>\n    <tr>\n      <th>30701</th>\n      <td>Sugarland Road</td>\n      <td>31155</td>\n      <td>943412232</td>\n      <td>7903</td>\n      <td>3723</td>\n      <td>1</td>\n      <td>71.834767</td>\n      <td>2</td>\n      <td>35</td>\n      <td>NaN</td>\n      <td>tertiary</td>\n      <td>5</td>\n      <td>LINESTRING (-77.37844440000001 39.0071617, -77...</td>\n      <td>auto</td>\n      <td>1</td>\n    </tr>\n    <tr>\n      <th>30702</th>\n      <td>Trumpet Circle</td>\n      <td>31156</td>\n      <td>943412233</td>\n      <td>12608</td>\n      <td>12607</td>\n      <td>1</td>\n      <td>27.352271</td>\n      <td>1</td>\n      <td>29</td>\n      <td>NaN</td>\n      <td>residential</td>\n      <td>6</td>\n      <td>LINESTRING (-77.3791015 39.0131342, -77.379125...</td>\n      <td>auto</td>\n      <td>0</td>\n    </tr>\n  </tbody>\n</table>\n<p>30703 rows × 15 columns</p>\n</div>"
     },
     "metadata": {},
     "execution_count": 21
    }
   ],
   "source": [
    "link_gmns"
   ]
  },
  {
   "cell_type": "code",
   "execution_count": 22,
   "metadata": {},
   "outputs": [],
   "source": [
    "def LLs2Dist(lon1, lat1, lon2, lat2): #WGS84 transfer coordinate system to distance(meter) #xy #credit to xtHuang0927\n",
    "    R = 6371\n",
    "    dLat = (lat2 - lat1) * math.pi / 180.0\n",
    "    dLon = (lon2 - lon1) * math.pi / 180.0\n",
    "\n",
    "    a = math.sin(dLat / 2) * math.sin(dLat/2) + math.cos(lat1 * math.pi / 180.0) * math.cos(lat2 * math.pi / 180.0) * math.sin(dLon/2) * math.sin(dLon/2)\n",
    "    c = 2 * math.atan2(math.sqrt(a), math.sqrt(1-a))\n",
    "    distance = R * c * 1000\n",
    "    return distance"
   ]
  },
  {
   "cell_type": "code",
   "execution_count": 23,
   "metadata": {},
   "outputs": [
    {
     "output_type": "stream",
     "name": "stdout",
     "text": [
      "0% matching completed!\n",
      "16% matching completed!\n",
      "33% matching completed!\n",
      "49% matching completed!\n",
      "65% matching completed!\n",
      "81% matching completed!\n",
      "98% matching completed!\n"
     ]
    }
   ],
   "source": [
    "matching_tmc2gmns_dict = {}\n",
    "k = 0\n",
    "for i in range(len(link_gmns)):\n",
    "    lon_list = []\n",
    "    lat_list = [] \n",
    "    link_geometry_list = link_gmns.loc[i,'geometry'][12:-1].split(\", \")\n",
    "    for link_geometry in link_geometry_list:\n",
    "        lon_list.append(float(link_geometry.split(\" \")[0]))\n",
    "        lat_list.append(float(link_geometry.split(\" \")[1]))\n",
    "    center_lon = np.mean(lon_list)\n",
    "    center_lat = np.mean(lat_list)\n",
    "\n",
    "\n",
    "    distance_list = []\n",
    "    for j in link_tmc.index:\n",
    "        lon_tmc_list = []\n",
    "        lat_tmc_list = []\n",
    "        link_tmc_geometry_list = link_tmc.loc[j,'geometry'][12:-1].split(\",\")\n",
    "        for link_tmc_geometry in link_tmc_geometry_list:\n",
    "            lon_tmc_list.append(float(link_tmc_geometry.split(\" \")[0]))\n",
    "            lat_tmc_list.append(float(link_tmc_geometry.split(\" \")[1]))\n",
    "        center_tmc_lon = np.mean(lon_tmc_list)\n",
    "        center_tmc_lat = np.mean(lat_tmc_list)\n",
    "        \n",
    "        distance_list.append(LLs2Dist(center_lon, center_lat, center_tmc_lon, center_tmc_lat))\n",
    "    nearest_index = distance_list.index(min(distance_list))\n",
    "\n",
    "    matching_tmc2gmns_dict[k] = {'name_osm':link_gmns['name'][i],\\\n",
    "                    'link_id_osm':link_gmns['link_id'][i],\\\n",
    "                    'from_node_id_osm':link_gmns['from_node_id'][i],\\\n",
    "                    'to_node_id_osm':link_gmns['to_node_id'][i],\\\n",
    "                    'geometry_osm':link_gmns['geometry'][i],\\\n",
    "                    'name_tmc':link_tmc.iloc[nearest_index]['name'],\\\n",
    "                    'link_id_tmc':int(link_tmc.iloc[[nearest_index]].index.values[0]),\\\n",
    "                    'from_node_id_tmc':int(link_tmc.iloc[nearest_index]['from_node_id']),\\\n",
    "                    'to_node_id_tmc':int(link_tmc.iloc[nearest_index]['to_node_id']),\\\n",
    "                    'geometry_tmc':link_tmc.iloc[nearest_index]['geometry']}\n",
    "    k += 1\n",
    "    if i % 5000 == 0 : print(\"{:.0%}\".format(i/len(link_gmns))+' matching completed!')\n",
    "\n",
    "matching_tmc2gmns = pd.DataFrame(matching_tmc2gmns_dict).transpose()\n",
    "matching_tmc2gmns.to_csv('matching_tmc2gmns.csv',index = False)\n"
   ]
  },
  {
   "cell_type": "code",
   "execution_count": 24,
   "metadata": {},
   "outputs": [
    {
     "output_type": "execute_result",
     "data": {
      "text/plain": [
       "             name_osm link_id_osm from_node_id_osm to_node_id_osm  \\\n",
       "0                 NaN           0                4              5   \n",
       "1                 NaN           1                5              4   \n",
       "2                 NaN           2                6              7   \n",
       "3                 NaN           3                7              6   \n",
       "4                 NaN           4                7              8   \n",
       "...               ...         ...              ...            ...   \n",
       "30698  Sugarland Road       31152             3065           3723   \n",
       "30699  Sugarland Road       31153             3723           3065   \n",
       "30700  Sugarland Road       31154             3723           7903   \n",
       "30701  Sugarland Road       31155             7903           3723   \n",
       "30702  Trumpet Circle       31156            12608          12607   \n",
       "\n",
       "                                            geometry_osm   name_tmc  \\\n",
       "0      LINESTRING (-77.1878249 38.9744185, -77.187663...  110+05700   \n",
       "1      LINESTRING (-77.1869767 38.9755412, -77.187013...  110+05700   \n",
       "2      LINESTRING (-77.194886 38.9751513, -77.1950799...  110+05700   \n",
       "3      LINESTRING (-77.1960675 38.9754343, -77.196016...  110+05700   \n",
       "4      LINESTRING (-77.1960675 38.9754343, -77.196222...  110+05700   \n",
       "...                                                  ...        ...   \n",
       "30698  LINESTRING (-77.3798798 39.0078527, -77.379143...  110N05711   \n",
       "30699  LINESTRING (-77.37914309999999 39.0075118, -77...  110N05711   \n",
       "30700  LINESTRING (-77.37914309999999 39.0075118, -77...  110N05711   \n",
       "30701  LINESTRING (-77.37844440000001 39.0071617, -77...  110N05711   \n",
       "30702  LINESTRING (-77.3791015 39.0131342, -77.379125...  110N05711   \n",
       "\n",
       "      link_id_tmc from_node_id_tmc to_node_id_tmc  \\\n",
       "0       100000046        100000047      100000048   \n",
       "1       100000046        100000047      100000048   \n",
       "2       100000046        100000047      100000048   \n",
       "3       100000046        100000047      100000048   \n",
       "4       100000046        100000047      100000048   \n",
       "...           ...              ...            ...   \n",
       "30698   100000001        100000001      100000002   \n",
       "30699   100000001        100000001      100000002   \n",
       "30700   100000001        100000001      100000002   \n",
       "30701   100000001        100000001      100000002   \n",
       "30702   100000001        100000001      100000002   \n",
       "\n",
       "                                         geometry_tmc  \n",
       "0      LINESTRING (-77.2487 38.9364,-77.2551 38.9429)  \n",
       "1      LINESTRING (-77.2487 38.9364,-77.2551 38.9429)  \n",
       "2      LINESTRING (-77.2487 38.9364,-77.2551 38.9429)  \n",
       "3      LINESTRING (-77.2487 38.9364,-77.2551 38.9429)  \n",
       "4      LINESTRING (-77.2487 38.9364,-77.2551 38.9429)  \n",
       "...                                               ...  \n",
       "30698  LINESTRING (-77.3715 39.0144,-77.3709 39.0141)  \n",
       "30699  LINESTRING (-77.3715 39.0144,-77.3709 39.0141)  \n",
       "30700  LINESTRING (-77.3715 39.0144,-77.3709 39.0141)  \n",
       "30701  LINESTRING (-77.3715 39.0144,-77.3709 39.0141)  \n",
       "30702  LINESTRING (-77.3715 39.0144,-77.3709 39.0141)  \n",
       "\n",
       "[30703 rows x 10 columns]"
      ],
      "text/html": "<div>\n<style scoped>\n    .dataframe tbody tr th:only-of-type {\n        vertical-align: middle;\n    }\n\n    .dataframe tbody tr th {\n        vertical-align: top;\n    }\n\n    .dataframe thead th {\n        text-align: right;\n    }\n</style>\n<table border=\"1\" class=\"dataframe\">\n  <thead>\n    <tr style=\"text-align: right;\">\n      <th></th>\n      <th>name_osm</th>\n      <th>link_id_osm</th>\n      <th>from_node_id_osm</th>\n      <th>to_node_id_osm</th>\n      <th>geometry_osm</th>\n      <th>name_tmc</th>\n      <th>link_id_tmc</th>\n      <th>from_node_id_tmc</th>\n      <th>to_node_id_tmc</th>\n      <th>geometry_tmc</th>\n    </tr>\n  </thead>\n  <tbody>\n    <tr>\n      <th>0</th>\n      <td>NaN</td>\n      <td>0</td>\n      <td>4</td>\n      <td>5</td>\n      <td>LINESTRING (-77.1878249 38.9744185, -77.187663...</td>\n      <td>110+05700</td>\n      <td>100000046</td>\n      <td>100000047</td>\n      <td>100000048</td>\n      <td>LINESTRING (-77.2487 38.9364,-77.2551 38.9429)</td>\n    </tr>\n    <tr>\n      <th>1</th>\n      <td>NaN</td>\n      <td>1</td>\n      <td>5</td>\n      <td>4</td>\n      <td>LINESTRING (-77.1869767 38.9755412, -77.187013...</td>\n      <td>110+05700</td>\n      <td>100000046</td>\n      <td>100000047</td>\n      <td>100000048</td>\n      <td>LINESTRING (-77.2487 38.9364,-77.2551 38.9429)</td>\n    </tr>\n    <tr>\n      <th>2</th>\n      <td>NaN</td>\n      <td>2</td>\n      <td>6</td>\n      <td>7</td>\n      <td>LINESTRING (-77.194886 38.9751513, -77.1950799...</td>\n      <td>110+05700</td>\n      <td>100000046</td>\n      <td>100000047</td>\n      <td>100000048</td>\n      <td>LINESTRING (-77.2487 38.9364,-77.2551 38.9429)</td>\n    </tr>\n    <tr>\n      <th>3</th>\n      <td>NaN</td>\n      <td>3</td>\n      <td>7</td>\n      <td>6</td>\n      <td>LINESTRING (-77.1960675 38.9754343, -77.196016...</td>\n      <td>110+05700</td>\n      <td>100000046</td>\n      <td>100000047</td>\n      <td>100000048</td>\n      <td>LINESTRING (-77.2487 38.9364,-77.2551 38.9429)</td>\n    </tr>\n    <tr>\n      <th>4</th>\n      <td>NaN</td>\n      <td>4</td>\n      <td>7</td>\n      <td>8</td>\n      <td>LINESTRING (-77.1960675 38.9754343, -77.196222...</td>\n      <td>110+05700</td>\n      <td>100000046</td>\n      <td>100000047</td>\n      <td>100000048</td>\n      <td>LINESTRING (-77.2487 38.9364,-77.2551 38.9429)</td>\n    </tr>\n    <tr>\n      <th>...</th>\n      <td>...</td>\n      <td>...</td>\n      <td>...</td>\n      <td>...</td>\n      <td>...</td>\n      <td>...</td>\n      <td>...</td>\n      <td>...</td>\n      <td>...</td>\n      <td>...</td>\n    </tr>\n    <tr>\n      <th>30698</th>\n      <td>Sugarland Road</td>\n      <td>31152</td>\n      <td>3065</td>\n      <td>3723</td>\n      <td>LINESTRING (-77.3798798 39.0078527, -77.379143...</td>\n      <td>110N05711</td>\n      <td>100000001</td>\n      <td>100000001</td>\n      <td>100000002</td>\n      <td>LINESTRING (-77.3715 39.0144,-77.3709 39.0141)</td>\n    </tr>\n    <tr>\n      <th>30699</th>\n      <td>Sugarland Road</td>\n      <td>31153</td>\n      <td>3723</td>\n      <td>3065</td>\n      <td>LINESTRING (-77.37914309999999 39.0075118, -77...</td>\n      <td>110N05711</td>\n      <td>100000001</td>\n      <td>100000001</td>\n      <td>100000002</td>\n      <td>LINESTRING (-77.3715 39.0144,-77.3709 39.0141)</td>\n    </tr>\n    <tr>\n      <th>30700</th>\n      <td>Sugarland Road</td>\n      <td>31154</td>\n      <td>3723</td>\n      <td>7903</td>\n      <td>LINESTRING (-77.37914309999999 39.0075118, -77...</td>\n      <td>110N05711</td>\n      <td>100000001</td>\n      <td>100000001</td>\n      <td>100000002</td>\n      <td>LINESTRING (-77.3715 39.0144,-77.3709 39.0141)</td>\n    </tr>\n    <tr>\n      <th>30701</th>\n      <td>Sugarland Road</td>\n      <td>31155</td>\n      <td>7903</td>\n      <td>3723</td>\n      <td>LINESTRING (-77.37844440000001 39.0071617, -77...</td>\n      <td>110N05711</td>\n      <td>100000001</td>\n      <td>100000001</td>\n      <td>100000002</td>\n      <td>LINESTRING (-77.3715 39.0144,-77.3709 39.0141)</td>\n    </tr>\n    <tr>\n      <th>30702</th>\n      <td>Trumpet Circle</td>\n      <td>31156</td>\n      <td>12608</td>\n      <td>12607</td>\n      <td>LINESTRING (-77.3791015 39.0131342, -77.379125...</td>\n      <td>110N05711</td>\n      <td>100000001</td>\n      <td>100000001</td>\n      <td>100000002</td>\n      <td>LINESTRING (-77.3715 39.0144,-77.3709 39.0141)</td>\n    </tr>\n  </tbody>\n</table>\n<p>30703 rows × 10 columns</p>\n</div>"
     },
     "metadata": {},
     "execution_count": 24
    }
   ],
   "source": [
    "matching_tmc2gmns"
   ]
  },
  {
   "cell_type": "code",
   "execution_count": null,
   "metadata": {},
   "outputs": [],
   "source": []
  },
  {
   "source": [
    "## step 4 generating measurement_osm "
   ],
   "cell_type": "markdown",
   "metadata": {}
  },
  {
   "cell_type": "code",
   "execution_count": 25,
   "metadata": {
    "tags": []
   },
   "outputs": [
    {
     "output_type": "stream",
     "name": "stdout",
     "text": [
      "0\n",
      "5000\n",
      "10000\n",
      "15000\n",
      "20000\n",
      "25000\n",
      "30000\n",
      "measurement_osm.csv generated!\n"
     ]
    }
   ],
   "source": [
    "'''build measurement_osm.csv''' \n",
    "\n",
    "\n",
    "measurement_osm = pd.DataFrame()\n",
    "measurement_osm['link_id'] = None\n",
    "measurement_osm['osm_way_id'] = None\n",
    "measurement_osm['from_node_id'] = None\n",
    "measurement_osm['to_node_id'] = None\n",
    "measurement_osm['lanes'] = None\n",
    "measurement_osm['length'] = None\n",
    "measurement_osm['time_period'] = None\n",
    "measurement_osm['date'] = None\n",
    "measurement_osm['geometry'] = None\n",
    "measurement_osm['volume'] = None\n",
    "measurement_osm['speed'] = None\n",
    "\n",
    "\n",
    "k=0\n",
    "measurement_osm_dict = {}\n",
    "for i in link_gmns.index:\n",
    "    try:\n",
    "        measurement_tmc_selected = measurement_tmc[measurement_tmc['link_id_tmc'] == matching_tmc2gmns['link_id_tmc'][i]]\n",
    "        for j in measurement_tmc_selected.index:\n",
    "            measurement_osm_dict[k] = {'link_id': link_gmns['link_id'][i],\\\n",
    "                                            'osm_way_id':link_gmns['osm_way_id'][i],\\\n",
    "                                            'from_node_id': link_gmns['from_node_id'][i],\\\n",
    "                                            'to_node_id': link_gmns['to_node_id'][i],\\\n",
    "                                            'lanes': link_gmns['lanes'][i], \\\n",
    "                                            'length': link_gmns['length'][i], \\\n",
    "                                            'time_period': measurement_tmc_selected['time_period'][j],\\\n",
    "                                            'date': measurement_tmc_selected['date'][j],\\\n",
    "                                            'geometry': link_gmns['geometry'][i],\\\n",
    "                                            'volume': None,\\\n",
    "                                            'speed': measurement_tmc_selected['speed'][j]}\n",
    "\n",
    "            k += 1\n",
    "    except:\n",
    "        measurement_osm_dict[k] = {'link_id': link_gmns['link_id'][i],\\\n",
    "                                            'osm_way_id':link_gmns['osm_way_id'][i],\\\n",
    "                                            'from_node_id': link_gmns['from_node_id'][i],\\\n",
    "                                            'to_node_id': link_gmns['to_node_id'][i],\\\n",
    "                                            'lanes': link_gmns['lanes'][i], \\\n",
    "                                            'length': link_gmns['length'][i], \\\n",
    "                                            'time_period':None,\\\n",
    "                                            'date': None,\\\n",
    "                                            'geometry': link_gmns['geometry'][i],\\\n",
    "                                            'volume': None,\\\n",
    "                                            'speed': None}\n",
    "\n",
    "        k += 1\n",
    "    # print(i)\n",
    "    if i % 5000 == 0 : print(i)\n",
    "measurement_osm = pd.DataFrame(measurement_osm_dict).transpose()\n",
    "measurement_osm.to_csv('measurement_osm.csv',index = False)\n",
    "print('measurement_osm.csv generated!')"
   ]
  },
  {
   "cell_type": "code",
   "execution_count": 26,
   "metadata": {},
   "outputs": [
    {
     "output_type": "execute_result",
     "data": {
      "text/plain": [
       "      link_id osm_way_id from_node_id to_node_id lanes   length time_period  \\\n",
       "0           0    5964128            4          5     1  146.767   0000_0015   \n",
       "1           0    5964128            4          5     1  146.767   0015_0030   \n",
       "2           0    5964128            4          5     1  146.767        None   \n",
       "3           1    5964128            5          4     1  146.767   0000_0015   \n",
       "4           1    5964128            5          4     1  146.767   0015_0030   \n",
       "...       ...        ...          ...        ...   ...      ...         ...   \n",
       "91310   31155  943412232         7903       3723     2  71.8348   0015_0030   \n",
       "91311   31155  943412232         7903       3723     2  71.8348        None   \n",
       "91312   31156  943412233        12608      12607     1  27.3523   0000_0015   \n",
       "91313   31156  943412233        12608      12607     1  27.3523   0015_0030   \n",
       "91314   31156  943412233        12608      12607     1  27.3523        None   \n",
       "\n",
       "             date                                           geometry volume  \\\n",
       "0      2015-04-01  LINESTRING (-77.1878249 38.9744185, -77.187663...   None   \n",
       "1      2015-04-01  LINESTRING (-77.1878249 38.9744185, -77.187663...   None   \n",
       "2            None  LINESTRING (-77.1878249 38.9744185, -77.187663...   None   \n",
       "3      2015-04-01  LINESTRING (-77.1869767 38.9755412, -77.187013...   None   \n",
       "4      2015-04-01  LINESTRING (-77.1869767 38.9755412, -77.187013...   None   \n",
       "...           ...                                                ...    ...   \n",
       "91310  2015-04-01  LINESTRING (-77.37844440000001 39.0071617, -77...   None   \n",
       "91311        None  LINESTRING (-77.37844440000001 39.0071617, -77...   None   \n",
       "91312  2015-04-01  LINESTRING (-77.3791015 39.0131342, -77.379125...   None   \n",
       "91313  2015-04-01  LINESTRING (-77.3791015 39.0131342, -77.379125...   None   \n",
       "91314        None  LINESTRING (-77.3791015 39.0131342, -77.379125...   None   \n",
       "\n",
       "      speed  \n",
       "0        40  \n",
       "1        40  \n",
       "2      None  \n",
       "3        40  \n",
       "4        40  \n",
       "...     ...  \n",
       "91310    44  \n",
       "91311  None  \n",
       "91312    44  \n",
       "91313    44  \n",
       "91314  None  \n",
       "\n",
       "[91315 rows x 11 columns]"
      ],
      "text/html": "<div>\n<style scoped>\n    .dataframe tbody tr th:only-of-type {\n        vertical-align: middle;\n    }\n\n    .dataframe tbody tr th {\n        vertical-align: top;\n    }\n\n    .dataframe thead th {\n        text-align: right;\n    }\n</style>\n<table border=\"1\" class=\"dataframe\">\n  <thead>\n    <tr style=\"text-align: right;\">\n      <th></th>\n      <th>link_id</th>\n      <th>osm_way_id</th>\n      <th>from_node_id</th>\n      <th>to_node_id</th>\n      <th>lanes</th>\n      <th>length</th>\n      <th>time_period</th>\n      <th>date</th>\n      <th>geometry</th>\n      <th>volume</th>\n      <th>speed</th>\n    </tr>\n  </thead>\n  <tbody>\n    <tr>\n      <th>0</th>\n      <td>0</td>\n      <td>5964128</td>\n      <td>4</td>\n      <td>5</td>\n      <td>1</td>\n      <td>146.767</td>\n      <td>0000_0015</td>\n      <td>2015-04-01</td>\n      <td>LINESTRING (-77.1878249 38.9744185, -77.187663...</td>\n      <td>None</td>\n      <td>40</td>\n    </tr>\n    <tr>\n      <th>1</th>\n      <td>0</td>\n      <td>5964128</td>\n      <td>4</td>\n      <td>5</td>\n      <td>1</td>\n      <td>146.767</td>\n      <td>0015_0030</td>\n      <td>2015-04-01</td>\n      <td>LINESTRING (-77.1878249 38.9744185, -77.187663...</td>\n      <td>None</td>\n      <td>40</td>\n    </tr>\n    <tr>\n      <th>2</th>\n      <td>0</td>\n      <td>5964128</td>\n      <td>4</td>\n      <td>5</td>\n      <td>1</td>\n      <td>146.767</td>\n      <td>None</td>\n      <td>None</td>\n      <td>LINESTRING (-77.1878249 38.9744185, -77.187663...</td>\n      <td>None</td>\n      <td>None</td>\n    </tr>\n    <tr>\n      <th>3</th>\n      <td>1</td>\n      <td>5964128</td>\n      <td>5</td>\n      <td>4</td>\n      <td>1</td>\n      <td>146.767</td>\n      <td>0000_0015</td>\n      <td>2015-04-01</td>\n      <td>LINESTRING (-77.1869767 38.9755412, -77.187013...</td>\n      <td>None</td>\n      <td>40</td>\n    </tr>\n    <tr>\n      <th>4</th>\n      <td>1</td>\n      <td>5964128</td>\n      <td>5</td>\n      <td>4</td>\n      <td>1</td>\n      <td>146.767</td>\n      <td>0015_0030</td>\n      <td>2015-04-01</td>\n      <td>LINESTRING (-77.1869767 38.9755412, -77.187013...</td>\n      <td>None</td>\n      <td>40</td>\n    </tr>\n    <tr>\n      <th>...</th>\n      <td>...</td>\n      <td>...</td>\n      <td>...</td>\n      <td>...</td>\n      <td>...</td>\n      <td>...</td>\n      <td>...</td>\n      <td>...</td>\n      <td>...</td>\n      <td>...</td>\n      <td>...</td>\n    </tr>\n    <tr>\n      <th>91310</th>\n      <td>31155</td>\n      <td>943412232</td>\n      <td>7903</td>\n      <td>3723</td>\n      <td>2</td>\n      <td>71.8348</td>\n      <td>0015_0030</td>\n      <td>2015-04-01</td>\n      <td>LINESTRING (-77.37844440000001 39.0071617, -77...</td>\n      <td>None</td>\n      <td>44</td>\n    </tr>\n    <tr>\n      <th>91311</th>\n      <td>31155</td>\n      <td>943412232</td>\n      <td>7903</td>\n      <td>3723</td>\n      <td>2</td>\n      <td>71.8348</td>\n      <td>None</td>\n      <td>None</td>\n      <td>LINESTRING (-77.37844440000001 39.0071617, -77...</td>\n      <td>None</td>\n      <td>None</td>\n    </tr>\n    <tr>\n      <th>91312</th>\n      <td>31156</td>\n      <td>943412233</td>\n      <td>12608</td>\n      <td>12607</td>\n      <td>1</td>\n      <td>27.3523</td>\n      <td>0000_0015</td>\n      <td>2015-04-01</td>\n      <td>LINESTRING (-77.3791015 39.0131342, -77.379125...</td>\n      <td>None</td>\n      <td>44</td>\n    </tr>\n    <tr>\n      <th>91313</th>\n      <td>31156</td>\n      <td>943412233</td>\n      <td>12608</td>\n      <td>12607</td>\n      <td>1</td>\n      <td>27.3523</td>\n      <td>0015_0030</td>\n      <td>2015-04-01</td>\n      <td>LINESTRING (-77.3791015 39.0131342, -77.379125...</td>\n      <td>None</td>\n      <td>44</td>\n    </tr>\n    <tr>\n      <th>91314</th>\n      <td>31156</td>\n      <td>943412233</td>\n      <td>12608</td>\n      <td>12607</td>\n      <td>1</td>\n      <td>27.3523</td>\n      <td>None</td>\n      <td>None</td>\n      <td>LINESTRING (-77.3791015 39.0131342, -77.379125...</td>\n      <td>None</td>\n      <td>None</td>\n    </tr>\n  </tbody>\n</table>\n<p>91315 rows × 11 columns</p>\n</div>"
     },
     "metadata": {},
     "execution_count": 26
    }
   ],
   "source": [
    "measurement_osm"
   ]
  },
  {
   "cell_type": "code",
   "execution_count": 27,
   "metadata": {},
   "outputs": [
    {
     "output_type": "stream",
     "name": "stdout",
     "text": [
      "__main__\n/usr/local/home/ysx28/Desktop/GMNS/tmc2gmns/TMC2GMNS\n/usr/local/home/ysx28/Desktop/GMNS/tmc2gmns/TMC2GMNS/__file__\n/usr/local/home/ysx28/Desktop/GMNS/tmc2gmns/TMC2GMNS\n"
     ]
    }
   ],
   "source": [
    "print( __name__)\n",
    "print(os.path.dirname(os.path.realpath('__file__')))\n",
    "print(os.path.realpath('__file__'))\n",
    "print(os.getcwd())"
   ]
  },
  {
   "cell_type": "code",
   "execution_count": null,
   "metadata": {},
   "outputs": [],
   "source": []
  }
 ]
}