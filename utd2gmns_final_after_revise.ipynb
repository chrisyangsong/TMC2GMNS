{
 "metadata": {
  "language_info": {
   "codemirror_mode": {
    "name": "ipython",
    "version": 3
   },
   "file_extension": ".py",
   "mimetype": "text/x-python",
   "name": "python",
   "nbconvert_exporter": "python",
   "pygments_lexer": "ipython3",
   "version": "3.8.5"
  },
  "orig_nbformat": 2,
  "kernelspec": {
   "name": "python385jvsc74a57bd0f60418cf0f93cafce689393a2d664cdd36dee00bdf33293458885c5a1a5b95d3",
   "display_name": "Python 3.8.5 64-bit ('base': conda)"
  }
 },
 "nbformat": 4,
 "nbformat_minor": 2,
 "cells": [
  {
   "cell_type": "code",
   "execution_count": 1,
   "metadata": {},
   "outputs": [
    {
     "output_type": "stream",
     "name": "stdout",
     "text": [
      "MapMatching4GMNS, version 0.2.14\n"
     ]
    }
   ],
   "source": [
    "import os\n",
    "import math\n",
    "import datetime\n",
    "import numpy as np\n",
    "import pandas as pd\n",
    "\n",
    "import time\n",
    "import os.path\n",
    "import MapMatching4GMNS"
   ]
  },
  {
   "cell_type": "code",
   "execution_count": 2,
   "metadata": {},
   "outputs": [],
   "source": [
    "def create_folder(path):\n",
    "    if not os.path.exists(path):\n",
    "        os.makedirs(path)"
   ]
  },
  {
   "source": [
    "## step 1 Convert utd Data into GMNS Format"
   ],
   "cell_type": "markdown",
   "metadata": {}
  },
  {
   "cell_type": "code",
   "execution_count": 100,
   "metadata": {},
   "outputs": [],
   "source": [
    "\"Convert utd Data into GMNS Format\"\n",
    "files= os.listdir(os.getcwd()) \n",
    "for file in files: \n",
    "    if file[:5] == 'links':\n",
    "        utd = pd.read_csv(file)\n",
    "    if file[:9] == 'detectors':\n",
    "        detectors = pd.read_csv(file)\n",
    "        break\n",
    "utd.rename(columns = {'Unnamed: 0':'utd','long':'utd_long','lat':'utd_lat','citycode':'utd_citycode'}, inplace = True)\n",
    "detectors.rename(columns = {'Unnamed: 0':'detectors','long':'detectors_long',\\\n",
    "                'lat':'detectors_lat','citycode':'detectors_citycode','length':'detectors_length'}, inplace = True)\n",
    "detectors['linkid'] = detectors['linkid'].astype(int)\n",
    "detectors['lanes'] = detectors['lanes'].astype(int)\n",
    "\n",
    "detectors = detectors.drop(detectors[detectors['detid']=='N29121Z'].index)\n",
    "\n",
    "\n",
    "utd_detectors = utd.merge(detectors, on='linkid', how='left')"
   ]
  },
  {
   "cell_type": "code",
   "execution_count": 101,
   "metadata": {},
   "outputs": [
    {
     "output_type": "execute_result",
     "data": {
      "text/plain": [
       "       utd  utd_long    utd_lat  order  piece  linkid  group utd_citycode\n",
       "0    89398 -2.264742  53.485628      1      1       0    0.1   manchester\n",
       "1    89399 -2.264694  53.486187      2      1       0    0.1   manchester\n",
       "2    89400 -2.264653  53.486820      3      1       0    0.1   manchester\n",
       "3    89401 -2.264374  53.487190      4      1       0    0.1   manchester\n",
       "4    89402 -2.263860  53.487496      5      1       0    0.1   manchester\n",
       "..     ...       ...        ...    ...    ...     ...    ...          ...\n",
       "937  90335 -2.252004  53.481483      1      1     180  180.1   manchester\n",
       "938  90336 -2.252378  53.481538      2      1     180  180.1   manchester\n",
       "939  90337 -2.252817  53.481670      3      1     180  180.1   manchester\n",
       "940  90338 -2.253200  53.481823      4      1     180  180.1   manchester\n",
       "941  90339 -2.253446  53.481975      5      1     180  180.1   manchester\n",
       "\n",
       "[942 rows x 8 columns]"
      ],
      "text/html": "<div>\n<style scoped>\n    .dataframe tbody tr th:only-of-type {\n        vertical-align: middle;\n    }\n\n    .dataframe tbody tr th {\n        vertical-align: top;\n    }\n\n    .dataframe thead th {\n        text-align: right;\n    }\n</style>\n<table border=\"1\" class=\"dataframe\">\n  <thead>\n    <tr style=\"text-align: right;\">\n      <th></th>\n      <th>utd</th>\n      <th>utd_long</th>\n      <th>utd_lat</th>\n      <th>order</th>\n      <th>piece</th>\n      <th>linkid</th>\n      <th>group</th>\n      <th>utd_citycode</th>\n    </tr>\n  </thead>\n  <tbody>\n    <tr>\n      <th>0</th>\n      <td>89398</td>\n      <td>-2.264742</td>\n      <td>53.485628</td>\n      <td>1</td>\n      <td>1</td>\n      <td>0</td>\n      <td>0.1</td>\n      <td>manchester</td>\n    </tr>\n    <tr>\n      <th>1</th>\n      <td>89399</td>\n      <td>-2.264694</td>\n      <td>53.486187</td>\n      <td>2</td>\n      <td>1</td>\n      <td>0</td>\n      <td>0.1</td>\n      <td>manchester</td>\n    </tr>\n    <tr>\n      <th>2</th>\n      <td>89400</td>\n      <td>-2.264653</td>\n      <td>53.486820</td>\n      <td>3</td>\n      <td>1</td>\n      <td>0</td>\n      <td>0.1</td>\n      <td>manchester</td>\n    </tr>\n    <tr>\n      <th>3</th>\n      <td>89401</td>\n      <td>-2.264374</td>\n      <td>53.487190</td>\n      <td>4</td>\n      <td>1</td>\n      <td>0</td>\n      <td>0.1</td>\n      <td>manchester</td>\n    </tr>\n    <tr>\n      <th>4</th>\n      <td>89402</td>\n      <td>-2.263860</td>\n      <td>53.487496</td>\n      <td>5</td>\n      <td>1</td>\n      <td>0</td>\n      <td>0.1</td>\n      <td>manchester</td>\n    </tr>\n    <tr>\n      <th>...</th>\n      <td>...</td>\n      <td>...</td>\n      <td>...</td>\n      <td>...</td>\n      <td>...</td>\n      <td>...</td>\n      <td>...</td>\n      <td>...</td>\n    </tr>\n    <tr>\n      <th>937</th>\n      <td>90335</td>\n      <td>-2.252004</td>\n      <td>53.481483</td>\n      <td>1</td>\n      <td>1</td>\n      <td>180</td>\n      <td>180.1</td>\n      <td>manchester</td>\n    </tr>\n    <tr>\n      <th>938</th>\n      <td>90336</td>\n      <td>-2.252378</td>\n      <td>53.481538</td>\n      <td>2</td>\n      <td>1</td>\n      <td>180</td>\n      <td>180.1</td>\n      <td>manchester</td>\n    </tr>\n    <tr>\n      <th>939</th>\n      <td>90337</td>\n      <td>-2.252817</td>\n      <td>53.481670</td>\n      <td>3</td>\n      <td>1</td>\n      <td>180</td>\n      <td>180.1</td>\n      <td>manchester</td>\n    </tr>\n    <tr>\n      <th>940</th>\n      <td>90338</td>\n      <td>-2.253200</td>\n      <td>53.481823</td>\n      <td>4</td>\n      <td>1</td>\n      <td>180</td>\n      <td>180.1</td>\n      <td>manchester</td>\n    </tr>\n    <tr>\n      <th>941</th>\n      <td>90339</td>\n      <td>-2.253446</td>\n      <td>53.481975</td>\n      <td>5</td>\n      <td>1</td>\n      <td>180</td>\n      <td>180.1</td>\n      <td>manchester</td>\n    </tr>\n  </tbody>\n</table>\n<p>942 rows × 8 columns</p>\n</div>"
     },
     "metadata": {},
     "execution_count": 101
    }
   ],
   "source": [
    "utd.to_csv('utd.csv')\n",
    "utd"
   ]
  },
  {
   "cell_type": "code",
   "execution_count": 102,
   "metadata": {},
   "outputs": [
    {
     "output_type": "execute_result",
     "data": {
      "text/plain": [
       "     detectors    detid  detectors_length       pos fclass  \\\n",
       "0        15204  N06111V          0.119161  0.116664  trunk   \n",
       "1        15205  N06112W          0.084072  0.076377  trunk   \n",
       "2        15206  N06141A          0.417602  0.414577  trunk   \n",
       "3        15207  N06141C          0.114765  0.112883  trunk   \n",
       "4        15208  N06141Y          0.256407  0.249730  other   \n",
       "..         ...      ...               ...       ...    ...   \n",
       "176      15380  N06482F          0.243023  0.229623  trunk   \n",
       "177      15381  N06482K          0.035744  0.020701  other   \n",
       "178      15382  N06482J          0.107132  0.103730  trunk   \n",
       "179      15383  N06551T          0.446633  0.369536  trunk   \n",
       "180      15384  N06451R          0.146543  0.130921  trunk   \n",
       "\n",
       "                     road  limit detectors_citycode  lanes  linkid  \\\n",
       "0    Great Ancoats Street     48         manchester      2      72   \n",
       "1    Great Ancoats Street     48         manchester      3      76   \n",
       "2             Oldham Road     48         manchester      2      48   \n",
       "3             Oldham Road     48         manchester      2      44   \n",
       "4         Thompson Street      0         manchester      1      42   \n",
       "..                    ...    ...                ...    ...     ...   \n",
       "176         Chapel Street     32         manchester      2     127   \n",
       "177     St Philip's Place      0         manchester      2     129   \n",
       "178         Chapel Street     32         manchester      2     130   \n",
       "179              Crescent     32         manchester      2     132   \n",
       "180           Trinity Way     48         manchester      3     114   \n",
       "\n",
       "     detectors_long  detectors_lat  \n",
       "0         -2.230164      53.483429  \n",
       "1         -2.228188      53.482206  \n",
       "2         -2.224160      53.488127  \n",
       "3         -2.231587      53.485518  \n",
       "4         -2.232718      53.487730  \n",
       "..              ...            ...  \n",
       "176       -2.259198      53.483305  \n",
       "177       -2.262977      53.483618  \n",
       "178       -2.264217      53.483308  \n",
       "179       -2.265183      53.483210  \n",
       "180       -2.256444      53.484638  \n",
       "\n",
       "[180 rows x 12 columns]"
      ],
      "text/html": "<div>\n<style scoped>\n    .dataframe tbody tr th:only-of-type {\n        vertical-align: middle;\n    }\n\n    .dataframe tbody tr th {\n        vertical-align: top;\n    }\n\n    .dataframe thead th {\n        text-align: right;\n    }\n</style>\n<table border=\"1\" class=\"dataframe\">\n  <thead>\n    <tr style=\"text-align: right;\">\n      <th></th>\n      <th>detectors</th>\n      <th>detid</th>\n      <th>detectors_length</th>\n      <th>pos</th>\n      <th>fclass</th>\n      <th>road</th>\n      <th>limit</th>\n      <th>detectors_citycode</th>\n      <th>lanes</th>\n      <th>linkid</th>\n      <th>detectors_long</th>\n      <th>detectors_lat</th>\n    </tr>\n  </thead>\n  <tbody>\n    <tr>\n      <th>0</th>\n      <td>15204</td>\n      <td>N06111V</td>\n      <td>0.119161</td>\n      <td>0.116664</td>\n      <td>trunk</td>\n      <td>Great Ancoats Street</td>\n      <td>48</td>\n      <td>manchester</td>\n      <td>2</td>\n      <td>72</td>\n      <td>-2.230164</td>\n      <td>53.483429</td>\n    </tr>\n    <tr>\n      <th>1</th>\n      <td>15205</td>\n      <td>N06112W</td>\n      <td>0.084072</td>\n      <td>0.076377</td>\n      <td>trunk</td>\n      <td>Great Ancoats Street</td>\n      <td>48</td>\n      <td>manchester</td>\n      <td>3</td>\n      <td>76</td>\n      <td>-2.228188</td>\n      <td>53.482206</td>\n    </tr>\n    <tr>\n      <th>2</th>\n      <td>15206</td>\n      <td>N06141A</td>\n      <td>0.417602</td>\n      <td>0.414577</td>\n      <td>trunk</td>\n      <td>Oldham Road</td>\n      <td>48</td>\n      <td>manchester</td>\n      <td>2</td>\n      <td>48</td>\n      <td>-2.224160</td>\n      <td>53.488127</td>\n    </tr>\n    <tr>\n      <th>3</th>\n      <td>15207</td>\n      <td>N06141C</td>\n      <td>0.114765</td>\n      <td>0.112883</td>\n      <td>trunk</td>\n      <td>Oldham Road</td>\n      <td>48</td>\n      <td>manchester</td>\n      <td>2</td>\n      <td>44</td>\n      <td>-2.231587</td>\n      <td>53.485518</td>\n    </tr>\n    <tr>\n      <th>4</th>\n      <td>15208</td>\n      <td>N06141Y</td>\n      <td>0.256407</td>\n      <td>0.249730</td>\n      <td>other</td>\n      <td>Thompson Street</td>\n      <td>0</td>\n      <td>manchester</td>\n      <td>1</td>\n      <td>42</td>\n      <td>-2.232718</td>\n      <td>53.487730</td>\n    </tr>\n    <tr>\n      <th>...</th>\n      <td>...</td>\n      <td>...</td>\n      <td>...</td>\n      <td>...</td>\n      <td>...</td>\n      <td>...</td>\n      <td>...</td>\n      <td>...</td>\n      <td>...</td>\n      <td>...</td>\n      <td>...</td>\n      <td>...</td>\n    </tr>\n    <tr>\n      <th>176</th>\n      <td>15380</td>\n      <td>N06482F</td>\n      <td>0.243023</td>\n      <td>0.229623</td>\n      <td>trunk</td>\n      <td>Chapel Street</td>\n      <td>32</td>\n      <td>manchester</td>\n      <td>2</td>\n      <td>127</td>\n      <td>-2.259198</td>\n      <td>53.483305</td>\n    </tr>\n    <tr>\n      <th>177</th>\n      <td>15381</td>\n      <td>N06482K</td>\n      <td>0.035744</td>\n      <td>0.020701</td>\n      <td>other</td>\n      <td>St Philip's Place</td>\n      <td>0</td>\n      <td>manchester</td>\n      <td>2</td>\n      <td>129</td>\n      <td>-2.262977</td>\n      <td>53.483618</td>\n    </tr>\n    <tr>\n      <th>178</th>\n      <td>15382</td>\n      <td>N06482J</td>\n      <td>0.107132</td>\n      <td>0.103730</td>\n      <td>trunk</td>\n      <td>Chapel Street</td>\n      <td>32</td>\n      <td>manchester</td>\n      <td>2</td>\n      <td>130</td>\n      <td>-2.264217</td>\n      <td>53.483308</td>\n    </tr>\n    <tr>\n      <th>179</th>\n      <td>15383</td>\n      <td>N06551T</td>\n      <td>0.446633</td>\n      <td>0.369536</td>\n      <td>trunk</td>\n      <td>Crescent</td>\n      <td>32</td>\n      <td>manchester</td>\n      <td>2</td>\n      <td>132</td>\n      <td>-2.265183</td>\n      <td>53.483210</td>\n    </tr>\n    <tr>\n      <th>180</th>\n      <td>15384</td>\n      <td>N06451R</td>\n      <td>0.146543</td>\n      <td>0.130921</td>\n      <td>trunk</td>\n      <td>Trinity Way</td>\n      <td>48</td>\n      <td>manchester</td>\n      <td>3</td>\n      <td>114</td>\n      <td>-2.256444</td>\n      <td>53.484638</td>\n    </tr>\n  </tbody>\n</table>\n<p>180 rows × 12 columns</p>\n</div>"
     },
     "metadata": {},
     "execution_count": 102
    }
   ],
   "source": [
    "detectors"
   ]
  },
  {
   "cell_type": "code",
   "execution_count": 103,
   "metadata": {},
   "outputs": [
    {
     "output_type": "execute_result",
     "data": {
      "text/plain": [
       "180"
      ]
     },
     "metadata": {},
     "execution_count": 103
    }
   ],
   "source": [
    "detectors['linkid'].count()"
   ]
  },
  {
   "cell_type": "code",
   "execution_count": 104,
   "metadata": {},
   "outputs": [
    {
     "output_type": "stream",
     "name": "stdout",
     "text": [
      "Empty DataFrame\nColumns: [detectors, detid, detectors_length, pos, fclass, road, limit, detectors_citycode, lanes, linkid, detectors_long, detectors_lat]\nIndex: []\n"
     ]
    }
   ],
   "source": [
    "print(detectors[detectors['linkid'].duplicated()])"
   ]
  },
  {
   "cell_type": "code",
   "execution_count": 90,
   "metadata": {},
   "outputs": [
    {
     "output_type": "execute_result",
     "data": {
      "text/plain": [
       "       utd  utd_long    utd_lat  order  piece  linkid  group utd_citycode  \\\n",
       "0    89398 -2.264742  53.485628      1      1       0    0.1   manchester   \n",
       "1    89399 -2.264694  53.486187      2      1       0    0.1   manchester   \n",
       "2    89400 -2.264653  53.486820      3      1       0    0.1   manchester   \n",
       "3    89401 -2.264374  53.487190      4      1       0    0.1   manchester   \n",
       "4    89402 -2.263860  53.487496      5      1       0    0.1   manchester   \n",
       "..     ...       ...        ...    ...    ...     ...    ...          ...   \n",
       "937  90335 -2.252004  53.481483      1      1     180  180.1   manchester   \n",
       "938  90336 -2.252378  53.481538      2      1     180  180.1   manchester   \n",
       "939  90337 -2.252817  53.481670      3      1     180  180.1   manchester   \n",
       "940  90338 -2.253200  53.481823      4      1     180  180.1   manchester   \n",
       "941  90339 -2.253446  53.481975      5      1     180  180.1   manchester   \n",
       "\n",
       "     detectors    detid    length       pos   fclass         road  limit  \\\n",
       "0      15351.0  N31111S  0.620643  0.100084  primary  Silk Street   48.0   \n",
       "1      15351.0  N31111S  0.620643  0.100084  primary  Silk Street   48.0   \n",
       "2      15351.0  N31111S  0.620643  0.100084  primary  Silk Street   48.0   \n",
       "3      15351.0  N31111S  0.620643  0.100084  primary  Silk Street   48.0   \n",
       "4      15351.0  N31111S  0.620643  0.100084  primary  Silk Street   48.0   \n",
       "..         ...      ...       ...       ...      ...          ...    ...   \n",
       "937    15309.0  N06521G  0.112340  0.086766    other     Leftbank   48.0   \n",
       "938    15309.0  N06521G  0.112340  0.086766    other     Leftbank   48.0   \n",
       "939    15309.0  N06521G  0.112340  0.086766    other     Leftbank   48.0   \n",
       "940    15309.0  N06521G  0.112340  0.086766    other     Leftbank   48.0   \n",
       "941    15309.0  N06521G  0.112340  0.086766    other     Leftbank   48.0   \n",
       "\n",
       "    detectors_citycode  lanes  detectors_long  detectors_lat  \n",
       "0           manchester    1.0       -2.260317      53.489087  \n",
       "1           manchester    1.0       -2.260317      53.489087  \n",
       "2           manchester    1.0       -2.260317      53.489087  \n",
       "3           manchester    1.0       -2.260317      53.489087  \n",
       "4           manchester    1.0       -2.260317      53.489087  \n",
       "..                 ...    ...             ...            ...  \n",
       "937         manchester    1.0       -2.252378      53.481538  \n",
       "938         manchester    1.0       -2.252378      53.481538  \n",
       "939         manchester    1.0       -2.252378      53.481538  \n",
       "940         manchester    1.0       -2.252378      53.481538  \n",
       "941         manchester    1.0       -2.252378      53.481538  \n",
       "\n",
       "[942 rows x 19 columns]"
      ],
      "text/html": "<div>\n<style scoped>\n    .dataframe tbody tr th:only-of-type {\n        vertical-align: middle;\n    }\n\n    .dataframe tbody tr th {\n        vertical-align: top;\n    }\n\n    .dataframe thead th {\n        text-align: right;\n    }\n</style>\n<table border=\"1\" class=\"dataframe\">\n  <thead>\n    <tr style=\"text-align: right;\">\n      <th></th>\n      <th>utd</th>\n      <th>utd_long</th>\n      <th>utd_lat</th>\n      <th>order</th>\n      <th>piece</th>\n      <th>linkid</th>\n      <th>group</th>\n      <th>utd_citycode</th>\n      <th>detectors</th>\n      <th>detid</th>\n      <th>length</th>\n      <th>pos</th>\n      <th>fclass</th>\n      <th>road</th>\n      <th>limit</th>\n      <th>detectors_citycode</th>\n      <th>lanes</th>\n      <th>detectors_long</th>\n      <th>detectors_lat</th>\n    </tr>\n  </thead>\n  <tbody>\n    <tr>\n      <th>0</th>\n      <td>89398</td>\n      <td>-2.264742</td>\n      <td>53.485628</td>\n      <td>1</td>\n      <td>1</td>\n      <td>0</td>\n      <td>0.1</td>\n      <td>manchester</td>\n      <td>15351.0</td>\n      <td>N31111S</td>\n      <td>0.620643</td>\n      <td>0.100084</td>\n      <td>primary</td>\n      <td>Silk Street</td>\n      <td>48.0</td>\n      <td>manchester</td>\n      <td>1.0</td>\n      <td>-2.260317</td>\n      <td>53.489087</td>\n    </tr>\n    <tr>\n      <th>1</th>\n      <td>89399</td>\n      <td>-2.264694</td>\n      <td>53.486187</td>\n      <td>2</td>\n      <td>1</td>\n      <td>0</td>\n      <td>0.1</td>\n      <td>manchester</td>\n      <td>15351.0</td>\n      <td>N31111S</td>\n      <td>0.620643</td>\n      <td>0.100084</td>\n      <td>primary</td>\n      <td>Silk Street</td>\n      <td>48.0</td>\n      <td>manchester</td>\n      <td>1.0</td>\n      <td>-2.260317</td>\n      <td>53.489087</td>\n    </tr>\n    <tr>\n      <th>2</th>\n      <td>89400</td>\n      <td>-2.264653</td>\n      <td>53.486820</td>\n      <td>3</td>\n      <td>1</td>\n      <td>0</td>\n      <td>0.1</td>\n      <td>manchester</td>\n      <td>15351.0</td>\n      <td>N31111S</td>\n      <td>0.620643</td>\n      <td>0.100084</td>\n      <td>primary</td>\n      <td>Silk Street</td>\n      <td>48.0</td>\n      <td>manchester</td>\n      <td>1.0</td>\n      <td>-2.260317</td>\n      <td>53.489087</td>\n    </tr>\n    <tr>\n      <th>3</th>\n      <td>89401</td>\n      <td>-2.264374</td>\n      <td>53.487190</td>\n      <td>4</td>\n      <td>1</td>\n      <td>0</td>\n      <td>0.1</td>\n      <td>manchester</td>\n      <td>15351.0</td>\n      <td>N31111S</td>\n      <td>0.620643</td>\n      <td>0.100084</td>\n      <td>primary</td>\n      <td>Silk Street</td>\n      <td>48.0</td>\n      <td>manchester</td>\n      <td>1.0</td>\n      <td>-2.260317</td>\n      <td>53.489087</td>\n    </tr>\n    <tr>\n      <th>4</th>\n      <td>89402</td>\n      <td>-2.263860</td>\n      <td>53.487496</td>\n      <td>5</td>\n      <td>1</td>\n      <td>0</td>\n      <td>0.1</td>\n      <td>manchester</td>\n      <td>15351.0</td>\n      <td>N31111S</td>\n      <td>0.620643</td>\n      <td>0.100084</td>\n      <td>primary</td>\n      <td>Silk Street</td>\n      <td>48.0</td>\n      <td>manchester</td>\n      <td>1.0</td>\n      <td>-2.260317</td>\n      <td>53.489087</td>\n    </tr>\n    <tr>\n      <th>...</th>\n      <td>...</td>\n      <td>...</td>\n      <td>...</td>\n      <td>...</td>\n      <td>...</td>\n      <td>...</td>\n      <td>...</td>\n      <td>...</td>\n      <td>...</td>\n      <td>...</td>\n      <td>...</td>\n      <td>...</td>\n      <td>...</td>\n      <td>...</td>\n      <td>...</td>\n      <td>...</td>\n      <td>...</td>\n      <td>...</td>\n      <td>...</td>\n    </tr>\n    <tr>\n      <th>937</th>\n      <td>90335</td>\n      <td>-2.252004</td>\n      <td>53.481483</td>\n      <td>1</td>\n      <td>1</td>\n      <td>180</td>\n      <td>180.1</td>\n      <td>manchester</td>\n      <td>15309.0</td>\n      <td>N06521G</td>\n      <td>0.112340</td>\n      <td>0.086766</td>\n      <td>other</td>\n      <td>Leftbank</td>\n      <td>48.0</td>\n      <td>manchester</td>\n      <td>1.0</td>\n      <td>-2.252378</td>\n      <td>53.481538</td>\n    </tr>\n    <tr>\n      <th>938</th>\n      <td>90336</td>\n      <td>-2.252378</td>\n      <td>53.481538</td>\n      <td>2</td>\n      <td>1</td>\n      <td>180</td>\n      <td>180.1</td>\n      <td>manchester</td>\n      <td>15309.0</td>\n      <td>N06521G</td>\n      <td>0.112340</td>\n      <td>0.086766</td>\n      <td>other</td>\n      <td>Leftbank</td>\n      <td>48.0</td>\n      <td>manchester</td>\n      <td>1.0</td>\n      <td>-2.252378</td>\n      <td>53.481538</td>\n    </tr>\n    <tr>\n      <th>939</th>\n      <td>90337</td>\n      <td>-2.252817</td>\n      <td>53.481670</td>\n      <td>3</td>\n      <td>1</td>\n      <td>180</td>\n      <td>180.1</td>\n      <td>manchester</td>\n      <td>15309.0</td>\n      <td>N06521G</td>\n      <td>0.112340</td>\n      <td>0.086766</td>\n      <td>other</td>\n      <td>Leftbank</td>\n      <td>48.0</td>\n      <td>manchester</td>\n      <td>1.0</td>\n      <td>-2.252378</td>\n      <td>53.481538</td>\n    </tr>\n    <tr>\n      <th>940</th>\n      <td>90338</td>\n      <td>-2.253200</td>\n      <td>53.481823</td>\n      <td>4</td>\n      <td>1</td>\n      <td>180</td>\n      <td>180.1</td>\n      <td>manchester</td>\n      <td>15309.0</td>\n      <td>N06521G</td>\n      <td>0.112340</td>\n      <td>0.086766</td>\n      <td>other</td>\n      <td>Leftbank</td>\n      <td>48.0</td>\n      <td>manchester</td>\n      <td>1.0</td>\n      <td>-2.252378</td>\n      <td>53.481538</td>\n    </tr>\n    <tr>\n      <th>941</th>\n      <td>90339</td>\n      <td>-2.253446</td>\n      <td>53.481975</td>\n      <td>5</td>\n      <td>1</td>\n      <td>180</td>\n      <td>180.1</td>\n      <td>manchester</td>\n      <td>15309.0</td>\n      <td>N06521G</td>\n      <td>0.112340</td>\n      <td>0.086766</td>\n      <td>other</td>\n      <td>Leftbank</td>\n      <td>48.0</td>\n      <td>manchester</td>\n      <td>1.0</td>\n      <td>-2.252378</td>\n      <td>53.481538</td>\n    </tr>\n  </tbody>\n</table>\n<p>942 rows × 19 columns</p>\n</div>"
     },
     "metadata": {},
     "execution_count": 90
    }
   ],
   "source": [
    "\n",
    "utd_detectors.to_csv('utd_detectors.csv')\n",
    "utd_detectors"
   ]
  },
  {
   "cell_type": "code",
   "execution_count": 117,
   "metadata": {},
   "outputs": [
    {
     "output_type": "stream",
     "name": "stdout",
     "text": [
      "converting utd data into gmns format...\n",
      "node_utd.csv generated!\n"
     ]
    }
   ],
   "source": [
    "num_utd = 0\n",
    "'''build node.csv'''\n",
    "print('converting utd data into gmns format...')\n",
    "\n",
    "\n",
    "node_utd = pd.DataFrame()\n",
    "node_utd['name'] = None\n",
    "node_utd['x_coord'] = None\n",
    "node_utd['y_coord'] = None\n",
    "node_utd['z_coord'] = None\n",
    "node_utd['node_type'] = None\n",
    "node_utd['ctrl_type'] = None\n",
    "node_utd['zone_id'] = None\n",
    "node_utd['parent_node_id'] = None\n",
    "node_utd['geometry'] = None\n",
    "\n",
    "for i in range(len(utd)-1):\n",
    "    if utd.loc[i+1,'order'] > utd.loc[i,'order']:\n",
    "        node_utd = node_utd.append({'name': utd.loc[i,'utd'],\\\n",
    "                                    'x_coord': utd.loc[i,'utd_long'], \\\n",
    "                                    'y_coord': utd.loc[i,'utd_lat'],\\\n",
    "                                    'z_coord': None,\\\n",
    "                                    'node_type': utd.loc[i,'linkid'],\\\n",
    "                                    'ctrl_type': None,\\\n",
    "                                    'zone_id': None,\\\n",
    "                                    'parent_node_id': None,\\\n",
    "                                    'geometry': \"POINT (\" + utd.loc[i,'utd_long'].astype(str) + \" \" + utd.loc[i,'utd_lat'].astype(str) +\")\"}, ignore_index=True)\n",
    "        num_utd += 1\n",
    "    else:\n",
    "        \n",
    "        node_utd = node_utd.append({'name': utd.loc[i,'utd'],\\\n",
    "                                    'x_coord': utd.loc[i,'utd_long'], \\\n",
    "                                    'y_coord': utd.loc[i,'utd_lat'],\\\n",
    "                                    'z_coord': None,\\\n",
    "                                    'node_type': utd.loc[i,'linkid'],\\\n",
    "                                    'ctrl_type': None,\\\n",
    "                                    'zone_id': None,\\\n",
    "                                    'parent_node_id': None,\\\n",
    "                                    'geometry': \"POINT (\" + utd.loc[i,'utd_long'].astype(str) + \" \" + utd.loc[i,'utd_lat'].astype(str) +\")\"}, ignore_index=True)\n",
    "\n",
    "node_utd = node_utd.append({'name': utd.loc[i+1,'utd'],\\\n",
    "                                    'x_coord': utd.loc[i+1,'utd_long'], \\\n",
    "                                    'y_coord': utd.loc[i+1,'utd_lat'],\\\n",
    "                                    'z_coord': None,\\\n",
    "                                    'node_type': utd.loc[i+1,'linkid'],\\\n",
    "                                    'ctrl_type': None,\\\n",
    "                                    'zone_id': None,\\\n",
    "                                    'parent_node_id': None,\\\n",
    "                                    'geometry': \"POINT (\" + utd.loc[i+1,'utd_long'].astype(str) + \" \" + utd.loc[i+1,'utd_lat'].astype(str) +\")\"}, ignore_index=True)\n",
    "\n",
    "\n",
    "node_utd.index.name = 'node_id'\n",
    "node_utd.index += 100000001 #index from 0\n",
    "\n",
    "\n",
    "\n",
    "node_utd.to_csv('node_utd.csv')\n",
    "print('node_utd.csv generated!')"
   ]
  },
  {
   "cell_type": "code",
   "execution_count": 118,
   "metadata": {},
   "outputs": [
    {
     "output_type": "execute_result",
     "data": {
      "text/plain": [
       "761"
      ]
     },
     "metadata": {},
     "execution_count": 118
    }
   ],
   "source": [
    "num_utd"
   ]
  },
  {
   "cell_type": "code",
   "execution_count": 106,
   "metadata": {},
   "outputs": [
    {
     "output_type": "execute_result",
     "data": {
      "text/plain": [
       "            name   x_coord    y_coord z_coord node_type ctrl_type zone_id  \\\n",
       "node_id                                                                     \n",
       "100000001  89398 -2.264742  53.485628    None         0      None    None   \n",
       "100000002  89399 -2.264694  53.486187    None         0      None    None   \n",
       "100000003  89400 -2.264653  53.486820    None         0      None    None   \n",
       "100000004  89401 -2.264374  53.487190    None         0      None    None   \n",
       "100000005  89402 -2.263860  53.487496    None         0      None    None   \n",
       "...          ...       ...        ...     ...       ...       ...     ...   \n",
       "100000938  90335 -2.252004  53.481483    None       180      None    None   \n",
       "100000939  90336 -2.252378  53.481538    None       180      None    None   \n",
       "100000940  90337 -2.252817  53.481670    None       180      None    None   \n",
       "100000941  90338 -2.253200  53.481823    None       180      None    None   \n",
       "100000942  90339 -2.253446  53.481975    None       180      None    None   \n",
       "\n",
       "          parent_node_id                              geometry  \n",
       "node_id                                                         \n",
       "100000001           None   POINT (-2.264742 53.48562800000001)  \n",
       "100000002           None           POINT (-2.264694 53.486187)  \n",
       "100000003           None            POINT (-2.264653 53.48682)  \n",
       "100000004           None   POINT (-2.264374 53.48719000000001)  \n",
       "100000005           None    POINT (-2.26386 53.48749599999999)  \n",
       "...                  ...                                   ...  \n",
       "100000938           None  POINT (-2.2520041 53.48148270000001)  \n",
       "100000939           None           POINT (-2.252378 53.481538)  \n",
       "100000940           None         POINT (-2.2528169 53.4816695)  \n",
       "100000941           None  POINT (-2.2532004 53.48182270000001)  \n",
       "100000942           None  POINT (-2.2534458 53.48197510000001)  \n",
       "\n",
       "[942 rows x 9 columns]"
      ],
      "text/html": "<div>\n<style scoped>\n    .dataframe tbody tr th:only-of-type {\n        vertical-align: middle;\n    }\n\n    .dataframe tbody tr th {\n        vertical-align: top;\n    }\n\n    .dataframe thead th {\n        text-align: right;\n    }\n</style>\n<table border=\"1\" class=\"dataframe\">\n  <thead>\n    <tr style=\"text-align: right;\">\n      <th></th>\n      <th>name</th>\n      <th>x_coord</th>\n      <th>y_coord</th>\n      <th>z_coord</th>\n      <th>node_type</th>\n      <th>ctrl_type</th>\n      <th>zone_id</th>\n      <th>parent_node_id</th>\n      <th>geometry</th>\n    </tr>\n    <tr>\n      <th>node_id</th>\n      <th></th>\n      <th></th>\n      <th></th>\n      <th></th>\n      <th></th>\n      <th></th>\n      <th></th>\n      <th></th>\n      <th></th>\n    </tr>\n  </thead>\n  <tbody>\n    <tr>\n      <th>100000001</th>\n      <td>89398</td>\n      <td>-2.264742</td>\n      <td>53.485628</td>\n      <td>None</td>\n      <td>0</td>\n      <td>None</td>\n      <td>None</td>\n      <td>None</td>\n      <td>POINT (-2.264742 53.48562800000001)</td>\n    </tr>\n    <tr>\n      <th>100000002</th>\n      <td>89399</td>\n      <td>-2.264694</td>\n      <td>53.486187</td>\n      <td>None</td>\n      <td>0</td>\n      <td>None</td>\n      <td>None</td>\n      <td>None</td>\n      <td>POINT (-2.264694 53.486187)</td>\n    </tr>\n    <tr>\n      <th>100000003</th>\n      <td>89400</td>\n      <td>-2.264653</td>\n      <td>53.486820</td>\n      <td>None</td>\n      <td>0</td>\n      <td>None</td>\n      <td>None</td>\n      <td>None</td>\n      <td>POINT (-2.264653 53.48682)</td>\n    </tr>\n    <tr>\n      <th>100000004</th>\n      <td>89401</td>\n      <td>-2.264374</td>\n      <td>53.487190</td>\n      <td>None</td>\n      <td>0</td>\n      <td>None</td>\n      <td>None</td>\n      <td>None</td>\n      <td>POINT (-2.264374 53.48719000000001)</td>\n    </tr>\n    <tr>\n      <th>100000005</th>\n      <td>89402</td>\n      <td>-2.263860</td>\n      <td>53.487496</td>\n      <td>None</td>\n      <td>0</td>\n      <td>None</td>\n      <td>None</td>\n      <td>None</td>\n      <td>POINT (-2.26386 53.48749599999999)</td>\n    </tr>\n    <tr>\n      <th>...</th>\n      <td>...</td>\n      <td>...</td>\n      <td>...</td>\n      <td>...</td>\n      <td>...</td>\n      <td>...</td>\n      <td>...</td>\n      <td>...</td>\n      <td>...</td>\n    </tr>\n    <tr>\n      <th>100000938</th>\n      <td>90335</td>\n      <td>-2.252004</td>\n      <td>53.481483</td>\n      <td>None</td>\n      <td>180</td>\n      <td>None</td>\n      <td>None</td>\n      <td>None</td>\n      <td>POINT (-2.2520041 53.48148270000001)</td>\n    </tr>\n    <tr>\n      <th>100000939</th>\n      <td>90336</td>\n      <td>-2.252378</td>\n      <td>53.481538</td>\n      <td>None</td>\n      <td>180</td>\n      <td>None</td>\n      <td>None</td>\n      <td>None</td>\n      <td>POINT (-2.252378 53.481538)</td>\n    </tr>\n    <tr>\n      <th>100000940</th>\n      <td>90337</td>\n      <td>-2.252817</td>\n      <td>53.481670</td>\n      <td>None</td>\n      <td>180</td>\n      <td>None</td>\n      <td>None</td>\n      <td>None</td>\n      <td>POINT (-2.2528169 53.4816695)</td>\n    </tr>\n    <tr>\n      <th>100000941</th>\n      <td>90338</td>\n      <td>-2.253200</td>\n      <td>53.481823</td>\n      <td>None</td>\n      <td>180</td>\n      <td>None</td>\n      <td>None</td>\n      <td>None</td>\n      <td>POINT (-2.2532004 53.48182270000001)</td>\n    </tr>\n    <tr>\n      <th>100000942</th>\n      <td>90339</td>\n      <td>-2.253446</td>\n      <td>53.481975</td>\n      <td>None</td>\n      <td>180</td>\n      <td>None</td>\n      <td>None</td>\n      <td>None</td>\n      <td>POINT (-2.2534458 53.48197510000001)</td>\n    </tr>\n  </tbody>\n</table>\n<p>942 rows × 9 columns</p>\n</div>"
     },
     "metadata": {},
     "execution_count": 106
    }
   ],
   "source": [
    "node_utd"
   ]
  },
  {
   "cell_type": "code",
   "execution_count": 107,
   "metadata": {},
   "outputs": [
    {
     "output_type": "execute_result",
     "data": {
      "text/plain": [
       "       utd  utd_long    utd_lat  order  piece  linkid  group utd_citycode  \\\n",
       "0    89398 -2.264742  53.485628      1      1       0    0.1   manchester   \n",
       "1    89399 -2.264694  53.486187      2      1       0    0.1   manchester   \n",
       "2    89400 -2.264653  53.486820      3      1       0    0.1   manchester   \n",
       "3    89401 -2.264374  53.487190      4      1       0    0.1   manchester   \n",
       "4    89402 -2.263860  53.487496      5      1       0    0.1   manchester   \n",
       "..     ...       ...        ...    ...    ...     ...    ...          ...   \n",
       "937  90335 -2.252004  53.481483      1      1     180  180.1   manchester   \n",
       "938  90336 -2.252378  53.481538      2      1     180  180.1   manchester   \n",
       "939  90337 -2.252817  53.481670      3      1     180  180.1   manchester   \n",
       "940  90338 -2.253200  53.481823      4      1     180  180.1   manchester   \n",
       "941  90339 -2.253446  53.481975      5      1     180  180.1   manchester   \n",
       "\n",
       "     detectors    detid  detectors_length       pos   fclass         road  \\\n",
       "0      15351.0  N31111S          0.620643  0.100084  primary  Silk Street   \n",
       "1      15351.0  N31111S          0.620643  0.100084  primary  Silk Street   \n",
       "2      15351.0  N31111S          0.620643  0.100084  primary  Silk Street   \n",
       "3      15351.0  N31111S          0.620643  0.100084  primary  Silk Street   \n",
       "4      15351.0  N31111S          0.620643  0.100084  primary  Silk Street   \n",
       "..         ...      ...               ...       ...      ...          ...   \n",
       "937    15309.0  N06521G          0.112340  0.086766    other     Leftbank   \n",
       "938    15309.0  N06521G          0.112340  0.086766    other     Leftbank   \n",
       "939    15309.0  N06521G          0.112340  0.086766    other     Leftbank   \n",
       "940    15309.0  N06521G          0.112340  0.086766    other     Leftbank   \n",
       "941    15309.0  N06521G          0.112340  0.086766    other     Leftbank   \n",
       "\n",
       "     limit detectors_citycode  lanes  detectors_long  detectors_lat  \n",
       "0     48.0         manchester    1.0       -2.260317      53.489087  \n",
       "1     48.0         manchester    1.0       -2.260317      53.489087  \n",
       "2     48.0         manchester    1.0       -2.260317      53.489087  \n",
       "3     48.0         manchester    1.0       -2.260317      53.489087  \n",
       "4     48.0         manchester    1.0       -2.260317      53.489087  \n",
       "..     ...                ...    ...             ...            ...  \n",
       "937   48.0         manchester    1.0       -2.252378      53.481538  \n",
       "938   48.0         manchester    1.0       -2.252378      53.481538  \n",
       "939   48.0         manchester    1.0       -2.252378      53.481538  \n",
       "940   48.0         manchester    1.0       -2.252378      53.481538  \n",
       "941   48.0         manchester    1.0       -2.252378      53.481538  \n",
       "\n",
       "[942 rows x 19 columns]"
      ],
      "text/html": "<div>\n<style scoped>\n    .dataframe tbody tr th:only-of-type {\n        vertical-align: middle;\n    }\n\n    .dataframe tbody tr th {\n        vertical-align: top;\n    }\n\n    .dataframe thead th {\n        text-align: right;\n    }\n</style>\n<table border=\"1\" class=\"dataframe\">\n  <thead>\n    <tr style=\"text-align: right;\">\n      <th></th>\n      <th>utd</th>\n      <th>utd_long</th>\n      <th>utd_lat</th>\n      <th>order</th>\n      <th>piece</th>\n      <th>linkid</th>\n      <th>group</th>\n      <th>utd_citycode</th>\n      <th>detectors</th>\n      <th>detid</th>\n      <th>detectors_length</th>\n      <th>pos</th>\n      <th>fclass</th>\n      <th>road</th>\n      <th>limit</th>\n      <th>detectors_citycode</th>\n      <th>lanes</th>\n      <th>detectors_long</th>\n      <th>detectors_lat</th>\n    </tr>\n  </thead>\n  <tbody>\n    <tr>\n      <th>0</th>\n      <td>89398</td>\n      <td>-2.264742</td>\n      <td>53.485628</td>\n      <td>1</td>\n      <td>1</td>\n      <td>0</td>\n      <td>0.1</td>\n      <td>manchester</td>\n      <td>15351.0</td>\n      <td>N31111S</td>\n      <td>0.620643</td>\n      <td>0.100084</td>\n      <td>primary</td>\n      <td>Silk Street</td>\n      <td>48.0</td>\n      <td>manchester</td>\n      <td>1.0</td>\n      <td>-2.260317</td>\n      <td>53.489087</td>\n    </tr>\n    <tr>\n      <th>1</th>\n      <td>89399</td>\n      <td>-2.264694</td>\n      <td>53.486187</td>\n      <td>2</td>\n      <td>1</td>\n      <td>0</td>\n      <td>0.1</td>\n      <td>manchester</td>\n      <td>15351.0</td>\n      <td>N31111S</td>\n      <td>0.620643</td>\n      <td>0.100084</td>\n      <td>primary</td>\n      <td>Silk Street</td>\n      <td>48.0</td>\n      <td>manchester</td>\n      <td>1.0</td>\n      <td>-2.260317</td>\n      <td>53.489087</td>\n    </tr>\n    <tr>\n      <th>2</th>\n      <td>89400</td>\n      <td>-2.264653</td>\n      <td>53.486820</td>\n      <td>3</td>\n      <td>1</td>\n      <td>0</td>\n      <td>0.1</td>\n      <td>manchester</td>\n      <td>15351.0</td>\n      <td>N31111S</td>\n      <td>0.620643</td>\n      <td>0.100084</td>\n      <td>primary</td>\n      <td>Silk Street</td>\n      <td>48.0</td>\n      <td>manchester</td>\n      <td>1.0</td>\n      <td>-2.260317</td>\n      <td>53.489087</td>\n    </tr>\n    <tr>\n      <th>3</th>\n      <td>89401</td>\n      <td>-2.264374</td>\n      <td>53.487190</td>\n      <td>4</td>\n      <td>1</td>\n      <td>0</td>\n      <td>0.1</td>\n      <td>manchester</td>\n      <td>15351.0</td>\n      <td>N31111S</td>\n      <td>0.620643</td>\n      <td>0.100084</td>\n      <td>primary</td>\n      <td>Silk Street</td>\n      <td>48.0</td>\n      <td>manchester</td>\n      <td>1.0</td>\n      <td>-2.260317</td>\n      <td>53.489087</td>\n    </tr>\n    <tr>\n      <th>4</th>\n      <td>89402</td>\n      <td>-2.263860</td>\n      <td>53.487496</td>\n      <td>5</td>\n      <td>1</td>\n      <td>0</td>\n      <td>0.1</td>\n      <td>manchester</td>\n      <td>15351.0</td>\n      <td>N31111S</td>\n      <td>0.620643</td>\n      <td>0.100084</td>\n      <td>primary</td>\n      <td>Silk Street</td>\n      <td>48.0</td>\n      <td>manchester</td>\n      <td>1.0</td>\n      <td>-2.260317</td>\n      <td>53.489087</td>\n    </tr>\n    <tr>\n      <th>...</th>\n      <td>...</td>\n      <td>...</td>\n      <td>...</td>\n      <td>...</td>\n      <td>...</td>\n      <td>...</td>\n      <td>...</td>\n      <td>...</td>\n      <td>...</td>\n      <td>...</td>\n      <td>...</td>\n      <td>...</td>\n      <td>...</td>\n      <td>...</td>\n      <td>...</td>\n      <td>...</td>\n      <td>...</td>\n      <td>...</td>\n      <td>...</td>\n    </tr>\n    <tr>\n      <th>937</th>\n      <td>90335</td>\n      <td>-2.252004</td>\n      <td>53.481483</td>\n      <td>1</td>\n      <td>1</td>\n      <td>180</td>\n      <td>180.1</td>\n      <td>manchester</td>\n      <td>15309.0</td>\n      <td>N06521G</td>\n      <td>0.112340</td>\n      <td>0.086766</td>\n      <td>other</td>\n      <td>Leftbank</td>\n      <td>48.0</td>\n      <td>manchester</td>\n      <td>1.0</td>\n      <td>-2.252378</td>\n      <td>53.481538</td>\n    </tr>\n    <tr>\n      <th>938</th>\n      <td>90336</td>\n      <td>-2.252378</td>\n      <td>53.481538</td>\n      <td>2</td>\n      <td>1</td>\n      <td>180</td>\n      <td>180.1</td>\n      <td>manchester</td>\n      <td>15309.0</td>\n      <td>N06521G</td>\n      <td>0.112340</td>\n      <td>0.086766</td>\n      <td>other</td>\n      <td>Leftbank</td>\n      <td>48.0</td>\n      <td>manchester</td>\n      <td>1.0</td>\n      <td>-2.252378</td>\n      <td>53.481538</td>\n    </tr>\n    <tr>\n      <th>939</th>\n      <td>90337</td>\n      <td>-2.252817</td>\n      <td>53.481670</td>\n      <td>3</td>\n      <td>1</td>\n      <td>180</td>\n      <td>180.1</td>\n      <td>manchester</td>\n      <td>15309.0</td>\n      <td>N06521G</td>\n      <td>0.112340</td>\n      <td>0.086766</td>\n      <td>other</td>\n      <td>Leftbank</td>\n      <td>48.0</td>\n      <td>manchester</td>\n      <td>1.0</td>\n      <td>-2.252378</td>\n      <td>53.481538</td>\n    </tr>\n    <tr>\n      <th>940</th>\n      <td>90338</td>\n      <td>-2.253200</td>\n      <td>53.481823</td>\n      <td>4</td>\n      <td>1</td>\n      <td>180</td>\n      <td>180.1</td>\n      <td>manchester</td>\n      <td>15309.0</td>\n      <td>N06521G</td>\n      <td>0.112340</td>\n      <td>0.086766</td>\n      <td>other</td>\n      <td>Leftbank</td>\n      <td>48.0</td>\n      <td>manchester</td>\n      <td>1.0</td>\n      <td>-2.252378</td>\n      <td>53.481538</td>\n    </tr>\n    <tr>\n      <th>941</th>\n      <td>90339</td>\n      <td>-2.253446</td>\n      <td>53.481975</td>\n      <td>5</td>\n      <td>1</td>\n      <td>180</td>\n      <td>180.1</td>\n      <td>manchester</td>\n      <td>15309.0</td>\n      <td>N06521G</td>\n      <td>0.112340</td>\n      <td>0.086766</td>\n      <td>other</td>\n      <td>Leftbank</td>\n      <td>48.0</td>\n      <td>manchester</td>\n      <td>1.0</td>\n      <td>-2.252378</td>\n      <td>53.481538</td>\n    </tr>\n  </tbody>\n</table>\n<p>942 rows × 19 columns</p>\n</div>"
     },
     "metadata": {},
     "execution_count": 107
    }
   ],
   "source": [
    "utd_detectors"
   ]
  },
  {
   "cell_type": "code",
   "execution_count": 108,
   "metadata": {},
   "outputs": [
    {
     "output_type": "stream",
     "name": "stdout",
     "text": [
      "link_utd.csv generated!\n"
     ]
    }
   ],
   "source": [
    "'''build link_utd.csv'''\n",
    "link_utd = pd.DataFrame()\n",
    "link_utd['name'] = None\n",
    "link_utd['corridor_id'] = None\n",
    "link_utd['corridor_link_order'] = None\n",
    "link_utd['from_node_id'] = None\n",
    "link_utd['to_node_id'] = None\n",
    "link_utd['directed'] = None\n",
    "link_utd['geometry_id'] = None\n",
    "link_utd['geometry'] = None\n",
    "link_utd['dir_flag'] = None\n",
    "link_utd['parent_link_id'] = None\n",
    "link_utd['length'] = None\n",
    "link_utd['grade'] = None\n",
    "link_utd['facility_type'] = None\n",
    "link_utd['capacity'] = None\n",
    "link_utd['free_speed'] = None\n",
    "link_utd['lanes'] = None\n",
    "\n",
    "for i in range(0,len(utd_detectors)-1):\n",
    "    if utd.loc[i+1,'order'] > utd.loc[i,'order']:\n",
    "        link_utd = link_utd.append({'name': utd_detectors.loc[i,'utd'],\\\n",
    "                                    'corridor_id': utd_detectors.loc[i,'road'],\\\n",
    "                                    'corridor_link_order' : utd_detectors.loc[i,'order'],\\\n",
    "                                    'from_node_id': node_utd[(node_utd['x_coord']==utd_detectors.loc[i,'utd_long']) & \\\n",
    "                                                    (node_utd['y_coord']==utd_detectors.loc[i,'utd_lat'])].index.values[0], \\\n",
    "                                    'to_node_id': node_utd[(node_utd['x_coord']==utd_detectors.loc[i+1,'utd_long']) & \\\n",
    "                                                    (node_utd['y_coord']==utd_detectors.loc[i+1,'utd_lat'])].index.values[0],\\\n",
    "                                    'directed': None,\\\n",
    "                                    'geometry_id': None,\\\n",
    "                                    'geometry': \"LINESTRING (\" + utd_detectors.loc[i,'utd_long'].astype(str) + \" \" + \\\n",
    "                                                utd_detectors.loc[i,'utd_lat'].astype(str) + \",\" + \\\n",
    "                                                utd_detectors.loc[i+1,'utd_long'].astype(str) +\" \"+ \\\n",
    "                                                utd_detectors.loc[i+1,'utd_lat'].astype(str) + \")\",\\\n",
    "                                    'dir_flag': None,\\\n",
    "                                    'parent_link_id': None,\\\n",
    "                                    'length': None,\\\n",
    "                                    'grade': utd_detectors.loc[i,'fclass'],\\\n",
    "                                    'facility_type': None ,\\\n",
    "                                    'capacity':None,\\\n",
    "                                    'free_speed':utd_detectors.loc[i,'limit'],\\\n",
    "                                    'lanes': utd_detectors.loc[i,'lanes']}, ignore_index=True)\n",
    "link_utd.index.name = 'link_id'\n",
    "link_utd.index += 100000001\n",
    "\n",
    "\n",
    "link_utd.to_csv('link_utd.csv')\n",
    "print('link_utd.csv generated!')\n"
   ]
  },
  {
   "cell_type": "code",
   "execution_count": 109,
   "metadata": {},
   "outputs": [
    {
     "output_type": "execute_result",
     "data": {
      "text/plain": [
       "            name      corridor_id corridor_link_order from_node_id to_node_id  \\\n",
       "link_id                                                                         \n",
       "100000001  89398      Silk Street                   1    100000001  100000002   \n",
       "100000002  89399      Silk Street                   2    100000002  100000003   \n",
       "100000003  89400      Silk Street                   3    100000003  100000004   \n",
       "100000004  89401      Silk Street                   4    100000004  100000005   \n",
       "100000005  89402      Silk Street                   5    100000005  100000006   \n",
       "...          ...              ...                 ...          ...        ...   \n",
       "100000757  90333  Old Mill Street                   2    100000936  100000937   \n",
       "100000758  90335         Leftbank                   1    100000938  100000939   \n",
       "100000759  90336         Leftbank                   2    100000939  100000940   \n",
       "100000760  90337         Leftbank                   3    100000940  100000941   \n",
       "100000761  90338         Leftbank                   4    100000941  100000942   \n",
       "\n",
       "          directed geometry_id  \\\n",
       "link_id                          \n",
       "100000001     None        None   \n",
       "100000002     None        None   \n",
       "100000003     None        None   \n",
       "100000004     None        None   \n",
       "100000005     None        None   \n",
       "...            ...         ...   \n",
       "100000757     None        None   \n",
       "100000758     None        None   \n",
       "100000759     None        None   \n",
       "100000760     None        None   \n",
       "100000761     None        None   \n",
       "\n",
       "                                                    geometry dir_flag  \\\n",
       "link_id                                                                 \n",
       "100000001  LINESTRING (-2.264742 53.48562800000001,-2.264...     None   \n",
       "100000002  LINESTRING (-2.264694 53.486187,-2.264653 53.4...     None   \n",
       "100000003  LINESTRING (-2.264653 53.48682,-2.264374 53.48...     None   \n",
       "100000004  LINESTRING (-2.264374 53.48719000000001,-2.263...     None   \n",
       "100000005  LINESTRING (-2.26386 53.48749599999999,-2.2628...     None   \n",
       "...                                                      ...      ...   \n",
       "100000757  LINESTRING (-2.223232 53.48135500000001,-2.224...     None   \n",
       "100000758  LINESTRING (-2.2520041 53.48148270000001,-2.25...     None   \n",
       "100000759  LINESTRING (-2.252378 53.481538,-2.2528169 53....     None   \n",
       "100000760  LINESTRING (-2.2528169 53.4816695,-2.2532004 5...     None   \n",
       "100000761  LINESTRING (-2.2532004 53.48182270000001,-2.25...     None   \n",
       "\n",
       "          parent_link_id length     grade facility_type capacity  free_speed  \\\n",
       "link_id                                                                        \n",
       "100000001           None   None   primary          None     None        48.0   \n",
       "100000002           None   None   primary          None     None        48.0   \n",
       "100000003           None   None   primary          None     None        48.0   \n",
       "100000004           None   None   primary          None     None        48.0   \n",
       "100000005           None   None   primary          None     None        48.0   \n",
       "...                  ...    ...       ...           ...      ...         ...   \n",
       "100000757           None   None  tertiary          None     None         0.0   \n",
       "100000758           None   None     other          None     None        48.0   \n",
       "100000759           None   None     other          None     None        48.0   \n",
       "100000760           None   None     other          None     None        48.0   \n",
       "100000761           None   None     other          None     None        48.0   \n",
       "\n",
       "           lanes  \n",
       "link_id           \n",
       "100000001    1.0  \n",
       "100000002    1.0  \n",
       "100000003    1.0  \n",
       "100000004    1.0  \n",
       "100000005    1.0  \n",
       "...          ...  \n",
       "100000757    1.0  \n",
       "100000758    1.0  \n",
       "100000759    1.0  \n",
       "100000760    1.0  \n",
       "100000761    1.0  \n",
       "\n",
       "[761 rows x 16 columns]"
      ],
      "text/html": "<div>\n<style scoped>\n    .dataframe tbody tr th:only-of-type {\n        vertical-align: middle;\n    }\n\n    .dataframe tbody tr th {\n        vertical-align: top;\n    }\n\n    .dataframe thead th {\n        text-align: right;\n    }\n</style>\n<table border=\"1\" class=\"dataframe\">\n  <thead>\n    <tr style=\"text-align: right;\">\n      <th></th>\n      <th>name</th>\n      <th>corridor_id</th>\n      <th>corridor_link_order</th>\n      <th>from_node_id</th>\n      <th>to_node_id</th>\n      <th>directed</th>\n      <th>geometry_id</th>\n      <th>geometry</th>\n      <th>dir_flag</th>\n      <th>parent_link_id</th>\n      <th>length</th>\n      <th>grade</th>\n      <th>facility_type</th>\n      <th>capacity</th>\n      <th>free_speed</th>\n      <th>lanes</th>\n    </tr>\n    <tr>\n      <th>link_id</th>\n      <th></th>\n      <th></th>\n      <th></th>\n      <th></th>\n      <th></th>\n      <th></th>\n      <th></th>\n      <th></th>\n      <th></th>\n      <th></th>\n      <th></th>\n      <th></th>\n      <th></th>\n      <th></th>\n      <th></th>\n      <th></th>\n    </tr>\n  </thead>\n  <tbody>\n    <tr>\n      <th>100000001</th>\n      <td>89398</td>\n      <td>Silk Street</td>\n      <td>1</td>\n      <td>100000001</td>\n      <td>100000002</td>\n      <td>None</td>\n      <td>None</td>\n      <td>LINESTRING (-2.264742 53.48562800000001,-2.264...</td>\n      <td>None</td>\n      <td>None</td>\n      <td>None</td>\n      <td>primary</td>\n      <td>None</td>\n      <td>None</td>\n      <td>48.0</td>\n      <td>1.0</td>\n    </tr>\n    <tr>\n      <th>100000002</th>\n      <td>89399</td>\n      <td>Silk Street</td>\n      <td>2</td>\n      <td>100000002</td>\n      <td>100000003</td>\n      <td>None</td>\n      <td>None</td>\n      <td>LINESTRING (-2.264694 53.486187,-2.264653 53.4...</td>\n      <td>None</td>\n      <td>None</td>\n      <td>None</td>\n      <td>primary</td>\n      <td>None</td>\n      <td>None</td>\n      <td>48.0</td>\n      <td>1.0</td>\n    </tr>\n    <tr>\n      <th>100000003</th>\n      <td>89400</td>\n      <td>Silk Street</td>\n      <td>3</td>\n      <td>100000003</td>\n      <td>100000004</td>\n      <td>None</td>\n      <td>None</td>\n      <td>LINESTRING (-2.264653 53.48682,-2.264374 53.48...</td>\n      <td>None</td>\n      <td>None</td>\n      <td>None</td>\n      <td>primary</td>\n      <td>None</td>\n      <td>None</td>\n      <td>48.0</td>\n      <td>1.0</td>\n    </tr>\n    <tr>\n      <th>100000004</th>\n      <td>89401</td>\n      <td>Silk Street</td>\n      <td>4</td>\n      <td>100000004</td>\n      <td>100000005</td>\n      <td>None</td>\n      <td>None</td>\n      <td>LINESTRING (-2.264374 53.48719000000001,-2.263...</td>\n      <td>None</td>\n      <td>None</td>\n      <td>None</td>\n      <td>primary</td>\n      <td>None</td>\n      <td>None</td>\n      <td>48.0</td>\n      <td>1.0</td>\n    </tr>\n    <tr>\n      <th>100000005</th>\n      <td>89402</td>\n      <td>Silk Street</td>\n      <td>5</td>\n      <td>100000005</td>\n      <td>100000006</td>\n      <td>None</td>\n      <td>None</td>\n      <td>LINESTRING (-2.26386 53.48749599999999,-2.2628...</td>\n      <td>None</td>\n      <td>None</td>\n      <td>None</td>\n      <td>primary</td>\n      <td>None</td>\n      <td>None</td>\n      <td>48.0</td>\n      <td>1.0</td>\n    </tr>\n    <tr>\n      <th>...</th>\n      <td>...</td>\n      <td>...</td>\n      <td>...</td>\n      <td>...</td>\n      <td>...</td>\n      <td>...</td>\n      <td>...</td>\n      <td>...</td>\n      <td>...</td>\n      <td>...</td>\n      <td>...</td>\n      <td>...</td>\n      <td>...</td>\n      <td>...</td>\n      <td>...</td>\n      <td>...</td>\n    </tr>\n    <tr>\n      <th>100000757</th>\n      <td>90333</td>\n      <td>Old Mill Street</td>\n      <td>2</td>\n      <td>100000936</td>\n      <td>100000937</td>\n      <td>None</td>\n      <td>None</td>\n      <td>LINESTRING (-2.223232 53.48135500000001,-2.224...</td>\n      <td>None</td>\n      <td>None</td>\n      <td>None</td>\n      <td>tertiary</td>\n      <td>None</td>\n      <td>None</td>\n      <td>0.0</td>\n      <td>1.0</td>\n    </tr>\n    <tr>\n      <th>100000758</th>\n      <td>90335</td>\n      <td>Leftbank</td>\n      <td>1</td>\n      <td>100000938</td>\n      <td>100000939</td>\n      <td>None</td>\n      <td>None</td>\n      <td>LINESTRING (-2.2520041 53.48148270000001,-2.25...</td>\n      <td>None</td>\n      <td>None</td>\n      <td>None</td>\n      <td>other</td>\n      <td>None</td>\n      <td>None</td>\n      <td>48.0</td>\n      <td>1.0</td>\n    </tr>\n    <tr>\n      <th>100000759</th>\n      <td>90336</td>\n      <td>Leftbank</td>\n      <td>2</td>\n      <td>100000939</td>\n      <td>100000940</td>\n      <td>None</td>\n      <td>None</td>\n      <td>LINESTRING (-2.252378 53.481538,-2.2528169 53....</td>\n      <td>None</td>\n      <td>None</td>\n      <td>None</td>\n      <td>other</td>\n      <td>None</td>\n      <td>None</td>\n      <td>48.0</td>\n      <td>1.0</td>\n    </tr>\n    <tr>\n      <th>100000760</th>\n      <td>90337</td>\n      <td>Leftbank</td>\n      <td>3</td>\n      <td>100000940</td>\n      <td>100000941</td>\n      <td>None</td>\n      <td>None</td>\n      <td>LINESTRING (-2.2528169 53.4816695,-2.2532004 5...</td>\n      <td>None</td>\n      <td>None</td>\n      <td>None</td>\n      <td>other</td>\n      <td>None</td>\n      <td>None</td>\n      <td>48.0</td>\n      <td>1.0</td>\n    </tr>\n    <tr>\n      <th>100000761</th>\n      <td>90338</td>\n      <td>Leftbank</td>\n      <td>4</td>\n      <td>100000941</td>\n      <td>100000942</td>\n      <td>None</td>\n      <td>None</td>\n      <td>LINESTRING (-2.2532004 53.48182270000001,-2.25...</td>\n      <td>None</td>\n      <td>None</td>\n      <td>None</td>\n      <td>other</td>\n      <td>None</td>\n      <td>None</td>\n      <td>48.0</td>\n      <td>1.0</td>\n    </tr>\n  </tbody>\n</table>\n<p>761 rows × 16 columns</p>\n</div>"
     },
     "metadata": {},
     "execution_count": 109
    }
   ],
   "source": [
    "link_utd"
   ]
  },
  {
   "cell_type": "code",
   "execution_count": null,
   "metadata": {},
   "outputs": [],
   "source": []
  },
  {
   "cell_type": "code",
   "execution_count": 151,
   "metadata": {},
   "outputs": [
    {
     "output_type": "stream",
     "name": "stdout",
     "text": [
      "measurement_tmc.csv generated!\n"
     ]
    }
   ],
   "source": [
    "'''build measurement_utd.csv''' \n",
    "\n",
    "files= os.listdir(os.getcwd()) \n",
    "for file in files: \n",
    "    if file[:7] == 'Reading':\n",
    "        reading = pd.read_csv(file)\n",
    "        break\n",
    "\n",
    "# reading = reading[pd.to_datetime(reading['measurement_tstamp'], format='%Y-%m-%d %H:%M:%S')<datetime.datetime.strptime('2015-04-01 02:00:00', '%Y-%m-%d %H:%M:%S')]\n",
    "reading = reading.loc[0:1500]\n",
    "\n",
    "measurement_tmc = pd.DataFrame()\n",
    "measurement_tmc['name'] = None\n",
    "measurement_tmc['corridor_id'] = None\n",
    "measurement_tmc['corridor_link_order'] = None\n",
    "measurement_tmc['from_node_id'] = None\n",
    "measurement_tmc['to_node_id'] = None\n",
    "measurement_tmc['timestamp'] = None\n",
    "measurement_tmc['volume'] = None\n",
    "measurement_tmc['travel_time'] = None\n",
    "measurement_tmc['speed'] = None\n",
    "measurement_tmc['reference_speed'] = None\n",
    "measurement_tmc['density'] = None\n",
    "measurement_tmc['queue'] = None\n",
    "measurement_tmc['notes'] = None\n",
    "\n",
    "\n",
    "gp = reading.groupby('measurement_tstamp')\n",
    "for key, form in gp:\n",
    "    # print(key)\n",
    "    for i in link_tmc.index:\n",
    "        form_selected = form[form['_vatmc_code']==link_tmc['name'][i]]\n",
    "        if len(form_selected)>0:\n",
    "        # break\n",
    "            measurement_tmc = measurement_tmc.append({'name': link_tmc['name'][i],\\\n",
    "                                            'corridor_id': link_tmc['corridor_id'][i],\\\n",
    "                                            'corridor_link_order' : link_tmc['corridor_link_order'][i],\\\n",
    "                                            'from_node_id': link_tmc.loc[i,'from_node_id'], \\\n",
    "                                            'to_node_id': link_tmc.loc[i,'to_node_id'], \\\n",
    "                                            'timestamp': form_selected['measurement_tstamp'].values[0][0:10]+'T'+form_selected['measurement_tstamp'].values[0][11:13]+':'+form_selected['measurement_tstamp'].values[0][14:16],\\\n",
    "                                            'volume': None,\\\n",
    "                                            'travel_time': link_tmc['length'][i]/form_selected['speed'].values[0],\\\n",
    "                                            'speed': form_selected['speed'].values[0],\\\n",
    "                                            'reference_speed': form_selected['reference_speed'].values[0],\\\n",
    "                                            'density': None,\\\n",
    "                                            'queue': None,\\\n",
    "                                            'notes': None }, ignore_index=True)\n",
    "        else:\n",
    "            measurement_tmc = measurement_tmc.append({'name': link_tmc['name'][i],\\\n",
    "                                            'corridor_id': link_tmc['corridor_id'][i],\\\n",
    "                                            'corridor_link_order' : link_tmc['corridor_link_order'][i],\\\n",
    "                                            'from_node_id': link_tmc.loc[i,'from_node_id'], \\\n",
    "                                            'to_node_id': link_tmc.loc[i,'to_node_id'], \\\n",
    "                                            'timestamp': None,\\\n",
    "                                            'volume': None,\\\n",
    "                                            'travel_time': None,\\\n",
    "                                            'speed': None,\\\n",
    "                                            'reference_speed': None,\\\n",
    "                                            'density': None,\\\n",
    "                                            'queue': None,\\\n",
    "                                            'notes': None }, ignore_index=True)\n",
    "\n",
    "measurement_tmc.to_csv('measurement_tmc.csv',index = False)\n",
    "print('measurement_tmc.csv generated!')"
   ]
  },
  {
   "cell_type": "code",
   "execution_count": 152,
   "metadata": {},
   "outputs": [
    {
     "output_type": "execute_result",
     "data": {
      "text/plain": [
       "           name     corridor_id  corridor_link_order from_node_id to_node_id  \\\n",
       "0     110N05711  VA-7_EASTBOUND                 38.0    100000001  100000002   \n",
       "1     110-05710  VA-7_EASTBOUND                 39.0    100000002  100000003   \n",
       "2     110N05710  VA-7_EASTBOUND                 40.0    100000003  100000004   \n",
       "3     110-05709  VA-7_EASTBOUND                 41.0    100000004  100000005   \n",
       "4     110-05708  VA-7_EASTBOUND                 42.0    100000005  100000006   \n",
       "...         ...             ...                  ...          ...        ...   \n",
       "1607  110+05709  VA-7_WESTBOUND                 45.0    100000059  100000060   \n",
       "1608  110+05710  VA-7_WESTBOUND                 46.0    100000060  100000061   \n",
       "1609  110P05710  VA-7_WESTBOUND                 47.0    100000061  100000062   \n",
       "1610  110+05711  VA-7_WESTBOUND                 48.0    100000062  100000063   \n",
       "1611  110P05711  VA-7_WESTBOUND                 48.1    100000063  100000064   \n",
       "\n",
       "             timestamp volume  travel_time speed reference_speed density  \\\n",
       "0     2015-04-01T00:00   None  0.000877727    44              44    None   \n",
       "1     2015-04-01T00:00   None   0.00374761    44              44    None   \n",
       "2     2015-04-01T00:00   None    0.0104522    49              49    None   \n",
       "3     2015-04-01T00:00   None    0.0142206    48              48    None   \n",
       "4     2015-04-01T00:00   None    0.0061819    48              48    None   \n",
       "...                ...    ...          ...   ...             ...     ...   \n",
       "1607              None   None         None  None            None    None   \n",
       "1608              None   None         None  None            None    None   \n",
       "1609              None   None         None  None            None    None   \n",
       "1610              None   None         None  None            None    None   \n",
       "1611              None   None         None  None            None    None   \n",
       "\n",
       "     queue notes  \n",
       "0     None  None  \n",
       "1     None  None  \n",
       "2     None  None  \n",
       "3     None  None  \n",
       "4     None  None  \n",
       "...    ...   ...  \n",
       "1607  None  None  \n",
       "1608  None  None  \n",
       "1609  None  None  \n",
       "1610  None  None  \n",
       "1611  None  None  \n",
       "\n",
       "[1612 rows x 13 columns]"
      ],
      "text/html": "<div>\n<style scoped>\n    .dataframe tbody tr th:only-of-type {\n        vertical-align: middle;\n    }\n\n    .dataframe tbody tr th {\n        vertical-align: top;\n    }\n\n    .dataframe thead th {\n        text-align: right;\n    }\n</style>\n<table border=\"1\" class=\"dataframe\">\n  <thead>\n    <tr style=\"text-align: right;\">\n      <th></th>\n      <th>name</th>\n      <th>corridor_id</th>\n      <th>corridor_link_order</th>\n      <th>from_node_id</th>\n      <th>to_node_id</th>\n      <th>timestamp</th>\n      <th>volume</th>\n      <th>travel_time</th>\n      <th>speed</th>\n      <th>reference_speed</th>\n      <th>density</th>\n      <th>queue</th>\n      <th>notes</th>\n    </tr>\n  </thead>\n  <tbody>\n    <tr>\n      <th>0</th>\n      <td>110N05711</td>\n      <td>VA-7_EASTBOUND</td>\n      <td>38.0</td>\n      <td>100000001</td>\n      <td>100000002</td>\n      <td>2015-04-01T00:00</td>\n      <td>None</td>\n      <td>0.000877727</td>\n      <td>44</td>\n      <td>44</td>\n      <td>None</td>\n      <td>None</td>\n      <td>None</td>\n    </tr>\n    <tr>\n      <th>1</th>\n      <td>110-05710</td>\n      <td>VA-7_EASTBOUND</td>\n      <td>39.0</td>\n      <td>100000002</td>\n      <td>100000003</td>\n      <td>2015-04-01T00:00</td>\n      <td>None</td>\n      <td>0.00374761</td>\n      <td>44</td>\n      <td>44</td>\n      <td>None</td>\n      <td>None</td>\n      <td>None</td>\n    </tr>\n    <tr>\n      <th>2</th>\n      <td>110N05710</td>\n      <td>VA-7_EASTBOUND</td>\n      <td>40.0</td>\n      <td>100000003</td>\n      <td>100000004</td>\n      <td>2015-04-01T00:00</td>\n      <td>None</td>\n      <td>0.0104522</td>\n      <td>49</td>\n      <td>49</td>\n      <td>None</td>\n      <td>None</td>\n      <td>None</td>\n    </tr>\n    <tr>\n      <th>3</th>\n      <td>110-05709</td>\n      <td>VA-7_EASTBOUND</td>\n      <td>41.0</td>\n      <td>100000004</td>\n      <td>100000005</td>\n      <td>2015-04-01T00:00</td>\n      <td>None</td>\n      <td>0.0142206</td>\n      <td>48</td>\n      <td>48</td>\n      <td>None</td>\n      <td>None</td>\n      <td>None</td>\n    </tr>\n    <tr>\n      <th>4</th>\n      <td>110-05708</td>\n      <td>VA-7_EASTBOUND</td>\n      <td>42.0</td>\n      <td>100000005</td>\n      <td>100000006</td>\n      <td>2015-04-01T00:00</td>\n      <td>None</td>\n      <td>0.0061819</td>\n      <td>48</td>\n      <td>48</td>\n      <td>None</td>\n      <td>None</td>\n      <td>None</td>\n    </tr>\n    <tr>\n      <th>...</th>\n      <td>...</td>\n      <td>...</td>\n      <td>...</td>\n      <td>...</td>\n      <td>...</td>\n      <td>...</td>\n      <td>...</td>\n      <td>...</td>\n      <td>...</td>\n      <td>...</td>\n      <td>...</td>\n      <td>...</td>\n      <td>...</td>\n    </tr>\n    <tr>\n      <th>1607</th>\n      <td>110+05709</td>\n      <td>VA-7_WESTBOUND</td>\n      <td>45.0</td>\n      <td>100000059</td>\n      <td>100000060</td>\n      <td>None</td>\n      <td>None</td>\n      <td>None</td>\n      <td>None</td>\n      <td>None</td>\n      <td>None</td>\n      <td>None</td>\n      <td>None</td>\n    </tr>\n    <tr>\n      <th>1608</th>\n      <td>110+05710</td>\n      <td>VA-7_WESTBOUND</td>\n      <td>46.0</td>\n      <td>100000060</td>\n      <td>100000061</td>\n      <td>None</td>\n      <td>None</td>\n      <td>None</td>\n      <td>None</td>\n      <td>None</td>\n      <td>None</td>\n      <td>None</td>\n      <td>None</td>\n    </tr>\n    <tr>\n      <th>1609</th>\n      <td>110P05710</td>\n      <td>VA-7_WESTBOUND</td>\n      <td>47.0</td>\n      <td>100000061</td>\n      <td>100000062</td>\n      <td>None</td>\n      <td>None</td>\n      <td>None</td>\n      <td>None</td>\n      <td>None</td>\n      <td>None</td>\n      <td>None</td>\n      <td>None</td>\n    </tr>\n    <tr>\n      <th>1610</th>\n      <td>110+05711</td>\n      <td>VA-7_WESTBOUND</td>\n      <td>48.0</td>\n      <td>100000062</td>\n      <td>100000063</td>\n      <td>None</td>\n      <td>None</td>\n      <td>None</td>\n      <td>None</td>\n      <td>None</td>\n      <td>None</td>\n      <td>None</td>\n      <td>None</td>\n    </tr>\n    <tr>\n      <th>1611</th>\n      <td>110P05711</td>\n      <td>VA-7_WESTBOUND</td>\n      <td>48.1</td>\n      <td>100000063</td>\n      <td>100000064</td>\n      <td>None</td>\n      <td>None</td>\n      <td>None</td>\n      <td>None</td>\n      <td>None</td>\n      <td>None</td>\n      <td>None</td>\n      <td>None</td>\n    </tr>\n  </tbody>\n</table>\n<p>1612 rows × 13 columns</p>\n</div>"
     },
     "metadata": {},
     "execution_count": 152
    }
   ],
   "source": [
    "measurement_tmc"
   ]
  },
  {
   "source": [
    "## step 2 map matching"
   ],
   "cell_type": "markdown",
   "metadata": {}
  },
  {
   "cell_type": "code",
   "execution_count": 153,
   "metadata": {},
   "outputs": [
    {
     "output_type": "stream",
     "name": "stdout",
     "text": [
      "trace.csv generated!\n"
     ]
    }
   ],
   "source": [
    "'''build trace.csv'''\n",
    "'''trace_id is numeric'''\n",
    "trace = pd.DataFrame()\n",
    "trace['corridor_id'] = None\n",
    "trace['agent_id'] = None\n",
    "trace['date'] = None\n",
    "trace['tmc'] = None\n",
    "trace['trace_id'] = None\n",
    "trace['hh'] = None\n",
    "trace['mm'] = None\n",
    "trace['ss'] = None\n",
    "trace['y_coord'] = None\n",
    "trace['x_coord'] = None\n",
    "\n",
    "agent_id = 1\n",
    "trace_id = 0\n",
    "\n",
    "for i in range(0,len(tmc)-1):\n",
    "    if tmc.loc[i+1,'road_order'] > tmc.loc[i,'road_order']:\n",
    "        trace = trace.append({'corridor_id': tmc.loc[i,'road'] + '_' + tmc.loc[i,'direction'],\\\n",
    "                                    'agent_id': agent_id,\\\n",
    "                                    'date': None, \\\n",
    "                                    'tmc': tmc.loc[i,'tmc'],\\\n",
    "                                    'trace_id': trace_id,\\\n",
    "                                    'hh': None,\\\n",
    "                                    'mm': 'None',\\\n",
    "                                    'ss': None,\\\n",
    "                                    'y_coord': tmc.loc[i,'start_latitude'],\\\n",
    "                                    'x_coord': tmc.loc[i,'start_longitude']}, ignore_index=True)\n",
    "        trace_id +=1\n",
    "    else:\n",
    "        trace = trace.append({'corridor_id': tmc.loc[i,'road'] + '_' + tmc.loc[i,'direction'],\\\n",
    "                                    'agent_id': agent_id,\\\n",
    "                                    'date': None, \\\n",
    "                                    'tmc': tmc.loc[i,'tmc'],\\\n",
    "                                    'trace_id': trace_id,\\\n",
    "                                    'hh': None,\\\n",
    "                                    'mm': 'None',\\\n",
    "                                    'ss': None,\\\n",
    "                                    'y_coord': tmc.loc[i,'start_latitude'],\\\n",
    "                                    'x_coord': tmc.loc[i,'start_longitude']}, ignore_index=True)\n",
    "        trace_id += 1\n",
    "\n",
    "        trace = trace.append({'corridor_id': tmc.loc[i,'road'] + '_' + tmc.loc[i,'direction'],\\\n",
    "                                    'agent_id': agent_id,\\\n",
    "                                    'date': None, \\\n",
    "                                    'tmc': tmc.loc[i,'tmc'],\\\n",
    "                                    'trace_id': trace_id,\\\n",
    "                                    'hh': None,\\\n",
    "                                    'mm': 'None',\\\n",
    "                                    'ss': None,\\\n",
    "                                    'y_coord': tmc.loc[i,'end_latitude'],\\\n",
    "                                    'x_coord': tmc.loc[i,'end_longitude']}, ignore_index=True)\n",
    "        agent_id += 1\n",
    "        trace_id = 0\n",
    "        \n",
    "trace = trace.append({'corridor_id': tmc.loc[i+1,'road'] + '_' + tmc.loc[i+1,'direction'],\\\n",
    "                                    'agent_id': agent_id,\\\n",
    "                                    'date': None, \\\n",
    "                                    'tmc': tmc.loc[i+1,'tmc'],\\\n",
    "                                    'trace_id': trace_id,\\\n",
    "                                    'hh': None,\\\n",
    "                                    'mm': 'None',\\\n",
    "                                    'ss': None,\\\n",
    "                                    'y_coord': tmc.loc[i+1,'start_latitude'],\\\n",
    "                                    'x_coord': tmc.loc[i+1,'start_longitude']}, ignore_index=True)\n",
    "trace_id +=1\n",
    "trace = trace.append({'corridor_id': tmc.loc[i+1,'road'] + '_' + tmc.loc[i+1,'direction'],\\\n",
    "                                    'agent_id': agent_id,\\\n",
    "                                    'date': None, \\\n",
    "                                    'tmc': tmc.loc[i+1,'tmc'],\\\n",
    "                                    'trace_id': trace_id,\\\n",
    "                                    'hh': None,\\\n",
    "                                    'mm': 'None',\\\n",
    "                                    'ss': None,\\\n",
    "                                    'y_coord': tmc.loc[i+1,'end_latitude'],\\\n",
    "                                    'x_coord': tmc.loc[i+1,'end_longitude']}, ignore_index=True)\n",
    "\n",
    "trace.to_csv('trace.csv')\n",
    "print('trace.csv generated!')"
   ]
  },
  {
   "cell_type": "code",
   "execution_count": 154,
   "metadata": {},
   "outputs": [
    {
     "output_type": "execute_result",
     "data": {
      "text/plain": [
       "       corridor_id agent_id  date        tmc trace_id    hh    mm    ss  \\\n",
       "0   VA-7_EASTBOUND        1  None  110N05711        0  None  None  None   \n",
       "1   VA-7_EASTBOUND        1  None  110-05710        1  None  None  None   \n",
       "2   VA-7_EASTBOUND        1  None  110N05710        2  None  None  None   \n",
       "3   VA-7_EASTBOUND        1  None  110-05709        3  None  None  None   \n",
       "4   VA-7_EASTBOUND        1  None  110-05708        4  None  None  None   \n",
       "..             ...      ...   ...        ...      ...   ...   ...   ...   \n",
       "59  VA-7_WESTBOUND        2  None  110+05710       27  None  None  None   \n",
       "60  VA-7_WESTBOUND        2  None  110P05710       28  None  None  None   \n",
       "61  VA-7_WESTBOUND        2  None  110+05711       29  None  None  None   \n",
       "62  VA-7_WESTBOUND        2  None  110P05711       30  None  None  None   \n",
       "63  VA-7_WESTBOUND        2  None  110P05711       31  None  None  None   \n",
       "\n",
       "    y_coord  x_coord  \n",
       "0   39.0144 -77.3715  \n",
       "1   39.0141 -77.3709  \n",
       "2   39.0127 -77.3684  \n",
       "3   39.0086 -77.3605  \n",
       "4   39.0028 -77.3502  \n",
       "..      ...      ...  \n",
       "59  39.0030 -77.3500  \n",
       "60  39.0090 -77.3609  \n",
       "61  39.0125 -77.3673  \n",
       "62  39.0143 -77.3707  \n",
       "63  39.0143 -77.3709  \n",
       "\n",
       "[64 rows x 10 columns]"
      ],
      "text/html": "<div>\n<style scoped>\n    .dataframe tbody tr th:only-of-type {\n        vertical-align: middle;\n    }\n\n    .dataframe tbody tr th {\n        vertical-align: top;\n    }\n\n    .dataframe thead th {\n        text-align: right;\n    }\n</style>\n<table border=\"1\" class=\"dataframe\">\n  <thead>\n    <tr style=\"text-align: right;\">\n      <th></th>\n      <th>corridor_id</th>\n      <th>agent_id</th>\n      <th>date</th>\n      <th>tmc</th>\n      <th>trace_id</th>\n      <th>hh</th>\n      <th>mm</th>\n      <th>ss</th>\n      <th>y_coord</th>\n      <th>x_coord</th>\n    </tr>\n  </thead>\n  <tbody>\n    <tr>\n      <th>0</th>\n      <td>VA-7_EASTBOUND</td>\n      <td>1</td>\n      <td>None</td>\n      <td>110N05711</td>\n      <td>0</td>\n      <td>None</td>\n      <td>None</td>\n      <td>None</td>\n      <td>39.0144</td>\n      <td>-77.3715</td>\n    </tr>\n    <tr>\n      <th>1</th>\n      <td>VA-7_EASTBOUND</td>\n      <td>1</td>\n      <td>None</td>\n      <td>110-05710</td>\n      <td>1</td>\n      <td>None</td>\n      <td>None</td>\n      <td>None</td>\n      <td>39.0141</td>\n      <td>-77.3709</td>\n    </tr>\n    <tr>\n      <th>2</th>\n      <td>VA-7_EASTBOUND</td>\n      <td>1</td>\n      <td>None</td>\n      <td>110N05710</td>\n      <td>2</td>\n      <td>None</td>\n      <td>None</td>\n      <td>None</td>\n      <td>39.0127</td>\n      <td>-77.3684</td>\n    </tr>\n    <tr>\n      <th>3</th>\n      <td>VA-7_EASTBOUND</td>\n      <td>1</td>\n      <td>None</td>\n      <td>110-05709</td>\n      <td>3</td>\n      <td>None</td>\n      <td>None</td>\n      <td>None</td>\n      <td>39.0086</td>\n      <td>-77.3605</td>\n    </tr>\n    <tr>\n      <th>4</th>\n      <td>VA-7_EASTBOUND</td>\n      <td>1</td>\n      <td>None</td>\n      <td>110-05708</td>\n      <td>4</td>\n      <td>None</td>\n      <td>None</td>\n      <td>None</td>\n      <td>39.0028</td>\n      <td>-77.3502</td>\n    </tr>\n    <tr>\n      <th>...</th>\n      <td>...</td>\n      <td>...</td>\n      <td>...</td>\n      <td>...</td>\n      <td>...</td>\n      <td>...</td>\n      <td>...</td>\n      <td>...</td>\n      <td>...</td>\n      <td>...</td>\n    </tr>\n    <tr>\n      <th>59</th>\n      <td>VA-7_WESTBOUND</td>\n      <td>2</td>\n      <td>None</td>\n      <td>110+05710</td>\n      <td>27</td>\n      <td>None</td>\n      <td>None</td>\n      <td>None</td>\n      <td>39.0030</td>\n      <td>-77.3500</td>\n    </tr>\n    <tr>\n      <th>60</th>\n      <td>VA-7_WESTBOUND</td>\n      <td>2</td>\n      <td>None</td>\n      <td>110P05710</td>\n      <td>28</td>\n      <td>None</td>\n      <td>None</td>\n      <td>None</td>\n      <td>39.0090</td>\n      <td>-77.3609</td>\n    </tr>\n    <tr>\n      <th>61</th>\n      <td>VA-7_WESTBOUND</td>\n      <td>2</td>\n      <td>None</td>\n      <td>110+05711</td>\n      <td>29</td>\n      <td>None</td>\n      <td>None</td>\n      <td>None</td>\n      <td>39.0125</td>\n      <td>-77.3673</td>\n    </tr>\n    <tr>\n      <th>62</th>\n      <td>VA-7_WESTBOUND</td>\n      <td>2</td>\n      <td>None</td>\n      <td>110P05711</td>\n      <td>30</td>\n      <td>None</td>\n      <td>None</td>\n      <td>None</td>\n      <td>39.0143</td>\n      <td>-77.3707</td>\n    </tr>\n    <tr>\n      <th>63</th>\n      <td>VA-7_WESTBOUND</td>\n      <td>2</td>\n      <td>None</td>\n      <td>110P05711</td>\n      <td>31</td>\n      <td>None</td>\n      <td>None</td>\n      <td>None</td>\n      <td>39.0143</td>\n      <td>-77.3709</td>\n    </tr>\n  </tbody>\n</table>\n<p>64 rows × 10 columns</p>\n</div>"
     },
     "metadata": {},
     "execution_count": 154
    }
   ],
   "source": [
    "trace"
   ]
  },
  {
   "cell_type": "code",
   "execution_count": 12,
   "metadata": {},
   "outputs": [
    {
     "output_type": "stream",
     "name": "stdout",
     "text": [
      "osm2gmns, version 0.4.2\n"
     ]
    }
   ],
   "source": [
    "\"Get the OSM Network\"\n",
    "network_type = 'auto'\n",
    "import osm2gmns as og\n",
    "files= os.listdir(os.getcwd()) \n",
    "for file in files: \n",
    "    if file[-4:] == '.osm':\n",
    "        net = og.getNetFromOSMFile(file,network_type=(network_type), default_lanes=True, default_speed=True)\n",
    "        break\n",
    "\n",
    "og.consolidateComplexIntersections(net)\n",
    "og.outputNetToCSV(net, output_folder=os.getcwd())"
   ]
  },
  {
   "cell_type": "code",
   "execution_count": 13,
   "metadata": {},
   "outputs": [
    {
     "output_type": "stream",
     "name": "stdout",
     "text": [
      "call MapMatching4GMNS  dynamic library\n",
      "\\MapMatching4GMNS run starts\n",
      "\\MapMatching4GMNS run completes\n",
      "MapMatching4GMNS time cost: 0.651376 seconds\n",
      "The output data is generated!\n"
     ]
    }
   ],
   "source": [
    "# \"\"\"install MapMatching4GMNS\"\"\"\n",
    "# !pip install MapMatching4GMNS --upgrade\n",
    "\n",
    "\n",
    "if __name__ == \"__main__\":\n",
    "    #If the output data exists, please remove.\n",
    "    if(os.path.exists(\"agent.csv\")):\n",
    "       os.remove(\"agent.csv\")\n",
    "    if(os.path.exists(\"route.csv\")):\n",
    "       os.remove(\"route.csv\")\n",
    "    if(os.path.exists(\"link_performance.csv\")):\n",
    "       os.remove(\"link_performance.csv\")   \n",
    "    \n",
    "    start = time.time()\n",
    "    MapMatching4GMNS.map_match()\n",
    "    end = time.time()\n",
    "    \n",
    "    print('MapMatching4GMNS time cost: %.6f seconds' % (end - start))\n",
    "    print(\"The output data is generated!\")"
   ]
  },
  {
   "source": [
    "## step 3 link performance of osm"
   ],
   "cell_type": "markdown",
   "metadata": {}
  },
  {
   "cell_type": "code",
   "execution_count": 155,
   "metadata": {},
   "outputs": [],
   "source": [
    "link_road = pd.read_csv('link.csv', low_memory=False)\n",
    "trace = pd.read_csv('trace.csv', low_memory=False,index_col=None)\n",
    "measurement_tmc = pd.read_csv('measurement_tmc.csv',low_memory=False,index_col=None)\n",
    "mapping = pd.read_csv('route.csv', low_memory=False,index_col=None)\n"
   ]
  },
  {
   "cell_type": "code",
   "execution_count": 156,
   "metadata": {},
   "outputs": [
    {
     "output_type": "execute_result",
     "data": {
      "text/plain": [
       "     agent_id  from_node_id  to_node_id  timestamp  cumu_distance   hhmmss  \\\n",
       "0           1         14870        9642          0         212.49  0000:00   \n",
       "1           1          9642        9643          0         253.55  0000:00   \n",
       "2           1          9643        9644          0         661.67  0000:00   \n",
       "3           1          9644       12392          0        1067.71  0000:00   \n",
       "4           1         12392        9992          0        1360.15  0000:00   \n",
       "..        ...           ...         ...        ...            ...      ...   \n",
       "277         2         13667        2478          0       19159.35  0000:00   \n",
       "278         2          2478        2479          0       19386.54  0000:00   \n",
       "279         2          2479       12397          0       19722.92  0000:00   \n",
       "280         2         12397       12828          0       20068.50  0000:00   \n",
       "281         2         12828       12388          0       20467.43  0000:00   \n",
       "\n",
       "     trace_id  travel_time  delay  \\\n",
       "0           1            0      0   \n",
       "1           2            0      0   \n",
       "2           2            0      0   \n",
       "3           2            0      0   \n",
       "4           3            0      0   \n",
       "..        ...          ...    ...   \n",
       "277        27            0      0   \n",
       "278        28            0      0   \n",
       "279        28            0      0   \n",
       "280        28            0      0   \n",
       "281        29            0      0   \n",
       "\n",
       "                                              geometry  \n",
       "0    LINESTRING (-77.37091289999999 39.0140956, -77...  \n",
       "1    LINESTRING (-77.36887400000001 39.0130269, -77...  \n",
       "2    LINESTRING (-77.368475 39.0128263, -77.3679666...  \n",
       "3    LINESTRING (-77.36452420000001 39.0108146, -77...  \n",
       "4    LINESTRING (-77.3606994 39.0086931, -77.360374...  \n",
       "..                                                 ...  \n",
       "277  LINESTRING (-77.3552028 39.0059016, -77.355703...  \n",
       "278  LINESTRING (-77.3557033 39.0061814, -77.356692...  \n",
       "279  LINESTRING (-77.3578304 39.0073823, -77.357980...  \n",
       "280  LINESTRING (-77.360985 39.009155, -77.3614358 ...  \n",
       "281  LINESTRING (-77.3642456 39.0109544, -77.364827...  \n",
       "\n",
       "[282 rows x 10 columns]"
      ],
      "text/html": "<div>\n<style scoped>\n    .dataframe tbody tr th:only-of-type {\n        vertical-align: middle;\n    }\n\n    .dataframe tbody tr th {\n        vertical-align: top;\n    }\n\n    .dataframe thead th {\n        text-align: right;\n    }\n</style>\n<table border=\"1\" class=\"dataframe\">\n  <thead>\n    <tr style=\"text-align: right;\">\n      <th></th>\n      <th>agent_id</th>\n      <th>from_node_id</th>\n      <th>to_node_id</th>\n      <th>timestamp</th>\n      <th>cumu_distance</th>\n      <th>hhmmss</th>\n      <th>trace_id</th>\n      <th>travel_time</th>\n      <th>delay</th>\n      <th>geometry</th>\n    </tr>\n  </thead>\n  <tbody>\n    <tr>\n      <th>0</th>\n      <td>1</td>\n      <td>14870</td>\n      <td>9642</td>\n      <td>0</td>\n      <td>212.49</td>\n      <td>0000:00</td>\n      <td>1</td>\n      <td>0</td>\n      <td>0</td>\n      <td>LINESTRING (-77.37091289999999 39.0140956, -77...</td>\n    </tr>\n    <tr>\n      <th>1</th>\n      <td>1</td>\n      <td>9642</td>\n      <td>9643</td>\n      <td>0</td>\n      <td>253.55</td>\n      <td>0000:00</td>\n      <td>2</td>\n      <td>0</td>\n      <td>0</td>\n      <td>LINESTRING (-77.36887400000001 39.0130269, -77...</td>\n    </tr>\n    <tr>\n      <th>2</th>\n      <td>1</td>\n      <td>9643</td>\n      <td>9644</td>\n      <td>0</td>\n      <td>661.67</td>\n      <td>0000:00</td>\n      <td>2</td>\n      <td>0</td>\n      <td>0</td>\n      <td>LINESTRING (-77.368475 39.0128263, -77.3679666...</td>\n    </tr>\n    <tr>\n      <th>3</th>\n      <td>1</td>\n      <td>9644</td>\n      <td>12392</td>\n      <td>0</td>\n      <td>1067.71</td>\n      <td>0000:00</td>\n      <td>2</td>\n      <td>0</td>\n      <td>0</td>\n      <td>LINESTRING (-77.36452420000001 39.0108146, -77...</td>\n    </tr>\n    <tr>\n      <th>4</th>\n      <td>1</td>\n      <td>12392</td>\n      <td>9992</td>\n      <td>0</td>\n      <td>1360.15</td>\n      <td>0000:00</td>\n      <td>3</td>\n      <td>0</td>\n      <td>0</td>\n      <td>LINESTRING (-77.3606994 39.0086931, -77.360374...</td>\n    </tr>\n    <tr>\n      <th>...</th>\n      <td>...</td>\n      <td>...</td>\n      <td>...</td>\n      <td>...</td>\n      <td>...</td>\n      <td>...</td>\n      <td>...</td>\n      <td>...</td>\n      <td>...</td>\n      <td>...</td>\n    </tr>\n    <tr>\n      <th>277</th>\n      <td>2</td>\n      <td>13667</td>\n      <td>2478</td>\n      <td>0</td>\n      <td>19159.35</td>\n      <td>0000:00</td>\n      <td>27</td>\n      <td>0</td>\n      <td>0</td>\n      <td>LINESTRING (-77.3552028 39.0059016, -77.355703...</td>\n    </tr>\n    <tr>\n      <th>278</th>\n      <td>2</td>\n      <td>2478</td>\n      <td>2479</td>\n      <td>0</td>\n      <td>19386.54</td>\n      <td>0000:00</td>\n      <td>28</td>\n      <td>0</td>\n      <td>0</td>\n      <td>LINESTRING (-77.3557033 39.0061814, -77.356692...</td>\n    </tr>\n    <tr>\n      <th>279</th>\n      <td>2</td>\n      <td>2479</td>\n      <td>12397</td>\n      <td>0</td>\n      <td>19722.92</td>\n      <td>0000:00</td>\n      <td>28</td>\n      <td>0</td>\n      <td>0</td>\n      <td>LINESTRING (-77.3578304 39.0073823, -77.357980...</td>\n    </tr>\n    <tr>\n      <th>280</th>\n      <td>2</td>\n      <td>12397</td>\n      <td>12828</td>\n      <td>0</td>\n      <td>20068.50</td>\n      <td>0000:00</td>\n      <td>28</td>\n      <td>0</td>\n      <td>0</td>\n      <td>LINESTRING (-77.360985 39.009155, -77.3614358 ...</td>\n    </tr>\n    <tr>\n      <th>281</th>\n      <td>2</td>\n      <td>12828</td>\n      <td>12388</td>\n      <td>0</td>\n      <td>20467.43</td>\n      <td>0000:00</td>\n      <td>29</td>\n      <td>0</td>\n      <td>0</td>\n      <td>LINESTRING (-77.3642456 39.0109544, -77.364827...</td>\n    </tr>\n  </tbody>\n</table>\n<p>282 rows × 10 columns</p>\n</div>"
     },
     "metadata": {},
     "execution_count": 156
    }
   ],
   "source": [
    "mapping"
   ]
  },
  {
   "cell_type": "code",
   "execution_count": 15,
   "metadata": {},
   "outputs": [
    {
     "output_type": "execute_result",
     "data": {
      "text/plain": [
       "           name     corridor_id  corridor_link_order  from_node_id  \\\n",
       "0     110N05711  VA-7_EASTBOUND                 38.0     100000001   \n",
       "1     110-05710  VA-7_EASTBOUND                 39.0     100000002   \n",
       "2     110N05710  VA-7_EASTBOUND                 40.0     100000003   \n",
       "3     110-05709  VA-7_EASTBOUND                 41.0     100000004   \n",
       "4     110-05708  VA-7_EASTBOUND                 42.0     100000005   \n",
       "...         ...             ...                  ...           ...   \n",
       "2103  110+05709  VA-7_WESTBOUND                 45.0     100000059   \n",
       "2104  110+05710  VA-7_WESTBOUND                 46.0     100000060   \n",
       "2105  110P05710  VA-7_WESTBOUND                 47.0     100000061   \n",
       "2106  110+05711  VA-7_WESTBOUND                 48.0     100000062   \n",
       "2107  110P05711  VA-7_WESTBOUND                 48.1     100000063   \n",
       "\n",
       "      to_node_id         timestamp  volume  travel_time  speed  \\\n",
       "0      100000002  2015-04-01T00:00     NaN     0.000878   44.0   \n",
       "1      100000003  2015-04-01T00:00     NaN     0.003748   44.0   \n",
       "2      100000004  2015-04-01T00:00     NaN     0.010452   49.0   \n",
       "3      100000005  2015-04-01T00:00     NaN     0.014221   48.0   \n",
       "4      100000006  2015-04-01T00:00     NaN     0.006182   48.0   \n",
       "...          ...               ...     ...          ...    ...   \n",
       "2103   100000060  2015-04-01T02:45     NaN     0.005421   47.0   \n",
       "2104   100000061  2015-04-01T02:45     NaN     0.014971   48.0   \n",
       "2105   100000062  2015-04-01T02:45     NaN     0.008612   49.0   \n",
       "2106   100000063               NaN     NaN          NaN    NaN   \n",
       "2107   100000064               NaN     NaN          NaN    NaN   \n",
       "\n",
       "      reference_speed  density  queue  notes  \n",
       "0                44.0      NaN    NaN    NaN  \n",
       "1                44.0      NaN    NaN    NaN  \n",
       "2                49.0      NaN    NaN    NaN  \n",
       "3                48.0      NaN    NaN    NaN  \n",
       "4                48.0      NaN    NaN    NaN  \n",
       "...               ...      ...    ...    ...  \n",
       "2103             47.0      NaN    NaN    NaN  \n",
       "2104             48.0      NaN    NaN    NaN  \n",
       "2105             49.0      NaN    NaN    NaN  \n",
       "2106              NaN      NaN    NaN    NaN  \n",
       "2107              NaN      NaN    NaN    NaN  \n",
       "\n",
       "[2108 rows x 13 columns]"
      ],
      "text/html": "<div>\n<style scoped>\n    .dataframe tbody tr th:only-of-type {\n        vertical-align: middle;\n    }\n\n    .dataframe tbody tr th {\n        vertical-align: top;\n    }\n\n    .dataframe thead th {\n        text-align: right;\n    }\n</style>\n<table border=\"1\" class=\"dataframe\">\n  <thead>\n    <tr style=\"text-align: right;\">\n      <th></th>\n      <th>name</th>\n      <th>corridor_id</th>\n      <th>corridor_link_order</th>\n      <th>from_node_id</th>\n      <th>to_node_id</th>\n      <th>timestamp</th>\n      <th>volume</th>\n      <th>travel_time</th>\n      <th>speed</th>\n      <th>reference_speed</th>\n      <th>density</th>\n      <th>queue</th>\n      <th>notes</th>\n    </tr>\n  </thead>\n  <tbody>\n    <tr>\n      <th>0</th>\n      <td>110N05711</td>\n      <td>VA-7_EASTBOUND</td>\n      <td>38.0</td>\n      <td>100000001</td>\n      <td>100000002</td>\n      <td>2015-04-01T00:00</td>\n      <td>NaN</td>\n      <td>0.000878</td>\n      <td>44.0</td>\n      <td>44.0</td>\n      <td>NaN</td>\n      <td>NaN</td>\n      <td>NaN</td>\n    </tr>\n    <tr>\n      <th>1</th>\n      <td>110-05710</td>\n      <td>VA-7_EASTBOUND</td>\n      <td>39.0</td>\n      <td>100000002</td>\n      <td>100000003</td>\n      <td>2015-04-01T00:00</td>\n      <td>NaN</td>\n      <td>0.003748</td>\n      <td>44.0</td>\n      <td>44.0</td>\n      <td>NaN</td>\n      <td>NaN</td>\n      <td>NaN</td>\n    </tr>\n    <tr>\n      <th>2</th>\n      <td>110N05710</td>\n      <td>VA-7_EASTBOUND</td>\n      <td>40.0</td>\n      <td>100000003</td>\n      <td>100000004</td>\n      <td>2015-04-01T00:00</td>\n      <td>NaN</td>\n      <td>0.010452</td>\n      <td>49.0</td>\n      <td>49.0</td>\n      <td>NaN</td>\n      <td>NaN</td>\n      <td>NaN</td>\n    </tr>\n    <tr>\n      <th>3</th>\n      <td>110-05709</td>\n      <td>VA-7_EASTBOUND</td>\n      <td>41.0</td>\n      <td>100000004</td>\n      <td>100000005</td>\n      <td>2015-04-01T00:00</td>\n      <td>NaN</td>\n      <td>0.014221</td>\n      <td>48.0</td>\n      <td>48.0</td>\n      <td>NaN</td>\n      <td>NaN</td>\n      <td>NaN</td>\n    </tr>\n    <tr>\n      <th>4</th>\n      <td>110-05708</td>\n      <td>VA-7_EASTBOUND</td>\n      <td>42.0</td>\n      <td>100000005</td>\n      <td>100000006</td>\n      <td>2015-04-01T00:00</td>\n      <td>NaN</td>\n      <td>0.006182</td>\n      <td>48.0</td>\n      <td>48.0</td>\n      <td>NaN</td>\n      <td>NaN</td>\n      <td>NaN</td>\n    </tr>\n    <tr>\n      <th>...</th>\n      <td>...</td>\n      <td>...</td>\n      <td>...</td>\n      <td>...</td>\n      <td>...</td>\n      <td>...</td>\n      <td>...</td>\n      <td>...</td>\n      <td>...</td>\n      <td>...</td>\n      <td>...</td>\n      <td>...</td>\n      <td>...</td>\n    </tr>\n    <tr>\n      <th>2103</th>\n      <td>110+05709</td>\n      <td>VA-7_WESTBOUND</td>\n      <td>45.0</td>\n      <td>100000059</td>\n      <td>100000060</td>\n      <td>2015-04-01T02:45</td>\n      <td>NaN</td>\n      <td>0.005421</td>\n      <td>47.0</td>\n      <td>47.0</td>\n      <td>NaN</td>\n      <td>NaN</td>\n      <td>NaN</td>\n    </tr>\n    <tr>\n      <th>2104</th>\n      <td>110+05710</td>\n      <td>VA-7_WESTBOUND</td>\n      <td>46.0</td>\n      <td>100000060</td>\n      <td>100000061</td>\n      <td>2015-04-01T02:45</td>\n      <td>NaN</td>\n      <td>0.014971</td>\n      <td>48.0</td>\n      <td>48.0</td>\n      <td>NaN</td>\n      <td>NaN</td>\n      <td>NaN</td>\n    </tr>\n    <tr>\n      <th>2105</th>\n      <td>110P05710</td>\n      <td>VA-7_WESTBOUND</td>\n      <td>47.0</td>\n      <td>100000061</td>\n      <td>100000062</td>\n      <td>2015-04-01T02:45</td>\n      <td>NaN</td>\n      <td>0.008612</td>\n      <td>49.0</td>\n      <td>49.0</td>\n      <td>NaN</td>\n      <td>NaN</td>\n      <td>NaN</td>\n    </tr>\n    <tr>\n      <th>2106</th>\n      <td>110+05711</td>\n      <td>VA-7_WESTBOUND</td>\n      <td>48.0</td>\n      <td>100000062</td>\n      <td>100000063</td>\n      <td>NaN</td>\n      <td>NaN</td>\n      <td>NaN</td>\n      <td>NaN</td>\n      <td>NaN</td>\n      <td>NaN</td>\n      <td>NaN</td>\n      <td>NaN</td>\n    </tr>\n    <tr>\n      <th>2107</th>\n      <td>110P05711</td>\n      <td>VA-7_WESTBOUND</td>\n      <td>48.1</td>\n      <td>100000063</td>\n      <td>100000064</td>\n      <td>NaN</td>\n      <td>NaN</td>\n      <td>NaN</td>\n      <td>NaN</td>\n      <td>NaN</td>\n      <td>NaN</td>\n      <td>NaN</td>\n      <td>NaN</td>\n    </tr>\n  </tbody>\n</table>\n<p>2108 rows × 13 columns</p>\n</div>"
     },
     "metadata": {},
     "execution_count": 15
    }
   ],
   "source": [
    "measurement_tmc"
   ]
  },
  {
   "cell_type": "code",
   "execution_count": 20,
   "metadata": {},
   "outputs": [
    {
     "output_type": "execute_result",
     "data": {
      "text/plain": [
       "    Unnamed: 0     corridor_id  agent_id  date        tmc  trace_id  hh    mm  \\\n",
       "0            0  VA-7_EASTBOUND         1   NaN  110N05711         0 NaN  None   \n",
       "1            1  VA-7_EASTBOUND         1   NaN  110-05710         1 NaN  None   \n",
       "2            2  VA-7_EASTBOUND         1   NaN  110N05710         2 NaN  None   \n",
       "3            3  VA-7_EASTBOUND         1   NaN  110-05709         3 NaN  None   \n",
       "4            4  VA-7_EASTBOUND         1   NaN  110-05708         4 NaN  None   \n",
       "..         ...             ...       ...   ...        ...       ...  ..   ...   \n",
       "59          59  VA-7_WESTBOUND         2   NaN  110+05710        27 NaN  None   \n",
       "60          60  VA-7_WESTBOUND         2   NaN  110P05710        28 NaN  None   \n",
       "61          61  VA-7_WESTBOUND         2   NaN  110+05711        29 NaN  None   \n",
       "62          62  VA-7_WESTBOUND         2   NaN  110P05711        30 NaN  None   \n",
       "63          63  VA-7_WESTBOUND         2   NaN  110P05711        31 NaN  None   \n",
       "\n",
       "    ss  y_coord  x_coord  \n",
       "0  NaN  39.0144 -77.3715  \n",
       "1  NaN  39.0141 -77.3709  \n",
       "2  NaN  39.0127 -77.3684  \n",
       "3  NaN  39.0086 -77.3605  \n",
       "4  NaN  39.0028 -77.3502  \n",
       "..  ..      ...      ...  \n",
       "59 NaN  39.0030 -77.3500  \n",
       "60 NaN  39.0090 -77.3609  \n",
       "61 NaN  39.0125 -77.3673  \n",
       "62 NaN  39.0143 -77.3707  \n",
       "63 NaN  39.0143 -77.3709  \n",
       "\n",
       "[64 rows x 11 columns]"
      ],
      "text/html": "<div>\n<style scoped>\n    .dataframe tbody tr th:only-of-type {\n        vertical-align: middle;\n    }\n\n    .dataframe tbody tr th {\n        vertical-align: top;\n    }\n\n    .dataframe thead th {\n        text-align: right;\n    }\n</style>\n<table border=\"1\" class=\"dataframe\">\n  <thead>\n    <tr style=\"text-align: right;\">\n      <th></th>\n      <th>Unnamed: 0</th>\n      <th>corridor_id</th>\n      <th>agent_id</th>\n      <th>date</th>\n      <th>tmc</th>\n      <th>trace_id</th>\n      <th>hh</th>\n      <th>mm</th>\n      <th>ss</th>\n      <th>y_coord</th>\n      <th>x_coord</th>\n    </tr>\n  </thead>\n  <tbody>\n    <tr>\n      <th>0</th>\n      <td>0</td>\n      <td>VA-7_EASTBOUND</td>\n      <td>1</td>\n      <td>NaN</td>\n      <td>110N05711</td>\n      <td>0</td>\n      <td>NaN</td>\n      <td>None</td>\n      <td>NaN</td>\n      <td>39.0144</td>\n      <td>-77.3715</td>\n    </tr>\n    <tr>\n      <th>1</th>\n      <td>1</td>\n      <td>VA-7_EASTBOUND</td>\n      <td>1</td>\n      <td>NaN</td>\n      <td>110-05710</td>\n      <td>1</td>\n      <td>NaN</td>\n      <td>None</td>\n      <td>NaN</td>\n      <td>39.0141</td>\n      <td>-77.3709</td>\n    </tr>\n    <tr>\n      <th>2</th>\n      <td>2</td>\n      <td>VA-7_EASTBOUND</td>\n      <td>1</td>\n      <td>NaN</td>\n      <td>110N05710</td>\n      <td>2</td>\n      <td>NaN</td>\n      <td>None</td>\n      <td>NaN</td>\n      <td>39.0127</td>\n      <td>-77.3684</td>\n    </tr>\n    <tr>\n      <th>3</th>\n      <td>3</td>\n      <td>VA-7_EASTBOUND</td>\n      <td>1</td>\n      <td>NaN</td>\n      <td>110-05709</td>\n      <td>3</td>\n      <td>NaN</td>\n      <td>None</td>\n      <td>NaN</td>\n      <td>39.0086</td>\n      <td>-77.3605</td>\n    </tr>\n    <tr>\n      <th>4</th>\n      <td>4</td>\n      <td>VA-7_EASTBOUND</td>\n      <td>1</td>\n      <td>NaN</td>\n      <td>110-05708</td>\n      <td>4</td>\n      <td>NaN</td>\n      <td>None</td>\n      <td>NaN</td>\n      <td>39.0028</td>\n      <td>-77.3502</td>\n    </tr>\n    <tr>\n      <th>...</th>\n      <td>...</td>\n      <td>...</td>\n      <td>...</td>\n      <td>...</td>\n      <td>...</td>\n      <td>...</td>\n      <td>...</td>\n      <td>...</td>\n      <td>...</td>\n      <td>...</td>\n      <td>...</td>\n    </tr>\n    <tr>\n      <th>59</th>\n      <td>59</td>\n      <td>VA-7_WESTBOUND</td>\n      <td>2</td>\n      <td>NaN</td>\n      <td>110+05710</td>\n      <td>27</td>\n      <td>NaN</td>\n      <td>None</td>\n      <td>NaN</td>\n      <td>39.0030</td>\n      <td>-77.3500</td>\n    </tr>\n    <tr>\n      <th>60</th>\n      <td>60</td>\n      <td>VA-7_WESTBOUND</td>\n      <td>2</td>\n      <td>NaN</td>\n      <td>110P05710</td>\n      <td>28</td>\n      <td>NaN</td>\n      <td>None</td>\n      <td>NaN</td>\n      <td>39.0090</td>\n      <td>-77.3609</td>\n    </tr>\n    <tr>\n      <th>61</th>\n      <td>61</td>\n      <td>VA-7_WESTBOUND</td>\n      <td>2</td>\n      <td>NaN</td>\n      <td>110+05711</td>\n      <td>29</td>\n      <td>NaN</td>\n      <td>None</td>\n      <td>NaN</td>\n      <td>39.0125</td>\n      <td>-77.3673</td>\n    </tr>\n    <tr>\n      <th>62</th>\n      <td>62</td>\n      <td>VA-7_WESTBOUND</td>\n      <td>2</td>\n      <td>NaN</td>\n      <td>110P05711</td>\n      <td>30</td>\n      <td>NaN</td>\n      <td>None</td>\n      <td>NaN</td>\n      <td>39.0143</td>\n      <td>-77.3707</td>\n    </tr>\n    <tr>\n      <th>63</th>\n      <td>63</td>\n      <td>VA-7_WESTBOUND</td>\n      <td>2</td>\n      <td>NaN</td>\n      <td>110P05711</td>\n      <td>31</td>\n      <td>NaN</td>\n      <td>None</td>\n      <td>NaN</td>\n      <td>39.0143</td>\n      <td>-77.3709</td>\n    </tr>\n  </tbody>\n</table>\n<p>64 rows × 11 columns</p>\n</div>"
     },
     "metadata": {},
     "execution_count": 20
    }
   ],
   "source": [
    "trace"
   ]
  },
  {
   "cell_type": "code",
   "execution_count": 168,
   "metadata": {},
   "outputs": [
    {
     "output_type": "execute_result",
     "data": {
      "text/plain": [
       "                 name  link_id  osm_way_id  from_node_id  to_node_id  \\\n",
       "0                 NaN        0     5964128             4           5   \n",
       "1                 NaN        1     5964128             5           4   \n",
       "2                 NaN        2     5964129             6           7   \n",
       "3                 NaN        3     5964129             7           6   \n",
       "4                 NaN        4     5964129             7           8   \n",
       "...               ...      ...         ...           ...         ...   \n",
       "30698  Sugarland Road    31152   943412232          3065        3723   \n",
       "30699  Sugarland Road    31153   943412232          3723        3065   \n",
       "30700  Sugarland Road    31154   943412232          3723        7903   \n",
       "30701  Sugarland Road    31155   943412232          7903        3723   \n",
       "30702  Trumpet Circle    31156   943412233         12608       12607   \n",
       "\n",
       "       dir_flag      length  lanes  free_speed  capacity link_type_name  \\\n",
       "0             1  146.766935      1          29       NaN   unclassified   \n",
       "1             1  146.766935      1          29       NaN   unclassified   \n",
       "2             1  106.872460      1          29       NaN   unclassified   \n",
       "3             1  106.872460      1          29       NaN   unclassified   \n",
       "4             1   85.661050      1          29       NaN   unclassified   \n",
       "...         ...         ...    ...         ...       ...            ...   \n",
       "30698         1   74.086594      2          35       NaN       tertiary   \n",
       "30699         1   74.086594      2          35       NaN       tertiary   \n",
       "30700         1   71.834767      2          35       NaN       tertiary   \n",
       "30701         1   71.834767      2          35       NaN       tertiary   \n",
       "30702         1   27.352271      1          29       NaN    residential   \n",
       "\n",
       "       link_type                                           geometry  \\\n",
       "0             11  LINESTRING (-77.1878249 38.9744185, -77.187663...   \n",
       "1             11  LINESTRING (-77.1869767 38.9755412, -77.187013...   \n",
       "2             11  LINESTRING (-77.194886 38.9751513, -77.1950799...   \n",
       "3             11  LINESTRING (-77.1960675 38.9754343, -77.196016...   \n",
       "4             11  LINESTRING (-77.1960675 38.9754343, -77.196222...   \n",
       "...          ...                                                ...   \n",
       "30698          5  LINESTRING (-77.3798798 39.0078527, -77.379143...   \n",
       "30699          5  LINESTRING (-77.37914309999999 39.0075118, -77...   \n",
       "30700          5  LINESTRING (-77.37914309999999 39.0075118, -77...   \n",
       "30701          5  LINESTRING (-77.37844440000001 39.0071617, -77...   \n",
       "30702          6  LINESTRING (-77.3791015 39.0131342, -77.379125...   \n",
       "\n",
       "      allowed_uses  from_biway  \n",
       "0             auto           1  \n",
       "1             auto           1  \n",
       "2             auto           1  \n",
       "3             auto           1  \n",
       "4             auto           1  \n",
       "...            ...         ...  \n",
       "30698         auto           1  \n",
       "30699         auto           1  \n",
       "30700         auto           1  \n",
       "30701         auto           1  \n",
       "30702         auto           0  \n",
       "\n",
       "[30703 rows x 15 columns]"
      ],
      "text/html": "<div>\n<style scoped>\n    .dataframe tbody tr th:only-of-type {\n        vertical-align: middle;\n    }\n\n    .dataframe tbody tr th {\n        vertical-align: top;\n    }\n\n    .dataframe thead th {\n        text-align: right;\n    }\n</style>\n<table border=\"1\" class=\"dataframe\">\n  <thead>\n    <tr style=\"text-align: right;\">\n      <th></th>\n      <th>name</th>\n      <th>link_id</th>\n      <th>osm_way_id</th>\n      <th>from_node_id</th>\n      <th>to_node_id</th>\n      <th>dir_flag</th>\n      <th>length</th>\n      <th>lanes</th>\n      <th>free_speed</th>\n      <th>capacity</th>\n      <th>link_type_name</th>\n      <th>link_type</th>\n      <th>geometry</th>\n      <th>allowed_uses</th>\n      <th>from_biway</th>\n    </tr>\n  </thead>\n  <tbody>\n    <tr>\n      <th>0</th>\n      <td>NaN</td>\n      <td>0</td>\n      <td>5964128</td>\n      <td>4</td>\n      <td>5</td>\n      <td>1</td>\n      <td>146.766935</td>\n      <td>1</td>\n      <td>29</td>\n      <td>NaN</td>\n      <td>unclassified</td>\n      <td>11</td>\n      <td>LINESTRING (-77.1878249 38.9744185, -77.187663...</td>\n      <td>auto</td>\n      <td>1</td>\n    </tr>\n    <tr>\n      <th>1</th>\n      <td>NaN</td>\n      <td>1</td>\n      <td>5964128</td>\n      <td>5</td>\n      <td>4</td>\n      <td>1</td>\n      <td>146.766935</td>\n      <td>1</td>\n      <td>29</td>\n      <td>NaN</td>\n      <td>unclassified</td>\n      <td>11</td>\n      <td>LINESTRING (-77.1869767 38.9755412, -77.187013...</td>\n      <td>auto</td>\n      <td>1</td>\n    </tr>\n    <tr>\n      <th>2</th>\n      <td>NaN</td>\n      <td>2</td>\n      <td>5964129</td>\n      <td>6</td>\n      <td>7</td>\n      <td>1</td>\n      <td>106.872460</td>\n      <td>1</td>\n      <td>29</td>\n      <td>NaN</td>\n      <td>unclassified</td>\n      <td>11</td>\n      <td>LINESTRING (-77.194886 38.9751513, -77.1950799...</td>\n      <td>auto</td>\n      <td>1</td>\n    </tr>\n    <tr>\n      <th>3</th>\n      <td>NaN</td>\n      <td>3</td>\n      <td>5964129</td>\n      <td>7</td>\n      <td>6</td>\n      <td>1</td>\n      <td>106.872460</td>\n      <td>1</td>\n      <td>29</td>\n      <td>NaN</td>\n      <td>unclassified</td>\n      <td>11</td>\n      <td>LINESTRING (-77.1960675 38.9754343, -77.196016...</td>\n      <td>auto</td>\n      <td>1</td>\n    </tr>\n    <tr>\n      <th>4</th>\n      <td>NaN</td>\n      <td>4</td>\n      <td>5964129</td>\n      <td>7</td>\n      <td>8</td>\n      <td>1</td>\n      <td>85.661050</td>\n      <td>1</td>\n      <td>29</td>\n      <td>NaN</td>\n      <td>unclassified</td>\n      <td>11</td>\n      <td>LINESTRING (-77.1960675 38.9754343, -77.196222...</td>\n      <td>auto</td>\n      <td>1</td>\n    </tr>\n    <tr>\n      <th>...</th>\n      <td>...</td>\n      <td>...</td>\n      <td>...</td>\n      <td>...</td>\n      <td>...</td>\n      <td>...</td>\n      <td>...</td>\n      <td>...</td>\n      <td>...</td>\n      <td>...</td>\n      <td>...</td>\n      <td>...</td>\n      <td>...</td>\n      <td>...</td>\n      <td>...</td>\n    </tr>\n    <tr>\n      <th>30698</th>\n      <td>Sugarland Road</td>\n      <td>31152</td>\n      <td>943412232</td>\n      <td>3065</td>\n      <td>3723</td>\n      <td>1</td>\n      <td>74.086594</td>\n      <td>2</td>\n      <td>35</td>\n      <td>NaN</td>\n      <td>tertiary</td>\n      <td>5</td>\n      <td>LINESTRING (-77.3798798 39.0078527, -77.379143...</td>\n      <td>auto</td>\n      <td>1</td>\n    </tr>\n    <tr>\n      <th>30699</th>\n      <td>Sugarland Road</td>\n      <td>31153</td>\n      <td>943412232</td>\n      <td>3723</td>\n      <td>3065</td>\n      <td>1</td>\n      <td>74.086594</td>\n      <td>2</td>\n      <td>35</td>\n      <td>NaN</td>\n      <td>tertiary</td>\n      <td>5</td>\n      <td>LINESTRING (-77.37914309999999 39.0075118, -77...</td>\n      <td>auto</td>\n      <td>1</td>\n    </tr>\n    <tr>\n      <th>30700</th>\n      <td>Sugarland Road</td>\n      <td>31154</td>\n      <td>943412232</td>\n      <td>3723</td>\n      <td>7903</td>\n      <td>1</td>\n      <td>71.834767</td>\n      <td>2</td>\n      <td>35</td>\n      <td>NaN</td>\n      <td>tertiary</td>\n      <td>5</td>\n      <td>LINESTRING (-77.37914309999999 39.0075118, -77...</td>\n      <td>auto</td>\n      <td>1</td>\n    </tr>\n    <tr>\n      <th>30701</th>\n      <td>Sugarland Road</td>\n      <td>31155</td>\n      <td>943412232</td>\n      <td>7903</td>\n      <td>3723</td>\n      <td>1</td>\n      <td>71.834767</td>\n      <td>2</td>\n      <td>35</td>\n      <td>NaN</td>\n      <td>tertiary</td>\n      <td>5</td>\n      <td>LINESTRING (-77.37844440000001 39.0071617, -77...</td>\n      <td>auto</td>\n      <td>1</td>\n    </tr>\n    <tr>\n      <th>30702</th>\n      <td>Trumpet Circle</td>\n      <td>31156</td>\n      <td>943412233</td>\n      <td>12608</td>\n      <td>12607</td>\n      <td>1</td>\n      <td>27.352271</td>\n      <td>1</td>\n      <td>29</td>\n      <td>NaN</td>\n      <td>residential</td>\n      <td>6</td>\n      <td>LINESTRING (-77.3791015 39.0131342, -77.379125...</td>\n      <td>auto</td>\n      <td>0</td>\n    </tr>\n  </tbody>\n</table>\n<p>30703 rows × 15 columns</p>\n</div>"
     },
     "metadata": {},
     "execution_count": 168
    }
   ],
   "source": [
    "link_road"
   ]
  },
  {
   "cell_type": "code",
   "execution_count": 187,
   "metadata": {},
   "outputs": [],
   "source": [
    "\n"
   ]
  },
  {
   "cell_type": "code",
   "execution_count": 190,
   "metadata": {},
   "outputs": [
    {
     "output_type": "stream",
     "name": "stdout",
     "text": [
      "measurement_osm.csv is generated!\n"
     ]
    }
   ],
   "source": [
    "measurement_osm = pd.DataFrame()\n",
    "measurement_osm_sub = pd.DataFrame()\n",
    "\n",
    "measurement_osm['link_id'] = None\n",
    "measurement_osm['from_node_id'] = None\n",
    "measurement_osm['to_node_id'] = None\n",
    "measurement_osm['lanes'] = None\n",
    "measurement_osm['length'] = None\n",
    "measurement_osm['time_period'] = None\n",
    "measurement_osm['date'] = None\n",
    "measurement_osm['geometry'] = None\n",
    "measurement_osm['volume'] = None\n",
    "measurement_osm['speed'] = None\n",
    "\n",
    "\n",
    "link_road_dict = {}\n",
    "gp = link_road.groupby(['from_node_id','to_node_id'])\n",
    "for key, form in gp:\n",
    "    link_road_dict[key] = {\n",
    "        'link_id':form['link_id'].values[0],\n",
    "        'from_node_id':form['from_node_id'].values[0],\n",
    "        'to_node_id':form['to_node_id'].values[0],\n",
    "        'lanes':form['lanes'].values[0],\n",
    "        'length':form['length'].values[0],\n",
    "        'geometry':form['geometry'].values[0],\n",
    "        }\n",
    "\n",
    "\n",
    "trace_dict = {}\n",
    "gp = trace.groupby(['agent_id','trace_id'])\n",
    "for key, form in gp:\n",
    "    trace_dict[key] = {\n",
    "        'tmc':form['tmc'].values[0]\n",
    "        }\n",
    "\n",
    "\n",
    "measurement_tmc_dict = {}\n",
    "gp = measurement_tmc.groupby('name')\n",
    "for key, form in gp:\n",
    "    measurement_tmc_dict[key] = {\n",
    "        'timestamp':form['timestamp'].tolist(),\n",
    "        'volume':form['volume'].tolist(),\n",
    "        'speed':form['speed'].tolist()\n",
    "        }\n",
    "\n",
    "\n",
    "for i in mapping.index:\n",
    "    link_road_selected = link_road_dict[(mapping.loc[i,'from_node_id'],mapping.loc[i,'to_node_id'])] #find osm link from mapping \n",
    "    trace_selected = trace_dict[(mapping.loc[i,'agent_id'],mapping.loc[i,'trace_id'])] #find tmc link from mapping\n",
    "    measurement_tmc_dict_selected = measurement_tmc_dict[trace_selected['tmc']] #find tmc performance from tmc link\n",
    "\n",
    "    for j in range(0,len(measurement_tmc_dict_selected['timestamp']),3):\n",
    "        try:\n",
    "            measurement_osm_sub = measurement_osm_sub.append({'link_id': link_road_selected['link_id'],\\\n",
    "                                            'from_node_id': link_road_selected['from_node_id'],\\\n",
    "                                            'to_node_id': link_road_selected['to_node_id'],\\\n",
    "                                            'lanes': link_road_selected['lanes'],\\\n",
    "                                            'length': round(link_road_selected['length']),\\\n",
    "                                            'time_period': measurement_tmc_dict_selected['timestamp'][j][-5:-3] + \\\n",
    "                                                            measurement_tmc_dict_selected['timestamp'][j][-2:] + '_'+ \\\n",
    "                                                            measurement_tmc_dict_selected['timestamp'][j+3][-5:-3] + \\\n",
    "                                                            measurement_tmc_dict_selected['timestamp'][j+3][-2:],\\\n",
    "                                            'date': measurement_tmc_dict_selected['timestamp'][j][:10],\\\n",
    "                                            'geometry': link_road_selected['geometry'],\\\n",
    "                                            'volume': np.sum(measurement_tmc_dict_selected['volume'][j:j+3]),\\\n",
    "                                            'speed': round(np.mean(measurement_tmc_dict_selected['speed'][j:j+3]))}, ignore_index=True)\n",
    "\n",
    "        except:\n",
    "            break\n",
    "            # measurement_osm_sub = measurement_osm_sub.append({'link_id': link_road_selected['link_id'],\\\n",
    "            #                                 'from_node_id': link_road_selected['from_node_id'],\\\n",
    "            #                                 'to_node_id': link_road_selected['to_node_id'],\\\n",
    "            #                                 'lanes': link_road_selected['lanes'],\\\n",
    "            #                                 'length': round(link_road_selected['length']),\\\n",
    "            #                                 'time_period': None,\\\n",
    "            #                                 'date': None,\\\n",
    "            #                                 'geometry': link_road_selected['geometry'],\\\n",
    "            #                                 'volume': None,\\\n",
    "            #                                 'speed': None}, ignore_index=True)\n",
    "\n",
    "\n",
    "    measurement_osm = measurement_osm.append(measurement_osm_sub)\n",
    "    measurement_osm_sub = pd.DataFrame()\n",
    "measurement_osm.to_csv('measurement_osm.csv')\n",
    "print(\"measurement_osm.csv is generated!\")"
   ]
  },
  {
   "cell_type": "code",
   "execution_count": 191,
   "metadata": {},
   "outputs": [
    {
     "output_type": "execute_result",
     "data": {
      "text/plain": [
       "    link_id  from_node_id  to_node_id  lanes  length time_period        date  \\\n",
       "0   18653.0       14870.0      9642.0    3.0   212.0   0000_0015  2015-04-01   \n",
       "1   18653.0       14870.0      9642.0    3.0   212.0   0015_0030  2015-04-01   \n",
       "2   18653.0       14870.0      9642.0    3.0   212.0   0030_0045  2015-04-01   \n",
       "3   18653.0       14870.0      9642.0    3.0   212.0   0045_0100  2015-04-01   \n",
       "4   18653.0       14870.0      9642.0    3.0   212.0   0100_0115  2015-04-01   \n",
       "..      ...           ...         ...    ...     ...         ...         ...   \n",
       "3   25491.0       12828.0     12388.0    3.0   399.0   0045_0100  2015-04-01   \n",
       "4   25491.0       12828.0     12388.0    3.0   399.0   0100_0115  2015-04-01   \n",
       "5   25491.0       12828.0     12388.0    3.0   399.0   0115_0130  2015-04-01   \n",
       "6   25491.0       12828.0     12388.0    3.0   399.0   0130_0145  2015-04-01   \n",
       "7   25491.0       12828.0     12388.0    3.0   399.0   0145_0200  2015-04-01   \n",
       "\n",
       "                                             geometry  volume  speed  \n",
       "0   LINESTRING (-77.37091289999999 39.0140956, -77...     NaN   44.0  \n",
       "1   LINESTRING (-77.37091289999999 39.0140956, -77...     NaN   44.0  \n",
       "2   LINESTRING (-77.37091289999999 39.0140956, -77...     NaN   44.0  \n",
       "3   LINESTRING (-77.37091289999999 39.0140956, -77...     NaN   44.0  \n",
       "4   LINESTRING (-77.37091289999999 39.0140956, -77...     NaN   44.0  \n",
       "..                                                ...     ...    ...  \n",
       "3   LINESTRING (-77.3642456 39.0109544, -77.364827...     NaN   41.0  \n",
       "4   LINESTRING (-77.3642456 39.0109544, -77.364827...     NaN   41.0  \n",
       "5   LINESTRING (-77.3642456 39.0109544, -77.364827...     NaN   41.0  \n",
       "6   LINESTRING (-77.3642456 39.0109544, -77.364827...     NaN   41.0  \n",
       "7   LINESTRING (-77.3642456 39.0109544, -77.364827...     NaN   41.0  \n",
       "\n",
       "[2184 rows x 10 columns]"
      ],
      "text/html": "<div>\n<style scoped>\n    .dataframe tbody tr th:only-of-type {\n        vertical-align: middle;\n    }\n\n    .dataframe tbody tr th {\n        vertical-align: top;\n    }\n\n    .dataframe thead th {\n        text-align: right;\n    }\n</style>\n<table border=\"1\" class=\"dataframe\">\n  <thead>\n    <tr style=\"text-align: right;\">\n      <th></th>\n      <th>link_id</th>\n      <th>from_node_id</th>\n      <th>to_node_id</th>\n      <th>lanes</th>\n      <th>length</th>\n      <th>time_period</th>\n      <th>date</th>\n      <th>geometry</th>\n      <th>volume</th>\n      <th>speed</th>\n    </tr>\n  </thead>\n  <tbody>\n    <tr>\n      <th>0</th>\n      <td>18653.0</td>\n      <td>14870.0</td>\n      <td>9642.0</td>\n      <td>3.0</td>\n      <td>212.0</td>\n      <td>0000_0015</td>\n      <td>2015-04-01</td>\n      <td>LINESTRING (-77.37091289999999 39.0140956, -77...</td>\n      <td>NaN</td>\n      <td>44.0</td>\n    </tr>\n    <tr>\n      <th>1</th>\n      <td>18653.0</td>\n      <td>14870.0</td>\n      <td>9642.0</td>\n      <td>3.0</td>\n      <td>212.0</td>\n      <td>0015_0030</td>\n      <td>2015-04-01</td>\n      <td>LINESTRING (-77.37091289999999 39.0140956, -77...</td>\n      <td>NaN</td>\n      <td>44.0</td>\n    </tr>\n    <tr>\n      <th>2</th>\n      <td>18653.0</td>\n      <td>14870.0</td>\n      <td>9642.0</td>\n      <td>3.0</td>\n      <td>212.0</td>\n      <td>0030_0045</td>\n      <td>2015-04-01</td>\n      <td>LINESTRING (-77.37091289999999 39.0140956, -77...</td>\n      <td>NaN</td>\n      <td>44.0</td>\n    </tr>\n    <tr>\n      <th>3</th>\n      <td>18653.0</td>\n      <td>14870.0</td>\n      <td>9642.0</td>\n      <td>3.0</td>\n      <td>212.0</td>\n      <td>0045_0100</td>\n      <td>2015-04-01</td>\n      <td>LINESTRING (-77.37091289999999 39.0140956, -77...</td>\n      <td>NaN</td>\n      <td>44.0</td>\n    </tr>\n    <tr>\n      <th>4</th>\n      <td>18653.0</td>\n      <td>14870.0</td>\n      <td>9642.0</td>\n      <td>3.0</td>\n      <td>212.0</td>\n      <td>0100_0115</td>\n      <td>2015-04-01</td>\n      <td>LINESTRING (-77.37091289999999 39.0140956, -77...</td>\n      <td>NaN</td>\n      <td>44.0</td>\n    </tr>\n    <tr>\n      <th>...</th>\n      <td>...</td>\n      <td>...</td>\n      <td>...</td>\n      <td>...</td>\n      <td>...</td>\n      <td>...</td>\n      <td>...</td>\n      <td>...</td>\n      <td>...</td>\n      <td>...</td>\n    </tr>\n    <tr>\n      <th>3</th>\n      <td>25491.0</td>\n      <td>12828.0</td>\n      <td>12388.0</td>\n      <td>3.0</td>\n      <td>399.0</td>\n      <td>0045_0100</td>\n      <td>2015-04-01</td>\n      <td>LINESTRING (-77.3642456 39.0109544, -77.364827...</td>\n      <td>NaN</td>\n      <td>41.0</td>\n    </tr>\n    <tr>\n      <th>4</th>\n      <td>25491.0</td>\n      <td>12828.0</td>\n      <td>12388.0</td>\n      <td>3.0</td>\n      <td>399.0</td>\n      <td>0100_0115</td>\n      <td>2015-04-01</td>\n      <td>LINESTRING (-77.3642456 39.0109544, -77.364827...</td>\n      <td>NaN</td>\n      <td>41.0</td>\n    </tr>\n    <tr>\n      <th>5</th>\n      <td>25491.0</td>\n      <td>12828.0</td>\n      <td>12388.0</td>\n      <td>3.0</td>\n      <td>399.0</td>\n      <td>0115_0130</td>\n      <td>2015-04-01</td>\n      <td>LINESTRING (-77.3642456 39.0109544, -77.364827...</td>\n      <td>NaN</td>\n      <td>41.0</td>\n    </tr>\n    <tr>\n      <th>6</th>\n      <td>25491.0</td>\n      <td>12828.0</td>\n      <td>12388.0</td>\n      <td>3.0</td>\n      <td>399.0</td>\n      <td>0130_0145</td>\n      <td>2015-04-01</td>\n      <td>LINESTRING (-77.3642456 39.0109544, -77.364827...</td>\n      <td>NaN</td>\n      <td>41.0</td>\n    </tr>\n    <tr>\n      <th>7</th>\n      <td>25491.0</td>\n      <td>12828.0</td>\n      <td>12388.0</td>\n      <td>3.0</td>\n      <td>399.0</td>\n      <td>0145_0200</td>\n      <td>2015-04-01</td>\n      <td>LINESTRING (-77.3642456 39.0109544, -77.364827...</td>\n      <td>NaN</td>\n      <td>41.0</td>\n    </tr>\n  </tbody>\n</table>\n<p>2184 rows × 10 columns</p>\n</div>"
     },
     "metadata": {},
     "execution_count": 191
    }
   ],
   "source": [
    "measurement_osm"
   ]
  },
  {
   "cell_type": "code",
   "execution_count": 192,
   "metadata": {},
   "outputs": [
    {
     "output_type": "stream",
     "name": "stdout",
     "text": [
      "__main__\n/usr/local/home/ysx28/Desktop/GMNS/tmc2gmns/TMC2GMNS\n/usr/local/home/ysx28/Desktop/GMNS/tmc2gmns/TMC2GMNS/__file__\n/usr/local/home/ysx28/Desktop/GMNS/tmc2gmns/TMC2GMNS\n"
     ]
    }
   ],
   "source": [
    "print( __name__)\n",
    "print(os.path.dirname(os.path.realpath('__file__')))\n",
    "print(os.path.realpath('__file__'))\n",
    "print(os.getcwd())"
   ]
  },
  {
   "cell_type": "code",
   "execution_count": null,
   "metadata": {},
   "outputs": [],
   "source": []
  }
 ]
}