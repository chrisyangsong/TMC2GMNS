{
 "metadata": {
  "language_info": {
   "codemirror_mode": {
    "name": "ipython",
    "version": 3
   },
   "file_extension": ".py",
   "mimetype": "text/x-python",
   "name": "python",
   "nbconvert_exporter": "python",
   "pygments_lexer": "ipython3",
   "version": "3.8.5"
  },
  "orig_nbformat": 2,
  "kernelspec": {
   "name": "python385jvsc74a57bd0f60418cf0f93cafce689393a2d664cdd36dee00bdf33293458885c5a1a5b95d3",
   "display_name": "Python 3.8.5 64-bit ('base': conda)"
  }
 },
 "nbformat": 4,
 "nbformat_minor": 2,
 "cells": [
  {
   "cell_type": "code",
   "execution_count": 1,
   "metadata": {},
   "outputs": [
    {
     "output_type": "stream",
     "name": "stdout",
     "text": [
      "MapMatching4GMNS, version 0.2.14\n"
     ]
    }
   ],
   "source": [
    "import os\n",
    "import math\n",
    "import datetime\n",
    "import numpy as np\n",
    "import pandas as pd\n",
    "\n",
    "import time\n",
    "import os.path\n",
    "import MapMatching4GMNS"
   ]
  },
  {
   "cell_type": "code",
   "execution_count": 2,
   "metadata": {},
   "outputs": [],
   "source": [
    "def create_folder(path):\n",
    "    if not os.path.exists(path):\n",
    "        os.makedirs(path)"
   ]
  },
  {
   "source": [
    "## step 1 Convert utd Data into GMNS Format"
   ],
   "cell_type": "markdown",
   "metadata": {}
  },
  {
   "cell_type": "code",
   "execution_count": 3,
   "metadata": {},
   "outputs": [],
   "source": [
    "\"Convert utd Data into GMNS Format\"\n",
    "files= os.listdir(os.getcwd()) \n",
    "for file in files: \n",
    "    if file[:5] == 'links':\n",
    "        utd = pd.read_csv(file)\n",
    "    if file[:9] == 'detectors':\n",
    "        detectors = pd.read_csv(file)\n",
    "        break\n",
    "utd.rename(columns = {'Unnamed: 0':'utd','long':'utd_long','lat':'utd_lat','citycode':'utd_citycode'}, inplace = True)\n",
    "detectors.rename(columns = {'Unnamed: 0':'detectors','long':'detectors_long',\\\n",
    "                'lat':'detectors_lat','citycode':'detectors_citycode','length':'detectors_length'}, inplace = True)\n",
    "detectors['linkid'] = detectors['linkid'].astype(int)\n",
    "detectors['lanes'] = detectors['lanes'].astype(int)\n",
    "\n",
    "detectors = detectors.drop(detectors[detectors['detid']=='N29121Z'].index) #dupicate and error\n",
    "\n",
    "\n",
    "utd_detectors = utd.merge(detectors, on='linkid', how='left')  #miss one detector 89950"
   ]
  },
  {
   "cell_type": "code",
   "execution_count": 4,
   "metadata": {},
   "outputs": [
    {
     "output_type": "execute_result",
     "data": {
      "text/plain": [
       "       utd  utd_long    utd_lat  order  piece  linkid  group utd_citycode\n",
       "0    89398 -2.264742  53.485628      1      1       0    0.1   manchester\n",
       "1    89399 -2.264694  53.486187      2      1       0    0.1   manchester\n",
       "2    89400 -2.264653  53.486820      3      1       0    0.1   manchester\n",
       "3    89401 -2.264374  53.487190      4      1       0    0.1   manchester\n",
       "4    89402 -2.263860  53.487496      5      1       0    0.1   manchester\n",
       "..     ...       ...        ...    ...    ...     ...    ...          ...\n",
       "937  90335 -2.252004  53.481483      1      1     180  180.1   manchester\n",
       "938  90336 -2.252378  53.481538      2      1     180  180.1   manchester\n",
       "939  90337 -2.252817  53.481670      3      1     180  180.1   manchester\n",
       "940  90338 -2.253200  53.481823      4      1     180  180.1   manchester\n",
       "941  90339 -2.253446  53.481975      5      1     180  180.1   manchester\n",
       "\n",
       "[942 rows x 8 columns]"
      ],
      "text/html": "<div>\n<style scoped>\n    .dataframe tbody tr th:only-of-type {\n        vertical-align: middle;\n    }\n\n    .dataframe tbody tr th {\n        vertical-align: top;\n    }\n\n    .dataframe thead th {\n        text-align: right;\n    }\n</style>\n<table border=\"1\" class=\"dataframe\">\n  <thead>\n    <tr style=\"text-align: right;\">\n      <th></th>\n      <th>utd</th>\n      <th>utd_long</th>\n      <th>utd_lat</th>\n      <th>order</th>\n      <th>piece</th>\n      <th>linkid</th>\n      <th>group</th>\n      <th>utd_citycode</th>\n    </tr>\n  </thead>\n  <tbody>\n    <tr>\n      <th>0</th>\n      <td>89398</td>\n      <td>-2.264742</td>\n      <td>53.485628</td>\n      <td>1</td>\n      <td>1</td>\n      <td>0</td>\n      <td>0.1</td>\n      <td>manchester</td>\n    </tr>\n    <tr>\n      <th>1</th>\n      <td>89399</td>\n      <td>-2.264694</td>\n      <td>53.486187</td>\n      <td>2</td>\n      <td>1</td>\n      <td>0</td>\n      <td>0.1</td>\n      <td>manchester</td>\n    </tr>\n    <tr>\n      <th>2</th>\n      <td>89400</td>\n      <td>-2.264653</td>\n      <td>53.486820</td>\n      <td>3</td>\n      <td>1</td>\n      <td>0</td>\n      <td>0.1</td>\n      <td>manchester</td>\n    </tr>\n    <tr>\n      <th>3</th>\n      <td>89401</td>\n      <td>-2.264374</td>\n      <td>53.487190</td>\n      <td>4</td>\n      <td>1</td>\n      <td>0</td>\n      <td>0.1</td>\n      <td>manchester</td>\n    </tr>\n    <tr>\n      <th>4</th>\n      <td>89402</td>\n      <td>-2.263860</td>\n      <td>53.487496</td>\n      <td>5</td>\n      <td>1</td>\n      <td>0</td>\n      <td>0.1</td>\n      <td>manchester</td>\n    </tr>\n    <tr>\n      <th>...</th>\n      <td>...</td>\n      <td>...</td>\n      <td>...</td>\n      <td>...</td>\n      <td>...</td>\n      <td>...</td>\n      <td>...</td>\n      <td>...</td>\n    </tr>\n    <tr>\n      <th>937</th>\n      <td>90335</td>\n      <td>-2.252004</td>\n      <td>53.481483</td>\n      <td>1</td>\n      <td>1</td>\n      <td>180</td>\n      <td>180.1</td>\n      <td>manchester</td>\n    </tr>\n    <tr>\n      <th>938</th>\n      <td>90336</td>\n      <td>-2.252378</td>\n      <td>53.481538</td>\n      <td>2</td>\n      <td>1</td>\n      <td>180</td>\n      <td>180.1</td>\n      <td>manchester</td>\n    </tr>\n    <tr>\n      <th>939</th>\n      <td>90337</td>\n      <td>-2.252817</td>\n      <td>53.481670</td>\n      <td>3</td>\n      <td>1</td>\n      <td>180</td>\n      <td>180.1</td>\n      <td>manchester</td>\n    </tr>\n    <tr>\n      <th>940</th>\n      <td>90338</td>\n      <td>-2.253200</td>\n      <td>53.481823</td>\n      <td>4</td>\n      <td>1</td>\n      <td>180</td>\n      <td>180.1</td>\n      <td>manchester</td>\n    </tr>\n    <tr>\n      <th>941</th>\n      <td>90339</td>\n      <td>-2.253446</td>\n      <td>53.481975</td>\n      <td>5</td>\n      <td>1</td>\n      <td>180</td>\n      <td>180.1</td>\n      <td>manchester</td>\n    </tr>\n  </tbody>\n</table>\n<p>942 rows × 8 columns</p>\n</div>"
     },
     "metadata": {},
     "execution_count": 4
    }
   ],
   "source": [
    "utd.to_csv('utd.csv')\n",
    "utd"
   ]
  },
  {
   "cell_type": "code",
   "execution_count": 5,
   "metadata": {},
   "outputs": [
    {
     "output_type": "execute_result",
     "data": {
      "text/plain": [
       "     detectors    detid  detectors_length       pos fclass  \\\n",
       "0        15204  N06111V          0.119161  0.116664  trunk   \n",
       "1        15205  N06112W          0.084072  0.076377  trunk   \n",
       "2        15206  N06141A          0.417602  0.414577  trunk   \n",
       "3        15207  N06141C          0.114765  0.112883  trunk   \n",
       "4        15208  N06141Y          0.256407  0.249730  other   \n",
       "..         ...      ...               ...       ...    ...   \n",
       "176      15380  N06482F          0.243023  0.229623  trunk   \n",
       "177      15381  N06482K          0.035744  0.020701  other   \n",
       "178      15382  N06482J          0.107132  0.103730  trunk   \n",
       "179      15383  N06551T          0.446633  0.369536  trunk   \n",
       "180      15384  N06451R          0.146543  0.130921  trunk   \n",
       "\n",
       "                     road  limit detectors_citycode  lanes  linkid  \\\n",
       "0    Great Ancoats Street     48         manchester      2      72   \n",
       "1    Great Ancoats Street     48         manchester      3      76   \n",
       "2             Oldham Road     48         manchester      2      48   \n",
       "3             Oldham Road     48         manchester      2      44   \n",
       "4         Thompson Street      0         manchester      1      42   \n",
       "..                    ...    ...                ...    ...     ...   \n",
       "176         Chapel Street     32         manchester      2     127   \n",
       "177     St Philip's Place      0         manchester      2     129   \n",
       "178         Chapel Street     32         manchester      2     130   \n",
       "179              Crescent     32         manchester      2     132   \n",
       "180           Trinity Way     48         manchester      3     114   \n",
       "\n",
       "     detectors_long  detectors_lat  \n",
       "0         -2.230164      53.483429  \n",
       "1         -2.228188      53.482206  \n",
       "2         -2.224160      53.488127  \n",
       "3         -2.231587      53.485518  \n",
       "4         -2.232718      53.487730  \n",
       "..              ...            ...  \n",
       "176       -2.259198      53.483305  \n",
       "177       -2.262977      53.483618  \n",
       "178       -2.264217      53.483308  \n",
       "179       -2.265183      53.483210  \n",
       "180       -2.256444      53.484638  \n",
       "\n",
       "[180 rows x 12 columns]"
      ],
      "text/html": "<div>\n<style scoped>\n    .dataframe tbody tr th:only-of-type {\n        vertical-align: middle;\n    }\n\n    .dataframe tbody tr th {\n        vertical-align: top;\n    }\n\n    .dataframe thead th {\n        text-align: right;\n    }\n</style>\n<table border=\"1\" class=\"dataframe\">\n  <thead>\n    <tr style=\"text-align: right;\">\n      <th></th>\n      <th>detectors</th>\n      <th>detid</th>\n      <th>detectors_length</th>\n      <th>pos</th>\n      <th>fclass</th>\n      <th>road</th>\n      <th>limit</th>\n      <th>detectors_citycode</th>\n      <th>lanes</th>\n      <th>linkid</th>\n      <th>detectors_long</th>\n      <th>detectors_lat</th>\n    </tr>\n  </thead>\n  <tbody>\n    <tr>\n      <th>0</th>\n      <td>15204</td>\n      <td>N06111V</td>\n      <td>0.119161</td>\n      <td>0.116664</td>\n      <td>trunk</td>\n      <td>Great Ancoats Street</td>\n      <td>48</td>\n      <td>manchester</td>\n      <td>2</td>\n      <td>72</td>\n      <td>-2.230164</td>\n      <td>53.483429</td>\n    </tr>\n    <tr>\n      <th>1</th>\n      <td>15205</td>\n      <td>N06112W</td>\n      <td>0.084072</td>\n      <td>0.076377</td>\n      <td>trunk</td>\n      <td>Great Ancoats Street</td>\n      <td>48</td>\n      <td>manchester</td>\n      <td>3</td>\n      <td>76</td>\n      <td>-2.228188</td>\n      <td>53.482206</td>\n    </tr>\n    <tr>\n      <th>2</th>\n      <td>15206</td>\n      <td>N06141A</td>\n      <td>0.417602</td>\n      <td>0.414577</td>\n      <td>trunk</td>\n      <td>Oldham Road</td>\n      <td>48</td>\n      <td>manchester</td>\n      <td>2</td>\n      <td>48</td>\n      <td>-2.224160</td>\n      <td>53.488127</td>\n    </tr>\n    <tr>\n      <th>3</th>\n      <td>15207</td>\n      <td>N06141C</td>\n      <td>0.114765</td>\n      <td>0.112883</td>\n      <td>trunk</td>\n      <td>Oldham Road</td>\n      <td>48</td>\n      <td>manchester</td>\n      <td>2</td>\n      <td>44</td>\n      <td>-2.231587</td>\n      <td>53.485518</td>\n    </tr>\n    <tr>\n      <th>4</th>\n      <td>15208</td>\n      <td>N06141Y</td>\n      <td>0.256407</td>\n      <td>0.249730</td>\n      <td>other</td>\n      <td>Thompson Street</td>\n      <td>0</td>\n      <td>manchester</td>\n      <td>1</td>\n      <td>42</td>\n      <td>-2.232718</td>\n      <td>53.487730</td>\n    </tr>\n    <tr>\n      <th>...</th>\n      <td>...</td>\n      <td>...</td>\n      <td>...</td>\n      <td>...</td>\n      <td>...</td>\n      <td>...</td>\n      <td>...</td>\n      <td>...</td>\n      <td>...</td>\n      <td>...</td>\n      <td>...</td>\n      <td>...</td>\n    </tr>\n    <tr>\n      <th>176</th>\n      <td>15380</td>\n      <td>N06482F</td>\n      <td>0.243023</td>\n      <td>0.229623</td>\n      <td>trunk</td>\n      <td>Chapel Street</td>\n      <td>32</td>\n      <td>manchester</td>\n      <td>2</td>\n      <td>127</td>\n      <td>-2.259198</td>\n      <td>53.483305</td>\n    </tr>\n    <tr>\n      <th>177</th>\n      <td>15381</td>\n      <td>N06482K</td>\n      <td>0.035744</td>\n      <td>0.020701</td>\n      <td>other</td>\n      <td>St Philip's Place</td>\n      <td>0</td>\n      <td>manchester</td>\n      <td>2</td>\n      <td>129</td>\n      <td>-2.262977</td>\n      <td>53.483618</td>\n    </tr>\n    <tr>\n      <th>178</th>\n      <td>15382</td>\n      <td>N06482J</td>\n      <td>0.107132</td>\n      <td>0.103730</td>\n      <td>trunk</td>\n      <td>Chapel Street</td>\n      <td>32</td>\n      <td>manchester</td>\n      <td>2</td>\n      <td>130</td>\n      <td>-2.264217</td>\n      <td>53.483308</td>\n    </tr>\n    <tr>\n      <th>179</th>\n      <td>15383</td>\n      <td>N06551T</td>\n      <td>0.446633</td>\n      <td>0.369536</td>\n      <td>trunk</td>\n      <td>Crescent</td>\n      <td>32</td>\n      <td>manchester</td>\n      <td>2</td>\n      <td>132</td>\n      <td>-2.265183</td>\n      <td>53.483210</td>\n    </tr>\n    <tr>\n      <th>180</th>\n      <td>15384</td>\n      <td>N06451R</td>\n      <td>0.146543</td>\n      <td>0.130921</td>\n      <td>trunk</td>\n      <td>Trinity Way</td>\n      <td>48</td>\n      <td>manchester</td>\n      <td>3</td>\n      <td>114</td>\n      <td>-2.256444</td>\n      <td>53.484638</td>\n    </tr>\n  </tbody>\n</table>\n<p>180 rows × 12 columns</p>\n</div>"
     },
     "metadata": {},
     "execution_count": 5
    }
   ],
   "source": [
    "detectors"
   ]
  },
  {
   "cell_type": "code",
   "execution_count": 7,
   "metadata": {},
   "outputs": [
    {
     "output_type": "stream",
     "name": "stdout",
     "text": [
      "Empty DataFrame\nColumns: [detectors, detid, detectors_length, pos, fclass, road, limit, detectors_citycode, lanes, linkid, detectors_long, detectors_lat]\nIndex: []\n"
     ]
    }
   ],
   "source": [
    "print(detectors[detectors['linkid'].duplicated()])"
   ]
  },
  {
   "cell_type": "code",
   "execution_count": 8,
   "metadata": {},
   "outputs": [
    {
     "output_type": "execute_result",
     "data": {
      "text/plain": [
       "       utd  utd_long    utd_lat  order  piece  linkid  group utd_citycode  \\\n",
       "0    89398 -2.264742  53.485628      1      1       0    0.1   manchester   \n",
       "1    89399 -2.264694  53.486187      2      1       0    0.1   manchester   \n",
       "2    89400 -2.264653  53.486820      3      1       0    0.1   manchester   \n",
       "3    89401 -2.264374  53.487190      4      1       0    0.1   manchester   \n",
       "4    89402 -2.263860  53.487496      5      1       0    0.1   manchester   \n",
       "..     ...       ...        ...    ...    ...     ...    ...          ...   \n",
       "937  90335 -2.252004  53.481483      1      1     180  180.1   manchester   \n",
       "938  90336 -2.252378  53.481538      2      1     180  180.1   manchester   \n",
       "939  90337 -2.252817  53.481670      3      1     180  180.1   manchester   \n",
       "940  90338 -2.253200  53.481823      4      1     180  180.1   manchester   \n",
       "941  90339 -2.253446  53.481975      5      1     180  180.1   manchester   \n",
       "\n",
       "     detectors    detid  detectors_length       pos   fclass         road  \\\n",
       "0      15351.0  N31111S          0.620643  0.100084  primary  Silk Street   \n",
       "1      15351.0  N31111S          0.620643  0.100084  primary  Silk Street   \n",
       "2      15351.0  N31111S          0.620643  0.100084  primary  Silk Street   \n",
       "3      15351.0  N31111S          0.620643  0.100084  primary  Silk Street   \n",
       "4      15351.0  N31111S          0.620643  0.100084  primary  Silk Street   \n",
       "..         ...      ...               ...       ...      ...          ...   \n",
       "937    15309.0  N06521G          0.112340  0.086766    other     Leftbank   \n",
       "938    15309.0  N06521G          0.112340  0.086766    other     Leftbank   \n",
       "939    15309.0  N06521G          0.112340  0.086766    other     Leftbank   \n",
       "940    15309.0  N06521G          0.112340  0.086766    other     Leftbank   \n",
       "941    15309.0  N06521G          0.112340  0.086766    other     Leftbank   \n",
       "\n",
       "     limit detectors_citycode  lanes  detectors_long  detectors_lat  \n",
       "0     48.0         manchester    1.0       -2.260317      53.489087  \n",
       "1     48.0         manchester    1.0       -2.260317      53.489087  \n",
       "2     48.0         manchester    1.0       -2.260317      53.489087  \n",
       "3     48.0         manchester    1.0       -2.260317      53.489087  \n",
       "4     48.0         manchester    1.0       -2.260317      53.489087  \n",
       "..     ...                ...    ...             ...            ...  \n",
       "937   48.0         manchester    1.0       -2.252378      53.481538  \n",
       "938   48.0         manchester    1.0       -2.252378      53.481538  \n",
       "939   48.0         manchester    1.0       -2.252378      53.481538  \n",
       "940   48.0         manchester    1.0       -2.252378      53.481538  \n",
       "941   48.0         manchester    1.0       -2.252378      53.481538  \n",
       "\n",
       "[942 rows x 19 columns]"
      ],
      "text/html": "<div>\n<style scoped>\n    .dataframe tbody tr th:only-of-type {\n        vertical-align: middle;\n    }\n\n    .dataframe tbody tr th {\n        vertical-align: top;\n    }\n\n    .dataframe thead th {\n        text-align: right;\n    }\n</style>\n<table border=\"1\" class=\"dataframe\">\n  <thead>\n    <tr style=\"text-align: right;\">\n      <th></th>\n      <th>utd</th>\n      <th>utd_long</th>\n      <th>utd_lat</th>\n      <th>order</th>\n      <th>piece</th>\n      <th>linkid</th>\n      <th>group</th>\n      <th>utd_citycode</th>\n      <th>detectors</th>\n      <th>detid</th>\n      <th>detectors_length</th>\n      <th>pos</th>\n      <th>fclass</th>\n      <th>road</th>\n      <th>limit</th>\n      <th>detectors_citycode</th>\n      <th>lanes</th>\n      <th>detectors_long</th>\n      <th>detectors_lat</th>\n    </tr>\n  </thead>\n  <tbody>\n    <tr>\n      <th>0</th>\n      <td>89398</td>\n      <td>-2.264742</td>\n      <td>53.485628</td>\n      <td>1</td>\n      <td>1</td>\n      <td>0</td>\n      <td>0.1</td>\n      <td>manchester</td>\n      <td>15351.0</td>\n      <td>N31111S</td>\n      <td>0.620643</td>\n      <td>0.100084</td>\n      <td>primary</td>\n      <td>Silk Street</td>\n      <td>48.0</td>\n      <td>manchester</td>\n      <td>1.0</td>\n      <td>-2.260317</td>\n      <td>53.489087</td>\n    </tr>\n    <tr>\n      <th>1</th>\n      <td>89399</td>\n      <td>-2.264694</td>\n      <td>53.486187</td>\n      <td>2</td>\n      <td>1</td>\n      <td>0</td>\n      <td>0.1</td>\n      <td>manchester</td>\n      <td>15351.0</td>\n      <td>N31111S</td>\n      <td>0.620643</td>\n      <td>0.100084</td>\n      <td>primary</td>\n      <td>Silk Street</td>\n      <td>48.0</td>\n      <td>manchester</td>\n      <td>1.0</td>\n      <td>-2.260317</td>\n      <td>53.489087</td>\n    </tr>\n    <tr>\n      <th>2</th>\n      <td>89400</td>\n      <td>-2.264653</td>\n      <td>53.486820</td>\n      <td>3</td>\n      <td>1</td>\n      <td>0</td>\n      <td>0.1</td>\n      <td>manchester</td>\n      <td>15351.0</td>\n      <td>N31111S</td>\n      <td>0.620643</td>\n      <td>0.100084</td>\n      <td>primary</td>\n      <td>Silk Street</td>\n      <td>48.0</td>\n      <td>manchester</td>\n      <td>1.0</td>\n      <td>-2.260317</td>\n      <td>53.489087</td>\n    </tr>\n    <tr>\n      <th>3</th>\n      <td>89401</td>\n      <td>-2.264374</td>\n      <td>53.487190</td>\n      <td>4</td>\n      <td>1</td>\n      <td>0</td>\n      <td>0.1</td>\n      <td>manchester</td>\n      <td>15351.0</td>\n      <td>N31111S</td>\n      <td>0.620643</td>\n      <td>0.100084</td>\n      <td>primary</td>\n      <td>Silk Street</td>\n      <td>48.0</td>\n      <td>manchester</td>\n      <td>1.0</td>\n      <td>-2.260317</td>\n      <td>53.489087</td>\n    </tr>\n    <tr>\n      <th>4</th>\n      <td>89402</td>\n      <td>-2.263860</td>\n      <td>53.487496</td>\n      <td>5</td>\n      <td>1</td>\n      <td>0</td>\n      <td>0.1</td>\n      <td>manchester</td>\n      <td>15351.0</td>\n      <td>N31111S</td>\n      <td>0.620643</td>\n      <td>0.100084</td>\n      <td>primary</td>\n      <td>Silk Street</td>\n      <td>48.0</td>\n      <td>manchester</td>\n      <td>1.0</td>\n      <td>-2.260317</td>\n      <td>53.489087</td>\n    </tr>\n    <tr>\n      <th>...</th>\n      <td>...</td>\n      <td>...</td>\n      <td>...</td>\n      <td>...</td>\n      <td>...</td>\n      <td>...</td>\n      <td>...</td>\n      <td>...</td>\n      <td>...</td>\n      <td>...</td>\n      <td>...</td>\n      <td>...</td>\n      <td>...</td>\n      <td>...</td>\n      <td>...</td>\n      <td>...</td>\n      <td>...</td>\n      <td>...</td>\n      <td>...</td>\n    </tr>\n    <tr>\n      <th>937</th>\n      <td>90335</td>\n      <td>-2.252004</td>\n      <td>53.481483</td>\n      <td>1</td>\n      <td>1</td>\n      <td>180</td>\n      <td>180.1</td>\n      <td>manchester</td>\n      <td>15309.0</td>\n      <td>N06521G</td>\n      <td>0.112340</td>\n      <td>0.086766</td>\n      <td>other</td>\n      <td>Leftbank</td>\n      <td>48.0</td>\n      <td>manchester</td>\n      <td>1.0</td>\n      <td>-2.252378</td>\n      <td>53.481538</td>\n    </tr>\n    <tr>\n      <th>938</th>\n      <td>90336</td>\n      <td>-2.252378</td>\n      <td>53.481538</td>\n      <td>2</td>\n      <td>1</td>\n      <td>180</td>\n      <td>180.1</td>\n      <td>manchester</td>\n      <td>15309.0</td>\n      <td>N06521G</td>\n      <td>0.112340</td>\n      <td>0.086766</td>\n      <td>other</td>\n      <td>Leftbank</td>\n      <td>48.0</td>\n      <td>manchester</td>\n      <td>1.0</td>\n      <td>-2.252378</td>\n      <td>53.481538</td>\n    </tr>\n    <tr>\n      <th>939</th>\n      <td>90337</td>\n      <td>-2.252817</td>\n      <td>53.481670</td>\n      <td>3</td>\n      <td>1</td>\n      <td>180</td>\n      <td>180.1</td>\n      <td>manchester</td>\n      <td>15309.0</td>\n      <td>N06521G</td>\n      <td>0.112340</td>\n      <td>0.086766</td>\n      <td>other</td>\n      <td>Leftbank</td>\n      <td>48.0</td>\n      <td>manchester</td>\n      <td>1.0</td>\n      <td>-2.252378</td>\n      <td>53.481538</td>\n    </tr>\n    <tr>\n      <th>940</th>\n      <td>90338</td>\n      <td>-2.253200</td>\n      <td>53.481823</td>\n      <td>4</td>\n      <td>1</td>\n      <td>180</td>\n      <td>180.1</td>\n      <td>manchester</td>\n      <td>15309.0</td>\n      <td>N06521G</td>\n      <td>0.112340</td>\n      <td>0.086766</td>\n      <td>other</td>\n      <td>Leftbank</td>\n      <td>48.0</td>\n      <td>manchester</td>\n      <td>1.0</td>\n      <td>-2.252378</td>\n      <td>53.481538</td>\n    </tr>\n    <tr>\n      <th>941</th>\n      <td>90339</td>\n      <td>-2.253446</td>\n      <td>53.481975</td>\n      <td>5</td>\n      <td>1</td>\n      <td>180</td>\n      <td>180.1</td>\n      <td>manchester</td>\n      <td>15309.0</td>\n      <td>N06521G</td>\n      <td>0.112340</td>\n      <td>0.086766</td>\n      <td>other</td>\n      <td>Leftbank</td>\n      <td>48.0</td>\n      <td>manchester</td>\n      <td>1.0</td>\n      <td>-2.252378</td>\n      <td>53.481538</td>\n    </tr>\n  </tbody>\n</table>\n<p>942 rows × 19 columns</p>\n</div>"
     },
     "metadata": {},
     "execution_count": 8
    }
   ],
   "source": [
    "utd_detectors.to_csv('utd_detectors.csv')\n",
    "utd_detectors"
   ]
  },
  {
   "cell_type": "code",
   "execution_count": 31,
   "metadata": {},
   "outputs": [
    {
     "output_type": "stream",
     "name": "stdout",
     "text": [
      "converting utd data into gmns format...\n",
      "node_utd.csv generated!\n"
     ]
    }
   ],
   "source": [
    "num_link = 0\n",
    "'''build node.csv'''\n",
    "print('converting utd data into gmns format...')\n",
    "\n",
    "\n",
    "node_utd = pd.DataFrame()\n",
    "node_utd['name'] = None\n",
    "node_utd['x_coord'] = None\n",
    "node_utd['y_coord'] = None\n",
    "node_utd['z_coord'] = None\n",
    "node_utd['node_type'] = None\n",
    "node_utd['ctrl_type'] = None\n",
    "node_utd['zone_id'] = None\n",
    "node_utd['parent_node_id'] = None\n",
    "node_utd['geometry'] = None\n",
    "\n",
    "for i in range(len(utd)-1):\n",
    "    if utd.loc[i+1,'order'] > utd.loc[i,'order']:\n",
    "        node_utd = node_utd.append({'name': utd.loc[i,'utd'],\\\n",
    "                                    'x_coord': utd.loc[i,'utd_long'], \\\n",
    "                                    'y_coord': utd.loc[i,'utd_lat'],\\\n",
    "                                    'z_coord': None,\\\n",
    "                                    'node_type': utd.loc[i,'linkid'],\\\n",
    "                                    'ctrl_type': None,\\\n",
    "                                    'zone_id': None,\\\n",
    "                                    'parent_node_id': None,\\\n",
    "                                    'geometry': \"POINT (\" + utd.loc[i,'utd_long'].astype(str) + \" \" + utd.loc[i,'utd_lat'].astype(str) +\")\"}, ignore_index=True)\n",
    "        num_link += 1\n",
    "    else:\n",
    "        \n",
    "        node_utd = node_utd.append({'name': utd.loc[i,'utd'],\\\n",
    "                                    'x_coord': utd.loc[i,'utd_long'], \\\n",
    "                                    'y_coord': utd.loc[i,'utd_lat'],\\\n",
    "                                    'z_coord': None,\\\n",
    "                                    'node_type': utd.loc[i,'linkid'],\\\n",
    "                                    'ctrl_type': None,\\\n",
    "                                    'zone_id': None,\\\n",
    "                                    'parent_node_id': None,\\\n",
    "                                    'geometry': \"POINT (\" + utd.loc[i,'utd_long'].astype(str) + \" \" + utd.loc[i,'utd_lat'].astype(str) +\")\"}, ignore_index=True)\n",
    "\n",
    "node_utd = node_utd.append({'name': utd.loc[i+1,'utd'],\\\n",
    "                                    'x_coord': utd.loc[i+1,'utd_long'], \\\n",
    "                                    'y_coord': utd.loc[i+1,'utd_lat'],\\\n",
    "                                    'z_coord': None,\\\n",
    "                                    'node_type': utd.loc[i+1,'linkid'],\\\n",
    "                                    'ctrl_type': None,\\\n",
    "                                    'zone_id': None,\\\n",
    "                                    'parent_node_id': None,\\\n",
    "                                    'geometry': \"POINT (\" + utd.loc[i+1,'utd_long'].astype(str) + \" \" + utd.loc[i+1,'utd_lat'].astype(str) +\")\"}, ignore_index=True)\n",
    "\n",
    "\n",
    "node_utd.index.name = 'node_id'\n",
    "node_utd.index += 100000001 #index from 0\n",
    "\n",
    "\n",
    "\n",
    "node_utd.to_csv('node_utd.csv')\n",
    "print('node_utd.csv generated!')"
   ]
  },
  {
   "cell_type": "code",
   "execution_count": 32,
   "metadata": {},
   "outputs": [
    {
     "output_type": "execute_result",
     "data": {
      "text/plain": [
       "761"
      ]
     },
     "metadata": {},
     "execution_count": 32
    }
   ],
   "source": [
    "num_link"
   ]
  },
  {
   "cell_type": "code",
   "execution_count": 11,
   "metadata": {},
   "outputs": [
    {
     "output_type": "execute_result",
     "data": {
      "text/plain": [
       "            name   x_coord    y_coord z_coord node_type ctrl_type zone_id  \\\n",
       "node_id                                                                     \n",
       "100000001  89398 -2.264742  53.485628    None         0      None    None   \n",
       "100000002  89399 -2.264694  53.486187    None         0      None    None   \n",
       "100000003  89400 -2.264653  53.486820    None         0      None    None   \n",
       "100000004  89401 -2.264374  53.487190    None         0      None    None   \n",
       "100000005  89402 -2.263860  53.487496    None         0      None    None   \n",
       "...          ...       ...        ...     ...       ...       ...     ...   \n",
       "100000938  90335 -2.252004  53.481483    None       180      None    None   \n",
       "100000939  90336 -2.252378  53.481538    None       180      None    None   \n",
       "100000940  90337 -2.252817  53.481670    None       180      None    None   \n",
       "100000941  90338 -2.253200  53.481823    None       180      None    None   \n",
       "100000942  90339 -2.253446  53.481975    None       180      None    None   \n",
       "\n",
       "          parent_node_id                              geometry  \n",
       "node_id                                                         \n",
       "100000001           None   POINT (-2.264742 53.48562800000001)  \n",
       "100000002           None           POINT (-2.264694 53.486187)  \n",
       "100000003           None            POINT (-2.264653 53.48682)  \n",
       "100000004           None   POINT (-2.264374 53.48719000000001)  \n",
       "100000005           None    POINT (-2.26386 53.48749599999999)  \n",
       "...                  ...                                   ...  \n",
       "100000938           None  POINT (-2.2520041 53.48148270000001)  \n",
       "100000939           None           POINT (-2.252378 53.481538)  \n",
       "100000940           None         POINT (-2.2528169 53.4816695)  \n",
       "100000941           None  POINT (-2.2532004 53.48182270000001)  \n",
       "100000942           None  POINT (-2.2534458 53.48197510000001)  \n",
       "\n",
       "[942 rows x 9 columns]"
      ],
      "text/html": "<div>\n<style scoped>\n    .dataframe tbody tr th:only-of-type {\n        vertical-align: middle;\n    }\n\n    .dataframe tbody tr th {\n        vertical-align: top;\n    }\n\n    .dataframe thead th {\n        text-align: right;\n    }\n</style>\n<table border=\"1\" class=\"dataframe\">\n  <thead>\n    <tr style=\"text-align: right;\">\n      <th></th>\n      <th>name</th>\n      <th>x_coord</th>\n      <th>y_coord</th>\n      <th>z_coord</th>\n      <th>node_type</th>\n      <th>ctrl_type</th>\n      <th>zone_id</th>\n      <th>parent_node_id</th>\n      <th>geometry</th>\n    </tr>\n    <tr>\n      <th>node_id</th>\n      <th></th>\n      <th></th>\n      <th></th>\n      <th></th>\n      <th></th>\n      <th></th>\n      <th></th>\n      <th></th>\n      <th></th>\n    </tr>\n  </thead>\n  <tbody>\n    <tr>\n      <th>100000001</th>\n      <td>89398</td>\n      <td>-2.264742</td>\n      <td>53.485628</td>\n      <td>None</td>\n      <td>0</td>\n      <td>None</td>\n      <td>None</td>\n      <td>None</td>\n      <td>POINT (-2.264742 53.48562800000001)</td>\n    </tr>\n    <tr>\n      <th>100000002</th>\n      <td>89399</td>\n      <td>-2.264694</td>\n      <td>53.486187</td>\n      <td>None</td>\n      <td>0</td>\n      <td>None</td>\n      <td>None</td>\n      <td>None</td>\n      <td>POINT (-2.264694 53.486187)</td>\n    </tr>\n    <tr>\n      <th>100000003</th>\n      <td>89400</td>\n      <td>-2.264653</td>\n      <td>53.486820</td>\n      <td>None</td>\n      <td>0</td>\n      <td>None</td>\n      <td>None</td>\n      <td>None</td>\n      <td>POINT (-2.264653 53.48682)</td>\n    </tr>\n    <tr>\n      <th>100000004</th>\n      <td>89401</td>\n      <td>-2.264374</td>\n      <td>53.487190</td>\n      <td>None</td>\n      <td>0</td>\n      <td>None</td>\n      <td>None</td>\n      <td>None</td>\n      <td>POINT (-2.264374 53.48719000000001)</td>\n    </tr>\n    <tr>\n      <th>100000005</th>\n      <td>89402</td>\n      <td>-2.263860</td>\n      <td>53.487496</td>\n      <td>None</td>\n      <td>0</td>\n      <td>None</td>\n      <td>None</td>\n      <td>None</td>\n      <td>POINT (-2.26386 53.48749599999999)</td>\n    </tr>\n    <tr>\n      <th>...</th>\n      <td>...</td>\n      <td>...</td>\n      <td>...</td>\n      <td>...</td>\n      <td>...</td>\n      <td>...</td>\n      <td>...</td>\n      <td>...</td>\n      <td>...</td>\n    </tr>\n    <tr>\n      <th>100000938</th>\n      <td>90335</td>\n      <td>-2.252004</td>\n      <td>53.481483</td>\n      <td>None</td>\n      <td>180</td>\n      <td>None</td>\n      <td>None</td>\n      <td>None</td>\n      <td>POINT (-2.2520041 53.48148270000001)</td>\n    </tr>\n    <tr>\n      <th>100000939</th>\n      <td>90336</td>\n      <td>-2.252378</td>\n      <td>53.481538</td>\n      <td>None</td>\n      <td>180</td>\n      <td>None</td>\n      <td>None</td>\n      <td>None</td>\n      <td>POINT (-2.252378 53.481538)</td>\n    </tr>\n    <tr>\n      <th>100000940</th>\n      <td>90337</td>\n      <td>-2.252817</td>\n      <td>53.481670</td>\n      <td>None</td>\n      <td>180</td>\n      <td>None</td>\n      <td>None</td>\n      <td>None</td>\n      <td>POINT (-2.2528169 53.4816695)</td>\n    </tr>\n    <tr>\n      <th>100000941</th>\n      <td>90338</td>\n      <td>-2.253200</td>\n      <td>53.481823</td>\n      <td>None</td>\n      <td>180</td>\n      <td>None</td>\n      <td>None</td>\n      <td>None</td>\n      <td>POINT (-2.2532004 53.48182270000001)</td>\n    </tr>\n    <tr>\n      <th>100000942</th>\n      <td>90339</td>\n      <td>-2.253446</td>\n      <td>53.481975</td>\n      <td>None</td>\n      <td>180</td>\n      <td>None</td>\n      <td>None</td>\n      <td>None</td>\n      <td>POINT (-2.2534458 53.48197510000001)</td>\n    </tr>\n  </tbody>\n</table>\n<p>942 rows × 9 columns</p>\n</div>"
     },
     "metadata": {},
     "execution_count": 11
    }
   ],
   "source": [
    "node_utd"
   ]
  },
  {
   "cell_type": "code",
   "execution_count": 12,
   "metadata": {},
   "outputs": [
    {
     "output_type": "execute_result",
     "data": {
      "text/plain": [
       "       utd  utd_long    utd_lat  order  piece  linkid  group utd_citycode  \\\n",
       "0    89398 -2.264742  53.485628      1      1       0    0.1   manchester   \n",
       "1    89399 -2.264694  53.486187      2      1       0    0.1   manchester   \n",
       "2    89400 -2.264653  53.486820      3      1       0    0.1   manchester   \n",
       "3    89401 -2.264374  53.487190      4      1       0    0.1   manchester   \n",
       "4    89402 -2.263860  53.487496      5      1       0    0.1   manchester   \n",
       "..     ...       ...        ...    ...    ...     ...    ...          ...   \n",
       "937  90335 -2.252004  53.481483      1      1     180  180.1   manchester   \n",
       "938  90336 -2.252378  53.481538      2      1     180  180.1   manchester   \n",
       "939  90337 -2.252817  53.481670      3      1     180  180.1   manchester   \n",
       "940  90338 -2.253200  53.481823      4      1     180  180.1   manchester   \n",
       "941  90339 -2.253446  53.481975      5      1     180  180.1   manchester   \n",
       "\n",
       "     detectors    detid  detectors_length       pos   fclass         road  \\\n",
       "0      15351.0  N31111S          0.620643  0.100084  primary  Silk Street   \n",
       "1      15351.0  N31111S          0.620643  0.100084  primary  Silk Street   \n",
       "2      15351.0  N31111S          0.620643  0.100084  primary  Silk Street   \n",
       "3      15351.0  N31111S          0.620643  0.100084  primary  Silk Street   \n",
       "4      15351.0  N31111S          0.620643  0.100084  primary  Silk Street   \n",
       "..         ...      ...               ...       ...      ...          ...   \n",
       "937    15309.0  N06521G          0.112340  0.086766    other     Leftbank   \n",
       "938    15309.0  N06521G          0.112340  0.086766    other     Leftbank   \n",
       "939    15309.0  N06521G          0.112340  0.086766    other     Leftbank   \n",
       "940    15309.0  N06521G          0.112340  0.086766    other     Leftbank   \n",
       "941    15309.0  N06521G          0.112340  0.086766    other     Leftbank   \n",
       "\n",
       "     limit detectors_citycode  lanes  detectors_long  detectors_lat  \n",
       "0     48.0         manchester    1.0       -2.260317      53.489087  \n",
       "1     48.0         manchester    1.0       -2.260317      53.489087  \n",
       "2     48.0         manchester    1.0       -2.260317      53.489087  \n",
       "3     48.0         manchester    1.0       -2.260317      53.489087  \n",
       "4     48.0         manchester    1.0       -2.260317      53.489087  \n",
       "..     ...                ...    ...             ...            ...  \n",
       "937   48.0         manchester    1.0       -2.252378      53.481538  \n",
       "938   48.0         manchester    1.0       -2.252378      53.481538  \n",
       "939   48.0         manchester    1.0       -2.252378      53.481538  \n",
       "940   48.0         manchester    1.0       -2.252378      53.481538  \n",
       "941   48.0         manchester    1.0       -2.252378      53.481538  \n",
       "\n",
       "[942 rows x 19 columns]"
      ],
      "text/html": "<div>\n<style scoped>\n    .dataframe tbody tr th:only-of-type {\n        vertical-align: middle;\n    }\n\n    .dataframe tbody tr th {\n        vertical-align: top;\n    }\n\n    .dataframe thead th {\n        text-align: right;\n    }\n</style>\n<table border=\"1\" class=\"dataframe\">\n  <thead>\n    <tr style=\"text-align: right;\">\n      <th></th>\n      <th>utd</th>\n      <th>utd_long</th>\n      <th>utd_lat</th>\n      <th>order</th>\n      <th>piece</th>\n      <th>linkid</th>\n      <th>group</th>\n      <th>utd_citycode</th>\n      <th>detectors</th>\n      <th>detid</th>\n      <th>detectors_length</th>\n      <th>pos</th>\n      <th>fclass</th>\n      <th>road</th>\n      <th>limit</th>\n      <th>detectors_citycode</th>\n      <th>lanes</th>\n      <th>detectors_long</th>\n      <th>detectors_lat</th>\n    </tr>\n  </thead>\n  <tbody>\n    <tr>\n      <th>0</th>\n      <td>89398</td>\n      <td>-2.264742</td>\n      <td>53.485628</td>\n      <td>1</td>\n      <td>1</td>\n      <td>0</td>\n      <td>0.1</td>\n      <td>manchester</td>\n      <td>15351.0</td>\n      <td>N31111S</td>\n      <td>0.620643</td>\n      <td>0.100084</td>\n      <td>primary</td>\n      <td>Silk Street</td>\n      <td>48.0</td>\n      <td>manchester</td>\n      <td>1.0</td>\n      <td>-2.260317</td>\n      <td>53.489087</td>\n    </tr>\n    <tr>\n      <th>1</th>\n      <td>89399</td>\n      <td>-2.264694</td>\n      <td>53.486187</td>\n      <td>2</td>\n      <td>1</td>\n      <td>0</td>\n      <td>0.1</td>\n      <td>manchester</td>\n      <td>15351.0</td>\n      <td>N31111S</td>\n      <td>0.620643</td>\n      <td>0.100084</td>\n      <td>primary</td>\n      <td>Silk Street</td>\n      <td>48.0</td>\n      <td>manchester</td>\n      <td>1.0</td>\n      <td>-2.260317</td>\n      <td>53.489087</td>\n    </tr>\n    <tr>\n      <th>2</th>\n      <td>89400</td>\n      <td>-2.264653</td>\n      <td>53.486820</td>\n      <td>3</td>\n      <td>1</td>\n      <td>0</td>\n      <td>0.1</td>\n      <td>manchester</td>\n      <td>15351.0</td>\n      <td>N31111S</td>\n      <td>0.620643</td>\n      <td>0.100084</td>\n      <td>primary</td>\n      <td>Silk Street</td>\n      <td>48.0</td>\n      <td>manchester</td>\n      <td>1.0</td>\n      <td>-2.260317</td>\n      <td>53.489087</td>\n    </tr>\n    <tr>\n      <th>3</th>\n      <td>89401</td>\n      <td>-2.264374</td>\n      <td>53.487190</td>\n      <td>4</td>\n      <td>1</td>\n      <td>0</td>\n      <td>0.1</td>\n      <td>manchester</td>\n      <td>15351.0</td>\n      <td>N31111S</td>\n      <td>0.620643</td>\n      <td>0.100084</td>\n      <td>primary</td>\n      <td>Silk Street</td>\n      <td>48.0</td>\n      <td>manchester</td>\n      <td>1.0</td>\n      <td>-2.260317</td>\n      <td>53.489087</td>\n    </tr>\n    <tr>\n      <th>4</th>\n      <td>89402</td>\n      <td>-2.263860</td>\n      <td>53.487496</td>\n      <td>5</td>\n      <td>1</td>\n      <td>0</td>\n      <td>0.1</td>\n      <td>manchester</td>\n      <td>15351.0</td>\n      <td>N31111S</td>\n      <td>0.620643</td>\n      <td>0.100084</td>\n      <td>primary</td>\n      <td>Silk Street</td>\n      <td>48.0</td>\n      <td>manchester</td>\n      <td>1.0</td>\n      <td>-2.260317</td>\n      <td>53.489087</td>\n    </tr>\n    <tr>\n      <th>...</th>\n      <td>...</td>\n      <td>...</td>\n      <td>...</td>\n      <td>...</td>\n      <td>...</td>\n      <td>...</td>\n      <td>...</td>\n      <td>...</td>\n      <td>...</td>\n      <td>...</td>\n      <td>...</td>\n      <td>...</td>\n      <td>...</td>\n      <td>...</td>\n      <td>...</td>\n      <td>...</td>\n      <td>...</td>\n      <td>...</td>\n      <td>...</td>\n    </tr>\n    <tr>\n      <th>937</th>\n      <td>90335</td>\n      <td>-2.252004</td>\n      <td>53.481483</td>\n      <td>1</td>\n      <td>1</td>\n      <td>180</td>\n      <td>180.1</td>\n      <td>manchester</td>\n      <td>15309.0</td>\n      <td>N06521G</td>\n      <td>0.112340</td>\n      <td>0.086766</td>\n      <td>other</td>\n      <td>Leftbank</td>\n      <td>48.0</td>\n      <td>manchester</td>\n      <td>1.0</td>\n      <td>-2.252378</td>\n      <td>53.481538</td>\n    </tr>\n    <tr>\n      <th>938</th>\n      <td>90336</td>\n      <td>-2.252378</td>\n      <td>53.481538</td>\n      <td>2</td>\n      <td>1</td>\n      <td>180</td>\n      <td>180.1</td>\n      <td>manchester</td>\n      <td>15309.0</td>\n      <td>N06521G</td>\n      <td>0.112340</td>\n      <td>0.086766</td>\n      <td>other</td>\n      <td>Leftbank</td>\n      <td>48.0</td>\n      <td>manchester</td>\n      <td>1.0</td>\n      <td>-2.252378</td>\n      <td>53.481538</td>\n    </tr>\n    <tr>\n      <th>939</th>\n      <td>90337</td>\n      <td>-2.252817</td>\n      <td>53.481670</td>\n      <td>3</td>\n      <td>1</td>\n      <td>180</td>\n      <td>180.1</td>\n      <td>manchester</td>\n      <td>15309.0</td>\n      <td>N06521G</td>\n      <td>0.112340</td>\n      <td>0.086766</td>\n      <td>other</td>\n      <td>Leftbank</td>\n      <td>48.0</td>\n      <td>manchester</td>\n      <td>1.0</td>\n      <td>-2.252378</td>\n      <td>53.481538</td>\n    </tr>\n    <tr>\n      <th>940</th>\n      <td>90338</td>\n      <td>-2.253200</td>\n      <td>53.481823</td>\n      <td>4</td>\n      <td>1</td>\n      <td>180</td>\n      <td>180.1</td>\n      <td>manchester</td>\n      <td>15309.0</td>\n      <td>N06521G</td>\n      <td>0.112340</td>\n      <td>0.086766</td>\n      <td>other</td>\n      <td>Leftbank</td>\n      <td>48.0</td>\n      <td>manchester</td>\n      <td>1.0</td>\n      <td>-2.252378</td>\n      <td>53.481538</td>\n    </tr>\n    <tr>\n      <th>941</th>\n      <td>90339</td>\n      <td>-2.253446</td>\n      <td>53.481975</td>\n      <td>5</td>\n      <td>1</td>\n      <td>180</td>\n      <td>180.1</td>\n      <td>manchester</td>\n      <td>15309.0</td>\n      <td>N06521G</td>\n      <td>0.112340</td>\n      <td>0.086766</td>\n      <td>other</td>\n      <td>Leftbank</td>\n      <td>48.0</td>\n      <td>manchester</td>\n      <td>1.0</td>\n      <td>-2.252378</td>\n      <td>53.481538</td>\n    </tr>\n  </tbody>\n</table>\n<p>942 rows × 19 columns</p>\n</div>"
     },
     "metadata": {},
     "execution_count": 12
    }
   ],
   "source": [
    "utd_detectors"
   ]
  },
  {
   "cell_type": "code",
   "execution_count": 13,
   "metadata": {},
   "outputs": [
    {
     "output_type": "stream",
     "name": "stdout",
     "text": [
      "link_utd.csv generated!\n"
     ]
    }
   ],
   "source": [
    "'''build link_utd.csv'''\n",
    "link_utd = pd.DataFrame()\n",
    "link_utd['name'] = None\n",
    "link_utd['corridor_id'] = None\n",
    "link_utd['corridor_link_order'] = None\n",
    "link_utd['from_node_id'] = None\n",
    "link_utd['to_node_id'] = None\n",
    "link_utd['directed'] = None\n",
    "link_utd['geometry_id'] = None\n",
    "link_utd['geometry'] = None\n",
    "link_utd['dir_flag'] = None\n",
    "link_utd['parent_link_id'] = None\n",
    "link_utd['length'] = None\n",
    "link_utd['grade'] = None\n",
    "link_utd['facility_type'] = None\n",
    "link_utd['capacity'] = None\n",
    "link_utd['free_speed'] = None\n",
    "link_utd['lanes'] = None\n",
    "link_utd['detid'] = None\n",
    "\n",
    "for i in range(0,len(utd_detectors)-1):\n",
    "    if utd_detectors.loc[i+1,'order'] > utd_detectors.loc[i,'order']:\n",
    "        link_utd = link_utd.append({'name': utd_detectors.loc[i,'utd'],\\\n",
    "                                    'corridor_id': utd_detectors.loc[i,'road'],\\\n",
    "                                    'corridor_link_order' : utd_detectors.loc[i,'order'],\\\n",
    "                                    'from_node_id': node_utd[(node_utd['x_coord']==utd_detectors.loc[i,'utd_long']) & \\\n",
    "                                                    (node_utd['y_coord']==utd_detectors.loc[i,'utd_lat'])].index.values[0], \\\n",
    "                                    'to_node_id': node_utd[(node_utd['x_coord']==utd_detectors.loc[i+1,'utd_long']) & \\\n",
    "                                                    (node_utd['y_coord']==utd_detectors.loc[i+1,'utd_lat'])].index.values[0],\\\n",
    "                                    'directed': None,\\\n",
    "                                    'geometry_id': None,\\\n",
    "                                    'geometry': \"LINESTRING (\" + utd_detectors.loc[i,'utd_long'].astype(str) + \" \" + \\\n",
    "                                                utd_detectors.loc[i,'utd_lat'].astype(str) + \",\" + \\\n",
    "                                                utd_detectors.loc[i+1,'utd_long'].astype(str) +\" \"+ \\\n",
    "                                                utd_detectors.loc[i+1,'utd_lat'].astype(str) + \")\",\\\n",
    "                                    'dir_flag': None,\\\n",
    "                                    'parent_link_id': None,\\\n",
    "                                    'length': None,\\\n",
    "                                    'grade': utd_detectors.loc[i,'fclass'],\\\n",
    "                                    'facility_type': None ,\\\n",
    "                                    'capacity':None,\\\n",
    "                                    'free_speed':utd_detectors.loc[i,'limit'],\\\n",
    "                                    'lanes': utd_detectors.loc[i,'lanes'],\\\n",
    "                                    'detid': utd_detectors.loc[i,'detid']}, ignore_index=True)\n",
    "link_utd.index.name = 'link_id'\n",
    "link_utd.index += 100000001\n",
    "\n",
    "\n",
    "link_utd.to_csv('link_utd.csv')\n",
    "print('link_utd.csv generated!')\n"
   ]
  },
  {
   "cell_type": "code",
   "execution_count": 14,
   "metadata": {},
   "outputs": [
    {
     "output_type": "execute_result",
     "data": {
      "text/plain": [
       "            name      corridor_id corridor_link_order from_node_id to_node_id  \\\n",
       "link_id                                                                         \n",
       "100000001  89398      Silk Street                   1    100000001  100000002   \n",
       "100000002  89399      Silk Street                   2    100000002  100000003   \n",
       "100000003  89400      Silk Street                   3    100000003  100000004   \n",
       "100000004  89401      Silk Street                   4    100000004  100000005   \n",
       "100000005  89402      Silk Street                   5    100000005  100000006   \n",
       "...          ...              ...                 ...          ...        ...   \n",
       "100000757  90333  Old Mill Street                   2    100000936  100000937   \n",
       "100000758  90335         Leftbank                   1    100000938  100000939   \n",
       "100000759  90336         Leftbank                   2    100000939  100000940   \n",
       "100000760  90337         Leftbank                   3    100000940  100000941   \n",
       "100000761  90338         Leftbank                   4    100000941  100000942   \n",
       "\n",
       "          directed geometry_id  \\\n",
       "link_id                          \n",
       "100000001     None        None   \n",
       "100000002     None        None   \n",
       "100000003     None        None   \n",
       "100000004     None        None   \n",
       "100000005     None        None   \n",
       "...            ...         ...   \n",
       "100000757     None        None   \n",
       "100000758     None        None   \n",
       "100000759     None        None   \n",
       "100000760     None        None   \n",
       "100000761     None        None   \n",
       "\n",
       "                                                    geometry dir_flag  \\\n",
       "link_id                                                                 \n",
       "100000001  LINESTRING (-2.264742 53.48562800000001,-2.264...     None   \n",
       "100000002  LINESTRING (-2.264694 53.486187,-2.264653 53.4...     None   \n",
       "100000003  LINESTRING (-2.264653 53.48682,-2.264374 53.48...     None   \n",
       "100000004  LINESTRING (-2.264374 53.48719000000001,-2.263...     None   \n",
       "100000005  LINESTRING (-2.26386 53.48749599999999,-2.2628...     None   \n",
       "...                                                      ...      ...   \n",
       "100000757  LINESTRING (-2.223232 53.48135500000001,-2.224...     None   \n",
       "100000758  LINESTRING (-2.2520041 53.48148270000001,-2.25...     None   \n",
       "100000759  LINESTRING (-2.252378 53.481538,-2.2528169 53....     None   \n",
       "100000760  LINESTRING (-2.2528169 53.4816695,-2.2532004 5...     None   \n",
       "100000761  LINESTRING (-2.2532004 53.48182270000001,-2.25...     None   \n",
       "\n",
       "          parent_link_id length     grade facility_type capacity  free_speed  \\\n",
       "link_id                                                                        \n",
       "100000001           None   None   primary          None     None        48.0   \n",
       "100000002           None   None   primary          None     None        48.0   \n",
       "100000003           None   None   primary          None     None        48.0   \n",
       "100000004           None   None   primary          None     None        48.0   \n",
       "100000005           None   None   primary          None     None        48.0   \n",
       "...                  ...    ...       ...           ...      ...         ...   \n",
       "100000757           None   None  tertiary          None     None         0.0   \n",
       "100000758           None   None     other          None     None        48.0   \n",
       "100000759           None   None     other          None     None        48.0   \n",
       "100000760           None   None     other          None     None        48.0   \n",
       "100000761           None   None     other          None     None        48.0   \n",
       "\n",
       "           lanes    detid  \n",
       "link_id                    \n",
       "100000001    1.0  N31111S  \n",
       "100000002    1.0  N31111S  \n",
       "100000003    1.0  N31111S  \n",
       "100000004    1.0  N31111S  \n",
       "100000005    1.0  N31111S  \n",
       "...          ...      ...  \n",
       "100000757    1.0  N06271H  \n",
       "100000758    1.0  N06521G  \n",
       "100000759    1.0  N06521G  \n",
       "100000760    1.0  N06521G  \n",
       "100000761    1.0  N06521G  \n",
       "\n",
       "[761 rows x 17 columns]"
      ],
      "text/html": "<div>\n<style scoped>\n    .dataframe tbody tr th:only-of-type {\n        vertical-align: middle;\n    }\n\n    .dataframe tbody tr th {\n        vertical-align: top;\n    }\n\n    .dataframe thead th {\n        text-align: right;\n    }\n</style>\n<table border=\"1\" class=\"dataframe\">\n  <thead>\n    <tr style=\"text-align: right;\">\n      <th></th>\n      <th>name</th>\n      <th>corridor_id</th>\n      <th>corridor_link_order</th>\n      <th>from_node_id</th>\n      <th>to_node_id</th>\n      <th>directed</th>\n      <th>geometry_id</th>\n      <th>geometry</th>\n      <th>dir_flag</th>\n      <th>parent_link_id</th>\n      <th>length</th>\n      <th>grade</th>\n      <th>facility_type</th>\n      <th>capacity</th>\n      <th>free_speed</th>\n      <th>lanes</th>\n      <th>detid</th>\n    </tr>\n    <tr>\n      <th>link_id</th>\n      <th></th>\n      <th></th>\n      <th></th>\n      <th></th>\n      <th></th>\n      <th></th>\n      <th></th>\n      <th></th>\n      <th></th>\n      <th></th>\n      <th></th>\n      <th></th>\n      <th></th>\n      <th></th>\n      <th></th>\n      <th></th>\n      <th></th>\n    </tr>\n  </thead>\n  <tbody>\n    <tr>\n      <th>100000001</th>\n      <td>89398</td>\n      <td>Silk Street</td>\n      <td>1</td>\n      <td>100000001</td>\n      <td>100000002</td>\n      <td>None</td>\n      <td>None</td>\n      <td>LINESTRING (-2.264742 53.48562800000001,-2.264...</td>\n      <td>None</td>\n      <td>None</td>\n      <td>None</td>\n      <td>primary</td>\n      <td>None</td>\n      <td>None</td>\n      <td>48.0</td>\n      <td>1.0</td>\n      <td>N31111S</td>\n    </tr>\n    <tr>\n      <th>100000002</th>\n      <td>89399</td>\n      <td>Silk Street</td>\n      <td>2</td>\n      <td>100000002</td>\n      <td>100000003</td>\n      <td>None</td>\n      <td>None</td>\n      <td>LINESTRING (-2.264694 53.486187,-2.264653 53.4...</td>\n      <td>None</td>\n      <td>None</td>\n      <td>None</td>\n      <td>primary</td>\n      <td>None</td>\n      <td>None</td>\n      <td>48.0</td>\n      <td>1.0</td>\n      <td>N31111S</td>\n    </tr>\n    <tr>\n      <th>100000003</th>\n      <td>89400</td>\n      <td>Silk Street</td>\n      <td>3</td>\n      <td>100000003</td>\n      <td>100000004</td>\n      <td>None</td>\n      <td>None</td>\n      <td>LINESTRING (-2.264653 53.48682,-2.264374 53.48...</td>\n      <td>None</td>\n      <td>None</td>\n      <td>None</td>\n      <td>primary</td>\n      <td>None</td>\n      <td>None</td>\n      <td>48.0</td>\n      <td>1.0</td>\n      <td>N31111S</td>\n    </tr>\n    <tr>\n      <th>100000004</th>\n      <td>89401</td>\n      <td>Silk Street</td>\n      <td>4</td>\n      <td>100000004</td>\n      <td>100000005</td>\n      <td>None</td>\n      <td>None</td>\n      <td>LINESTRING (-2.264374 53.48719000000001,-2.263...</td>\n      <td>None</td>\n      <td>None</td>\n      <td>None</td>\n      <td>primary</td>\n      <td>None</td>\n      <td>None</td>\n      <td>48.0</td>\n      <td>1.0</td>\n      <td>N31111S</td>\n    </tr>\n    <tr>\n      <th>100000005</th>\n      <td>89402</td>\n      <td>Silk Street</td>\n      <td>5</td>\n      <td>100000005</td>\n      <td>100000006</td>\n      <td>None</td>\n      <td>None</td>\n      <td>LINESTRING (-2.26386 53.48749599999999,-2.2628...</td>\n      <td>None</td>\n      <td>None</td>\n      <td>None</td>\n      <td>primary</td>\n      <td>None</td>\n      <td>None</td>\n      <td>48.0</td>\n      <td>1.0</td>\n      <td>N31111S</td>\n    </tr>\n    <tr>\n      <th>...</th>\n      <td>...</td>\n      <td>...</td>\n      <td>...</td>\n      <td>...</td>\n      <td>...</td>\n      <td>...</td>\n      <td>...</td>\n      <td>...</td>\n      <td>...</td>\n      <td>...</td>\n      <td>...</td>\n      <td>...</td>\n      <td>...</td>\n      <td>...</td>\n      <td>...</td>\n      <td>...</td>\n      <td>...</td>\n    </tr>\n    <tr>\n      <th>100000757</th>\n      <td>90333</td>\n      <td>Old Mill Street</td>\n      <td>2</td>\n      <td>100000936</td>\n      <td>100000937</td>\n      <td>None</td>\n      <td>None</td>\n      <td>LINESTRING (-2.223232 53.48135500000001,-2.224...</td>\n      <td>None</td>\n      <td>None</td>\n      <td>None</td>\n      <td>tertiary</td>\n      <td>None</td>\n      <td>None</td>\n      <td>0.0</td>\n      <td>1.0</td>\n      <td>N06271H</td>\n    </tr>\n    <tr>\n      <th>100000758</th>\n      <td>90335</td>\n      <td>Leftbank</td>\n      <td>1</td>\n      <td>100000938</td>\n      <td>100000939</td>\n      <td>None</td>\n      <td>None</td>\n      <td>LINESTRING (-2.2520041 53.48148270000001,-2.25...</td>\n      <td>None</td>\n      <td>None</td>\n      <td>None</td>\n      <td>other</td>\n      <td>None</td>\n      <td>None</td>\n      <td>48.0</td>\n      <td>1.0</td>\n      <td>N06521G</td>\n    </tr>\n    <tr>\n      <th>100000759</th>\n      <td>90336</td>\n      <td>Leftbank</td>\n      <td>2</td>\n      <td>100000939</td>\n      <td>100000940</td>\n      <td>None</td>\n      <td>None</td>\n      <td>LINESTRING (-2.252378 53.481538,-2.2528169 53....</td>\n      <td>None</td>\n      <td>None</td>\n      <td>None</td>\n      <td>other</td>\n      <td>None</td>\n      <td>None</td>\n      <td>48.0</td>\n      <td>1.0</td>\n      <td>N06521G</td>\n    </tr>\n    <tr>\n      <th>100000760</th>\n      <td>90337</td>\n      <td>Leftbank</td>\n      <td>3</td>\n      <td>100000940</td>\n      <td>100000941</td>\n      <td>None</td>\n      <td>None</td>\n      <td>LINESTRING (-2.2528169 53.4816695,-2.2532004 5...</td>\n      <td>None</td>\n      <td>None</td>\n      <td>None</td>\n      <td>other</td>\n      <td>None</td>\n      <td>None</td>\n      <td>48.0</td>\n      <td>1.0</td>\n      <td>N06521G</td>\n    </tr>\n    <tr>\n      <th>100000761</th>\n      <td>90338</td>\n      <td>Leftbank</td>\n      <td>4</td>\n      <td>100000941</td>\n      <td>100000942</td>\n      <td>None</td>\n      <td>None</td>\n      <td>LINESTRING (-2.2532004 53.48182270000001,-2.25...</td>\n      <td>None</td>\n      <td>None</td>\n      <td>None</td>\n      <td>other</td>\n      <td>None</td>\n      <td>None</td>\n      <td>48.0</td>\n      <td>1.0</td>\n      <td>N06521G</td>\n    </tr>\n  </tbody>\n</table>\n<p>761 rows × 17 columns</p>\n</div>"
     },
     "metadata": {},
     "execution_count": 14
    }
   ],
   "source": [
    "link_utd"
   ]
  },
  {
   "cell_type": "code",
   "execution_count": 16,
   "metadata": {},
   "outputs": [
    {
     "output_type": "stream",
     "name": "stdout",
     "text": [
      "measurement_utd.csv generated!\n"
     ]
    }
   ],
   "source": [
    "'''build measurement_utd.csv''' \n",
    "\n",
    "files= os.listdir(os.getcwd()) \n",
    "for file in files: \n",
    "    if file[:4] == 'data':\n",
    "        reading = pd.read_csv(file)\n",
    "        break\n",
    "\n",
    "# reading = reading[pd.to_datetime(reading['measurement_tstamp'], format='%Y-%m-%d %H:%M:%S')<datetime.datetime.strptime('2015-04-01 02:00:00', '%Y-%m-%d %H:%M:%S')]\n",
    "reading = reading.loc[0:1500]\n",
    "\n",
    "measurement_utd = pd.DataFrame()\n",
    "measurement_utd['name'] = None\n",
    "measurement_utd['corridor_id'] = None\n",
    "measurement_utd['corridor_link_order'] = None\n",
    "measurement_utd['from_node_id'] = None\n",
    "measurement_utd['to_node_id'] = None\n",
    "measurement_utd['timestamp'] = None\n",
    "measurement_utd['volume'] = None\n",
    "measurement_utd['travel_time'] = None\n",
    "measurement_utd['speed'] = None\n",
    "measurement_utd['reference_speed'] = None\n",
    "measurement_utd['density'] = None\n",
    "measurement_utd['queue'] = None\n",
    "measurement_utd['notes'] = None\n",
    "\n",
    "\n",
    "\n",
    "reading_dict = {}\n",
    "gp = reading.groupby('detid')\n",
    "for key, form in gp:\n",
    "    reading_dict[key] = {\n",
    "        'day':form['day'].tolist(),\n",
    "        'interval':form['interval'].tolist(),\n",
    "        'flow':form['flow'].tolist(),\n",
    "        'occ':form['occ'].tolist(),\n",
    "        'speed':form['speed'].tolist()\n",
    "        }\n",
    "\n",
    "\n",
    "\n",
    "for i in link_utd.index:\n",
    "    try:\n",
    "        reading_dict_selected = reading_dict[link_utd['detid'][i]]\n",
    "        for j in range(len(reading_dict_selected['day'])):\n",
    "            measurement_utd = measurement_utd.append({'name': link_utd['name'][i],\\\n",
    "                                            'corridor_id': link_utd['corridor_id'][i],\\\n",
    "                                            'corridor_link_order' : link_utd['corridor_link_order'][i],\\\n",
    "                                            'from_node_id': link_utd.loc[i,'from_node_id'], \\\n",
    "                                            'to_node_id': link_utd.loc[i,'to_node_id'], \\\n",
    "                                            'timestamp': reading_dict_selected['day'][j]+'T'+str(divmod(reading_dict_selected['interval'][j], 3600)[0])+':'\\\n",
    "                                                +str(int(divmod(reading_dict_selected['interval'][j], 3600)[1]/60)),\\\n",
    "                                            'volume': reading_dict_selected['flow'][j],\\\n",
    "                                            'travel_time': None,\\\n",
    "                                            'speed': reading_dict_selected['speed'][j],\\\n",
    "                                            'reference_speed': None,\\\n",
    "                                            'density': None,\\\n",
    "                                            'queue': None,\\\n",
    "                                            'notes': None }, ignore_index=True)\n",
    "    except:\n",
    "        measurement_utd = measurement_utd.append({'name': link_utd['name'][i],\\\n",
    "                                        'corridor_id': link_utd['corridor_id'][i],\\\n",
    "                                        'corridor_link_order' : link_utd['corridor_link_order'][i],\\\n",
    "                                        'from_node_id': link_utd.loc[i,'from_node_id'], \\\n",
    "                                        'to_node_id': link_utd.loc[i,'to_node_id'], \\\n",
    "                                        'timestamp': None,\\\n",
    "                                        'volume': None,\\\n",
    "                                        'travel_time': None,\\\n",
    "                                        'speed': None,\\\n",
    "                                        'reference_speed': None,\\\n",
    "                                        'density': None,\\\n",
    "                                        'queue': None,\\\n",
    "                                        'notes': None }, ignore_index=True)\n",
    "\n",
    "measurement_utd.to_csv('measurement_utd.csv',index = False)\n",
    "print('measurement_utd.csv generated!')"
   ]
  },
  {
   "cell_type": "code",
   "execution_count": 17,
   "metadata": {},
   "outputs": [
    {
     "output_type": "execute_result",
     "data": {
      "text/plain": [
       "       name  corridor_id corridor_link_order from_node_id to_node_id  \\\n",
       "0     89398  Silk Street                   1    100000001  100000002   \n",
       "1     89398  Silk Street                   1    100000001  100000002   \n",
       "2     89398  Silk Street                   1    100000001  100000002   \n",
       "3     89398  Silk Street                   1    100000001  100000002   \n",
       "4     89398  Silk Street                   1    100000001  100000002   \n",
       "...     ...          ...                 ...          ...        ...   \n",
       "6259  90338     Leftbank                   4    100000941  100000942   \n",
       "6260  90338     Leftbank                   4    100000941  100000942   \n",
       "6261  90338     Leftbank                   4    100000941  100000942   \n",
       "6262  90338     Leftbank                   4    100000941  100000942   \n",
       "6263  90338     Leftbank                   4    100000941  100000942   \n",
       "\n",
       "             timestamp  volume travel_time      speed reference_speed density  \\\n",
       "0     2017-09-29T23:10    24.0        None  40.000000            None    None   \n",
       "1     2017-09-29T23:15    96.0        None  41.220339            None    None   \n",
       "2     2017-09-29T23:20   120.0        None  38.000000            None    None   \n",
       "3     2017-09-29T23:25    72.0        None  35.945946            None    None   \n",
       "4     2017-09-29T23:30    96.0        None  35.000000            None    None   \n",
       "...                ...     ...         ...        ...             ...     ...   \n",
       "6259  2017-09-29T23:25   162.0        None  37.000000            None    None   \n",
       "6260  2017-09-29T23:30   144.0        None  37.000000            None    None   \n",
       "6261  2017-09-29T23:35   210.0        None  30.712980            None    None   \n",
       "6262  2017-09-29T23:40   264.0        None  30.000000            None    None   \n",
       "6263  2017-09-29T23:45   168.0        None  41.746711            None    None   \n",
       "\n",
       "     queue notes  \n",
       "0     None  None  \n",
       "1     None  None  \n",
       "2     None  None  \n",
       "3     None  None  \n",
       "4     None  None  \n",
       "...    ...   ...  \n",
       "6259  None  None  \n",
       "6260  None  None  \n",
       "6261  None  None  \n",
       "6262  None  None  \n",
       "6263  None  None  \n",
       "\n",
       "[6264 rows x 13 columns]"
      ],
      "text/html": "<div>\n<style scoped>\n    .dataframe tbody tr th:only-of-type {\n        vertical-align: middle;\n    }\n\n    .dataframe tbody tr th {\n        vertical-align: top;\n    }\n\n    .dataframe thead th {\n        text-align: right;\n    }\n</style>\n<table border=\"1\" class=\"dataframe\">\n  <thead>\n    <tr style=\"text-align: right;\">\n      <th></th>\n      <th>name</th>\n      <th>corridor_id</th>\n      <th>corridor_link_order</th>\n      <th>from_node_id</th>\n      <th>to_node_id</th>\n      <th>timestamp</th>\n      <th>volume</th>\n      <th>travel_time</th>\n      <th>speed</th>\n      <th>reference_speed</th>\n      <th>density</th>\n      <th>queue</th>\n      <th>notes</th>\n    </tr>\n  </thead>\n  <tbody>\n    <tr>\n      <th>0</th>\n      <td>89398</td>\n      <td>Silk Street</td>\n      <td>1</td>\n      <td>100000001</td>\n      <td>100000002</td>\n      <td>2017-09-29T23:10</td>\n      <td>24.0</td>\n      <td>None</td>\n      <td>40.000000</td>\n      <td>None</td>\n      <td>None</td>\n      <td>None</td>\n      <td>None</td>\n    </tr>\n    <tr>\n      <th>1</th>\n      <td>89398</td>\n      <td>Silk Street</td>\n      <td>1</td>\n      <td>100000001</td>\n      <td>100000002</td>\n      <td>2017-09-29T23:15</td>\n      <td>96.0</td>\n      <td>None</td>\n      <td>41.220339</td>\n      <td>None</td>\n      <td>None</td>\n      <td>None</td>\n      <td>None</td>\n    </tr>\n    <tr>\n      <th>2</th>\n      <td>89398</td>\n      <td>Silk Street</td>\n      <td>1</td>\n      <td>100000001</td>\n      <td>100000002</td>\n      <td>2017-09-29T23:20</td>\n      <td>120.0</td>\n      <td>None</td>\n      <td>38.000000</td>\n      <td>None</td>\n      <td>None</td>\n      <td>None</td>\n      <td>None</td>\n    </tr>\n    <tr>\n      <th>3</th>\n      <td>89398</td>\n      <td>Silk Street</td>\n      <td>1</td>\n      <td>100000001</td>\n      <td>100000002</td>\n      <td>2017-09-29T23:25</td>\n      <td>72.0</td>\n      <td>None</td>\n      <td>35.945946</td>\n      <td>None</td>\n      <td>None</td>\n      <td>None</td>\n      <td>None</td>\n    </tr>\n    <tr>\n      <th>4</th>\n      <td>89398</td>\n      <td>Silk Street</td>\n      <td>1</td>\n      <td>100000001</td>\n      <td>100000002</td>\n      <td>2017-09-29T23:30</td>\n      <td>96.0</td>\n      <td>None</td>\n      <td>35.000000</td>\n      <td>None</td>\n      <td>None</td>\n      <td>None</td>\n      <td>None</td>\n    </tr>\n    <tr>\n      <th>...</th>\n      <td>...</td>\n      <td>...</td>\n      <td>...</td>\n      <td>...</td>\n      <td>...</td>\n      <td>...</td>\n      <td>...</td>\n      <td>...</td>\n      <td>...</td>\n      <td>...</td>\n      <td>...</td>\n      <td>...</td>\n      <td>...</td>\n    </tr>\n    <tr>\n      <th>6259</th>\n      <td>90338</td>\n      <td>Leftbank</td>\n      <td>4</td>\n      <td>100000941</td>\n      <td>100000942</td>\n      <td>2017-09-29T23:25</td>\n      <td>162.0</td>\n      <td>None</td>\n      <td>37.000000</td>\n      <td>None</td>\n      <td>None</td>\n      <td>None</td>\n      <td>None</td>\n    </tr>\n    <tr>\n      <th>6260</th>\n      <td>90338</td>\n      <td>Leftbank</td>\n      <td>4</td>\n      <td>100000941</td>\n      <td>100000942</td>\n      <td>2017-09-29T23:30</td>\n      <td>144.0</td>\n      <td>None</td>\n      <td>37.000000</td>\n      <td>None</td>\n      <td>None</td>\n      <td>None</td>\n      <td>None</td>\n    </tr>\n    <tr>\n      <th>6261</th>\n      <td>90338</td>\n      <td>Leftbank</td>\n      <td>4</td>\n      <td>100000941</td>\n      <td>100000942</td>\n      <td>2017-09-29T23:35</td>\n      <td>210.0</td>\n      <td>None</td>\n      <td>30.712980</td>\n      <td>None</td>\n      <td>None</td>\n      <td>None</td>\n      <td>None</td>\n    </tr>\n    <tr>\n      <th>6262</th>\n      <td>90338</td>\n      <td>Leftbank</td>\n      <td>4</td>\n      <td>100000941</td>\n      <td>100000942</td>\n      <td>2017-09-29T23:40</td>\n      <td>264.0</td>\n      <td>None</td>\n      <td>30.000000</td>\n      <td>None</td>\n      <td>None</td>\n      <td>None</td>\n      <td>None</td>\n    </tr>\n    <tr>\n      <th>6263</th>\n      <td>90338</td>\n      <td>Leftbank</td>\n      <td>4</td>\n      <td>100000941</td>\n      <td>100000942</td>\n      <td>2017-09-29T23:45</td>\n      <td>168.0</td>\n      <td>None</td>\n      <td>41.746711</td>\n      <td>None</td>\n      <td>None</td>\n      <td>None</td>\n      <td>None</td>\n    </tr>\n  </tbody>\n</table>\n<p>6264 rows × 13 columns</p>\n</div>"
     },
     "metadata": {},
     "execution_count": 17
    }
   ],
   "source": [
    "measurement_utd"
   ]
  },
  {
   "source": [
    "## step 2 map matching"
   ],
   "cell_type": "markdown",
   "metadata": {}
  },
  {
   "cell_type": "code",
   "execution_count": 18,
   "metadata": {},
   "outputs": [
    {
     "output_type": "execute_result",
     "data": {
      "text/plain": [
       "       utd  utd_long    utd_lat  order  piece  linkid  group utd_citycode  \\\n",
       "0    89398 -2.264742  53.485628      1      1       0    0.1   manchester   \n",
       "1    89399 -2.264694  53.486187      2      1       0    0.1   manchester   \n",
       "2    89400 -2.264653  53.486820      3      1       0    0.1   manchester   \n",
       "3    89401 -2.264374  53.487190      4      1       0    0.1   manchester   \n",
       "4    89402 -2.263860  53.487496      5      1       0    0.1   manchester   \n",
       "..     ...       ...        ...    ...    ...     ...    ...          ...   \n",
       "937  90335 -2.252004  53.481483      1      1     180  180.1   manchester   \n",
       "938  90336 -2.252378  53.481538      2      1     180  180.1   manchester   \n",
       "939  90337 -2.252817  53.481670      3      1     180  180.1   manchester   \n",
       "940  90338 -2.253200  53.481823      4      1     180  180.1   manchester   \n",
       "941  90339 -2.253446  53.481975      5      1     180  180.1   manchester   \n",
       "\n",
       "     detectors    detid  detectors_length       pos   fclass         road  \\\n",
       "0      15351.0  N31111S          0.620643  0.100084  primary  Silk Street   \n",
       "1      15351.0  N31111S          0.620643  0.100084  primary  Silk Street   \n",
       "2      15351.0  N31111S          0.620643  0.100084  primary  Silk Street   \n",
       "3      15351.0  N31111S          0.620643  0.100084  primary  Silk Street   \n",
       "4      15351.0  N31111S          0.620643  0.100084  primary  Silk Street   \n",
       "..         ...      ...               ...       ...      ...          ...   \n",
       "937    15309.0  N06521G          0.112340  0.086766    other     Leftbank   \n",
       "938    15309.0  N06521G          0.112340  0.086766    other     Leftbank   \n",
       "939    15309.0  N06521G          0.112340  0.086766    other     Leftbank   \n",
       "940    15309.0  N06521G          0.112340  0.086766    other     Leftbank   \n",
       "941    15309.0  N06521G          0.112340  0.086766    other     Leftbank   \n",
       "\n",
       "     limit detectors_citycode  lanes  detectors_long  detectors_lat  \n",
       "0     48.0         manchester    1.0       -2.260317      53.489087  \n",
       "1     48.0         manchester    1.0       -2.260317      53.489087  \n",
       "2     48.0         manchester    1.0       -2.260317      53.489087  \n",
       "3     48.0         manchester    1.0       -2.260317      53.489087  \n",
       "4     48.0         manchester    1.0       -2.260317      53.489087  \n",
       "..     ...                ...    ...             ...            ...  \n",
       "937   48.0         manchester    1.0       -2.252378      53.481538  \n",
       "938   48.0         manchester    1.0       -2.252378      53.481538  \n",
       "939   48.0         manchester    1.0       -2.252378      53.481538  \n",
       "940   48.0         manchester    1.0       -2.252378      53.481538  \n",
       "941   48.0         manchester    1.0       -2.252378      53.481538  \n",
       "\n",
       "[942 rows x 19 columns]"
      ],
      "text/html": "<div>\n<style scoped>\n    .dataframe tbody tr th:only-of-type {\n        vertical-align: middle;\n    }\n\n    .dataframe tbody tr th {\n        vertical-align: top;\n    }\n\n    .dataframe thead th {\n        text-align: right;\n    }\n</style>\n<table border=\"1\" class=\"dataframe\">\n  <thead>\n    <tr style=\"text-align: right;\">\n      <th></th>\n      <th>utd</th>\n      <th>utd_long</th>\n      <th>utd_lat</th>\n      <th>order</th>\n      <th>piece</th>\n      <th>linkid</th>\n      <th>group</th>\n      <th>utd_citycode</th>\n      <th>detectors</th>\n      <th>detid</th>\n      <th>detectors_length</th>\n      <th>pos</th>\n      <th>fclass</th>\n      <th>road</th>\n      <th>limit</th>\n      <th>detectors_citycode</th>\n      <th>lanes</th>\n      <th>detectors_long</th>\n      <th>detectors_lat</th>\n    </tr>\n  </thead>\n  <tbody>\n    <tr>\n      <th>0</th>\n      <td>89398</td>\n      <td>-2.264742</td>\n      <td>53.485628</td>\n      <td>1</td>\n      <td>1</td>\n      <td>0</td>\n      <td>0.1</td>\n      <td>manchester</td>\n      <td>15351.0</td>\n      <td>N31111S</td>\n      <td>0.620643</td>\n      <td>0.100084</td>\n      <td>primary</td>\n      <td>Silk Street</td>\n      <td>48.0</td>\n      <td>manchester</td>\n      <td>1.0</td>\n      <td>-2.260317</td>\n      <td>53.489087</td>\n    </tr>\n    <tr>\n      <th>1</th>\n      <td>89399</td>\n      <td>-2.264694</td>\n      <td>53.486187</td>\n      <td>2</td>\n      <td>1</td>\n      <td>0</td>\n      <td>0.1</td>\n      <td>manchester</td>\n      <td>15351.0</td>\n      <td>N31111S</td>\n      <td>0.620643</td>\n      <td>0.100084</td>\n      <td>primary</td>\n      <td>Silk Street</td>\n      <td>48.0</td>\n      <td>manchester</td>\n      <td>1.0</td>\n      <td>-2.260317</td>\n      <td>53.489087</td>\n    </tr>\n    <tr>\n      <th>2</th>\n      <td>89400</td>\n      <td>-2.264653</td>\n      <td>53.486820</td>\n      <td>3</td>\n      <td>1</td>\n      <td>0</td>\n      <td>0.1</td>\n      <td>manchester</td>\n      <td>15351.0</td>\n      <td>N31111S</td>\n      <td>0.620643</td>\n      <td>0.100084</td>\n      <td>primary</td>\n      <td>Silk Street</td>\n      <td>48.0</td>\n      <td>manchester</td>\n      <td>1.0</td>\n      <td>-2.260317</td>\n      <td>53.489087</td>\n    </tr>\n    <tr>\n      <th>3</th>\n      <td>89401</td>\n      <td>-2.264374</td>\n      <td>53.487190</td>\n      <td>4</td>\n      <td>1</td>\n      <td>0</td>\n      <td>0.1</td>\n      <td>manchester</td>\n      <td>15351.0</td>\n      <td>N31111S</td>\n      <td>0.620643</td>\n      <td>0.100084</td>\n      <td>primary</td>\n      <td>Silk Street</td>\n      <td>48.0</td>\n      <td>manchester</td>\n      <td>1.0</td>\n      <td>-2.260317</td>\n      <td>53.489087</td>\n    </tr>\n    <tr>\n      <th>4</th>\n      <td>89402</td>\n      <td>-2.263860</td>\n      <td>53.487496</td>\n      <td>5</td>\n      <td>1</td>\n      <td>0</td>\n      <td>0.1</td>\n      <td>manchester</td>\n      <td>15351.0</td>\n      <td>N31111S</td>\n      <td>0.620643</td>\n      <td>0.100084</td>\n      <td>primary</td>\n      <td>Silk Street</td>\n      <td>48.0</td>\n      <td>manchester</td>\n      <td>1.0</td>\n      <td>-2.260317</td>\n      <td>53.489087</td>\n    </tr>\n    <tr>\n      <th>...</th>\n      <td>...</td>\n      <td>...</td>\n      <td>...</td>\n      <td>...</td>\n      <td>...</td>\n      <td>...</td>\n      <td>...</td>\n      <td>...</td>\n      <td>...</td>\n      <td>...</td>\n      <td>...</td>\n      <td>...</td>\n      <td>...</td>\n      <td>...</td>\n      <td>...</td>\n      <td>...</td>\n      <td>...</td>\n      <td>...</td>\n      <td>...</td>\n    </tr>\n    <tr>\n      <th>937</th>\n      <td>90335</td>\n      <td>-2.252004</td>\n      <td>53.481483</td>\n      <td>1</td>\n      <td>1</td>\n      <td>180</td>\n      <td>180.1</td>\n      <td>manchester</td>\n      <td>15309.0</td>\n      <td>N06521G</td>\n      <td>0.112340</td>\n      <td>0.086766</td>\n      <td>other</td>\n      <td>Leftbank</td>\n      <td>48.0</td>\n      <td>manchester</td>\n      <td>1.0</td>\n      <td>-2.252378</td>\n      <td>53.481538</td>\n    </tr>\n    <tr>\n      <th>938</th>\n      <td>90336</td>\n      <td>-2.252378</td>\n      <td>53.481538</td>\n      <td>2</td>\n      <td>1</td>\n      <td>180</td>\n      <td>180.1</td>\n      <td>manchester</td>\n      <td>15309.0</td>\n      <td>N06521G</td>\n      <td>0.112340</td>\n      <td>0.086766</td>\n      <td>other</td>\n      <td>Leftbank</td>\n      <td>48.0</td>\n      <td>manchester</td>\n      <td>1.0</td>\n      <td>-2.252378</td>\n      <td>53.481538</td>\n    </tr>\n    <tr>\n      <th>939</th>\n      <td>90337</td>\n      <td>-2.252817</td>\n      <td>53.481670</td>\n      <td>3</td>\n      <td>1</td>\n      <td>180</td>\n      <td>180.1</td>\n      <td>manchester</td>\n      <td>15309.0</td>\n      <td>N06521G</td>\n      <td>0.112340</td>\n      <td>0.086766</td>\n      <td>other</td>\n      <td>Leftbank</td>\n      <td>48.0</td>\n      <td>manchester</td>\n      <td>1.0</td>\n      <td>-2.252378</td>\n      <td>53.481538</td>\n    </tr>\n    <tr>\n      <th>940</th>\n      <td>90338</td>\n      <td>-2.253200</td>\n      <td>53.481823</td>\n      <td>4</td>\n      <td>1</td>\n      <td>180</td>\n      <td>180.1</td>\n      <td>manchester</td>\n      <td>15309.0</td>\n      <td>N06521G</td>\n      <td>0.112340</td>\n      <td>0.086766</td>\n      <td>other</td>\n      <td>Leftbank</td>\n      <td>48.0</td>\n      <td>manchester</td>\n      <td>1.0</td>\n      <td>-2.252378</td>\n      <td>53.481538</td>\n    </tr>\n    <tr>\n      <th>941</th>\n      <td>90339</td>\n      <td>-2.253446</td>\n      <td>53.481975</td>\n      <td>5</td>\n      <td>1</td>\n      <td>180</td>\n      <td>180.1</td>\n      <td>manchester</td>\n      <td>15309.0</td>\n      <td>N06521G</td>\n      <td>0.112340</td>\n      <td>0.086766</td>\n      <td>other</td>\n      <td>Leftbank</td>\n      <td>48.0</td>\n      <td>manchester</td>\n      <td>1.0</td>\n      <td>-2.252378</td>\n      <td>53.481538</td>\n    </tr>\n  </tbody>\n</table>\n<p>942 rows × 19 columns</p>\n</div>"
     },
     "metadata": {},
     "execution_count": 18
    }
   ],
   "source": [
    "utd_detectors"
   ]
  },
  {
   "cell_type": "code",
   "execution_count": 19,
   "metadata": {},
   "outputs": [],
   "source": [
    "for i in range(0,len(utd_detectors)-1):\n",
    "    if utd_detectors.loc[i+1,'order'] > utd_detectors.loc[i,'order']:\n",
    "        link_utd = link_utd.append({'name': utd_detectors.loc[i,'utd'],\\\n",
    "                                    'corridor_id': utd_detectors.loc[i,'road'],\\\n",
    "                                    'corridor_link_order' : utd_detectors.loc[i,'order'],\\\n",
    "                                    'from_node_id': node_utd[(node_utd['x_coord']==utd_detectors.loc[i,'utd_long']) & \\\n",
    "                                                    (node_utd['y_coord']==utd_detectors.loc[i,'utd_lat'])].index.values[0], \\\n",
    "                                    'to_node_id': node_utd[(node_utd['x_coord']==utd_detectors.loc[i+1,'utd_long']) & \\\n",
    "                                                    (node_utd['y_coord']==utd_detectors.loc[i+1,'utd_lat'])].index.values[0],\\\n",
    "                                    'directed': None,\\\n",
    "                                    'geometry_id': None,\\\n",
    "                                    'geometry': \"LINESTRING (\" + utd_detectors.loc[i,'utd_long'].astype(str) + \" \" + \\\n",
    "                                                utd_detectors.loc[i,'utd_lat'].astype(str) + \",\" + \\\n",
    "                                                utd_detectors.loc[i+1,'utd_long'].astype(str) +\" \"+ \\\n",
    "                                                utd_detectors.loc[i+1,'utd_lat'].astype(str) + \")\",\\\n",
    "                                    'dir_flag': None,\\\n",
    "                                    'parent_link_id': None,\\\n",
    "                                    'length': None,\\\n",
    "                                    'grade': utd_detectors.loc[i,'fclass'],\\\n",
    "                                    'facility_type': None ,\\\n",
    "                                    'capacity':None,\\\n",
    "                                    'free_speed':utd_detectors.loc[i,'limit'],\\\n",
    "                                    'lanes': utd_detectors.loc[i,'lanes'],\\\n",
    "                                    'detid': utd_detectors.loc[i,'detid']}, ignore_index=True)"
   ]
  },
  {
   "cell_type": "code",
   "execution_count": 20,
   "metadata": {},
   "outputs": [
    {
     "output_type": "stream",
     "name": "stdout",
     "text": [
      "trace.csv generated!\n"
     ]
    }
   ],
   "source": [
    "'''build trace.csv'''\n",
    "'''trace_id is numeric'''\n",
    "trace = pd.DataFrame()\n",
    "trace['corridor_id'] = None\n",
    "trace['agent_id'] = None\n",
    "trace['date'] = None\n",
    "trace['utd'] = None\n",
    "trace['trace_id'] = None\n",
    "trace['hh'] = None\n",
    "trace['mm'] = None\n",
    "trace['ss'] = None\n",
    "trace['y_coord'] = None\n",
    "trace['x_coord'] = None\n",
    "\n",
    "agent_id = 1\n",
    "trace_id = 0\n",
    "\n",
    "for i in range(0,len(utd_detectors)-1):\n",
    "    if utd_detectors.loc[i+1,'order'] > utd_detectors.loc[i,'order']:\n",
    "        trace = trace.append({'corridor_id': utd_detectors.loc[i,'road'],\\\n",
    "                                    'agent_id': agent_id,\\\n",
    "                                    'date': None, \\\n",
    "                                    'utd': utd_detectors.loc[i,'utd'],\\\n",
    "                                    'trace_id': trace_id,\\\n",
    "                                    'hh': None,\\\n",
    "                                    'mm': 'None',\\\n",
    "                                    'ss': None,\\\n",
    "                                    'y_coord': utd_detectors.loc[i,'utd_lat'],\\\n",
    "                                    'x_coord': utd_detectors.loc[i,'utd_long']}, ignore_index=True)\n",
    "        trace_id += 1\n",
    "    else:\n",
    "        trace = trace.append({'corridor_id': utd_detectors.loc[i,'road'],\\\n",
    "                                    'agent_id': agent_id,\\\n",
    "                                    'date': None, \\\n",
    "                                    'utd': utd_detectors.loc[i,'utd'],\\\n",
    "                                    'trace_id': trace_id,\\\n",
    "                                    'hh': None,\\\n",
    "                                    'mm': 'None',\\\n",
    "                                    'ss': None,\\\n",
    "                                    'y_coord': utd_detectors.loc[i,'utd_lat'],\\\n",
    "                                    'x_coord': utd_detectors.loc[i,'utd_long']}, ignore_index=True)\n",
    "\n",
    "        agent_id += 1\n",
    "        trace_id = 0\n",
    "        \n",
    "trace = trace.append({'corridor_id': utd_detectors.loc[i,'road'],\\\n",
    "                            'agent_id': agent_id,\\\n",
    "                            'date': None, \\\n",
    "                            'utd': utd_detectors.loc[i,'utd'],\\\n",
    "                            'trace_id': trace_id,\\\n",
    "                            'hh': None,\\\n",
    "                            'mm': 'None',\\\n",
    "                            'ss': None,\\\n",
    "                            'y_coord': utd_detectors.loc[i,'utd_lat'],\\\n",
    "                            'x_coord': utd_detectors.loc[i,'utd_long']}, ignore_index=True)\n",
    "\n",
    "trace.to_csv('trace.csv',index = False)\n",
    "print('trace.csv generated!')"
   ]
  },
  {
   "cell_type": "code",
   "execution_count": 21,
   "metadata": {},
   "outputs": [
    {
     "output_type": "execute_result",
     "data": {
      "text/plain": [
       "     corridor_id agent_id  date    utd trace_id    hh    mm    ss    y_coord  \\\n",
       "0    Silk Street        1  None  89398        0  None  None  None  53.485628   \n",
       "1    Silk Street        1  None  89399        1  None  None  None  53.486187   \n",
       "2    Silk Street        1  None  89400        2  None  None  None  53.486820   \n",
       "3    Silk Street        1  None  89401        3  None  None  None  53.487190   \n",
       "4    Silk Street        1  None  89402        4  None  None  None  53.487496   \n",
       "..           ...      ...   ...    ...      ...   ...   ...   ...        ...   \n",
       "937     Leftbank      181  None  90335        0  None  None  None  53.481483   \n",
       "938     Leftbank      181  None  90336        1  None  None  None  53.481538   \n",
       "939     Leftbank      181  None  90337        2  None  None  None  53.481670   \n",
       "940     Leftbank      181  None  90338        3  None  None  None  53.481823   \n",
       "941     Leftbank      181  None  90338        4  None  None  None  53.481823   \n",
       "\n",
       "      x_coord  \n",
       "0   -2.264742  \n",
       "1   -2.264694  \n",
       "2   -2.264653  \n",
       "3   -2.264374  \n",
       "4   -2.263860  \n",
       "..        ...  \n",
       "937 -2.252004  \n",
       "938 -2.252378  \n",
       "939 -2.252817  \n",
       "940 -2.253200  \n",
       "941 -2.253200  \n",
       "\n",
       "[942 rows x 10 columns]"
      ],
      "text/html": "<div>\n<style scoped>\n    .dataframe tbody tr th:only-of-type {\n        vertical-align: middle;\n    }\n\n    .dataframe tbody tr th {\n        vertical-align: top;\n    }\n\n    .dataframe thead th {\n        text-align: right;\n    }\n</style>\n<table border=\"1\" class=\"dataframe\">\n  <thead>\n    <tr style=\"text-align: right;\">\n      <th></th>\n      <th>corridor_id</th>\n      <th>agent_id</th>\n      <th>date</th>\n      <th>utd</th>\n      <th>trace_id</th>\n      <th>hh</th>\n      <th>mm</th>\n      <th>ss</th>\n      <th>y_coord</th>\n      <th>x_coord</th>\n    </tr>\n  </thead>\n  <tbody>\n    <tr>\n      <th>0</th>\n      <td>Silk Street</td>\n      <td>1</td>\n      <td>None</td>\n      <td>89398</td>\n      <td>0</td>\n      <td>None</td>\n      <td>None</td>\n      <td>None</td>\n      <td>53.485628</td>\n      <td>-2.264742</td>\n    </tr>\n    <tr>\n      <th>1</th>\n      <td>Silk Street</td>\n      <td>1</td>\n      <td>None</td>\n      <td>89399</td>\n      <td>1</td>\n      <td>None</td>\n      <td>None</td>\n      <td>None</td>\n      <td>53.486187</td>\n      <td>-2.264694</td>\n    </tr>\n    <tr>\n      <th>2</th>\n      <td>Silk Street</td>\n      <td>1</td>\n      <td>None</td>\n      <td>89400</td>\n      <td>2</td>\n      <td>None</td>\n      <td>None</td>\n      <td>None</td>\n      <td>53.486820</td>\n      <td>-2.264653</td>\n    </tr>\n    <tr>\n      <th>3</th>\n      <td>Silk Street</td>\n      <td>1</td>\n      <td>None</td>\n      <td>89401</td>\n      <td>3</td>\n      <td>None</td>\n      <td>None</td>\n      <td>None</td>\n      <td>53.487190</td>\n      <td>-2.264374</td>\n    </tr>\n    <tr>\n      <th>4</th>\n      <td>Silk Street</td>\n      <td>1</td>\n      <td>None</td>\n      <td>89402</td>\n      <td>4</td>\n      <td>None</td>\n      <td>None</td>\n      <td>None</td>\n      <td>53.487496</td>\n      <td>-2.263860</td>\n    </tr>\n    <tr>\n      <th>...</th>\n      <td>...</td>\n      <td>...</td>\n      <td>...</td>\n      <td>...</td>\n      <td>...</td>\n      <td>...</td>\n      <td>...</td>\n      <td>...</td>\n      <td>...</td>\n      <td>...</td>\n    </tr>\n    <tr>\n      <th>937</th>\n      <td>Leftbank</td>\n      <td>181</td>\n      <td>None</td>\n      <td>90335</td>\n      <td>0</td>\n      <td>None</td>\n      <td>None</td>\n      <td>None</td>\n      <td>53.481483</td>\n      <td>-2.252004</td>\n    </tr>\n    <tr>\n      <th>938</th>\n      <td>Leftbank</td>\n      <td>181</td>\n      <td>None</td>\n      <td>90336</td>\n      <td>1</td>\n      <td>None</td>\n      <td>None</td>\n      <td>None</td>\n      <td>53.481538</td>\n      <td>-2.252378</td>\n    </tr>\n    <tr>\n      <th>939</th>\n      <td>Leftbank</td>\n      <td>181</td>\n      <td>None</td>\n      <td>90337</td>\n      <td>2</td>\n      <td>None</td>\n      <td>None</td>\n      <td>None</td>\n      <td>53.481670</td>\n      <td>-2.252817</td>\n    </tr>\n    <tr>\n      <th>940</th>\n      <td>Leftbank</td>\n      <td>181</td>\n      <td>None</td>\n      <td>90338</td>\n      <td>3</td>\n      <td>None</td>\n      <td>None</td>\n      <td>None</td>\n      <td>53.481823</td>\n      <td>-2.253200</td>\n    </tr>\n    <tr>\n      <th>941</th>\n      <td>Leftbank</td>\n      <td>181</td>\n      <td>None</td>\n      <td>90338</td>\n      <td>4</td>\n      <td>None</td>\n      <td>None</td>\n      <td>None</td>\n      <td>53.481823</td>\n      <td>-2.253200</td>\n    </tr>\n  </tbody>\n</table>\n<p>942 rows × 10 columns</p>\n</div>"
     },
     "metadata": {},
     "execution_count": 21
    }
   ],
   "source": [
    "trace"
   ]
  },
  {
   "cell_type": "code",
   "execution_count": 12,
   "metadata": {},
   "outputs": [
    {
     "output_type": "stream",
     "name": "stdout",
     "text": [
      "osm2gmns, version 0.4.2\n"
     ]
    }
   ],
   "source": [
    "\"Get the OSM Network\"\n",
    "network_type = 'auto'\n",
    "import osm2gmns as og\n",
    "files= os.listdir(os.getcwd()) \n",
    "for file in files: \n",
    "    if file[-4:] == '.osm':\n",
    "        net = og.getNetFromOSMFile(file,network_type=(network_type), default_lanes=True, default_speed=True)\n",
    "        break\n",
    "\n",
    "og.consolidateComplexIntersections(net)\n",
    "og.outputNetToCSV(net, output_folder=os.getcwd())"
   ]
  },
  {
   "cell_type": "code",
   "execution_count": 22,
   "metadata": {},
   "outputs": [
    {
     "output_type": "stream",
     "name": "stdout",
     "text": [
      "call MapMatching4GMNS  dynamic library\n",
      "\\MapMatching4GMNS run starts\n",
      "\\MapMatching4GMNS run completes\n",
      "MapMatching4GMNS time cost: 0.904013 seconds\n",
      "The output data is generated!\n"
     ]
    }
   ],
   "source": [
    "# \"\"\"install MapMatching4GMNS\"\"\"\n",
    "# !pip install MapMatching4GMNS --upgrade\n",
    "\n",
    "\n",
    "if __name__ == \"__main__\":\n",
    "    #If the output data exists, please remove.\n",
    "    if(os.path.exists(\"agent.csv\")):\n",
    "       os.remove(\"agent.csv\")\n",
    "    if(os.path.exists(\"route.csv\")):\n",
    "       os.remove(\"route.csv\")\n",
    "    if(os.path.exists(\"link_performance.csv\")):\n",
    "       os.remove(\"link_performance.csv\")   \n",
    "    \n",
    "    start = time.time()\n",
    "    MapMatching4GMNS.map_match() #input:link.csv,node.csv,trace.csv output:route.csv\n",
    "    end = time.time()\n",
    "    \n",
    "    print('MapMatching4GMNS time cost: %.6f seconds' % (end - start))\n",
    "    print(\"The output data is generated!\")"
   ]
  },
  {
   "source": [
    "## step 3 link performance of osm"
   ],
   "cell_type": "markdown",
   "metadata": {}
  },
  {
   "cell_type": "code",
   "execution_count": 23,
   "metadata": {},
   "outputs": [],
   "source": [
    "link_road = pd.read_csv('link.csv', low_memory=False)\n",
    "trace = pd.read_csv('trace.csv', low_memory=False,index_col=None)\n",
    "measurement_utd = pd.read_csv('measurement_utd.csv',low_memory=False,index_col=None)\n",
    "mapping = pd.read_csv('route.csv', low_memory=False,index_col=None)\n"
   ]
  },
  {
   "cell_type": "code",
   "execution_count": 24,
   "metadata": {},
   "outputs": [
    {
     "output_type": "execute_result",
     "data": {
      "text/plain": [
       "      agent_id  from_node_id  to_node_id  timestamp  cumu_distance   hhmmss  \\\n",
       "0            1          1368        1369          0          56.51  0000:00   \n",
       "1            1          1369        1498          0         168.37  0000:00   \n",
       "2            1          1498         250          0         299.87  0000:00   \n",
       "3            1           250         251          0         444.01  0000:00   \n",
       "4            1           251         523          0         486.94  0000:00   \n",
       "...        ...           ...         ...        ...            ...      ...   \n",
       "1064       179           838        1419          0         166.32  0000:00   \n",
       "1065       180           574         645          0         145.86  0000:00   \n",
       "1066       180           645         843          0         157.07  0000:00   \n",
       "1067       181           296         297          0          36.63  0000:00   \n",
       "1068       181           297        1276          0          75.86  0000:00   \n",
       "\n",
       "      trace_id  travel_time  delay  \\\n",
       "0            0            0      0   \n",
       "1            0            0      0   \n",
       "2            0            0      0   \n",
       "3            0            0      0   \n",
       "4            3            0      0   \n",
       "...        ...          ...    ...   \n",
       "1064         1            0      0   \n",
       "1065         0            0      0   \n",
       "1066         1            0      0   \n",
       "1067         1            0      0   \n",
       "1068         2            0      0   \n",
       "\n",
       "                                               geometry  \n",
       "0     LINESTRING (-2.2630822 53.4842625, -2.2630836 ...  \n",
       "1     LINESTRING (-2.2630836 53.4847707, -2.2633385 ...  \n",
       "2     LINESTRING (-2.2647708 53.4847242, -2.2647338 ...  \n",
       "3     LINESTRING (-2.2647338 53.4859066, -2.2646622 ...  \n",
       "4     LINESTRING (-2.2643488 53.4871558, -2.2641002 ...  \n",
       "...                                                 ...  \n",
       "1064  LINESTRING (-2.230529 53.4836417, -2.2303505 5...  \n",
       "1065  LINESTRING (-2.2227737 53.4816081, -2.222885 5...  \n",
       "1066  LINESTRING (-2.2244469 53.4807597, -2.2245739 ...  \n",
       "1067  LINESTRING (-2.2522538 53.4815529, -2.2524769 ...  \n",
       "1068  LINESTRING (-2.2527645 53.4816785, -2.2529222 ...  \n",
       "\n",
       "[1069 rows x 10 columns]"
      ],
      "text/html": "<div>\n<style scoped>\n    .dataframe tbody tr th:only-of-type {\n        vertical-align: middle;\n    }\n\n    .dataframe tbody tr th {\n        vertical-align: top;\n    }\n\n    .dataframe thead th {\n        text-align: right;\n    }\n</style>\n<table border=\"1\" class=\"dataframe\">\n  <thead>\n    <tr style=\"text-align: right;\">\n      <th></th>\n      <th>agent_id</th>\n      <th>from_node_id</th>\n      <th>to_node_id</th>\n      <th>timestamp</th>\n      <th>cumu_distance</th>\n      <th>hhmmss</th>\n      <th>trace_id</th>\n      <th>travel_time</th>\n      <th>delay</th>\n      <th>geometry</th>\n    </tr>\n  </thead>\n  <tbody>\n    <tr>\n      <th>0</th>\n      <td>1</td>\n      <td>1368</td>\n      <td>1369</td>\n      <td>0</td>\n      <td>56.51</td>\n      <td>0000:00</td>\n      <td>0</td>\n      <td>0</td>\n      <td>0</td>\n      <td>LINESTRING (-2.2630822 53.4842625, -2.2630836 ...</td>\n    </tr>\n    <tr>\n      <th>1</th>\n      <td>1</td>\n      <td>1369</td>\n      <td>1498</td>\n      <td>0</td>\n      <td>168.37</td>\n      <td>0000:00</td>\n      <td>0</td>\n      <td>0</td>\n      <td>0</td>\n      <td>LINESTRING (-2.2630836 53.4847707, -2.2633385 ...</td>\n    </tr>\n    <tr>\n      <th>2</th>\n      <td>1</td>\n      <td>1498</td>\n      <td>250</td>\n      <td>0</td>\n      <td>299.87</td>\n      <td>0000:00</td>\n      <td>0</td>\n      <td>0</td>\n      <td>0</td>\n      <td>LINESTRING (-2.2647708 53.4847242, -2.2647338 ...</td>\n    </tr>\n    <tr>\n      <th>3</th>\n      <td>1</td>\n      <td>250</td>\n      <td>251</td>\n      <td>0</td>\n      <td>444.01</td>\n      <td>0000:00</td>\n      <td>0</td>\n      <td>0</td>\n      <td>0</td>\n      <td>LINESTRING (-2.2647338 53.4859066, -2.2646622 ...</td>\n    </tr>\n    <tr>\n      <th>4</th>\n      <td>1</td>\n      <td>251</td>\n      <td>523</td>\n      <td>0</td>\n      <td>486.94</td>\n      <td>0000:00</td>\n      <td>3</td>\n      <td>0</td>\n      <td>0</td>\n      <td>LINESTRING (-2.2643488 53.4871558, -2.2641002 ...</td>\n    </tr>\n    <tr>\n      <th>...</th>\n      <td>...</td>\n      <td>...</td>\n      <td>...</td>\n      <td>...</td>\n      <td>...</td>\n      <td>...</td>\n      <td>...</td>\n      <td>...</td>\n      <td>...</td>\n      <td>...</td>\n    </tr>\n    <tr>\n      <th>1064</th>\n      <td>179</td>\n      <td>838</td>\n      <td>1419</td>\n      <td>0</td>\n      <td>166.32</td>\n      <td>0000:00</td>\n      <td>1</td>\n      <td>0</td>\n      <td>0</td>\n      <td>LINESTRING (-2.230529 53.4836417, -2.2303505 5...</td>\n    </tr>\n    <tr>\n      <th>1065</th>\n      <td>180</td>\n      <td>574</td>\n      <td>645</td>\n      <td>0</td>\n      <td>145.86</td>\n      <td>0000:00</td>\n      <td>0</td>\n      <td>0</td>\n      <td>0</td>\n      <td>LINESTRING (-2.2227737 53.4816081, -2.222885 5...</td>\n    </tr>\n    <tr>\n      <th>1066</th>\n      <td>180</td>\n      <td>645</td>\n      <td>843</td>\n      <td>0</td>\n      <td>157.07</td>\n      <td>0000:00</td>\n      <td>1</td>\n      <td>0</td>\n      <td>0</td>\n      <td>LINESTRING (-2.2244469 53.4807597, -2.2245739 ...</td>\n    </tr>\n    <tr>\n      <th>1067</th>\n      <td>181</td>\n      <td>296</td>\n      <td>297</td>\n      <td>0</td>\n      <td>36.63</td>\n      <td>0000:00</td>\n      <td>1</td>\n      <td>0</td>\n      <td>0</td>\n      <td>LINESTRING (-2.2522538 53.4815529, -2.2524769 ...</td>\n    </tr>\n    <tr>\n      <th>1068</th>\n      <td>181</td>\n      <td>297</td>\n      <td>1276</td>\n      <td>0</td>\n      <td>75.86</td>\n      <td>0000:00</td>\n      <td>2</td>\n      <td>0</td>\n      <td>0</td>\n      <td>LINESTRING (-2.2527645 53.4816785, -2.2529222 ...</td>\n    </tr>\n  </tbody>\n</table>\n<p>1069 rows × 10 columns</p>\n</div>"
     },
     "metadata": {},
     "execution_count": 24
    }
   ],
   "source": [
    "mapping"
   ]
  },
  {
   "cell_type": "code",
   "execution_count": 25,
   "metadata": {},
   "outputs": [
    {
     "output_type": "execute_result",
     "data": {
      "text/plain": [
       "         name  corridor_id  corridor_link_order  from_node_id   to_node_id  \\\n",
       "0     89398.0  Silk Street                  1.0   100000001.0  100000002.0   \n",
       "1     89398.0  Silk Street                  1.0   100000001.0  100000002.0   \n",
       "2     89398.0  Silk Street                  1.0   100000001.0  100000002.0   \n",
       "3     89398.0  Silk Street                  1.0   100000001.0  100000002.0   \n",
       "4     89398.0  Silk Street                  1.0   100000001.0  100000002.0   \n",
       "...       ...          ...                  ...           ...          ...   \n",
       "6259  90338.0     Leftbank                  4.0   100000941.0  100000942.0   \n",
       "6260  90338.0     Leftbank                  4.0   100000941.0  100000942.0   \n",
       "6261  90338.0     Leftbank                  4.0   100000941.0  100000942.0   \n",
       "6262  90338.0     Leftbank                  4.0   100000941.0  100000942.0   \n",
       "6263  90338.0     Leftbank                  4.0   100000941.0  100000942.0   \n",
       "\n",
       "             timestamp  volume  travel_time      speed  reference_speed  \\\n",
       "0     2017-09-29T23:10    24.0          NaN  40.000000              NaN   \n",
       "1     2017-09-29T23:15    96.0          NaN  41.220339              NaN   \n",
       "2     2017-09-29T23:20   120.0          NaN  38.000000              NaN   \n",
       "3     2017-09-29T23:25    72.0          NaN  35.945946              NaN   \n",
       "4     2017-09-29T23:30    96.0          NaN  35.000000              NaN   \n",
       "...                ...     ...          ...        ...              ...   \n",
       "6259  2017-09-29T23:25   162.0          NaN  37.000000              NaN   \n",
       "6260  2017-09-29T23:30   144.0          NaN  37.000000              NaN   \n",
       "6261  2017-09-29T23:35   210.0          NaN  30.712980              NaN   \n",
       "6262  2017-09-29T23:40   264.0          NaN  30.000000              NaN   \n",
       "6263  2017-09-29T23:45   168.0          NaN  41.746711              NaN   \n",
       "\n",
       "      density  queue  notes  \n",
       "0         NaN    NaN    NaN  \n",
       "1         NaN    NaN    NaN  \n",
       "2         NaN    NaN    NaN  \n",
       "3         NaN    NaN    NaN  \n",
       "4         NaN    NaN    NaN  \n",
       "...       ...    ...    ...  \n",
       "6259      NaN    NaN    NaN  \n",
       "6260      NaN    NaN    NaN  \n",
       "6261      NaN    NaN    NaN  \n",
       "6262      NaN    NaN    NaN  \n",
       "6263      NaN    NaN    NaN  \n",
       "\n",
       "[6264 rows x 13 columns]"
      ],
      "text/html": "<div>\n<style scoped>\n    .dataframe tbody tr th:only-of-type {\n        vertical-align: middle;\n    }\n\n    .dataframe tbody tr th {\n        vertical-align: top;\n    }\n\n    .dataframe thead th {\n        text-align: right;\n    }\n</style>\n<table border=\"1\" class=\"dataframe\">\n  <thead>\n    <tr style=\"text-align: right;\">\n      <th></th>\n      <th>name</th>\n      <th>corridor_id</th>\n      <th>corridor_link_order</th>\n      <th>from_node_id</th>\n      <th>to_node_id</th>\n      <th>timestamp</th>\n      <th>volume</th>\n      <th>travel_time</th>\n      <th>speed</th>\n      <th>reference_speed</th>\n      <th>density</th>\n      <th>queue</th>\n      <th>notes</th>\n    </tr>\n  </thead>\n  <tbody>\n    <tr>\n      <th>0</th>\n      <td>89398.0</td>\n      <td>Silk Street</td>\n      <td>1.0</td>\n      <td>100000001.0</td>\n      <td>100000002.0</td>\n      <td>2017-09-29T23:10</td>\n      <td>24.0</td>\n      <td>NaN</td>\n      <td>40.000000</td>\n      <td>NaN</td>\n      <td>NaN</td>\n      <td>NaN</td>\n      <td>NaN</td>\n    </tr>\n    <tr>\n      <th>1</th>\n      <td>89398.0</td>\n      <td>Silk Street</td>\n      <td>1.0</td>\n      <td>100000001.0</td>\n      <td>100000002.0</td>\n      <td>2017-09-29T23:15</td>\n      <td>96.0</td>\n      <td>NaN</td>\n      <td>41.220339</td>\n      <td>NaN</td>\n      <td>NaN</td>\n      <td>NaN</td>\n      <td>NaN</td>\n    </tr>\n    <tr>\n      <th>2</th>\n      <td>89398.0</td>\n      <td>Silk Street</td>\n      <td>1.0</td>\n      <td>100000001.0</td>\n      <td>100000002.0</td>\n      <td>2017-09-29T23:20</td>\n      <td>120.0</td>\n      <td>NaN</td>\n      <td>38.000000</td>\n      <td>NaN</td>\n      <td>NaN</td>\n      <td>NaN</td>\n      <td>NaN</td>\n    </tr>\n    <tr>\n      <th>3</th>\n      <td>89398.0</td>\n      <td>Silk Street</td>\n      <td>1.0</td>\n      <td>100000001.0</td>\n      <td>100000002.0</td>\n      <td>2017-09-29T23:25</td>\n      <td>72.0</td>\n      <td>NaN</td>\n      <td>35.945946</td>\n      <td>NaN</td>\n      <td>NaN</td>\n      <td>NaN</td>\n      <td>NaN</td>\n    </tr>\n    <tr>\n      <th>4</th>\n      <td>89398.0</td>\n      <td>Silk Street</td>\n      <td>1.0</td>\n      <td>100000001.0</td>\n      <td>100000002.0</td>\n      <td>2017-09-29T23:30</td>\n      <td>96.0</td>\n      <td>NaN</td>\n      <td>35.000000</td>\n      <td>NaN</td>\n      <td>NaN</td>\n      <td>NaN</td>\n      <td>NaN</td>\n    </tr>\n    <tr>\n      <th>...</th>\n      <td>...</td>\n      <td>...</td>\n      <td>...</td>\n      <td>...</td>\n      <td>...</td>\n      <td>...</td>\n      <td>...</td>\n      <td>...</td>\n      <td>...</td>\n      <td>...</td>\n      <td>...</td>\n      <td>...</td>\n      <td>...</td>\n    </tr>\n    <tr>\n      <th>6259</th>\n      <td>90338.0</td>\n      <td>Leftbank</td>\n      <td>4.0</td>\n      <td>100000941.0</td>\n      <td>100000942.0</td>\n      <td>2017-09-29T23:25</td>\n      <td>162.0</td>\n      <td>NaN</td>\n      <td>37.000000</td>\n      <td>NaN</td>\n      <td>NaN</td>\n      <td>NaN</td>\n      <td>NaN</td>\n    </tr>\n    <tr>\n      <th>6260</th>\n      <td>90338.0</td>\n      <td>Leftbank</td>\n      <td>4.0</td>\n      <td>100000941.0</td>\n      <td>100000942.0</td>\n      <td>2017-09-29T23:30</td>\n      <td>144.0</td>\n      <td>NaN</td>\n      <td>37.000000</td>\n      <td>NaN</td>\n      <td>NaN</td>\n      <td>NaN</td>\n      <td>NaN</td>\n    </tr>\n    <tr>\n      <th>6261</th>\n      <td>90338.0</td>\n      <td>Leftbank</td>\n      <td>4.0</td>\n      <td>100000941.0</td>\n      <td>100000942.0</td>\n      <td>2017-09-29T23:35</td>\n      <td>210.0</td>\n      <td>NaN</td>\n      <td>30.712980</td>\n      <td>NaN</td>\n      <td>NaN</td>\n      <td>NaN</td>\n      <td>NaN</td>\n    </tr>\n    <tr>\n      <th>6262</th>\n      <td>90338.0</td>\n      <td>Leftbank</td>\n      <td>4.0</td>\n      <td>100000941.0</td>\n      <td>100000942.0</td>\n      <td>2017-09-29T23:40</td>\n      <td>264.0</td>\n      <td>NaN</td>\n      <td>30.000000</td>\n      <td>NaN</td>\n      <td>NaN</td>\n      <td>NaN</td>\n      <td>NaN</td>\n    </tr>\n    <tr>\n      <th>6263</th>\n      <td>90338.0</td>\n      <td>Leftbank</td>\n      <td>4.0</td>\n      <td>100000941.0</td>\n      <td>100000942.0</td>\n      <td>2017-09-29T23:45</td>\n      <td>168.0</td>\n      <td>NaN</td>\n      <td>41.746711</td>\n      <td>NaN</td>\n      <td>NaN</td>\n      <td>NaN</td>\n      <td>NaN</td>\n    </tr>\n  </tbody>\n</table>\n<p>6264 rows × 13 columns</p>\n</div>"
     },
     "metadata": {},
     "execution_count": 25
    }
   ],
   "source": [
    "measurement_utd"
   ]
  },
  {
   "cell_type": "code",
   "execution_count": 26,
   "metadata": {},
   "outputs": [
    {
     "output_type": "execute_result",
     "data": {
      "text/plain": [
       "     corridor_id  agent_id  date    utd  trace_id  hh    mm  ss    y_coord  \\\n",
       "0    Silk Street         1   NaN  89398         0 NaN  None NaN  53.485628   \n",
       "1    Silk Street         1   NaN  89399         1 NaN  None NaN  53.486187   \n",
       "2    Silk Street         1   NaN  89400         2 NaN  None NaN  53.486820   \n",
       "3    Silk Street         1   NaN  89401         3 NaN  None NaN  53.487190   \n",
       "4    Silk Street         1   NaN  89402         4 NaN  None NaN  53.487496   \n",
       "..           ...       ...   ...    ...       ...  ..   ...  ..        ...   \n",
       "937     Leftbank       181   NaN  90335         0 NaN  None NaN  53.481483   \n",
       "938     Leftbank       181   NaN  90336         1 NaN  None NaN  53.481538   \n",
       "939     Leftbank       181   NaN  90337         2 NaN  None NaN  53.481669   \n",
       "940     Leftbank       181   NaN  90338         3 NaN  None NaN  53.481823   \n",
       "941     Leftbank       181   NaN  90338         4 NaN  None NaN  53.481823   \n",
       "\n",
       "      x_coord  \n",
       "0   -2.264742  \n",
       "1   -2.264694  \n",
       "2   -2.264653  \n",
       "3   -2.264374  \n",
       "4   -2.263860  \n",
       "..        ...  \n",
       "937 -2.252004  \n",
       "938 -2.252378  \n",
       "939 -2.252817  \n",
       "940 -2.253200  \n",
       "941 -2.253200  \n",
       "\n",
       "[942 rows x 10 columns]"
      ],
      "text/html": "<div>\n<style scoped>\n    .dataframe tbody tr th:only-of-type {\n        vertical-align: middle;\n    }\n\n    .dataframe tbody tr th {\n        vertical-align: top;\n    }\n\n    .dataframe thead th {\n        text-align: right;\n    }\n</style>\n<table border=\"1\" class=\"dataframe\">\n  <thead>\n    <tr style=\"text-align: right;\">\n      <th></th>\n      <th>corridor_id</th>\n      <th>agent_id</th>\n      <th>date</th>\n      <th>utd</th>\n      <th>trace_id</th>\n      <th>hh</th>\n      <th>mm</th>\n      <th>ss</th>\n      <th>y_coord</th>\n      <th>x_coord</th>\n    </tr>\n  </thead>\n  <tbody>\n    <tr>\n      <th>0</th>\n      <td>Silk Street</td>\n      <td>1</td>\n      <td>NaN</td>\n      <td>89398</td>\n      <td>0</td>\n      <td>NaN</td>\n      <td>None</td>\n      <td>NaN</td>\n      <td>53.485628</td>\n      <td>-2.264742</td>\n    </tr>\n    <tr>\n      <th>1</th>\n      <td>Silk Street</td>\n      <td>1</td>\n      <td>NaN</td>\n      <td>89399</td>\n      <td>1</td>\n      <td>NaN</td>\n      <td>None</td>\n      <td>NaN</td>\n      <td>53.486187</td>\n      <td>-2.264694</td>\n    </tr>\n    <tr>\n      <th>2</th>\n      <td>Silk Street</td>\n      <td>1</td>\n      <td>NaN</td>\n      <td>89400</td>\n      <td>2</td>\n      <td>NaN</td>\n      <td>None</td>\n      <td>NaN</td>\n      <td>53.486820</td>\n      <td>-2.264653</td>\n    </tr>\n    <tr>\n      <th>3</th>\n      <td>Silk Street</td>\n      <td>1</td>\n      <td>NaN</td>\n      <td>89401</td>\n      <td>3</td>\n      <td>NaN</td>\n      <td>None</td>\n      <td>NaN</td>\n      <td>53.487190</td>\n      <td>-2.264374</td>\n    </tr>\n    <tr>\n      <th>4</th>\n      <td>Silk Street</td>\n      <td>1</td>\n      <td>NaN</td>\n      <td>89402</td>\n      <td>4</td>\n      <td>NaN</td>\n      <td>None</td>\n      <td>NaN</td>\n      <td>53.487496</td>\n      <td>-2.263860</td>\n    </tr>\n    <tr>\n      <th>...</th>\n      <td>...</td>\n      <td>...</td>\n      <td>...</td>\n      <td>...</td>\n      <td>...</td>\n      <td>...</td>\n      <td>...</td>\n      <td>...</td>\n      <td>...</td>\n      <td>...</td>\n    </tr>\n    <tr>\n      <th>937</th>\n      <td>Leftbank</td>\n      <td>181</td>\n      <td>NaN</td>\n      <td>90335</td>\n      <td>0</td>\n      <td>NaN</td>\n      <td>None</td>\n      <td>NaN</td>\n      <td>53.481483</td>\n      <td>-2.252004</td>\n    </tr>\n    <tr>\n      <th>938</th>\n      <td>Leftbank</td>\n      <td>181</td>\n      <td>NaN</td>\n      <td>90336</td>\n      <td>1</td>\n      <td>NaN</td>\n      <td>None</td>\n      <td>NaN</td>\n      <td>53.481538</td>\n      <td>-2.252378</td>\n    </tr>\n    <tr>\n      <th>939</th>\n      <td>Leftbank</td>\n      <td>181</td>\n      <td>NaN</td>\n      <td>90337</td>\n      <td>2</td>\n      <td>NaN</td>\n      <td>None</td>\n      <td>NaN</td>\n      <td>53.481669</td>\n      <td>-2.252817</td>\n    </tr>\n    <tr>\n      <th>940</th>\n      <td>Leftbank</td>\n      <td>181</td>\n      <td>NaN</td>\n      <td>90338</td>\n      <td>3</td>\n      <td>NaN</td>\n      <td>None</td>\n      <td>NaN</td>\n      <td>53.481823</td>\n      <td>-2.253200</td>\n    </tr>\n    <tr>\n      <th>941</th>\n      <td>Leftbank</td>\n      <td>181</td>\n      <td>NaN</td>\n      <td>90338</td>\n      <td>4</td>\n      <td>NaN</td>\n      <td>None</td>\n      <td>NaN</td>\n      <td>53.481823</td>\n      <td>-2.253200</td>\n    </tr>\n  </tbody>\n</table>\n<p>942 rows × 10 columns</p>\n</div>"
     },
     "metadata": {},
     "execution_count": 26
    }
   ],
   "source": [
    "trace"
   ]
  },
  {
   "cell_type": "code",
   "execution_count": 27,
   "metadata": {},
   "outputs": [
    {
     "output_type": "execute_result",
     "data": {
      "text/plain": [
       "                   name  link_id  osm_way_id  from_node_id  to_node_id  \\\n",
       "0        Cobourg Street      0.0    796758.0         114.0       113.0   \n",
       "1     South Pump Street      1.0    797061.0        2184.0       121.0   \n",
       "2     South Pump Street      2.0    797061.0         121.0      2184.0   \n",
       "3           Echo Street      3.0    797062.0         122.0      2192.0   \n",
       "4            Granby Row      4.0    797065.0         100.0      1654.0   \n",
       "...                 ...      ...         ...           ...         ...   \n",
       "6132                NaN      NaN         NaN           NaN         NaN   \n",
       "6133                NaN      NaN         NaN           NaN         NaN   \n",
       "6134                NaN      NaN         NaN           NaN         NaN   \n",
       "6135                NaN      NaN         NaN           NaN         NaN   \n",
       "6136                NaN      NaN         NaN           NaN         NaN   \n",
       "\n",
       "      dir_flag     length  lanes  free_speed  capacity link_type_name  \\\n",
       "0          NaN  84.376463    NaN        30.0       NaN    residential   \n",
       "1          NaN  36.928887    NaN        30.0       NaN    residential   \n",
       "2          NaN  36.928887    NaN        30.0       NaN    residential   \n",
       "3          NaN   3.911961    NaN         NaN       NaN   unclassified   \n",
       "4          NaN  62.208520    NaN        20.0       NaN    residential   \n",
       "...        ...        ...    ...         ...       ...            ...   \n",
       "6132       NaN        NaN    NaN         NaN       NaN            NaN   \n",
       "6133       NaN        NaN    NaN         NaN       NaN            NaN   \n",
       "6134       NaN        NaN    NaN         NaN       NaN            NaN   \n",
       "6135       NaN        NaN    NaN         NaN       NaN            NaN   \n",
       "6136       NaN        NaN    NaN         NaN       NaN            NaN   \n",
       "\n",
       "      link_type                                           geometry  \\\n",
       "0           6.0  LINESTRING (-2.2331957 53.4759624, -2.2332846 ...   \n",
       "1           6.0  LINESTRING (-2.2320231 53.4765284, -2.2318448 ...   \n",
       "2           6.0  LINESTRING (-2.2318448 53.4762137, -2.2320231 ...   \n",
       "3          11.0  LINESTRING (-2.2316462 53.4757191, -2.2316626 ...   \n",
       "4           6.0  LINESTRING (-2.2376883 53.4748264, -2.2368362 ...   \n",
       "...         ...                                                ...   \n",
       "6132        NaN                                                NaN   \n",
       "6133        NaN                                                NaN   \n",
       "6134        NaN                                                NaN   \n",
       "6135        NaN                                                NaN   \n",
       "6136        NaN                                                NaN   \n",
       "\n",
       "     allowed_uses  from_biway  \n",
       "0              -1         0.0  \n",
       "1              -1         1.0  \n",
       "2              -1         1.0  \n",
       "3              -1         0.0  \n",
       "4              -1         1.0  \n",
       "...           ...         ...  \n",
       "6132          NaN         NaN  \n",
       "6133          NaN         NaN  \n",
       "6134         auto         NaN  \n",
       "6135         auto         NaN  \n",
       "6136         auto         NaN  \n",
       "\n",
       "[6137 rows x 15 columns]"
      ],
      "text/html": "<div>\n<style scoped>\n    .dataframe tbody tr th:only-of-type {\n        vertical-align: middle;\n    }\n\n    .dataframe tbody tr th {\n        vertical-align: top;\n    }\n\n    .dataframe thead th {\n        text-align: right;\n    }\n</style>\n<table border=\"1\" class=\"dataframe\">\n  <thead>\n    <tr style=\"text-align: right;\">\n      <th></th>\n      <th>name</th>\n      <th>link_id</th>\n      <th>osm_way_id</th>\n      <th>from_node_id</th>\n      <th>to_node_id</th>\n      <th>dir_flag</th>\n      <th>length</th>\n      <th>lanes</th>\n      <th>free_speed</th>\n      <th>capacity</th>\n      <th>link_type_name</th>\n      <th>link_type</th>\n      <th>geometry</th>\n      <th>allowed_uses</th>\n      <th>from_biway</th>\n    </tr>\n  </thead>\n  <tbody>\n    <tr>\n      <th>0</th>\n      <td>Cobourg Street</td>\n      <td>0.0</td>\n      <td>796758.0</td>\n      <td>114.0</td>\n      <td>113.0</td>\n      <td>NaN</td>\n      <td>84.376463</td>\n      <td>NaN</td>\n      <td>30.0</td>\n      <td>NaN</td>\n      <td>residential</td>\n      <td>6.0</td>\n      <td>LINESTRING (-2.2331957 53.4759624, -2.2332846 ...</td>\n      <td>-1</td>\n      <td>0.0</td>\n    </tr>\n    <tr>\n      <th>1</th>\n      <td>South Pump Street</td>\n      <td>1.0</td>\n      <td>797061.0</td>\n      <td>2184.0</td>\n      <td>121.0</td>\n      <td>NaN</td>\n      <td>36.928887</td>\n      <td>NaN</td>\n      <td>30.0</td>\n      <td>NaN</td>\n      <td>residential</td>\n      <td>6.0</td>\n      <td>LINESTRING (-2.2320231 53.4765284, -2.2318448 ...</td>\n      <td>-1</td>\n      <td>1.0</td>\n    </tr>\n    <tr>\n      <th>2</th>\n      <td>South Pump Street</td>\n      <td>2.0</td>\n      <td>797061.0</td>\n      <td>121.0</td>\n      <td>2184.0</td>\n      <td>NaN</td>\n      <td>36.928887</td>\n      <td>NaN</td>\n      <td>30.0</td>\n      <td>NaN</td>\n      <td>residential</td>\n      <td>6.0</td>\n      <td>LINESTRING (-2.2318448 53.4762137, -2.2320231 ...</td>\n      <td>-1</td>\n      <td>1.0</td>\n    </tr>\n    <tr>\n      <th>3</th>\n      <td>Echo Street</td>\n      <td>3.0</td>\n      <td>797062.0</td>\n      <td>122.0</td>\n      <td>2192.0</td>\n      <td>NaN</td>\n      <td>3.911961</td>\n      <td>NaN</td>\n      <td>NaN</td>\n      <td>NaN</td>\n      <td>unclassified</td>\n      <td>11.0</td>\n      <td>LINESTRING (-2.2316462 53.4757191, -2.2316626 ...</td>\n      <td>-1</td>\n      <td>0.0</td>\n    </tr>\n    <tr>\n      <th>4</th>\n      <td>Granby Row</td>\n      <td>4.0</td>\n      <td>797065.0</td>\n      <td>100.0</td>\n      <td>1654.0</td>\n      <td>NaN</td>\n      <td>62.208520</td>\n      <td>NaN</td>\n      <td>20.0</td>\n      <td>NaN</td>\n      <td>residential</td>\n      <td>6.0</td>\n      <td>LINESTRING (-2.2376883 53.4748264, -2.2368362 ...</td>\n      <td>-1</td>\n      <td>1.0</td>\n    </tr>\n    <tr>\n      <th>...</th>\n      <td>...</td>\n      <td>...</td>\n      <td>...</td>\n      <td>...</td>\n      <td>...</td>\n      <td>...</td>\n      <td>...</td>\n      <td>...</td>\n      <td>...</td>\n      <td>...</td>\n      <td>...</td>\n      <td>...</td>\n      <td>...</td>\n      <td>...</td>\n      <td>...</td>\n    </tr>\n    <tr>\n      <th>6132</th>\n      <td>NaN</td>\n      <td>NaN</td>\n      <td>NaN</td>\n      <td>NaN</td>\n      <td>NaN</td>\n      <td>NaN</td>\n      <td>NaN</td>\n      <td>NaN</td>\n      <td>NaN</td>\n      <td>NaN</td>\n      <td>NaN</td>\n      <td>NaN</td>\n      <td>NaN</td>\n      <td>NaN</td>\n      <td>NaN</td>\n    </tr>\n    <tr>\n      <th>6133</th>\n      <td>NaN</td>\n      <td>NaN</td>\n      <td>NaN</td>\n      <td>NaN</td>\n      <td>NaN</td>\n      <td>NaN</td>\n      <td>NaN</td>\n      <td>NaN</td>\n      <td>NaN</td>\n      <td>NaN</td>\n      <td>NaN</td>\n      <td>NaN</td>\n      <td>NaN</td>\n      <td>NaN</td>\n      <td>NaN</td>\n    </tr>\n    <tr>\n      <th>6134</th>\n      <td>NaN</td>\n      <td>NaN</td>\n      <td>NaN</td>\n      <td>NaN</td>\n      <td>NaN</td>\n      <td>NaN</td>\n      <td>NaN</td>\n      <td>NaN</td>\n      <td>NaN</td>\n      <td>NaN</td>\n      <td>NaN</td>\n      <td>NaN</td>\n      <td>NaN</td>\n      <td>auto</td>\n      <td>NaN</td>\n    </tr>\n    <tr>\n      <th>6135</th>\n      <td>NaN</td>\n      <td>NaN</td>\n      <td>NaN</td>\n      <td>NaN</td>\n      <td>NaN</td>\n      <td>NaN</td>\n      <td>NaN</td>\n      <td>NaN</td>\n      <td>NaN</td>\n      <td>NaN</td>\n      <td>NaN</td>\n      <td>NaN</td>\n      <td>NaN</td>\n      <td>auto</td>\n      <td>NaN</td>\n    </tr>\n    <tr>\n      <th>6136</th>\n      <td>NaN</td>\n      <td>NaN</td>\n      <td>NaN</td>\n      <td>NaN</td>\n      <td>NaN</td>\n      <td>NaN</td>\n      <td>NaN</td>\n      <td>NaN</td>\n      <td>NaN</td>\n      <td>NaN</td>\n      <td>NaN</td>\n      <td>NaN</td>\n      <td>NaN</td>\n      <td>auto</td>\n      <td>NaN</td>\n    </tr>\n  </tbody>\n</table>\n<p>6137 rows × 15 columns</p>\n</div>"
     },
     "metadata": {},
     "execution_count": 27
    }
   ],
   "source": [
    "link_road"
   ]
  },
  {
   "cell_type": "code",
   "execution_count": 187,
   "metadata": {},
   "outputs": [],
   "source": [
    "\n"
   ]
  },
  {
   "cell_type": "code",
   "execution_count": 28,
   "metadata": {},
   "outputs": [
    {
     "output_type": "stream",
     "name": "stdout",
     "text": [
      "measurement_osm.csv is generated!\n"
     ]
    }
   ],
   "source": [
    "measurement_osm = pd.DataFrame()\n",
    "measurement_osm_sub = pd.DataFrame()\n",
    "\n",
    "measurement_osm['link_id'] = None\n",
    "measurement_osm['from_node_id'] = None\n",
    "measurement_osm['to_node_id'] = None\n",
    "measurement_osm['lanes'] = None\n",
    "measurement_osm['length'] = None\n",
    "measurement_osm['time_period'] = None\n",
    "measurement_osm['date'] = None\n",
    "measurement_osm['geometry'] = None\n",
    "measurement_osm['volume'] = None\n",
    "measurement_osm['speed'] = None\n",
    "\n",
    "\n",
    "link_road_dict = {}\n",
    "gp = link_road.groupby(['from_node_id','to_node_id'])\n",
    "for key, form in gp:\n",
    "    link_road_dict[key] = {\n",
    "        'link_id':form['link_id'].values[0],\n",
    "        'from_node_id':form['from_node_id'].values[0],\n",
    "        'to_node_id':form['to_node_id'].values[0],\n",
    "        'lanes':form['lanes'].values[0],\n",
    "        'length':form['length'].values[0],\n",
    "        'geometry':form['geometry'].values[0],\n",
    "        }\n",
    "\n",
    "\n",
    "trace_dict = {}\n",
    "gp = trace.groupby(['agent_id','trace_id'])\n",
    "for key, form in gp:\n",
    "    trace_dict[key] = {\n",
    "        'utd':form['utd'].values[0]\n",
    "        }\n",
    "\n",
    "\n",
    "measurement_utd_dict = {}\n",
    "gp = measurement_utd.groupby('name')\n",
    "for key, form in gp:\n",
    "    measurement_utd_dict[key] = {\n",
    "        'timestamp':form['timestamp'].tolist(),\n",
    "        'volume':form['volume'].tolist(),\n",
    "        'speed':form['speed'].tolist()\n",
    "        }\n",
    "\n",
    "\n",
    "for i in mapping.index:\n",
    "    link_road_selected = link_road_dict[(mapping.loc[i,'from_node_id'],mapping.loc[i,'to_node_id'])] #find osm link from mapping \n",
    "    trace_selected = trace_dict[(mapping.loc[i,'agent_id'],mapping.loc[i,'trace_id'])] #find utd link from mapping\n",
    "    measurement_utd_dict_selected = measurement_utd_dict[trace_selected['utd']] #find utd performance from utd link\n",
    "\n",
    "    for j in range(0,len(measurement_utd_dict_selected['timestamp']),3):\n",
    "        try:\n",
    "            measurement_osm_sub = measurement_osm_sub.append({'link_id': link_road_selected['link_id'],\\\n",
    "                                            'from_node_id': link_road_selected['from_node_id'],\\\n",
    "                                            'to_node_id': link_road_selected['to_node_id'],\\\n",
    "                                            'lanes': link_road_selected['lanes'],\\\n",
    "                                            'length': round(link_road_selected['length']),\\\n",
    "                                            'time_period': measurement_utd_dict_selected['timestamp'][j][-5:-3] + \\\n",
    "                                                            measurement_utd_dict_selected['timestamp'][j][-2:] + '_'+ \\\n",
    "                                                            measurement_utd_dict_selected['timestamp'][j+3][-5:-3] + \\\n",
    "                                                            measurement_utd_dict_selected['timestamp'][j+3][-2:],\\\n",
    "                                            'date': measurement_utd_dict_selected['timestamp'][j][:10],\\\n",
    "                                            'geometry': link_road_selected['geometry'],\\\n",
    "                                            'volume': np.sum(measurement_utd_dict_selected['volume'][j:j+3]),\\\n",
    "                                            'speed': round(np.mean(measurement_utd_dict_selected['speed'][j:j+3]))}, ignore_index=True)\n",
    "\n",
    "        except:\n",
    "            break\n",
    "            # measurement_osm_sub = measurement_osm_sub.append({'link_id': link_road_selected['link_id'],\\\n",
    "            #                                 'from_node_id': link_road_selected['from_node_id'],\\\n",
    "            #                                 'to_node_id': link_road_selected['to_node_id'],\\\n",
    "            #                                 'lanes': link_road_selected['lanes'],\\\n",
    "            #                                 'length': round(link_road_selected['length']),\\\n",
    "            #                                 'time_period': None,\\\n",
    "            #                                 'date': None,\\\n",
    "            #                                 'geometry': link_road_selected['geometry'],\\\n",
    "            #                                 'volume': None,\\\n",
    "            #                                 'speed': None}, ignore_index=True)\n",
    "\n",
    "\n",
    "    measurement_osm = measurement_osm.append(measurement_osm_sub)\n",
    "    measurement_osm_sub = pd.DataFrame()\n",
    "measurement_osm.to_csv('measurement_osm.csv')\n",
    "print(\"measurement_osm.csv is generated!\")"
   ]
  },
  {
   "cell_type": "code",
   "execution_count": 29,
   "metadata": {},
   "outputs": [
    {
     "output_type": "execute_result",
     "data": {
      "text/plain": [
       "    link_id  from_node_id  to_node_id  lanes  length time_period        date  \\\n",
       "0    2460.0        1368.0      1369.0    NaN    57.0   2310_2325  2017-09-29   \n",
       "1    2460.0        1368.0      1369.0    NaN    57.0   2325_2340  2017-09-29   \n",
       "0    2256.0        1369.0      1498.0    NaN   112.0   2310_2325  2017-09-29   \n",
       "1    2256.0        1369.0      1498.0    NaN   112.0   2325_2340  2017-09-29   \n",
       "0    2050.0        1498.0       250.0    NaN   131.0   2310_2325  2017-09-29   \n",
       "..      ...           ...         ...    ...     ...         ...         ...   \n",
       "1    1879.0         645.0       843.0    NaN    11.0   2325_2340  2017-09-29   \n",
       "0    2303.0         296.0       297.0    NaN    37.0   2310_2325  2017-09-29   \n",
       "1    2303.0         296.0       297.0    NaN    37.0   2325_2340  2017-09-29   \n",
       "0    2231.0         297.0      1276.0    NaN    39.0   2310_2325  2017-09-29   \n",
       "1    2231.0         297.0      1276.0    NaN    39.0   2325_2340  2017-09-29   \n",
       "\n",
       "                                             geometry  volume  speed  \n",
       "0   LINESTRING (-2.2630822 53.4842625, -2.2630836 ...   240.0   40.0  \n",
       "1   LINESTRING (-2.2630822 53.4842625, -2.2630836 ...   228.0   36.0  \n",
       "0   LINESTRING (-2.2630836 53.4847707, -2.2633385 ...   240.0   40.0  \n",
       "1   LINESTRING (-2.2630836 53.4847707, -2.2633385 ...   228.0   36.0  \n",
       "0   LINESTRING (-2.2647708 53.4847242, -2.2647338 ...   240.0   40.0  \n",
       "..                                                ...     ...    ...  \n",
       "1   LINESTRING (-2.2244469 53.4807597, -2.2245739 ...   288.0   33.0  \n",
       "0   LINESTRING (-2.2522538 53.4815529, -2.2524769 ...   582.0   36.0  \n",
       "1   LINESTRING (-2.2522538 53.4815529, -2.2524769 ...   516.0   35.0  \n",
       "0   LINESTRING (-2.2527645 53.4816785, -2.2529222 ...   582.0   36.0  \n",
       "1   LINESTRING (-2.2527645 53.4816785, -2.2529222 ...   516.0   35.0  \n",
       "\n",
       "[2138 rows x 10 columns]"
      ],
      "text/html": "<div>\n<style scoped>\n    .dataframe tbody tr th:only-of-type {\n        vertical-align: middle;\n    }\n\n    .dataframe tbody tr th {\n        vertical-align: top;\n    }\n\n    .dataframe thead th {\n        text-align: right;\n    }\n</style>\n<table border=\"1\" class=\"dataframe\">\n  <thead>\n    <tr style=\"text-align: right;\">\n      <th></th>\n      <th>link_id</th>\n      <th>from_node_id</th>\n      <th>to_node_id</th>\n      <th>lanes</th>\n      <th>length</th>\n      <th>time_period</th>\n      <th>date</th>\n      <th>geometry</th>\n      <th>volume</th>\n      <th>speed</th>\n    </tr>\n  </thead>\n  <tbody>\n    <tr>\n      <th>0</th>\n      <td>2460.0</td>\n      <td>1368.0</td>\n      <td>1369.0</td>\n      <td>NaN</td>\n      <td>57.0</td>\n      <td>2310_2325</td>\n      <td>2017-09-29</td>\n      <td>LINESTRING (-2.2630822 53.4842625, -2.2630836 ...</td>\n      <td>240.0</td>\n      <td>40.0</td>\n    </tr>\n    <tr>\n      <th>1</th>\n      <td>2460.0</td>\n      <td>1368.0</td>\n      <td>1369.0</td>\n      <td>NaN</td>\n      <td>57.0</td>\n      <td>2325_2340</td>\n      <td>2017-09-29</td>\n      <td>LINESTRING (-2.2630822 53.4842625, -2.2630836 ...</td>\n      <td>228.0</td>\n      <td>36.0</td>\n    </tr>\n    <tr>\n      <th>0</th>\n      <td>2256.0</td>\n      <td>1369.0</td>\n      <td>1498.0</td>\n      <td>NaN</td>\n      <td>112.0</td>\n      <td>2310_2325</td>\n      <td>2017-09-29</td>\n      <td>LINESTRING (-2.2630836 53.4847707, -2.2633385 ...</td>\n      <td>240.0</td>\n      <td>40.0</td>\n    </tr>\n    <tr>\n      <th>1</th>\n      <td>2256.0</td>\n      <td>1369.0</td>\n      <td>1498.0</td>\n      <td>NaN</td>\n      <td>112.0</td>\n      <td>2325_2340</td>\n      <td>2017-09-29</td>\n      <td>LINESTRING (-2.2630836 53.4847707, -2.2633385 ...</td>\n      <td>228.0</td>\n      <td>36.0</td>\n    </tr>\n    <tr>\n      <th>0</th>\n      <td>2050.0</td>\n      <td>1498.0</td>\n      <td>250.0</td>\n      <td>NaN</td>\n      <td>131.0</td>\n      <td>2310_2325</td>\n      <td>2017-09-29</td>\n      <td>LINESTRING (-2.2647708 53.4847242, -2.2647338 ...</td>\n      <td>240.0</td>\n      <td>40.0</td>\n    </tr>\n    <tr>\n      <th>...</th>\n      <td>...</td>\n      <td>...</td>\n      <td>...</td>\n      <td>...</td>\n      <td>...</td>\n      <td>...</td>\n      <td>...</td>\n      <td>...</td>\n      <td>...</td>\n      <td>...</td>\n    </tr>\n    <tr>\n      <th>1</th>\n      <td>1879.0</td>\n      <td>645.0</td>\n      <td>843.0</td>\n      <td>NaN</td>\n      <td>11.0</td>\n      <td>2325_2340</td>\n      <td>2017-09-29</td>\n      <td>LINESTRING (-2.2244469 53.4807597, -2.2245739 ...</td>\n      <td>288.0</td>\n      <td>33.0</td>\n    </tr>\n    <tr>\n      <th>0</th>\n      <td>2303.0</td>\n      <td>296.0</td>\n      <td>297.0</td>\n      <td>NaN</td>\n      <td>37.0</td>\n      <td>2310_2325</td>\n      <td>2017-09-29</td>\n      <td>LINESTRING (-2.2522538 53.4815529, -2.2524769 ...</td>\n      <td>582.0</td>\n      <td>36.0</td>\n    </tr>\n    <tr>\n      <th>1</th>\n      <td>2303.0</td>\n      <td>296.0</td>\n      <td>297.0</td>\n      <td>NaN</td>\n      <td>37.0</td>\n      <td>2325_2340</td>\n      <td>2017-09-29</td>\n      <td>LINESTRING (-2.2522538 53.4815529, -2.2524769 ...</td>\n      <td>516.0</td>\n      <td>35.0</td>\n    </tr>\n    <tr>\n      <th>0</th>\n      <td>2231.0</td>\n      <td>297.0</td>\n      <td>1276.0</td>\n      <td>NaN</td>\n      <td>39.0</td>\n      <td>2310_2325</td>\n      <td>2017-09-29</td>\n      <td>LINESTRING (-2.2527645 53.4816785, -2.2529222 ...</td>\n      <td>582.0</td>\n      <td>36.0</td>\n    </tr>\n    <tr>\n      <th>1</th>\n      <td>2231.0</td>\n      <td>297.0</td>\n      <td>1276.0</td>\n      <td>NaN</td>\n      <td>39.0</td>\n      <td>2325_2340</td>\n      <td>2017-09-29</td>\n      <td>LINESTRING (-2.2527645 53.4816785, -2.2529222 ...</td>\n      <td>516.0</td>\n      <td>35.0</td>\n    </tr>\n  </tbody>\n</table>\n<p>2138 rows × 10 columns</p>\n</div>"
     },
     "metadata": {},
     "execution_count": 29
    }
   ],
   "source": [
    "measurement_osm"
   ]
  },
  {
   "cell_type": "code",
   "execution_count": 30,
   "metadata": {},
   "outputs": [
    {
     "output_type": "stream",
     "name": "stdout",
     "text": [
      "__main__\n/usr/local/home/ysx28/Desktop/GMNS/tmc2gmns/TMC2GMNS\n/usr/local/home/ysx28/Desktop/GMNS/tmc2gmns/TMC2GMNS/__file__\n/usr/local/home/ysx28/Desktop/GMNS/tmc2gmns/TMC2GMNS\n"
     ]
    }
   ],
   "source": [
    "print( __name__)\n",
    "print(os.path.dirname(os.path.realpath('__file__')))\n",
    "print(os.path.realpath('__file__'))\n",
    "print(os.getcwd())"
   ]
  },
  {
   "cell_type": "code",
   "execution_count": null,
   "metadata": {},
   "outputs": [],
   "source": []
  }
 ]
}